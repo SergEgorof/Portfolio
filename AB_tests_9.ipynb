{
 "cells": [
  {
   "cell_type": "markdown",
   "metadata": {},
   "source": [
    "<span style=\"color:green\">**Поздравляю, твой проект принят!**</span>\n",
    "\n",
    "Сергей, отличная работа, получился качественный аналитический отчет. Поставленные задачи были успешно выполнены! Спасибо за обозначение корректировок. Недочёты исправлены! Надеюсь, ревью было полезным:) Желаю успехов в учебе и следующих проектах!\n",
    "\n",
    "Новые комментарии имеют метку `v2`.\n",
    "\n",
    "<span style=\"color:purple\">**Привет, Сергей!**</span>\n",
    "\n",
    "Меня зовут **Василий** и я – ревьювер, буду проверять твой проект. Ты проделал большую работу над проектом, но давай сделаем его еще лучше.\n",
    "\n",
    "Спасибо, что прислал проект. В тетради ты сможешь найти мои комментарии. Пострайся учесть эти комментарии в ходе выполнения дальнейших проектов.\n",
    "\n",
    "Твой проект обладает хорошей структурой и понятной логикой исследования. Тем не менее, в нём обнаружились недочёты, которые необходимо будет исправить.\n",
    "\n",
    "Обрати внимание, я буду выделять свои комментарии цветом, в зависимости от того, какие действия, важность и особенности тебя ждут в процессе проверки.\n",
    "\n",
    "<div class=\"alert alert-block alert-success\">\n",
    "\n",
    "**Комментарий ревьювера (все отлично)**\n",
    "    \n",
    "Такими комментариями я буду помечать хорошо проделаную работу, а так же хорошо проделаную работу над ошибками.\n",
    "</div>\n",
    "\n",
    "<div class=\"alert alert-block alert-warning\">\n",
    "\n",
    "**Комментарий ревьювера (что можно улучшить)**\n",
    "    \n",
    "После таких комментариев ничего исправлять не нужно, но я дам рекомендации на будущее и подскажу, что можно улучшить.\n",
    "</div>\n",
    "\n",
    "<div class=\"alert alert-block alert-danger\">\n",
    "    \n",
    "**Комментарий ревьювера (недочет, который нужно доработать)**\n",
    "    \n",
    "Если ты видишь такой комментарий, значит я указываю тебе на недочёт, его нужно исправить. Без такого исправления я не приму твою работу:)\n",
    "</div>\n",
    "\n",
    "**Пожалуста, не удаляй мои комментарии. При повторной проверке, я буду ориентироваться на них.**\n",
    "\n",
    "<span style=\"color:blue\"> Можешь под моими комментариями оставлять свои, в которых опиши свои исправления. Это облегчит процесс проверки и мне, и тебе:) Например, вот так:</span>\n",
    "\n",
    "<div class=\"alert alert-block alert-info\">\n",
    "<b>КОММЕНТАРИЙ ОТ УЧЕНИКА: </b>\n",
    "</div>"
   ]
  },
  {
   "cell_type": "markdown",
   "metadata": {},
   "source": [
    "# Описание проекта\n",
    "\tКонтекст\n",
    "\tРассматриваемся крупный интернет-магазин. Вместе с отделом маркетинга подготовлен список гипотез для увеличения выручки.\n",
    "\tПриоритизируем гипотезы, запустим A/B-тест и проанализируем результаты. \n"
   ]
  },
  {
   "cell_type": "markdown",
   "metadata": {},
   "source": [
    "## Часть1. Приоритизация гипотез"
   ]
  },
  {
   "cell_type": "markdown",
   "metadata": {},
   "source": [
    "В файле /datasets/hypothesis.csv 9 гипотез по увеличению выручки интернет-магазина с указанными параметрами Reach, Impact, Confidence, Effort.\n",
    "\tЗадача\n",
    "\t\t• Примените фреймворк ICEдля приоритизации гипотез. Отсортируйте их по убыванию приоритета.\n",
    "\t\t• Примените фреймворк RICEдля приоритизации гипотез. Отсортируйте их по убыванию приоритета.\n",
    "\t\t• Укажите, как изменилась приоритизация гипотез при применении RICEвместо ICE. Объясните, почему так произошло.\n"
   ]
  },
  {
   "cell_type": "code",
   "execution_count": 1,
   "metadata": {},
   "outputs": [],
   "source": [
    "import pandas as pd"
   ]
  },
  {
   "cell_type": "code",
   "execution_count": 2,
   "metadata": {},
   "outputs": [
    {
     "name": "stdout",
     "output_type": "stream",
     "text": [
      "<class 'pandas.core.frame.DataFrame'>\n",
      "RangeIndex: 9 entries, 0 to 8\n",
      "Data columns (total 5 columns):\n",
      " #   Column      Non-Null Count  Dtype \n",
      "---  ------      --------------  ----- \n",
      " 0   Hypothesis  9 non-null      object\n",
      " 1   Reach       9 non-null      int64 \n",
      " 2   Impact      9 non-null      int64 \n",
      " 3   Confidence  9 non-null      int64 \n",
      " 4   Efforts     9 non-null      int64 \n",
      "dtypes: int64(4), object(1)\n",
      "memory usage: 488.0+ bytes\n"
     ]
    }
   ],
   "source": [
    "data = pd.read_csv('/datasets/hypothesis.csv', sep=',')\n",
    "#data.info()\n",
    "# напишите ваш код здесь\n",
    "data.info()"
   ]
  },
  {
   "cell_type": "markdown",
   "metadata": {},
   "source": [
    "<div class=\"alert alert-block alert-warning\">\n",
    "\n",
    "**Комментарий ревьювера (что можно улучшить)**\n",
    "    \n",
    "Все используемые библиотеки в проекте лучше выводить в первой ячейке. Так твой коллега, запускающий работу, будет в курсе используемых в ней библиотек и сможет настроить свое окружение при необходимости.\n",
    "</div>"
   ]
  },
  {
   "cell_type": "code",
   "execution_count": 3,
   "metadata": {},
   "outputs": [
    {
     "data": {
      "text/html": [
       "<div>\n",
       "<style scoped>\n",
       "    .dataframe tbody tr th:only-of-type {\n",
       "        vertical-align: middle;\n",
       "    }\n",
       "\n",
       "    .dataframe tbody tr th {\n",
       "        vertical-align: top;\n",
       "    }\n",
       "\n",
       "    .dataframe thead th {\n",
       "        text-align: right;\n",
       "    }\n",
       "</style>\n",
       "<table border=\"1\" class=\"dataframe\">\n",
       "  <thead>\n",
       "    <tr style=\"text-align: right;\">\n",
       "      <th></th>\n",
       "      <th>Hypothesis</th>\n",
       "      <th>Reach</th>\n",
       "      <th>Impact</th>\n",
       "      <th>Confidence</th>\n",
       "      <th>Efforts</th>\n",
       "    </tr>\n",
       "  </thead>\n",
       "  <tbody>\n",
       "    <tr>\n",
       "      <th>0</th>\n",
       "      <td>Добавить два новых канала привлечения трафика, что позволит привлекать на 30% больше пользователей</td>\n",
       "      <td>3</td>\n",
       "      <td>10</td>\n",
       "      <td>8</td>\n",
       "      <td>6</td>\n",
       "    </tr>\n",
       "    <tr>\n",
       "      <th>1</th>\n",
       "      <td>Запустить собственную службу доставки, что сократит срок доставки заказов</td>\n",
       "      <td>2</td>\n",
       "      <td>5</td>\n",
       "      <td>4</td>\n",
       "      <td>10</td>\n",
       "    </tr>\n",
       "    <tr>\n",
       "      <th>2</th>\n",
       "      <td>Добавить блоки рекомендаций товаров на сайт интернет магазина, чтобы повысить конверсию и средний чек заказа</td>\n",
       "      <td>8</td>\n",
       "      <td>3</td>\n",
       "      <td>7</td>\n",
       "      <td>3</td>\n",
       "    </tr>\n",
       "    <tr>\n",
       "      <th>3</th>\n",
       "      <td>Изменить структура категорий, что увеличит конверсию, т.к. пользователи быстрее найдут нужный товар</td>\n",
       "      <td>8</td>\n",
       "      <td>3</td>\n",
       "      <td>3</td>\n",
       "      <td>8</td>\n",
       "    </tr>\n",
       "    <tr>\n",
       "      <th>4</th>\n",
       "      <td>Изменить цвет фона главной страницы, чтобы увеличить вовлеченность пользователей</td>\n",
       "      <td>3</td>\n",
       "      <td>1</td>\n",
       "      <td>1</td>\n",
       "      <td>1</td>\n",
       "    </tr>\n",
       "    <tr>\n",
       "      <th>5</th>\n",
       "      <td>Добавить страницу отзывов клиентов о магазине, что позволит увеличить количество заказов</td>\n",
       "      <td>3</td>\n",
       "      <td>2</td>\n",
       "      <td>2</td>\n",
       "      <td>3</td>\n",
       "    </tr>\n",
       "    <tr>\n",
       "      <th>6</th>\n",
       "      <td>Показать на главной странице баннеры с актуальными акциями и распродажами, чтобы увеличить конверсию</td>\n",
       "      <td>5</td>\n",
       "      <td>3</td>\n",
       "      <td>8</td>\n",
       "      <td>3</td>\n",
       "    </tr>\n",
       "    <tr>\n",
       "      <th>7</th>\n",
       "      <td>Добавить форму подписки на все основные страницы, чтобы собрать базу клиентов для email-рассылок</td>\n",
       "      <td>10</td>\n",
       "      <td>7</td>\n",
       "      <td>8</td>\n",
       "      <td>5</td>\n",
       "    </tr>\n",
       "    <tr>\n",
       "      <th>8</th>\n",
       "      <td>Запустить акцию, дающую скидку на товар в день рождения</td>\n",
       "      <td>1</td>\n",
       "      <td>9</td>\n",
       "      <td>9</td>\n",
       "      <td>5</td>\n",
       "    </tr>\n",
       "  </tbody>\n",
       "</table>\n",
       "</div>"
      ],
      "text/plain": [
       "                                                                                                     Hypothesis  \\\n",
       "0  Добавить два новых канала привлечения трафика, что позволит привлекать на 30% больше пользователей             \n",
       "1  Запустить собственную службу доставки, что сократит срок доставки заказов                                      \n",
       "2  Добавить блоки рекомендаций товаров на сайт интернет магазина, чтобы повысить конверсию и средний чек заказа   \n",
       "3  Изменить структура категорий, что увеличит конверсию, т.к. пользователи быстрее найдут нужный товар            \n",
       "4  Изменить цвет фона главной страницы, чтобы увеличить вовлеченность пользователей                               \n",
       "5  Добавить страницу отзывов клиентов о магазине, что позволит увеличить количество заказов                       \n",
       "6  Показать на главной странице баннеры с актуальными акциями и распродажами, чтобы увеличить конверсию           \n",
       "7  Добавить форму подписки на все основные страницы, чтобы собрать базу клиентов для email-рассылок               \n",
       "8  Запустить акцию, дающую скидку на товар в день рождения                                                        \n",
       "\n",
       "   Reach  Impact  Confidence  Efforts  \n",
       "0  3      10      8           6        \n",
       "1  2      5       4           10       \n",
       "2  8      3       7           3        \n",
       "3  8      3       3           8        \n",
       "4  3      1       1           1        \n",
       "5  3      2       2           3        \n",
       "6  5      3       8           3        \n",
       "7  10     7       8           5        \n",
       "8  1      9       9           5        "
      ]
     },
     "execution_count": 3,
     "metadata": {},
     "output_type": "execute_result"
    }
   ],
   "source": [
    "pd.options.display.max_colwidth = 1\n",
    "data.head(10)"
   ]
  },
  {
   "cell_type": "code",
   "execution_count": 4,
   "metadata": {},
   "outputs": [
    {
     "data": {
      "text/html": [
       "<div>\n",
       "<style scoped>\n",
       "    .dataframe tbody tr th:only-of-type {\n",
       "        vertical-align: middle;\n",
       "    }\n",
       "\n",
       "    .dataframe tbody tr th {\n",
       "        vertical-align: top;\n",
       "    }\n",
       "\n",
       "    .dataframe thead th {\n",
       "        text-align: right;\n",
       "    }\n",
       "</style>\n",
       "<table border=\"1\" class=\"dataframe\">\n",
       "  <thead>\n",
       "    <tr style=\"text-align: right;\">\n",
       "      <th></th>\n",
       "      <th>Hypothesis</th>\n",
       "      <th>ICE</th>\n",
       "    </tr>\n",
       "  </thead>\n",
       "  <tbody>\n",
       "    <tr>\n",
       "      <th>8</th>\n",
       "      <td>Запустить акцию, дающую скидку на товар в день рождения</td>\n",
       "      <td>16.200000</td>\n",
       "    </tr>\n",
       "    <tr>\n",
       "      <th>0</th>\n",
       "      <td>Добавить два новых канала привлечения трафика, что позволит привлекать на 30% больше пользователей</td>\n",
       "      <td>13.333333</td>\n",
       "    </tr>\n",
       "    <tr>\n",
       "      <th>7</th>\n",
       "      <td>Добавить форму подписки на все основные страницы, чтобы собрать базу клиентов для email-рассылок</td>\n",
       "      <td>11.200000</td>\n",
       "    </tr>\n",
       "    <tr>\n",
       "      <th>6</th>\n",
       "      <td>Показать на главной странице баннеры с актуальными акциями и распродажами, чтобы увеличить конверсию</td>\n",
       "      <td>8.000000</td>\n",
       "    </tr>\n",
       "    <tr>\n",
       "      <th>2</th>\n",
       "      <td>Добавить блоки рекомендаций товаров на сайт интернет магазина, чтобы повысить конверсию и средний чек заказа</td>\n",
       "      <td>7.000000</td>\n",
       "    </tr>\n",
       "    <tr>\n",
       "      <th>1</th>\n",
       "      <td>Запустить собственную службу доставки, что сократит срок доставки заказов</td>\n",
       "      <td>2.000000</td>\n",
       "    </tr>\n",
       "    <tr>\n",
       "      <th>5</th>\n",
       "      <td>Добавить страницу отзывов клиентов о магазине, что позволит увеличить количество заказов</td>\n",
       "      <td>1.333333</td>\n",
       "    </tr>\n",
       "    <tr>\n",
       "      <th>3</th>\n",
       "      <td>Изменить структура категорий, что увеличит конверсию, т.к. пользователи быстрее найдут нужный товар</td>\n",
       "      <td>1.125000</td>\n",
       "    </tr>\n",
       "    <tr>\n",
       "      <th>4</th>\n",
       "      <td>Изменить цвет фона главной страницы, чтобы увеличить вовлеченность пользователей</td>\n",
       "      <td>1.000000</td>\n",
       "    </tr>\n",
       "  </tbody>\n",
       "</table>\n",
       "</div>"
      ],
      "text/plain": [
       "                                                                                                     Hypothesis  \\\n",
       "8  Запустить акцию, дающую скидку на товар в день рождения                                                        \n",
       "0  Добавить два новых канала привлечения трафика, что позволит привлекать на 30% больше пользователей             \n",
       "7  Добавить форму подписки на все основные страницы, чтобы собрать базу клиентов для email-рассылок               \n",
       "6  Показать на главной странице баннеры с актуальными акциями и распродажами, чтобы увеличить конверсию           \n",
       "2  Добавить блоки рекомендаций товаров на сайт интернет магазина, чтобы повысить конверсию и средний чек заказа   \n",
       "1  Запустить собственную службу доставки, что сократит срок доставки заказов                                      \n",
       "5  Добавить страницу отзывов клиентов о магазине, что позволит увеличить количество заказов                       \n",
       "3  Изменить структура категорий, что увеличит конверсию, т.к. пользователи быстрее найдут нужный товар            \n",
       "4  Изменить цвет фона главной страницы, чтобы увеличить вовлеченность пользователей                               \n",
       "\n",
       "         ICE  \n",
       "8  16.200000  \n",
       "0  13.333333  \n",
       "7  11.200000  \n",
       "6  8.000000   \n",
       "2  7.000000   \n",
       "1  2.000000   \n",
       "5  1.333333   \n",
       "3  1.125000   \n",
       "4  1.000000   "
      ]
     },
     "metadata": {},
     "output_type": "display_data"
    }
   ],
   "source": [
    "data['ICE'] = data['Impact']*data['Confidence']/data['Efforts']\n",
    "pd.options.display.max_colwidth = 1\n",
    "display(data[['Hypothesis','ICE']].sort_values(by='ICE', ascending=False))\n",
    "\n"
   ]
  },
  {
   "cell_type": "code",
   "execution_count": 5,
   "metadata": {},
   "outputs": [
    {
     "data": {
      "text/html": [
       "<div>\n",
       "<style scoped>\n",
       "    .dataframe tbody tr th:only-of-type {\n",
       "        vertical-align: middle;\n",
       "    }\n",
       "\n",
       "    .dataframe tbody tr th {\n",
       "        vertical-align: top;\n",
       "    }\n",
       "\n",
       "    .dataframe thead th {\n",
       "        text-align: right;\n",
       "    }\n",
       "</style>\n",
       "<table border=\"1\" class=\"dataframe\">\n",
       "  <thead>\n",
       "    <tr style=\"text-align: right;\">\n",
       "      <th></th>\n",
       "      <th>Hypothesis</th>\n",
       "      <th>RICE</th>\n",
       "    </tr>\n",
       "  </thead>\n",
       "  <tbody>\n",
       "    <tr>\n",
       "      <th>7</th>\n",
       "      <td>Добавить форму подписки на все основные страницы, чтобы собрать базу клиентов для email-рассылок</td>\n",
       "      <td>112.0</td>\n",
       "    </tr>\n",
       "    <tr>\n",
       "      <th>2</th>\n",
       "      <td>Добавить блоки рекомендаций товаров на сайт интернет магазина, чтобы повысить конверсию и средний чек заказа</td>\n",
       "      <td>56.0</td>\n",
       "    </tr>\n",
       "    <tr>\n",
       "      <th>0</th>\n",
       "      <td>Добавить два новых канала привлечения трафика, что позволит привлекать на 30% больше пользователей</td>\n",
       "      <td>40.0</td>\n",
       "    </tr>\n",
       "    <tr>\n",
       "      <th>6</th>\n",
       "      <td>Показать на главной странице баннеры с актуальными акциями и распродажами, чтобы увеличить конверсию</td>\n",
       "      <td>40.0</td>\n",
       "    </tr>\n",
       "    <tr>\n",
       "      <th>8</th>\n",
       "      <td>Запустить акцию, дающую скидку на товар в день рождения</td>\n",
       "      <td>16.2</td>\n",
       "    </tr>\n",
       "    <tr>\n",
       "      <th>3</th>\n",
       "      <td>Изменить структура категорий, что увеличит конверсию, т.к. пользователи быстрее найдут нужный товар</td>\n",
       "      <td>9.0</td>\n",
       "    </tr>\n",
       "    <tr>\n",
       "      <th>1</th>\n",
       "      <td>Запустить собственную службу доставки, что сократит срок доставки заказов</td>\n",
       "      <td>4.0</td>\n",
       "    </tr>\n",
       "    <tr>\n",
       "      <th>5</th>\n",
       "      <td>Добавить страницу отзывов клиентов о магазине, что позволит увеличить количество заказов</td>\n",
       "      <td>4.0</td>\n",
       "    </tr>\n",
       "    <tr>\n",
       "      <th>4</th>\n",
       "      <td>Изменить цвет фона главной страницы, чтобы увеличить вовлеченность пользователей</td>\n",
       "      <td>3.0</td>\n",
       "    </tr>\n",
       "  </tbody>\n",
       "</table>\n",
       "</div>"
      ],
      "text/plain": [
       "                                                                                                     Hypothesis  \\\n",
       "7  Добавить форму подписки на все основные страницы, чтобы собрать базу клиентов для email-рассылок               \n",
       "2  Добавить блоки рекомендаций товаров на сайт интернет магазина, чтобы повысить конверсию и средний чек заказа   \n",
       "0  Добавить два новых канала привлечения трафика, что позволит привлекать на 30% больше пользователей             \n",
       "6  Показать на главной странице баннеры с актуальными акциями и распродажами, чтобы увеличить конверсию           \n",
       "8  Запустить акцию, дающую скидку на товар в день рождения                                                        \n",
       "3  Изменить структура категорий, что увеличит конверсию, т.к. пользователи быстрее найдут нужный товар            \n",
       "1  Запустить собственную службу доставки, что сократит срок доставки заказов                                      \n",
       "5  Добавить страницу отзывов клиентов о магазине, что позволит увеличить количество заказов                       \n",
       "4  Изменить цвет фона главной страницы, чтобы увеличить вовлеченность пользователей                               \n",
       "\n",
       "    RICE  \n",
       "7  112.0  \n",
       "2  56.0   \n",
       "0  40.0   \n",
       "6  40.0   \n",
       "8  16.2   \n",
       "3  9.0    \n",
       "1  4.0    \n",
       "5  4.0    \n",
       "4  3.0    "
      ]
     },
     "metadata": {},
     "output_type": "display_data"
    }
   ],
   "source": [
    "data['RICE'] = data['Reach']*data['Impact']*data['Confidence']/data['Efforts']\n",
    "\n",
    "pd.options.display.max_colwidth = 1\n",
    "display(data[['Hypothesis','RICE']].sort_values(by='RICE', ascending=False))\n",
    "\n"
   ]
  },
  {
   "cell_type": "markdown",
   "metadata": {},
   "source": [
    "<div class=\"alert alert-block alert-warning\">\n",
    "\n",
    "**Комментарий ревьювера (что можно улучшить)**\n",
    "    \n",
    "Можно увеличить ширину столбцов, если полностью не помещается информация, для этого можно написать следующий код: \n",
    "    \n",
    "    pd.options.display.max_colwidth = 1\n",
    "\n",
    "Тогда данные можно вывести в табличном виде с помощью display().\n",
    "    \n",
    "\n",
    "</div>"
   ]
  },
  {
   "cell_type": "markdown",
   "metadata": {},
   "source": [
    "Вывод - приоритезация гипотез изменилась благодаря добавлению параметра Reach. На первое место вышла гипотеза с Reach 10 (что соответствует 100% охвату аудитории). У лидера ICE Reach всего 1, что соответствует 10% охвату аудитории. После добавления Reach в качестве множителя лидер перешел на 4е место."
   ]
  },
  {
   "cell_type": "markdown",
   "metadata": {},
   "source": [
    "<div class=\"alert alert-block alert-success\">\n",
    "\n",
    "**Комментарий ревьювера (все отлично)**\n",
    "    \n",
    "Все верно, охват меняет приоритезацию. Отличие фреймворков определено.\n",
    "</div>"
   ]
  },
  {
   "cell_type": "markdown",
   "metadata": {},
   "source": [
    "## Часть 2. Анализ A/B-теста\n",
    "\t"
   ]
  },
  {
   "cell_type": "markdown",
   "metadata": {},
   "source": [
    "    У нас есть результаты A/B теста. Наша задача оценить его результаты и принять решение о дальнейшем поведении."
   ]
  },
  {
   "cell_type": "markdown",
   "metadata": {},
   "source": [
    "\n",
    "###  Постройте график кумулятивной выручки по группам. Сделайте выводы и предположения.\n"
   ]
  },
  {
   "cell_type": "code",
   "execution_count": 6,
   "metadata": {},
   "outputs": [],
   "source": [
    "import pandas as pd\n",
    "import datetime as dt\n",
    "import numpy as np\n",
    "import matplotlib.pyplot as plt\n",
    "from scipy import stats"
   ]
  },
  {
   "cell_type": "code",
   "execution_count": 7,
   "metadata": {},
   "outputs": [
    {
     "name": "stdout",
     "output_type": "stream",
     "text": [
      "   transactionId   visitorId       date  revenue group\n",
      "0  3667963787     3312258926 2019-08-15  1650     B   \n",
      "1  2804400009     3642806036 2019-08-15  730      B   \n",
      "2  2961555356     4069496402 2019-08-15  400      A   \n",
      "3  3797467345     1196621759 2019-08-15  9759     B   \n",
      "4  2282983706     2322279887 2019-08-15  2308     B   \n",
      "        date group  visitors\n",
      "0 2019-08-01  A     719     \n",
      "1 2019-08-02  A     619     \n",
      "2 2019-08-03  A     507     \n",
      "3 2019-08-04  A     717     \n",
      "4 2019-08-05  A     756     \n"
     ]
    }
   ],
   "source": [
    "orders = pd.read_csv('/datasets/orders.csv', sep=',')\n",
    "orders['date'] = orders['date'].map(\n",
    "    lambda x: dt.datetime.strptime(x, '%Y-%m-%d')\n",
    ")\n",
    "\n",
    "visitors = pd.read_csv(\n",
    "    '/datasets/visitors.csv', sep=','\n",
    ")\n",
    "visitors['date'] = visitors['date'].map(\n",
    "    lambda x: dt.datetime.strptime(x, '%Y-%m-%d')\n",
    ")\n",
    "\n",
    "print(orders.head())\n",
    "print(visitors.head())\n"
   ]
  },
  {
   "cell_type": "markdown",
   "metadata": {},
   "source": [
    "<div class=\"alert alert-block alert-info\"> Оценим пропуски и дубликаты в данных </div>"
   ]
  },
  {
   "cell_type": "code",
   "execution_count": 8,
   "metadata": {},
   "outputs": [
    {
     "name": "stdout",
     "output_type": "stream",
     "text": [
      "Пропуски в таблице orders:\n",
      "transactionId    0\n",
      "visitorId        0\n",
      "date             0\n",
      "revenue          0\n",
      "group            0\n",
      "dtype: int64\n"
     ]
    }
   ],
   "source": [
    "print('Пропуски в таблице orders:')\n",
    "print(orders.isnull().sum())"
   ]
  },
  {
   "cell_type": "code",
   "execution_count": 9,
   "metadata": {},
   "outputs": [
    {
     "name": "stdout",
     "output_type": "stream",
     "text": [
      "Пропуски в таблице visitors:\n",
      "date        0\n",
      "group       0\n",
      "visitors    0\n",
      "dtype: int64\n"
     ]
    }
   ],
   "source": [
    "print('Пропуски в таблице visitors:')\n",
    "print(visitors.isnull().sum())"
   ]
  },
  {
   "cell_type": "code",
   "execution_count": 10,
   "metadata": {},
   "outputs": [
    {
     "name": "stdout",
     "output_type": "stream",
     "text": [
      "\n",
      "Дубликаты в таблице orders:\n",
      "Empty DataFrame\n",
      "Columns: [transactionId, visitorId, date, revenue, group]\n",
      "Index: []\n"
     ]
    }
   ],
   "source": [
    "print('\\nДубликаты в таблице orders:')\n",
    "print(orders[orders.duplicated()])"
   ]
  },
  {
   "cell_type": "code",
   "execution_count": 11,
   "metadata": {},
   "outputs": [
    {
     "name": "stdout",
     "output_type": "stream",
     "text": [
      "\n",
      "Дубликаты в таблице visitors:\n",
      "Empty DataFrame\n",
      "Columns: [date, group, visitors]\n",
      "Index: []\n"
     ]
    }
   ],
   "source": [
    "print('\\nДубликаты в таблице visitors:')\n",
    "print(visitors[visitors.duplicated()])"
   ]
  },
  {
   "cell_type": "markdown",
   "metadata": {},
   "source": [
    "<div class=\"alert alert-block alert-info\">Пропусков и дубликатов в данных нет. Но возможна другая ошибка - когда один и тотже посетитель фигурирует то в группе А, то в группе В. Проверим это далее. </div>"
   ]
  },
  {
   "cell_type": "markdown",
   "metadata": {},
   "source": [
    "<div class=\"alert alert-block alert-danger\">\n",
    "    \n",
    "**Комментарий ревьювера (недочет, который нужно доработать)**\n",
    "    \n",
    "Прокомментируй свои действия. Всё ли хорошо с данными? Есть ли пропуски и дубликаты?\n",
    "</div>"
   ]
  },
  {
   "cell_type": "markdown",
   "metadata": {},
   "source": [
    "<div class=\"alert alert-block alert-success\">\n",
    "\n",
    "**Комментарий ревьювера v2 (все отлично)**\n",
    "    \n",
    "👍\n",
    "</div>"
   ]
  },
  {
   "cell_type": "code",
   "execution_count": 12,
   "metadata": {},
   "outputs": [
    {
     "data": {
      "text/plain": [
       "'Количество повторяющихся пользователей в обеих группах: '"
      ]
     },
     "metadata": {},
     "output_type": "display_data"
    },
    {
     "data": {
      "text/plain": [
       "58"
      ]
     },
     "metadata": {},
     "output_type": "display_data"
    }
   ],
   "source": [
    "# Оценим количетво пользователей, попавших и в группу A и в группу B\n",
    "group_a = orders[(orders['group'] == 'A')]['visitorId']\n",
    "group_b = orders[(orders['group'] == 'B')]['visitorId']\n",
    "\n",
    "display('Количество повторяющихся пользователей в обеих группах: ', len(list(set(group_a) & set(group_b))))"
   ]
  },
  {
   "cell_type": "markdown",
   "metadata": {},
   "source": [
    "Оставим данные без изменений. Как вариант, можно добавить группу С и перенести их туда. Или удалить. "
   ]
  },
  {
   "cell_type": "markdown",
   "metadata": {},
   "source": [
    "<div class=\"alert alert-block alert-success\">\n",
    "\n",
    "**Комментарий ревьювера (все отлично)**\n",
    "    \n",
    "Проверка выполнена оптимальным методом. Хорошая работа!\n",
    "    \n",
    "Важно не оставлять факт пересечения групп без внимания. Если пользователи попали в обе группы, то коллегам нужно знать, что есть ошибки в распределении. Эта информация в реальной работе поможет коллегам разобраться в проблеме и устранить ошибку распределения для следующих тестов.\n",
    "</div>"
   ]
  },
  {
   "cell_type": "code",
   "execution_count": 13,
   "metadata": {},
   "outputs": [],
   "source": [
    "# создаем массив уникальных пар значений дат и групп теста\n",
    "datesGroups = orders[['date','group']].drop_duplicates()\n"
   ]
  },
  {
   "cell_type": "markdown",
   "metadata": {},
   "source": [
    "Соберём агрегированные кумулятивные по дням данные о заказах в несколько действий. \n",
    "Получим строки таблицы orders, дата которых меньше или равна дате элемента из datesGroups, а группа теста равна группе из datesGroups:\n",
    "orders[np.logical_and(orders['date'] <= x['date'], orders['group'] == x['group'])].\n",
    "Агрегируем значения. Вычислим максимальную дату. Для группы тоже рассчитаем максимум, и хотя она будет определённой, сделаем это, чтобы столбец 'group'не пропал из итогового вывода. Найдём число уникальных ID заказов и пользователей. Подсчитаем сумму средних чеков:\n",
    ".agg({'date' : 'max', 'group' : 'max', 'orderId' : 'nunique', 'userId' : 'nunique', 'revenue' : 'sum'}). Применим методы к каждой строке датафрейма: apply(axis=1)и отсортируем результаты по столбцам 'date'и 'group':"
   ]
  },
  {
   "cell_type": "code",
   "execution_count": 14,
   "metadata": {},
   "outputs": [],
   "source": [
    "ordersAggregated = datesGroups.apply(lambda x: orders[np.logical_and(orders['date'] <= x['date'], orders['group'] == x['group'])]\\\n",
    ".agg({'date' : 'max', 'group' : 'max', 'transactionId' : 'nunique', 'visitorId' : 'nunique', 'revenue' : 'sum'}), axis=1).sort_values(by=['date','group'])\n"
   ]
  },
  {
   "cell_type": "markdown",
   "metadata": {},
   "source": [
    "Этот код работает так, будто мы ежедневно считали результаты тестирования до выбранного дня включительно и сохраняли их в строках таблицы ordersAggregated. \n",
    "Аналогично получим агрегированные кумулятивные по дням данные о посетителях интернет-магазина: "
   ]
  },
  {
   "cell_type": "code",
   "execution_count": 15,
   "metadata": {},
   "outputs": [],
   "source": [
    "visitorsAggregated = datesGroups.apply(lambda x: visitors[np.logical_and(visitors['date'] <= x['date'], visitors['group'] == x['group'])].agg({'date' : 'max', 'group' : 'max', 'visitors' : 'sum'}), axis=1).sort_values(by=['date','group'])\n"
   ]
  },
  {
   "cell_type": "markdown",
   "metadata": {},
   "source": [
    "Объединим обе таблицы в одну с понятными названиями столбцов: "
   ]
  },
  {
   "cell_type": "code",
   "execution_count": 16,
   "metadata": {},
   "outputs": [
    {
     "name": "stdout",
     "output_type": "stream",
     "text": [
      "        date group  orders  buyers  revenue  visitors\n",
      "0 2019-08-01  A     24      20      148579   719     \n",
      "1 2019-08-01  B     21      20      101217   713     \n",
      "2 2019-08-02  A     44      38      242401   1338    \n",
      "3 2019-08-02  B     45      43      266748   1294    \n",
      "4 2019-08-03  A     68      62      354874   1845    \n"
     ]
    }
   ],
   "source": [
    "# создаем массив уникальных пар значений дат и групп теста\n",
    "datesGroups = orders[['date','group']].drop_duplicates()\n",
    "\n",
    "# получаем агрегированные кумулятивные по дням данные о заказах \n",
    "ordersAggregated = datesGroups.apply(lambda x: orders[np.logical_and(orders['date'] <= x['date'], orders['group'] == x['group'])].agg({'date' : 'max', 'group' : 'max', 'transactionId' : 'nunique', 'visitorId' : 'nunique', 'revenue' : 'sum'}), axis=1).sort_values(by=['date','group'])\n",
    "\n",
    "# получаем агрегированные кумулятивные по дням данные о посетителях интернет-магазина \n",
    "visitorsAggregated = datesGroups.apply(lambda x: visitors[np.logical_and(visitors['date'] <= x['date'], visitors['group'] == x['group'])].agg({'date' : 'max', 'group' : 'max', 'visitors' : 'sum'}), axis=1).sort_values(by=['date','group'])\n",
    "\n",
    "# объединяем кумулятивные данные в одной таблице и присваиваем ее столбцам понятные названия\n",
    "cumulativeData = ordersAggregated.merge(visitorsAggregated, left_on=['date', 'group'], right_on=['date', 'group'])\n",
    "cumulativeData.columns = ['date', 'group', 'orders', 'buyers', 'revenue', 'visitors']\n",
    "\n",
    "print(cumulativeData.head(5))\n"
   ]
  },
  {
   "cell_type": "markdown",
   "metadata": {},
   "source": [
    "<div class=\"alert alert-block alert-success\">\n",
    "\n",
    "**Комментарий ревьювера (все отлично)**\n",
    "    \n",
    "Кумулятивные данные сформированы👍\n",
    "</div>"
   ]
  },
  {
   "cell_type": "markdown",
   "metadata": {},
   "source": [
    "Построим графики кумулятивной выручки по дням и группам A/B-тестирования:"
   ]
  },
  {
   "cell_type": "code",
   "execution_count": 17,
   "metadata": {},
   "outputs": [
    {
     "data": {
      "image/png": "[encoded data removed]",
      "text/plain": [
       "<Figure size 864x576 with 1 Axes>"
      ]
     },
     "metadata": {
      "needs_background": "light"
     },
     "output_type": "display_data"
    }
   ],
   "source": [
    "# датафрейм с кумулятивным количеством заказов и кумулятивной выручкой по дням в группе А\n",
    "cumulativeRevenueA = cumulativeData[cumulativeData['group']=='A'][['date','revenue', 'orders']]\n",
    "\n",
    "# датафрейм с кумулятивным количеством заказов и кумулятивной выручкой по дням в группе B\n",
    "cumulativeRevenueB = cumulativeData[cumulativeData['group']=='B'][['date','revenue', 'orders']]\n",
    "\n",
    "# Строим график выручки группы А\n",
    "plt.figure(figsize=(12,8))\n",
    "plt.plot(cumulativeRevenueA['date'], cumulativeRevenueA['revenue'], label='A')\n",
    "\n",
    "# Строим график выручки группы B\n",
    "\n",
    "plt.plot(cumulativeRevenueB['date'], cumulativeRevenueB['revenue'], label='B')\n",
    "\n",
    "plt.legend()\n",
    "plt.title ('График кумулятивной выручки по группам')\n",
    "plt.xlabel('Дата')\n",
    "plt.ylabel ('Кумулятивная выручка,в млн р')\n",
    "plt.xticks (rotation = 45)\n",
    "plt.show()\n",
    "\n"
   ]
  },
  {
   "cell_type": "markdown",
   "metadata": {},
   "source": [
    "<div class=\"alert alert-block alert-danger\">\n",
    "    \n",
    "**Комментарий ревьювера (недочет, который нужно доработать)**\n",
    "    \n",
    "Стоит заняться оформлением всех графиков в отчете. Нужно добавить подписи осей графикам.\n",
    "\n",
    "Рекомендую также изучить новые библиотеки визуализации и новые методы в уже изученных.  Прикрепляю несколько интересных ссылок по визуализации:\n",
    "\n",
    "\n",
    "https://coderlessons.com/tutorials/python-technologies/izuchai-siborna/siborn-kratkoe-rukovodstvo\n",
    "\n",
    "https://tproger.ru/translations/python-data-vizualization/\n",
    "    \n",
    "____________________\n",
    " \n",
    "*Техническую строку над графиком можно убрать, если написать в конце ячейки:*\n",
    "    \n",
    "    plt.show()\n",
    "</div>"
   ]
  },
  {
   "cell_type": "markdown",
   "metadata": {},
   "source": [
    "<div class=\"alert alert-block alert-success\">\n",
    "\n",
    "**Комментарий ревьювера v2 (все отлично)**\n",
    "    \n",
    "Графики оформлены👍\n",
    "</div>"
   ]
  },
  {
   "cell_type": "code",
   "execution_count": 18,
   "metadata": {},
   "outputs": [
    {
     "data": {
      "text/html": [
       "<div>\n",
       "<style scoped>\n",
       "    .dataframe tbody tr th:only-of-type {\n",
       "        vertical-align: middle;\n",
       "    }\n",
       "\n",
       "    .dataframe tbody tr th {\n",
       "        vertical-align: top;\n",
       "    }\n",
       "\n",
       "    .dataframe thead th {\n",
       "        text-align: right;\n",
       "    }\n",
       "</style>\n",
       "<table border=\"1\" class=\"dataframe\">\n",
       "  <thead>\n",
       "    <tr style=\"text-align: right;\">\n",
       "      <th></th>\n",
       "      <th>transactionId</th>\n",
       "      <th>visitorId</th>\n",
       "      <th>date</th>\n",
       "      <th>revenue</th>\n",
       "      <th>group</th>\n",
       "    </tr>\n",
       "  </thead>\n",
       "  <tbody>\n",
       "    <tr>\n",
       "      <th>425</th>\n",
       "      <td>590470918</td>\n",
       "      <td>1920142716</td>\n",
       "      <td>2019-08-19</td>\n",
       "      <td>1294500</td>\n",
       "      <td>B</td>\n",
       "    </tr>\n",
       "    <tr>\n",
       "      <th>1196</th>\n",
       "      <td>3936777065</td>\n",
       "      <td>2108080724</td>\n",
       "      <td>2019-08-15</td>\n",
       "      <td>202740</td>\n",
       "      <td>B</td>\n",
       "    </tr>\n",
       "    <tr>\n",
       "      <th>858</th>\n",
       "      <td>192721366</td>\n",
       "      <td>1316129916</td>\n",
       "      <td>2019-08-27</td>\n",
       "      <td>93940</td>\n",
       "      <td>A</td>\n",
       "    </tr>\n",
       "    <tr>\n",
       "      <th>1136</th>\n",
       "      <td>666610489</td>\n",
       "      <td>1307669133</td>\n",
       "      <td>2019-08-13</td>\n",
       "      <td>92550</td>\n",
       "      <td>A</td>\n",
       "    </tr>\n",
       "    <tr>\n",
       "      <th>744</th>\n",
       "      <td>3668308183</td>\n",
       "      <td>888512513</td>\n",
       "      <td>2019-08-27</td>\n",
       "      <td>86620</td>\n",
       "      <td>B</td>\n",
       "    </tr>\n",
       "    <tr>\n",
       "      <th>682</th>\n",
       "      <td>1216533772</td>\n",
       "      <td>4266935830</td>\n",
       "      <td>2019-08-29</td>\n",
       "      <td>78990</td>\n",
       "      <td>B</td>\n",
       "    </tr>\n",
       "    <tr>\n",
       "      <th>662</th>\n",
       "      <td>1811671147</td>\n",
       "      <td>4266935830</td>\n",
       "      <td>2019-08-29</td>\n",
       "      <td>78990</td>\n",
       "      <td>A</td>\n",
       "    </tr>\n",
       "    <tr>\n",
       "      <th>743</th>\n",
       "      <td>3603576309</td>\n",
       "      <td>4133034833</td>\n",
       "      <td>2019-08-09</td>\n",
       "      <td>67990</td>\n",
       "      <td>A</td>\n",
       "    </tr>\n",
       "    <tr>\n",
       "      <th>1103</th>\n",
       "      <td>1348774318</td>\n",
       "      <td>1164614297</td>\n",
       "      <td>2019-08-12</td>\n",
       "      <td>66350</td>\n",
       "      <td>A</td>\n",
       "    </tr>\n",
       "    <tr>\n",
       "      <th>1099</th>\n",
       "      <td>316924019</td>\n",
       "      <td>148427295</td>\n",
       "      <td>2019-08-12</td>\n",
       "      <td>65710</td>\n",
       "      <td>A</td>\n",
       "    </tr>\n",
       "  </tbody>\n",
       "</table>\n",
       "</div>"
      ],
      "text/plain": [
       "      transactionId   visitorId       date  revenue group\n",
       "425   590470918      1920142716 2019-08-19  1294500  B   \n",
       "1196  3936777065     2108080724 2019-08-15  202740   B   \n",
       "858   192721366      1316129916 2019-08-27  93940    A   \n",
       "1136  666610489      1307669133 2019-08-13  92550    A   \n",
       "744   3668308183     888512513  2019-08-27  86620    B   \n",
       "682   1216533772     4266935830 2019-08-29  78990    B   \n",
       "662   1811671147     4266935830 2019-08-29  78990    A   \n",
       "743   3603576309     4133034833 2019-08-09  67990    A   \n",
       "1103  1348774318     1164614297 2019-08-12  66350    A   \n",
       "1099  316924019      148427295  2019-08-12  65710    A   "
      ]
     },
     "execution_count": 18,
     "metadata": {},
     "output_type": "execute_result"
    }
   ],
   "source": [
    "orders.sort_values(by='revenue', ascending = False).head(10)"
   ]
  },
  {
   "cell_type": "markdown",
   "metadata": {},
   "source": [
    "Выручка почти равномерно увеличивается в течение всего теста. Хороший знак.\n",
    "Однако графики выручки в группе В имеет точку резкого роста. Это может сигнализировать о всплесках числа заказов, либо о появлении очень дорогих заказов в выборке. Собственно так и есть. 19.08.19 в группе В случился заказ на 1294500р, что почти в 200 раз превышает средний чек. Это, естественно, получило отражение в кумулятивной выручке. Но в остальном графики идентичны.И других явных всплесков не имеют.\n"
   ]
  },
  {
   "cell_type": "markdown",
   "metadata": {},
   "source": [
    "<div class=\"alert alert-block alert-success\">\n",
    "\n",
    "**Комментарий ревьювера (все отлично)**\n",
    "    \n",
    "Причина резкого роста обнаружена👍\n",
    "</div>"
   ]
  },
  {
   "cell_type": "markdown",
   "metadata": {},
   "source": [
    "### Постройте график кумулятивного среднего чека по группам. Сделайте выводы и предположения."
   ]
  },
  {
   "cell_type": "code",
   "execution_count": 19,
   "metadata": {},
   "outputs": [
    {
     "data": {
      "image/png": "[encoded data removed]",
      "text/plain": [
       "<Figure size 864x576 with 1 Axes>"
      ]
     },
     "metadata": {
      "needs_background": "light"
     },
     "output_type": "display_data"
    }
   ],
   "source": [
    "plt.figure(figsize=(12,8))\n",
    "plt.plot(cumulativeRevenueA['date'], cumulativeRevenueA['revenue']/cumulativeRevenueA['orders'], label='A')\n",
    "plt.plot(cumulativeRevenueB['date'], cumulativeRevenueB['revenue']/cumulativeRevenueB['orders'], label='B')\n",
    "plt.legend()\n",
    "plt.title ('График кумулятивного среднего чека по группам')\n",
    "plt.xlabel('Дата')\n",
    "plt.ylabel('Средний чек')\n",
    "plt.xticks (rotation = 45)\n",
    "plt.show()\n"
   ]
  },
  {
   "cell_type": "markdown",
   "metadata": {},
   "source": [
    "2 самых больших чека в группе В. Хотя и в группе А есть чеки на 90+ тысяч. Средний чек становится равномерным ближе к концу теста: установился для группы A и продолжает падать для группы B. Напомним, что в группу B в первой половине теста попали крупные заказы (резкий всплеск на графике). Тогда ей нужно больше данных, чтобы прийти к реальному среднему чеку и установиться на его уровне. На существующем временном горизонте средний чек относительно стабилизировался, а в группе В падает. Это связано с вплеском из-за нескольких крупных заказов. И данного временного промежутка недостаточно для стабилизации.\n"
   ]
  },
  {
   "cell_type": "markdown",
   "metadata": {},
   "source": [
    "<div class=\"alert alert-block alert-success\">\n",
    "\n",
    "**Комментарий ревьювера (все отлично)**\n",
    "    \n",
    "Согласен.\n",
    "</div>"
   ]
  },
  {
   "cell_type": "markdown",
   "metadata": {},
   "source": [
    "### Постройте график относительного изменения кумулятивного среднего чека группы B к группе A. Сделайте выводы и предположения."
   ]
  },
  {
   "cell_type": "code",
   "execution_count": 20,
   "metadata": {},
   "outputs": [
    {
     "data": {
      "image/png": "[encoded data removed]",
      "text/plain": [
       "<Figure size 864x576 with 1 Axes>"
      ]
     },
     "metadata": {
      "needs_background": "light"
     },
     "output_type": "display_data"
    }
   ],
   "source": [
    "# собираем данные в одном датафрейме\n",
    "mergedCumulativeRevenue = cumulativeRevenueA.merge(cumulativeRevenueB, left_on='date', right_on='date', how='left', suffixes=['A', 'B'])\n",
    "plt.figure(figsize=(12,8))\n",
    "# cтроим отношение средних чеков\n",
    "plt.plot(mergedCumulativeRevenue['date'], (mergedCumulativeRevenue['revenueB']/mergedCumulativeRevenue['ordersB'])/(mergedCumulativeRevenue['revenueA']/mergedCumulativeRevenue['ordersA'])-1)\n",
    "\n",
    "# добавляем ось X\n",
    "plt.axhline(y=0, color='black', linestyle='--')\n",
    "plt.title('Отношение средних чеков')\n",
    "plt.xlabel('Дата')\n",
    "plt.ylabel('средний чек B/A -1 ')\n",
    "plt.xticks (rotation = 45)\n",
    "plt.show()\n"
   ]
  },
  {
   "cell_type": "markdown",
   "metadata": {},
   "source": [
    "Собственно указанные ранее выбросы с крупными чеками в группе В оказывают предсказуемое влияние и на отношение средних чеков. Резкий всплеск 19.08. и постепенное снижение после этого. Очевидно, что для корректного снижения надо убрать выбросы."
   ]
  },
  {
   "cell_type": "markdown",
   "metadata": {},
   "source": [
    "<div class=\"alert alert-block alert-warning\">\n",
    "\n",
    "**Комментарий ревьювера (что можно улучшить)**\n",
    "    \n",
    "Второй пик 19 августа можно объяснить ранее обнаруженными аномалиями. Но чем можно объяснить первый пик с учётом того, что в эти даты аномалий по среднему чеку и по выручке не было?\n",
    "</div>"
   ]
  },
  {
   "cell_type": "markdown",
   "metadata": {},
   "source": [
    "<div class=\"alert alert-block alert-info\"> Первый пик на графике можно объяснить тем, что мы рассматриваем кумулятивные данные. И на начальном периоде любой даже небольшой всплеск в одних данных окажет существенное влияние на кумулятивные данные. С увеличением периода времени каждый дополнительный заказ минимально влияет на накопленный средний параметр. </div> "
   ]
  },
  {
   "cell_type": "markdown",
   "metadata": {},
   "source": [
    "<div class=\"alert alert-block alert-success\">\n",
    "\n",
    "**Комментарий ревьювера v2 (все отлично)**\n",
    "    \n",
    "Абсолютно верно👍\n",
    "</div>"
   ]
  },
  {
   "cell_type": "markdown",
   "metadata": {},
   "source": [
    "### Постройте график кумулятивного среднего количества заказов на посетителя по группам. Сделайте выводы и предположения.\n"
   ]
  },
  {
   "cell_type": "code",
   "execution_count": 21,
   "metadata": {},
   "outputs": [
    {
     "data": {
      "image/png": "[encoded data removed]",
      "text/plain": [
       "<Figure size 864x576 with 1 Axes>"
      ]
     },
     "metadata": {
      "needs_background": "light"
     },
     "output_type": "display_data"
    }
   ],
   "source": [
    "# считаем среднее количество заказов на посетителя\n",
    "cumulativeData['conversion'] = cumulativeData['orders']/cumulativeData['visitors']\n",
    "\n",
    "# отделяем данные по группе A\n",
    "cumulativeDataA = cumulativeData[cumulativeData['group']=='A']\n",
    "\n",
    "# отделяем данные по группе B\n",
    "cumulativeDataB = cumulativeData[cumulativeData['group']=='B']\n",
    "plt.figure(figsize=(12,8))\n",
    "# строим графики\n",
    "plt.plot(cumulativeDataA['date'], cumulativeDataA['conversion'], label='A')\n",
    "plt.plot(cumulativeDataB['date'], cumulativeDataB['conversion'], label='B')\n",
    "plt.legend()\n",
    "\n",
    "# задаем масштаб осей\n",
    "#plt.axis([\"2019-08-01\", '2019-09-01', 0, 0.015])\n",
    "plt.title('График кумулятивного среднего количества заказов на посетителя по группам')\n",
    "plt.xlabel('Дата')\n",
    "plt.ylabel('Количество заказов на 1 посетителя')\n",
    "plt.xticks (rotation = 45)\n",
    "plt.show()\n",
    "\n"
   ]
  },
  {
   "cell_type": "markdown",
   "metadata": {},
   "source": [
    "Тут все гораздо интереснее. В группе В среднее количество заказов на посетителя устойчиво больше на 15%(0.03 и 0.035). И тут выбросы никак не влияют на картину. "
   ]
  },
  {
   "cell_type": "markdown",
   "metadata": {},
   "source": [
    "<div class=\"alert alert-block alert-success\">\n",
    "\n",
    "**Комментарий ревьювера (все отлично)**\n",
    "    \n",
    "Согласен, можно добавить, что к середине теста графики стабилизировались около определенных значений.\n",
    "</div>"
   ]
  },
  {
   "cell_type": "markdown",
   "metadata": {},
   "source": [
    "### Постройте график относительного изменения кумулятивного среднего количества заказов на посетителя группы B к группе A. Сделайте выводы и предположения."
   ]
  },
  {
   "cell_type": "code",
   "execution_count": 22,
   "metadata": {},
   "outputs": [
    {
     "data": {
      "image/png": "[encoded data removed]",
      "text/plain": [
       "<Figure size 864x576 with 1 Axes>"
      ]
     },
     "metadata": {
      "needs_background": "light"
     },
     "output_type": "display_data"
    }
   ],
   "source": [
    "mergedCumulativeConversions = cumulativeDataA[['date','conversion']].merge(cumulativeDataB[['date','conversion']], left_on='date', right_on='date', how='left', suffixes=['A', 'B'])\n",
    "plt.figure(figsize=(12,8))\n",
    "plt.plot(mergedCumulativeConversions['date'], mergedCumulativeConversions['conversionB']/mergedCumulativeConversions['conversionA']-1, label=\"B/A-1\")\n",
    "plt.legend()\n",
    "\n",
    "plt.axhline(y=0, color='black', linestyle='--')\n",
    "plt.axhline(y=-0.1, color='grey', linestyle='--')\n",
    "plt.title('Относительный прирост кумулятивного среднего количества заказов на посетителя группы B относительно группы A')\n",
    "plt.xlabel('Дата')\n",
    "plt.ylabel('Прирост количества заказов в группе B к A')\n",
    "plt.xticks (rotation = 45)\n",
    "plt.show()"
   ]
  },
  {
   "cell_type": "markdown",
   "metadata": {},
   "source": [
    "Как и сказано ранее, видим устойчивое превышение среднего количества заказов на посетителя в группе В на 15% перед группой А. Колебание от 10 до 20%."
   ]
  },
  {
   "cell_type": "markdown",
   "metadata": {},
   "source": [
    "<div class=\"alert alert-block alert-success\">\n",
    "\n",
    "**Комментарий ревьювера (все отлично)**\n",
    "     \n",
    "Группа В лучше группы А большую часть теста. Правильно, что сразу комментируешь графики.\n",
    "</div>"
   ]
  },
  {
   "cell_type": "markdown",
   "metadata": {},
   "source": [
    "### Постройте точечный график количества заказов по пользователям. Сделайте выводы и предположения."
   ]
  },
  {
   "cell_type": "code",
   "execution_count": 23,
   "metadata": {},
   "outputs": [
    {
     "name": "stdout",
     "output_type": "stream",
     "text": [
      "       visitorId  orders\n",
      "1023  4256040402  11    \n",
      "591   2458001652  11    \n",
      "569   2378935119  9     \n",
      "487   2038680547  8     \n",
      "44    199603092   5     \n",
      "744   3062433592  5     \n",
      "55    237748145   5     \n",
      "917   3803269165  5     \n",
      "299   1230306981  5     \n",
      "897   3717692402  5     \n"
     ]
    }
   ],
   "source": [
    "ordersByUsers = (\n",
    "    orders.groupby('visitorId', as_index=False)\n",
    "    .agg({'transactionId': 'nunique'})\n",
    ")\n",
    "\n",
    "ordersByUsers.columns = ['visitorId', 'orders']\n",
    "\n",
    "print(ordersByUsers.sort_values(by='orders', ascending=False).head(10))"
   ]
  },
  {
   "cell_type": "code",
   "execution_count": 24,
   "metadata": {},
   "outputs": [
    {
     "data": {
      "image/png": "[encoded data removed]",
      "text/plain": [
       "<Figure size 432x288 with 1 Axes>"
      ]
     },
     "metadata": {
      "needs_background": "light"
     },
     "output_type": "display_data"
    }
   ],
   "source": [
    "plt.hist(ordersByUsers['orders'])\n",
    "plt.title('График количества заказов')\n",
    "plt.xlabel('Количество заказов')\n",
    "plt.ylabel('Число посетителей')\n",
    "plt.show()\n"
   ]
  },
  {
   "cell_type": "code",
   "execution_count": 25,
   "metadata": {},
   "outputs": [
    {
     "data": {
      "image/png": "[encoded data removed]",
      "text/plain": [
       "<Figure size 864x576 with 1 Axes>"
      ]
     },
     "metadata": {
      "needs_background": "light"
     },
     "output_type": "display_data"
    }
   ],
   "source": [
    "x_values = pd.Series(range(0,len(ordersByUsers)))\n",
    "plt.figure(figsize=(12,8))\n",
    "plt.scatter(x_values, ordersByUsers['orders'])\n",
    "plt.title('Точечный график количества заказов')\n",
    "plt.xlabel('Посетители')\n",
    "plt.ylabel('Количество заказов')\n",
    "plt.show()\n"
   ]
  },
  {
   "cell_type": "markdown",
   "metadata": {},
   "source": [
    "### Посчитайте 95-й и 99-й перцентили количества заказов на пользователя. Выберите границу для определения аномальных пользователей.\n"
   ]
  },
  {
   "cell_type": "code",
   "execution_count": 26,
   "metadata": {},
   "outputs": [
    {
     "name": "stdout",
     "output_type": "stream",
     "text": [
      "[2. 4.]\n"
     ]
    }
   ],
   "source": [
    "print(np.percentile(ordersByUsers['orders'], [95, 99]))\n"
   ]
  },
  {
   "cell_type": "markdown",
   "metadata": {},
   "source": [
    "Отсеем пользователей с 3 и более заказами."
   ]
  },
  {
   "cell_type": "markdown",
   "metadata": {},
   "source": [
    "<div class=\"alert alert-block alert-success\">\n",
    "\n",
    "**Комментарий ревьювера (все отлично)**\n",
    "     \n",
    "Отлично, перцентили количества заказов на пользователя рассчитаны верно. Согласен с выбранной границей.\n",
    "</div>"
   ]
  },
  {
   "cell_type": "markdown",
   "metadata": {},
   "source": [
    "### Постройте точечный график стоимостей заказов. Сделайте выводы и предположения."
   ]
  },
  {
   "cell_type": "code",
   "execution_count": 27,
   "metadata": {},
   "outputs": [
    {
     "data": {
      "image/png": "[encoded data removed]",
      "text/plain": [
       "<Figure size 864x576 with 1 Axes>"
      ]
     },
     "metadata": {
      "needs_background": "light"
     },
     "output_type": "display_data"
    }
   ],
   "source": [
    "x_values = pd.Series(range(0,len(orders)))\n",
    "plt.figure(figsize=(12,8))\n",
    "plt.scatter(x_values, orders['revenue'])\n",
    "plt.title('Точечный график стоимостей заказов')\n",
    "plt.xlabel('Заказы')\n",
    "plt.ylabel('Стоимость заказа, млн.р')\n",
    "plt.show()\n"
   ]
  },
  {
   "cell_type": "code",
   "execution_count": 28,
   "metadata": {},
   "outputs": [
    {
     "data": {
      "text/html": [
       "<div>\n",
       "<style scoped>\n",
       "    .dataframe tbody tr th:only-of-type {\n",
       "        vertical-align: middle;\n",
       "    }\n",
       "\n",
       "    .dataframe tbody tr th {\n",
       "        vertical-align: top;\n",
       "    }\n",
       "\n",
       "    .dataframe thead th {\n",
       "        text-align: right;\n",
       "    }\n",
       "</style>\n",
       "<table border=\"1\" class=\"dataframe\">\n",
       "  <thead>\n",
       "    <tr style=\"text-align: right;\">\n",
       "      <th></th>\n",
       "      <th>transactionId</th>\n",
       "      <th>visitorId</th>\n",
       "      <th>date</th>\n",
       "      <th>revenue</th>\n",
       "      <th>group</th>\n",
       "    </tr>\n",
       "  </thead>\n",
       "  <tbody>\n",
       "    <tr>\n",
       "      <th>425</th>\n",
       "      <td>590470918</td>\n",
       "      <td>1920142716</td>\n",
       "      <td>2019-08-19</td>\n",
       "      <td>1294500</td>\n",
       "      <td>B</td>\n",
       "    </tr>\n",
       "    <tr>\n",
       "      <th>1196</th>\n",
       "      <td>3936777065</td>\n",
       "      <td>2108080724</td>\n",
       "      <td>2019-08-15</td>\n",
       "      <td>202740</td>\n",
       "      <td>B</td>\n",
       "    </tr>\n",
       "    <tr>\n",
       "      <th>858</th>\n",
       "      <td>192721366</td>\n",
       "      <td>1316129916</td>\n",
       "      <td>2019-08-27</td>\n",
       "      <td>93940</td>\n",
       "      <td>A</td>\n",
       "    </tr>\n",
       "    <tr>\n",
       "      <th>1136</th>\n",
       "      <td>666610489</td>\n",
       "      <td>1307669133</td>\n",
       "      <td>2019-08-13</td>\n",
       "      <td>92550</td>\n",
       "      <td>A</td>\n",
       "    </tr>\n",
       "    <tr>\n",
       "      <th>744</th>\n",
       "      <td>3668308183</td>\n",
       "      <td>888512513</td>\n",
       "      <td>2019-08-27</td>\n",
       "      <td>86620</td>\n",
       "      <td>B</td>\n",
       "    </tr>\n",
       "    <tr>\n",
       "      <th>682</th>\n",
       "      <td>1216533772</td>\n",
       "      <td>4266935830</td>\n",
       "      <td>2019-08-29</td>\n",
       "      <td>78990</td>\n",
       "      <td>B</td>\n",
       "    </tr>\n",
       "    <tr>\n",
       "      <th>662</th>\n",
       "      <td>1811671147</td>\n",
       "      <td>4266935830</td>\n",
       "      <td>2019-08-29</td>\n",
       "      <td>78990</td>\n",
       "      <td>A</td>\n",
       "    </tr>\n",
       "    <tr>\n",
       "      <th>743</th>\n",
       "      <td>3603576309</td>\n",
       "      <td>4133034833</td>\n",
       "      <td>2019-08-09</td>\n",
       "      <td>67990</td>\n",
       "      <td>A</td>\n",
       "    </tr>\n",
       "    <tr>\n",
       "      <th>1103</th>\n",
       "      <td>1348774318</td>\n",
       "      <td>1164614297</td>\n",
       "      <td>2019-08-12</td>\n",
       "      <td>66350</td>\n",
       "      <td>A</td>\n",
       "    </tr>\n",
       "    <tr>\n",
       "      <th>1099</th>\n",
       "      <td>316924019</td>\n",
       "      <td>148427295</td>\n",
       "      <td>2019-08-12</td>\n",
       "      <td>65710</td>\n",
       "      <td>A</td>\n",
       "    </tr>\n",
       "  </tbody>\n",
       "</table>\n",
       "</div>"
      ],
      "text/plain": [
       "      transactionId   visitorId       date  revenue group\n",
       "425   590470918      1920142716 2019-08-19  1294500  B   \n",
       "1196  3936777065     2108080724 2019-08-15  202740   B   \n",
       "858   192721366      1316129916 2019-08-27  93940    A   \n",
       "1136  666610489      1307669133 2019-08-13  92550    A   \n",
       "744   3668308183     888512513  2019-08-27  86620    B   \n",
       "682   1216533772     4266935830 2019-08-29  78990    B   \n",
       "662   1811671147     4266935830 2019-08-29  78990    A   \n",
       "743   3603576309     4133034833 2019-08-09  67990    A   \n",
       "1103  1348774318     1164614297 2019-08-12  66350    A   \n",
       "1099  316924019      148427295  2019-08-12  65710    A   "
      ]
     },
     "execution_count": 28,
     "metadata": {},
     "output_type": "execute_result"
    }
   ],
   "source": [
    "orders.sort_values(by='revenue', ascending = False).head(10)"
   ]
  },
  {
   "cell_type": "markdown",
   "metadata": {},
   "source": [
    "Есть 2 единичных выброса. На сумму 1294500 и 202740. Их надо в дальнейшем убрать из рассмотрения."
   ]
  },
  {
   "cell_type": "code",
   "execution_count": 29,
   "metadata": {},
   "outputs": [
    {
     "data": {
      "image/png": "[encoded data removed]",
      "text/plain": [
       "<Figure size 864x576 with 1 Axes>"
      ]
     },
     "metadata": {
      "needs_background": "light"
     },
     "output_type": "display_data"
    }
   ],
   "source": [
    "x_values = pd.Series(range(0,len(orders)))\n",
    "plt.figure(figsize=(12,8))\n",
    "plt.scatter(x_values, orders['revenue'])\n",
    "plt.ylim(0,100000)\n",
    "plt.title('Точечный график стоимостей заказов lim=100000')\n",
    "plt.xlabel('Заказы')\n",
    "plt.ylabel('Стоимость заказа')\n",
    "plt.show()\n"
   ]
  },
  {
   "cell_type": "markdown",
   "metadata": {},
   "source": [
    "<div class=\"alert alert-block alert-success\">\n",
    "\n",
    "**Комментарий ревьювера (все отлично)**\n",
    "    \n",
    "Здорово, что ограничил график и рассмотрел основную массу данных.\n",
    "</div>"
   ]
  },
  {
   "cell_type": "markdown",
   "metadata": {},
   "source": [
    "Немного потеряем, если еще снизим границу до 60000."
   ]
  },
  {
   "cell_type": "code",
   "execution_count": 30,
   "metadata": {
    "scrolled": true
   },
   "outputs": [
    {
     "data": {
      "image/png": "[encoded data removed]",
      "text/plain": [
       "<Figure size 864x576 with 1 Axes>"
      ]
     },
     "metadata": {
      "needs_background": "light"
     },
     "output_type": "display_data"
    }
   ],
   "source": [
    "x_values = pd.Series(range(0,len(orders)))\n",
    "plt.figure(figsize=(12,8))\n",
    "plt.scatter(x_values, orders['revenue'])\n",
    "plt.ylim(0,60000)\n",
    "plt.title('Точечный график стоимостей заказов lim=60000')\n",
    "plt.xlabel('Заказы')\n",
    "plt.ylabel('Стоимость заказа')\n",
    "plt.show()\n"
   ]
  },
  {
   "cell_type": "markdown",
   "metadata": {},
   "source": [
    "### Посчитайте 95-й и 99-й перцентили стоимости заказов. Выберите границу для определения аномальных заказов."
   ]
  },
  {
   "cell_type": "code",
   "execution_count": 31,
   "metadata": {},
   "outputs": [
    {
     "name": "stdout",
     "output_type": "stream",
     "text": [
      "[28000.  58233.2]\n"
     ]
    }
   ],
   "source": [
    "print(np.percentile(orders['revenue'], [95, 99]))\n"
   ]
  },
  {
   "cell_type": "markdown",
   "metadata": {},
   "source": [
    "Судя по перцентилям можно отбросить начиная с 30000."
   ]
  },
  {
   "cell_type": "markdown",
   "metadata": {},
   "source": [
    "<div class=\"alert alert-block alert-success\">\n",
    "\n",
    "**Комментарий ревьювера (все отлично)**\n",
    "     \n",
    "Отлично, перцентили величины заказов рассчитаны верно. \n",
    "</div>"
   ]
  },
  {
   "cell_type": "markdown",
   "metadata": {},
   "source": [
    "### Посчитайте статистическую значимость различий в среднем количестве заказов на посетителя между группами по «сырым» данным. Сделайте выводы и предположения."
   ]
  },
  {
   "cell_type": "code",
   "execution_count": 32,
   "metadata": {},
   "outputs": [
    {
     "name": "stdout",
     "output_type": "stream",
     "text": [
      "        date  ordersPerDateA  revenuePerDateA  ordersPerDateB  \\\n",
      "0 2019-08-01  24              148579           21               \n",
      "1 2019-08-02  20              93822            24               \n",
      "2 2019-08-03  24              112473           16               \n",
      "3 2019-08-04  16              70825            17               \n",
      "4 2019-08-05  25              124218           23               \n",
      "\n",
      "   revenuePerDateB  ordersCummulativeA  revenueCummulativeA  \\\n",
      "0  101217           24                  148579                \n",
      "1  165531           44                  242401                \n",
      "2  114248           68                  354874                \n",
      "3  108571           84                  425699                \n",
      "4  92428            109                 549917                \n",
      "\n",
      "   ordersCummulativeB  revenueCummulativeB  visitorsPerDateA  \\\n",
      "0  21                  101217               719                \n",
      "1  45                  266748               619                \n",
      "2  61                  380996               507                \n",
      "3  78                  489567               717                \n",
      "4  101                 581995               756                \n",
      "\n",
      "   visitorsPerDateB  visitorsCummulativeA  visitorsCummulativeB  \n",
      "0  713               719                   713                   \n",
      "1  581               1338                  1294                  \n",
      "2  509               1845                  1803                  \n",
      "3  770               2562                  2573                  \n",
      "4  707               3318                  3280                  \n"
     ]
    }
   ],
   "source": [
    "visitorsADaily = visitors[visitors['group'] == 'A'][['date', 'visitors']]\n",
    "visitorsADaily.columns = ['date', 'visitorsPerDateA']\n",
    "\n",
    "visitorsACummulative = visitorsADaily.apply(\n",
    "    lambda x: visitorsADaily[visitorsADaily['date'] <= x['date']].agg(\n",
    "        {'date': 'max', 'visitorsPerDateA': 'sum'}\n",
    "    ),\n",
    "    axis=1,\n",
    ")\n",
    "visitorsACummulative.columns = ['date', 'visitorsCummulativeA']\n",
    "\n",
    "visitorsBDaily = visitors[visitors['group'] == 'B'][['date', 'visitors']]\n",
    "visitorsBDaily.columns = ['date', 'visitorsPerDateB']\n",
    "\n",
    "visitorsBCummulative = visitorsBDaily.apply(\n",
    "    lambda x: visitorsBDaily[visitorsBDaily['date'] <= x['date']].agg(\n",
    "        {'date': 'max', 'visitorsPerDateB': 'sum'}\n",
    "    ),\n",
    "    axis=1,\n",
    ")\n",
    "visitorsBCummulative.columns = ['date', 'visitorsCummulativeB']\n",
    "\n",
    "ordersADaily = (\n",
    "    orders[orders['group'] == 'A'][['date', 'transactionId', 'visitorId', 'revenue']]\n",
    "    .groupby('date', as_index=False)\n",
    "    .agg({'transactionId': pd.Series.nunique, 'revenue': 'sum'})\n",
    ")\n",
    "ordersADaily.columns = ['date', 'ordersPerDateA', 'revenuePerDateA']\n",
    "\n",
    "ordersACummulative = ordersADaily.apply(\n",
    "    lambda x: ordersADaily[ordersADaily['date'] <= x['date']].agg(\n",
    "        {'date': 'max', 'ordersPerDateA': 'sum', 'revenuePerDateA': 'sum'}\n",
    "    ),\n",
    "    axis=1,\n",
    ").sort_values(by=['date'])\n",
    "ordersACummulative.columns = [\n",
    "    'date',\n",
    "    'ordersCummulativeA',\n",
    "    'revenueCummulativeA',\n",
    "]\n",
    "\n",
    "ordersBDaily = (\n",
    "    orders[orders['group'] == 'B'][['date', 'transactionId', 'visitorId', 'revenue']]\n",
    "    .groupby('date', as_index=False)\n",
    "    .agg({'transactionId': pd.Series.nunique, 'revenue': 'sum'})\n",
    ")\n",
    "ordersBDaily.columns = ['date', 'ordersPerDateB', 'revenuePerDateB']\n",
    "\n",
    "ordersBCummulative = ordersBDaily.apply(\n",
    "    lambda x: ordersBDaily[ordersBDaily['date'] <= x['date']].agg(\n",
    "        {'date': 'max', 'ordersPerDateB': 'sum', 'revenuePerDateB': 'sum'}\n",
    "    ),\n",
    "    axis=1,\n",
    ").sort_values(by=['date'])\n",
    "ordersBCummulative.columns = [\n",
    "    'date',\n",
    "    'ordersCummulativeB',\n",
    "    'revenueCummulativeB',\n",
    "]\n",
    "\n",
    "data = (\n",
    "    ordersADaily.merge(\n",
    "        ordersBDaily, left_on='date', right_on='date', how='left'\n",
    "    )\n",
    "    .merge(ordersACummulative, left_on='date', right_on='date', how='left')\n",
    "    .merge(ordersBCummulative, left_on='date', right_on='date', how='left')\n",
    "    .merge(visitorsADaily, left_on='date', right_on='date', how='left')\n",
    "    .merge(visitorsBDaily, left_on='date', right_on='date', how='left')\n",
    "    .merge(visitorsACummulative, left_on='date', right_on='date', how='left')\n",
    "    .merge(visitorsBCummulative, left_on='date', right_on='date', how='left')\n",
    ")\n",
    "\n",
    "print(data.head(5))\n"
   ]
  },
  {
   "cell_type": "markdown",
   "metadata": {},
   "source": [
    "<div class=\"alert alert-block alert-warning\">\n",
    "\n",
    "**Комментарий ревьювера (что можно улучшить)**\n",
    "    \n",
    "Почему ты снова формируешь кумулятивные данные? Перед анализом графиков ты уже собрал их в cumulativeData.\n",
    "\n",
    "</div>"
   ]
  },
  {
   "cell_type": "markdown",
   "metadata": {},
   "source": [
    "Напомним названия столбцов данных:\n",
    "- date— дата;\n",
    "- ordersPerDateA— количество заказов в выбранную дату в группе A;\n",
    "- revenuePerDateA— суммарная выручка в выбранную дату в группе A;\n",
    "- ordersPerDateB— количество заказов в выбранную дату в группе B;\n",
    "- revenuePerDateB— суммарная выручка в выбранную дату в группе B;\n",
    "- ordersCummulativeA— суммарное число заказов до выбранной даты включительно в группе A;\n",
    "- revenueCummulativeA— суммарная выручка до выбранной даты включительно в группе A;\n",
    "- ordersCummulativeB— суммарное количество заказов до выбранной даты включительно в группе B;\n",
    "- revenueCummulativeB— суммарная выручка до выбранной даты включительно в группе B;\n",
    "- visitorsPerDateA— количество пользователей в выбранную дату в группе A;\n",
    "- visitorsPerDateB— количество пользователей в выбранную дату в группе B;\n",
    "- visitorsCummulativeA— количество пользователей до выбранной даты включительно в группе A;\n",
    "- visitorsCummulativeB— количество пользователей до выбранной даты включительно в группе B.\n",
    "\n",
    "Посчитаем статистическую значимость различия в среднем количестве заказов между группами.\n",
    "Создадим переменные ordersByUsersAи ordersByUsersBсо столбцами ['userId', 'orders']. В них для пользователей, которые заказывали хотя бы 1 раз, укажем число совершённых заказов. \n"
   ]
  },
  {
   "cell_type": "code",
   "execution_count": 33,
   "metadata": {},
   "outputs": [],
   "source": [
    "ordersByUsersA = (\n",
    "    orders[orders['group'] == 'A']\n",
    "    .groupby('visitorId', as_index=False)\n",
    "    .agg({'transactionId': pd.Series.nunique})\n",
    ")\n",
    "ordersByUsersA.columns = ['userId', 'orders']\n",
    "\n",
    "ordersByUsersB = (\n",
    "    orders[orders['group'] == 'B']\n",
    "    .groupby('transactionId', as_index=False)\n",
    "    .agg({'visitorId': pd.Series.nunique})\n",
    ")\n",
    "ordersByUsersB.columns = ['userId', 'orders']\n"
   ]
  },
  {
   "cell_type": "markdown",
   "metadata": {},
   "source": [
    "Объявим переменные sampleAи sampleB, в которых пользователям из разных групп будет соответствовать количество заказов. Тем, кто ничего не заказал, будут соответствовать нули. Это нужно, чтобы подготовить выборки к проверке критерием Манна-Уитни.\n",
    "Переменная sampleAдолжна состоять из двух частей:\n",
    "\t1. Список с количеством заказов для каждого из пользователей: ordersByUsersA['orders'].\n",
    "\t2. Нули для пользователей, которые ничего не заказывали. Их количество равно разнице между суммой посетителей и количеством записей о заказах: data['visitorsPerDateA'].sum() - len(ordersByUsersA['orders']). Создадим объект pd.Seriesнужной длины:\n"
   ]
  },
  {
   "cell_type": "code",
   "execution_count": 34,
   "metadata": {},
   "outputs": [
    {
     "data": {
      "text/plain": [
       "0        0\n",
       "1        0\n",
       "2        0\n",
       "3        0\n",
       "4        0\n",
       "        ..\n",
       "18228    0\n",
       "18229    0\n",
       "18230    0\n",
       "18231    0\n",
       "18232    0\n",
       "Name: orders, Length: 18233, dtype: int64"
      ]
     },
     "execution_count": 34,
     "metadata": {},
     "output_type": "execute_result"
    }
   ],
   "source": [
    "pd.Series(0, index=np.arange(data['visitorsPerDateA'].sum() - len(ordersByUsersA['orders'])), name='orders')\n"
   ]
  },
  {
   "cell_type": "code",
   "execution_count": 35,
   "metadata": {},
   "outputs": [
    {
     "data": {
      "text/plain": [
       "[0      1\n",
       " 1      1\n",
       " 2      1\n",
       " 3      1\n",
       " 4      1\n",
       "       ..\n",
       " 498    1\n",
       " 499    7\n",
       " 500    1\n",
       " 501    1\n",
       " 502    1\n",
       " Name: orders, Length: 503, dtype: int64,\n",
       " 0        0\n",
       " 1        0\n",
       " 2        0\n",
       " 3        0\n",
       " 4        0\n",
       "         ..\n",
       " 18228    0\n",
       " 18229    0\n",
       " 18230    0\n",
       " 18231    0\n",
       " 18232    0\n",
       " Name: orders, Length: 18233, dtype: int64]"
      ]
     },
     "execution_count": 35,
     "metadata": {},
     "output_type": "execute_result"
    }
   ],
   "source": [
    "[ordersByUsersA['orders'],pd.Series(0, index=np.arange(data['visitorsPerDateA'].sum() - len(ordersByUsersA['orders'])), name='orders')]\n"
   ]
  },
  {
   "cell_type": "markdown",
   "metadata": {},
   "source": [
    "Дальше передадим аргумент, сообщающий, что объекты Series нужно объединить по строкам (то есть записать подряд): pd.concat([...], axis=0). То же делаем для sampleBи получаем:\n"
   ]
  },
  {
   "cell_type": "code",
   "execution_count": 36,
   "metadata": {},
   "outputs": [],
   "source": [
    "sampleA = pd.concat([ordersByUsersA['orders'],pd.Series(0, index=np.arange(data['visitorsPerDateA'].sum() - len(ordersByUsersA['orders'])), name='orders')],axis=0)\n",
    "\n",
    "sampleB = pd.concat([ordersByUsersB['orders'],pd.Series(0, index=np.arange(data['visitorsPerDateB'].sum() - len(ordersByUsersB['orders'])), name='orders')],axis=0)\n"
   ]
  },
  {
   "cell_type": "markdown",
   "metadata": {},
   "source": [
    "Применим критерий и отформатируем p-value, округлив его до трёх знаков после запятой.\n",
    "Напомним, что в sampleA сохранили выборку, где каждый элемент — число заказов определённого пользователя, в том числе ноль. Значит, число элементов sampleA— это количество пользователей, сумма всех элементов — количество заказов. Чтобы получить среднее число заказов на пользователя, поделим сумму заказов на число пользователей — найдём среднее в выборке sampleA методом mean(). Аналогично найдём среднее группы B: SampleB.mean().\n",
    "Выведем относительный прирост среднего числа заказов группы B: среднее число заказов группы B / среднее число заказов группы A - 1. Округлим до трёх знаков после запятой.\n"
   ]
  },
  {
   "cell_type": "markdown",
   "metadata": {},
   "source": [
    "<div class=\"alert alert-block alert-danger\">\n",
    "    \n",
    "**Комментарий ревьювера (недочет, который нужно доработать)**\n",
    "    \n",
    "Сформулируй гипотезы перед всеми проверками.\n",
    "\n",
    "</div>"
   ]
  },
  {
   "cell_type": "markdown",
   "metadata": {},
   "source": [
    "<div class=\"alert alert-block alert-info\">Сформулируем гипотезы. 0я гипотеза - среднее число заказов на 1 пользователя в группах A и B совпадает. Альтернативная гипотеза - отличаются. Также оценим относительный прирост среднего числа заказов в группе B по отношению к A. Так как мы видели ранее, в выборке есть выбросы. Поэтому для оценки гипотез используем непараметрический тест Уилконсона-Манна-Уитни. </div>"
   ]
  },
  {
   "cell_type": "markdown",
   "metadata": {},
   "source": [
    "<div class=\"alert alert-block alert-success\">\n",
    "\n",
    "**Комментарий ревьювера v2 (все отлично)**\n",
    "    \n",
    "Гипотезы верно сформулированы👍\n",
    "</div>"
   ]
  },
  {
   "cell_type": "code",
   "execution_count": 37,
   "metadata": {},
   "outputs": [
    {
     "name": "stdout",
     "output_type": "stream",
     "text": [
      "p-value:\n",
      "0.017\n",
      "Относительный прирост числа заказов в В по отношению к А:\n",
      "0.138\n"
     ]
    }
   ],
   "source": [
    "\n",
    "\n",
    "ordersByUsersA = (\n",
    "    orders[orders['group'] == 'A']\n",
    "    .groupby('visitorId', as_index=False)\n",
    "    .agg({'transactionId': pd.Series.nunique})\n",
    ")\n",
    "ordersByUsersA.columns = ['userId', 'orders']\n",
    "\n",
    "ordersByUsersB = (\n",
    "    orders[orders['group'] == 'B']\n",
    "    .groupby('visitorId', as_index=False)\n",
    "    .agg({'transactionId': pd.Series.nunique})\n",
    ")\n",
    "ordersByUsersB.columns = ['userId', 'orders']\n",
    "\n",
    "sampleA = pd.concat(\n",
    "    [\n",
    "        ordersByUsersA['orders'],\n",
    "        pd.Series(\n",
    "            0,\n",
    "            index=np.arange(\n",
    "                data['visitorsPerDateA'].sum() - len(ordersByUsersA['orders'])\n",
    "            ),\n",
    "            name='orders',\n",
    "        ),\n",
    "    ],\n",
    "    axis=0,\n",
    ")\n",
    "\n",
    "sampleB = pd.concat(\n",
    "    [\n",
    "        ordersByUsersB['orders'],\n",
    "        pd.Series(\n",
    "            0,\n",
    "            index=np.arange(\n",
    "                data['visitorsPerDateB'].sum() - len(ordersByUsersB['orders'])\n",
    "            ),\n",
    "            name='orders',\n",
    "        ),\n",
    "    ],\n",
    "    axis=0,\n",
    ")\n",
    "print('p-value:')\n",
    "print(\"{0:.3f}\".format(stats.mannwhitneyu(sampleA, sampleB)[1]))\n",
    "print('Относительный прирост числа заказов в В по отношению к А:')\n",
    "print(\"{0:.3f}\".format(sampleB.mean() / sampleA.mean() - 1))\n"
   ]
  },
  {
   "cell_type": "markdown",
   "metadata": {},
   "source": [
    "<div class=\"alert alert-block alert-warning\">\n",
    "\n",
    "**Комментарий ревьювера (что можно улучшить)**\n",
    "    \n",
    "Стоит обозначать, что именно рассчитано – где p-value, а где относительный прирост.\n",
    "</div>"
   ]
  },
  {
   "cell_type": "markdown",
   "metadata": {},
   "source": [
    "Вывод: По «сырым» данным различия в среднем числе заказов групп A и B есть. \n",
    "Первое число — p-value = 0.017 меньше 0.05. Значит, нулевую гипотезу о том, что статистически значимых различий в среднем числе заказов между группами нет, отвергаем. При этом относительный выигрыш группы B равен 13.8% — второе число в выводе. Это превышение мы получили и наблюдали и ранее.\n"
   ]
  },
  {
   "cell_type": "markdown",
   "metadata": {},
   "source": [
    "<div class=\"alert alert-block alert-success\">\n",
    "\n",
    "**Комментарий ревьювера (все отлично)**\n",
    "    \n",
    "Согласен. Группа B лучше по результатам.\n",
    "</div>"
   ]
  },
  {
   "cell_type": "markdown",
   "metadata": {},
   "source": [
    "### Посчитайте статистическую значимость различий в среднем чеке заказа между группами по «сырым» данным. Сделайте выводы и предположения.\n"
   ]
  },
  {
   "cell_type": "markdown",
   "metadata": {},
   "source": [
    "Теперь проверим статистическую значимость различий в среднем чеке между сегментами. Нулевая гипотеза: различий в среднем чеке между группами нет. Альтернативная гипотеза: различия в среднем чеке между группами есть. "
   ]
  },
  {
   "cell_type": "markdown",
   "metadata": {},
   "source": [
    "\n",
    "Чтобы рассчитать статистическую значимость различий в среднем чеке, передадим критерию mannwhitneyu()данные о выручке с заказов. \n",
    "А ещё найдём относительные различия в среднем чеке между группами:\n",
    "\n"
   ]
  },
  {
   "cell_type": "code",
   "execution_count": 38,
   "metadata": {},
   "outputs": [
    {
     "name": "stdout",
     "output_type": "stream",
     "text": [
      "p-value:\n",
      "0.729\n",
      "Превышение среднего чека в В по отношению к А:\n",
      "0.259\n"
     ]
    }
   ],
   "source": [
    "print('p-value:')\n",
    "print('{0:.3f}'.format(stats.mannwhitneyu(orders[orders['group']=='A']['revenue'], orders[orders['group']=='B']['revenue'])[1]))\n",
    "print('Превышение среднего чека в В по отношению к А:')\n",
    "print('{0:.3f}'.format(orders[orders['group']=='B']['revenue'].mean()/orders[orders['group']=='A']['revenue'].mean()-1))\n"
   ]
  },
  {
   "cell_type": "markdown",
   "metadata": {},
   "source": [
    "P-value значительно больше 0.05. Значит, причин отвергать нулевую гипотезу и считать, что в среднем чеке есть различия, нет. При этом видим превышение среднего чего в группе В на 26%. Но мы помним, что это превышение сформировалось благодаря 2м выбросам в группе B."
   ]
  },
  {
   "cell_type": "markdown",
   "metadata": {},
   "source": [
    "<div class=\"alert alert-block alert-success\">\n",
    "\n",
    "**Комментарий ревьювера (все отлично)**\n",
    "    \n",
    "Ты верно сделал вывод, что статистически значимых различий в среднем чеке нет.\n",
    "</div>"
   ]
  },
  {
   "cell_type": "markdown",
   "metadata": {},
   "source": [
    "### \tПосчитайте статистическую значимость различий в среднем количестве заказов на посетителя между группами по «очищенным» данным. Сделайте выводы и предположения.\n"
   ]
  },
  {
   "cell_type": "markdown",
   "metadata": {},
   "source": [
    "\n",
    "Напомним, что найденные ранее 95-й и 99-й перцентили средних чеков равны 28000 и 58233 рублям. А 95-й и 99-й перцентили количества заказов на одного пользователя равны 2 и 4 заказа на пользователя.\n",
    "Примем за аномальных пользователей тех, кто совершил от 3 заказов или совершил заказ дороже 30 000 рублей. Так мы уберём 5% пользователей с наибольшим числом заказов и от 1% до 5% пользователей с дорогими заказами. Сделаем срезы пользователей с числом заказов больше 2 — usersWithManyOrdersи пользователей, совершивших заказы дороже 30 000 — usersWithExpensiveOrders. Объединим их в таблице abnormalUsers. \n",
    "Узнаем, сколько всего аномальных пользователей атрибутом shape.\n"
   ]
  },
  {
   "cell_type": "code",
   "execution_count": 39,
   "metadata": {},
   "outputs": [
    {
     "name": "stdout",
     "output_type": "stream",
     "text": [
      "1099    148427295\n",
      "18      199603092\n",
      "928     204675465\n",
      "23      237748145\n",
      "37      249864742\n",
      "dtype: int64\n",
      "68\n"
     ]
    }
   ],
   "source": [
    "usersWithManyOrders = pd.concat(\n",
    "    [\n",
    "        ordersByUsersA[ordersByUsersA['orders'] > 2]['userId'],\n",
    "        ordersByUsersB[ordersByUsersB['orders'] > 2]['userId'],\n",
    "    ],\n",
    "    axis=0,\n",
    ")\n",
    "usersWithExpensiveOrders = orders[orders['revenue'] > 30000]['visitorId']\n",
    "abnormalUsers = (\n",
    "    pd.concat([usersWithManyOrders, usersWithExpensiveOrders], axis=0)\n",
    "    .drop_duplicates()\n",
    "    .sort_values()\n",
    ")\n",
    "print(abnormalUsers.head(5))\n",
    "print(abnormalUsers.shape[0])\n"
   ]
  },
  {
   "cell_type": "markdown",
   "metadata": {},
   "source": [
    "<div class=\"alert alert-block alert-warning\">\n",
    "\n",
    "**Комментарий ревьювера (что можно улучшить)**\n",
    "    \n",
    "Стоит исключить ручной ввод данных, такой код неустойчив к изменениям исходных данных. Вместо этого лучше использовать перцентили:\n",
    "    \n",
    "    int(np.percentile(orders['revenue'], [95])) \n",
    "</div>"
   ]
  },
  {
   "cell_type": "markdown",
   "metadata": {},
   "source": [
    "<div class=\"alert alert-block alert-info\"> В нащем случае 95 процентиль равен 2 заказам и 28000. Мы решили в качестве границы для аномальных данных взять от 3 заказов и выше и от 30000. Поэтому мы использовали ручной ввод. </div>"
   ]
  },
  {
   "cell_type": "markdown",
   "metadata": {},
   "source": [
    "<div class=\"alert alert-block alert-success\">\n",
    "\n",
    "**Комментарий ревьювера (все отлично)**\n",
    "    \n",
    "Здорово, что посчитал аномальных пользователей. Это важно для оценки и контроля данных после фильтрации.\n",
    "    \n",
    "</div>"
   ]
  },
  {
   "cell_type": "markdown",
   "metadata": {},
   "source": [
    "Всего 68 аномальных пользователей. \n",
    "Узнаем, как их действия повлияли на результаты теста. Посчитаем статистическую значимость различий в среднем количестве заказов между группами теста по \"очищенным\" данным. Сначала подготовим выборки количества заказов по пользователям по группам теста:\n"
   ]
  },
  {
   "cell_type": "code",
   "execution_count": 40,
   "metadata": {},
   "outputs": [
    {
     "name": "stdout",
     "output_type": "stream",
     "text": [
      "<class 'pandas.core.frame.DataFrame'>\n",
      "Int64Index: 503 entries, 0 to 502\n",
      "Data columns (total 2 columns):\n",
      " #   Column  Non-Null Count  Dtype\n",
      "---  ------  --------------  -----\n",
      " 0   userId  503 non-null    int64\n",
      " 1   orders  503 non-null    int64\n",
      "dtypes: int64(2)\n",
      "memory usage: 11.8 KB\n"
     ]
    }
   ],
   "source": [
    "ordersByUsersA.info()"
   ]
  },
  {
   "cell_type": "code",
   "execution_count": 41,
   "metadata": {},
   "outputs": [],
   "source": [
    "sampleAFiltered = pd.concat(\n",
    "    [\n",
    "        ordersByUsersA[\n",
    "            np.logical_not(ordersByUsersA['userId'].isin(abnormalUsers))\n",
    "        ]['orders'],\n",
    "        pd.Series(\n",
    "            0,\n",
    "            index=np.arange(\n",
    "                data['visitorsPerDateA'].sum() - len(ordersByUsersA['orders'])\n",
    "            ),\n",
    "            name='orders',\n",
    "        ),\n",
    "    ],\n",
    "    axis=0,\n",
    ")\n",
    "\n",
    "sampleBFiltered = pd.concat(\n",
    "    [\n",
    "        ordersByUsersB[\n",
    "            np.logical_not(ordersByUsersB['userId'].isin(abnormalUsers))\n",
    "        ]['orders'],\n",
    "        pd.Series(\n",
    "            0,\n",
    "            index=np.arange(\n",
    "                data['visitorsPerDateB'].sum() - len(ordersByUsersB['orders'])\n",
    "            ),\n",
    "            name='orders',\n",
    "        ),\n",
    "    ],\n",
    "    axis=0,\n",
    ")\n"
   ]
  },
  {
   "cell_type": "markdown",
   "metadata": {},
   "source": [
    "<div class=\"alert alert-block alert-info\">Применим статистический критерий Манна-Уитни к полученным выборкам. Напомним наши гипотезы. 0я гипотеза - среднее число заказов на 1 пользователя в группах A и B совпадает. Альтернативная гипотеза - отличаются. Также оценим относителььный прирост среднего числа заказов в группе B по отношению к A. </div>\n"
   ]
  },
  {
   "cell_type": "code",
   "execution_count": 42,
   "metadata": {},
   "outputs": [
    {
     "name": "stdout",
     "output_type": "stream",
     "text": [
      "p-value:\n",
      "0.013\n",
      "Относительный прирост числа заказов в В по отношению к А:\n",
      "0.172\n"
     ]
    }
   ],
   "source": [
    "print('p-value:')\n",
    "print('{0:.3f}'.format(stats.mannwhitneyu(sampleAFiltered, sampleBFiltered)[1]))\n",
    "print('Относительный прирост числа заказов в В по отношению к А:')\n",
    "print('{0:.3f}'.format(sampleBFiltered.mean()/sampleAFiltered.mean()-1))\n"
   ]
  },
  {
   "cell_type": "markdown",
   "metadata": {},
   "source": [
    "Результаты по среднему количеству заказов практически не изменились. По прежнему отвергаем нулевую гипотезу о равенстве среднего количества заказов в группах. Причем различие в среднем числе заказов еще больше усугубилось (с 13.8 до 17.3%)\n"
   ]
  },
  {
   "cell_type": "markdown",
   "metadata": {},
   "source": [
    "<div class=\"alert alert-block alert-success\">\n",
    "\n",
    "**Комментарий ревьювера (все отлично)**\n",
    "    \n",
    "Всё верно, значимые различия по-прежнему есть.\n",
    "    \n",
    "</div>"
   ]
  },
  {
   "cell_type": "markdown",
   "metadata": {},
   "source": [
    "### Посчитайте статистическую значимость различий в среднем чеке заказа между группами по «очищенным» данным. Сделайте выводы и предположения.\n"
   ]
  },
  {
   "cell_type": "markdown",
   "metadata": {},
   "source": [
    "<div class=\"alert alert-block alert-info\">Теперь проверим статистическую значимость различий в среднем чеке между сегментами по очищенным данным. Нулевая гипотеза: различий в среднем чеке между группами нет. Альтернативная гипотеза: различия в среднем чеке между группами есть.</div>"
   ]
  },
  {
   "cell_type": "code",
   "execution_count": 43,
   "metadata": {},
   "outputs": [
    {
     "name": "stdout",
     "output_type": "stream",
     "text": [
      "p-value:\n",
      "0.720\n",
      "Превышение среднего чека в В по отношению к А:\n",
      "-0.023\n"
     ]
    }
   ],
   "source": [
    "print('p-value:')\n",
    "print(\n",
    "    '{0:.3f}'.format(\n",
    "        stats.mannwhitneyu(\n",
    "            orders[\n",
    "                np.logical_and(\n",
    "                    orders['group'] == 'A',\n",
    "                    np.logical_not(orders['visitorId'].isin(abnormalUsers)),\n",
    "                )\n",
    "            ]['revenue'],\n",
    "            orders[\n",
    "                np.logical_and(\n",
    "                    orders['group'] == 'B',\n",
    "                    np.logical_not(orders['visitorId'].isin(abnormalUsers)),\n",
    "                )\n",
    "            ]['revenue'],\n",
    "        )[1]\n",
    "    )\n",
    ")\n",
    "print('Превышение среднего чека в В по отношению к А:')\n",
    "print(\n",
    "    \"{0:.3f}\".format(\n",
    "        orders[\n",
    "            np.logical_and(\n",
    "                orders['group'] == 'B',\n",
    "                np.logical_not(orders['visitorId'].isin(abnormalUsers)),\n",
    "            )\n",
    "        ]['revenue'].mean()\n",
    "        / orders[\n",
    "            np.logical_and(\n",
    "                orders['group'] == 'A',\n",
    "                np.logical_not(orders['visitorId'].isin(abnormalUsers)),\n",
    "            )\n",
    "        ]['revenue'].mean()\n",
    "        - 1\n",
    "    )\n",
    ")\n"
   ]
  },
  {
   "cell_type": "markdown",
   "metadata": {},
   "source": [
    "P-value практически не изменился, но разница между сегментами сократилась с 26% до 0%!!!\n",
    "Таким образом средний чек в группах идентичен."
   ]
  },
  {
   "cell_type": "markdown",
   "metadata": {},
   "source": [
    "<div class=\"alert alert-block alert-success\">\n",
    "\n",
    "**Комментарий ревьювера (все отлично)**\n",
    "    \n",
    "Согласен с выводом. После очистки значимых отличий по среднему чеку не появилось.\n",
    "</div>"
   ]
  },
  {
   "cell_type": "markdown",
   "metadata": {},
   "source": [
    "### Примите решение по результатам теста и объясните его. Варианты решений: 1. Остановить тест, зафиксировать победу одной из групп. 2. Остановить тест, зафиксировать отсутствие различий между группами. 3. Продолжить тест.\n"
   ]
  },
  {
   "cell_type": "markdown",
   "metadata": {},
   "source": [
    "Имеющиеся факты:\n",
    "- Есть статистически значимое различие по среднему количеству заказов между группами и по «сырым», и по данным после фильтрации аномалий. В группе В среднее число заказов на 15% выше;\n",
    "- Нет статистически значимого различия по среднему чеку между группами ни по «сырым», ни по данным после фильтрации аномалий;\n",
    "- График различия среднего количества заказов между группами сообщает, что результаты группы B значительно выше группы A и в конце наблюдения наблюдается дальнейшее улучшение:\n",
    "\n",
    "\n",
    "\n",
    "Исходя из обнаруженных фактов, тест следует остановить и признать его успешным. Несмотря на совпадение среднего чека, мы наблюдаем значительное превышение среднего числа заказов на пользователя из группы B, что означает более высокий LTV.\n"
   ]
  },
  {
   "cell_type": "markdown",
   "metadata": {},
   "source": [
    "<div class=\"alert alert-block alert-danger\">\n",
    "    \n",
    "**Комментарий ревьювера (недочет, который нужно доработать)**\n",
    "    \n",
    "Требуется сформулировать общий вывод с отображением всех итогов проекта, в том числе по приоритезации гипотез. \n",
    "\n",
    "</div>\n",
    "\n"
   ]
  },
  {
   "cell_type": "markdown",
   "metadata": {},
   "source": [
    "Для приоритизации гипотез в 1й части проекта мы применяли 2 метода. ICE и RICE. В результате ICE получили следующие наиболее приоритеные гипотезы:\n",
    "\n",
    "* Запустить акцию, дающую скидку на товар в день рождения\t(16.2)\n",
    "* Добавить два новых канала привлечения трафика, что позволит привлекать на 30% больше пользователей\t(13.33)\n",
    "* Добавить форму подписки на все основные страницы, чтобы собрать базу клиентов для email-рассылок\t(11.20)\n",
    "Добавление параметра Reach изменило картину. Теперь список наиболее приоритеных гипотез выглядит так:\n",
    " * Добавить форму подписки на все основные страницы, чтобы собрать базу клиентов для email-рассылок\t112.0\n",
    " * Добавить блоки рекомендаций товаров на сайт интернет магазина, чтобы повысить конверсию и средний чек заказа\t56.0\n",
    " * Добавить два новых канала привлечения трафика, что позволит привлекать на 30% больше пользователей\t40.0\n",
    "Столь существенное изменение произошло благодаря добавлени. охвата (REACH). У нового лидера этот параметр 10. А у бывшего 2го, ныне 3го - REACH=3. \n"
   ]
  },
  {
   "cell_type": "markdown",
   "metadata": {},
   "source": [
    "<div class=\"alert alert-block alert-success\">\n",
    "\n",
    "**Комментарий ревьювера v2 (все отлично)**\n",
    "    \n",
    "Все результаты проекта отражены👍\n",
    "</div>"
   ]
  },
  {
   "cell_type": "markdown",
   "metadata": {},
   "source": [
    "<div class=\"alert alert-block alert-success\">\n",
    "\n",
    "**Комментарий ревьювера (все отлично)**\n",
    "    \n",
    "Согласен с решением. Тест прошел успешно! Среднее количество заказов увеличилось при отсутствии значимых изменений по среднему чеку -> выручка увеличилась, так как стали покупать чаще.\n",
    "</div>"
   ]
  },
  {
   "cell_type": "markdown",
   "metadata": {},
   "source": [
    "<div class=\"alert alert-block alert-warning\">\n",
    "\n",
    "**Комментарий ревьювера (общий вывод)**\n",
    "    \n",
    "Сергей, мне понравилась твоя работа! Выводы хорошо структурированы и достаточно содержательны, умеешь считать перцентили, собирать и визуализировать данные, качественно проводишь проверку гипотез. Спасибо за четкие комментарии по результатам исследования, аккуратный код и качественное оформление отчета! Это упростило проверку. Для принятия твоей работы нужно исправить критические недочёты: \n",
    "\n",
    "* доработать этап изучения информации о данных;    \n",
    "* оформить графики;\n",
    "* сформулировать гипотезы перед проверками;\n",
    "* дополнить общий вывод.\n",
    "    \n",
    "В дополнении прикрепляю полезный материал по теме A/B-тестирования: \n",
    "\n",
    "* https://your-scorpion.ru/ab-tests-check-mathematics/\n",
    "    \n",
    "Жду твою работу!\n",
    "  \n",
    "</div>"
   ]
  },
  {
   "cell_type": "markdown",
   "metadata": {},
   "source": [
    "<div class=\"alert alert-block alert-info\"> Надеюсь, что исправил все замечения. Почему-то при добавлении цвета в последнем абзаце с выводами по 1й части слетает маркированный список. Убираю цвет - работает. Не смог подружить :) </div>"
   ]
  },
  {
   "cell_type": "markdown",
   "metadata": {},
   "source": [
    "<div class=\"alert alert-block alert-success\">\n",
    "\n",
    "**Комментарий ревьювера v2**\n",
    "    \n",
    "Странно, должно работать (см. пример ниже), если я тебя правильно понял.\n",
    "</div>"
   ]
  },
  {
   "cell_type": "markdown",
   "metadata": {},
   "source": [
    "Имеющиеся факты:\n",
    "- Есть статистически значимое различие по среднему количеству заказов между группами и по «сырым», и по данным после фильтрации аномалий. В группе В среднее число заказов на 15% выше;\n",
    "- Нет статистически значимого различия по среднему чеку между группами ни по «сырым», ни по данным после фильтрации аномалий;\n",
    "- График различия среднего количества заказов между группами сообщает, что результаты группы B значительно выше группы A и в конце наблюдения наблюдается дальнейшее улучшение:\n",
    "\n",
    "\n",
    "\n",
    "<span style=\"color:green\">Исходя из обнаруженных фактов, тест следует остановить и признать его успешным. Несмотря на совпадение среднего чека, мы наблюдаем значительное превышение среднего числа заказов на пользователя из группы B, что означает более высокий LTV.</span>\n"
   ]
  },
  {
   "cell_type": "code",
   "execution_count": null,
   "metadata": {},
   "outputs": [],
   "source": []
  }
 ],
 "metadata": {
  "ExecuteTimeLog": [
   {
    "duration": 70,
    "start_time": "2024-03-22T19:07:29.119Z"
   },
   {
    "duration": 76,
    "start_time": "2024-03-22T19:07:48.665Z"
   },
   {
    "duration": 1620,
    "start_time": "2024-03-22T19:08:19.246Z"
   },
   {
    "duration": 33,
    "start_time": "2024-03-22T19:09:13.326Z"
   },
   {
    "duration": 13,
    "start_time": "2024-03-22T19:10:06.460Z"
   },
   {
    "duration": 1082,
    "start_time": "2024-03-22T19:11:46.090Z"
   },
   {
    "duration": 9,
    "start_time": "2024-03-22T19:12:29.593Z"
   },
   {
    "duration": 8,
    "start_time": "2024-03-22T19:13:35.149Z"
   },
   {
    "duration": 10,
    "start_time": "2024-03-22T19:18:10.022Z"
   },
   {
    "duration": 142,
    "start_time": "2024-03-22T20:19:27.438Z"
   },
   {
    "duration": 5,
    "start_time": "2024-03-22T20:19:55.967Z"
   },
   {
    "duration": 434,
    "start_time": "2024-03-22T20:21:25.151Z"
   },
   {
    "duration": 13,
    "start_time": "2024-03-22T20:21:25.587Z"
   },
   {
    "duration": 8,
    "start_time": "2024-03-22T20:21:25.601Z"
   },
   {
    "duration": 8,
    "start_time": "2024-03-22T20:21:25.611Z"
   },
   {
    "duration": 69,
    "start_time": "2024-03-22T20:21:25.620Z"
   },
   {
    "duration": 0,
    "start_time": "2024-03-22T20:21:25.691Z"
   },
   {
    "duration": 0,
    "start_time": "2024-03-22T20:21:25.692Z"
   },
   {
    "duration": 0,
    "start_time": "2024-03-22T20:21:25.693Z"
   },
   {
    "duration": 0,
    "start_time": "2024-03-22T20:21:25.694Z"
   },
   {
    "duration": 0,
    "start_time": "2024-03-22T20:21:25.695Z"
   },
   {
    "duration": 0,
    "start_time": "2024-03-22T20:21:25.697Z"
   },
   {
    "duration": 401,
    "start_time": "2024-03-22T20:22:01.692Z"
   },
   {
    "duration": 13,
    "start_time": "2024-03-22T20:22:02.095Z"
   },
   {
    "duration": 38,
    "start_time": "2024-03-22T20:22:02.109Z"
   },
   {
    "duration": 25,
    "start_time": "2024-03-22T20:22:02.148Z"
   },
   {
    "duration": 80,
    "start_time": "2024-03-22T20:22:02.174Z"
   },
   {
    "duration": 5,
    "start_time": "2024-03-22T20:22:02.255Z"
   },
   {
    "duration": 146,
    "start_time": "2024-03-22T20:22:02.261Z"
   },
   {
    "duration": 93,
    "start_time": "2024-03-22T20:22:02.408Z"
   },
   {
    "duration": 238,
    "start_time": "2024-03-22T20:22:02.502Z"
   },
   {
    "duration": 626,
    "start_time": "2024-03-22T20:22:02.743Z"
   },
   {
    "duration": 437,
    "start_time": "2024-03-22T20:25:43.357Z"
   },
   {
    "duration": 14,
    "start_time": "2024-03-22T20:25:43.796Z"
   },
   {
    "duration": 8,
    "start_time": "2024-03-22T20:25:43.812Z"
   },
   {
    "duration": 8,
    "start_time": "2024-03-22T20:25:43.821Z"
   },
   {
    "duration": 518,
    "start_time": "2024-03-22T20:25:43.830Z"
   },
   {
    "duration": 0,
    "start_time": "2024-03-22T20:25:44.350Z"
   },
   {
    "duration": 0,
    "start_time": "2024-03-22T20:25:44.352Z"
   },
   {
    "duration": 0,
    "start_time": "2024-03-22T20:25:44.353Z"
   },
   {
    "duration": 0,
    "start_time": "2024-03-22T20:25:44.354Z"
   },
   {
    "duration": 0,
    "start_time": "2024-03-22T20:25:44.356Z"
   },
   {
    "duration": 412,
    "start_time": "2024-03-22T20:27:33.176Z"
   },
   {
    "duration": 14,
    "start_time": "2024-03-22T20:27:33.590Z"
   },
   {
    "duration": 7,
    "start_time": "2024-03-22T20:27:33.605Z"
   },
   {
    "duration": 7,
    "start_time": "2024-03-22T20:27:33.614Z"
   },
   {
    "duration": 381,
    "start_time": "2024-03-22T20:27:33.623Z"
   },
   {
    "duration": 0,
    "start_time": "2024-03-22T20:27:34.006Z"
   },
   {
    "duration": 0,
    "start_time": "2024-03-22T20:27:34.007Z"
   },
   {
    "duration": 0,
    "start_time": "2024-03-22T20:27:34.008Z"
   },
   {
    "duration": 0,
    "start_time": "2024-03-22T20:27:34.009Z"
   },
   {
    "duration": 0,
    "start_time": "2024-03-22T20:27:34.010Z"
   },
   {
    "duration": 418,
    "start_time": "2024-03-22T20:28:18.778Z"
   },
   {
    "duration": 15,
    "start_time": "2024-03-22T20:28:19.198Z"
   },
   {
    "duration": 21,
    "start_time": "2024-03-22T20:28:19.214Z"
   },
   {
    "duration": 12,
    "start_time": "2024-03-22T20:28:19.236Z"
   },
   {
    "duration": 85,
    "start_time": "2024-03-22T20:28:19.250Z"
   },
   {
    "duration": 6,
    "start_time": "2024-03-22T20:28:19.336Z"
   },
   {
    "duration": 88,
    "start_time": "2024-03-22T20:28:19.343Z"
   },
   {
    "duration": 0,
    "start_time": "2024-03-22T20:28:19.433Z"
   },
   {
    "duration": 0,
    "start_time": "2024-03-22T20:28:19.434Z"
   },
   {
    "duration": 0,
    "start_time": "2024-03-22T20:28:19.435Z"
   },
   {
    "duration": 414,
    "start_time": "2024-03-22T20:30:19.879Z"
   },
   {
    "duration": 14,
    "start_time": "2024-03-22T20:30:20.295Z"
   },
   {
    "duration": 9,
    "start_time": "2024-03-22T20:30:20.310Z"
   },
   {
    "duration": 7,
    "start_time": "2024-03-22T20:30:20.320Z"
   },
   {
    "duration": 69,
    "start_time": "2024-03-22T20:30:20.328Z"
   },
   {
    "duration": 5,
    "start_time": "2024-03-22T20:30:20.398Z"
   },
   {
    "duration": 156,
    "start_time": "2024-03-22T20:30:20.404Z"
   },
   {
    "duration": 137,
    "start_time": "2024-03-22T20:30:20.561Z"
   },
   {
    "duration": 95,
    "start_time": "2024-03-22T20:30:20.699Z"
   },
   {
    "duration": 0,
    "start_time": "2024-03-22T20:30:20.795Z"
   },
   {
    "duration": 443,
    "start_time": "2024-03-22T20:32:46.569Z"
   },
   {
    "duration": 14,
    "start_time": "2024-03-22T20:32:47.014Z"
   },
   {
    "duration": 8,
    "start_time": "2024-03-22T20:32:47.029Z"
   },
   {
    "duration": 8,
    "start_time": "2024-03-22T20:32:47.038Z"
   },
   {
    "duration": 76,
    "start_time": "2024-03-22T20:32:47.048Z"
   },
   {
    "duration": 5,
    "start_time": "2024-03-22T20:32:47.126Z"
   },
   {
    "duration": 169,
    "start_time": "2024-03-22T20:32:47.132Z"
   },
   {
    "duration": 111,
    "start_time": "2024-03-22T20:32:47.302Z"
   },
   {
    "duration": 261,
    "start_time": "2024-03-22T20:32:47.415Z"
   },
   {
    "duration": 457,
    "start_time": "2024-03-22T20:32:47.677Z"
   },
   {
    "duration": 171,
    "start_time": "2024-03-22T20:34:39.682Z"
   },
   {
    "duration": 303,
    "start_time": "2024-03-22T20:35:51.163Z"
   },
   {
    "duration": 65,
    "start_time": "2024-03-22T20:38:17.802Z"
   },
   {
    "duration": 302,
    "start_time": "2024-03-22T20:38:26.540Z"
   },
   {
    "duration": 222,
    "start_time": "2024-03-22T20:45:25.708Z"
   },
   {
    "duration": 192,
    "start_time": "2024-03-22T20:45:54.237Z"
   },
   {
    "duration": 319,
    "start_time": "2024-03-22T20:55:44.732Z"
   },
   {
    "duration": 315,
    "start_time": "2024-03-22T20:56:01.438Z"
   },
   {
    "duration": 185,
    "start_time": "2024-03-22T20:57:53.511Z"
   },
   {
    "duration": 196,
    "start_time": "2024-03-22T20:58:10.701Z"
   },
   {
    "duration": 191,
    "start_time": "2024-03-22T20:59:20.274Z"
   },
   {
    "duration": 320,
    "start_time": "2024-03-22T21:05:30.893Z"
   },
   {
    "duration": 291,
    "start_time": "2024-03-22T21:06:03.128Z"
   },
   {
    "duration": 331,
    "start_time": "2024-03-22T21:07:55.584Z"
   },
   {
    "duration": 403,
    "start_time": "2024-03-22T21:08:25.575Z"
   },
   {
    "duration": 315,
    "start_time": "2024-03-22T21:09:31.692Z"
   },
   {
    "duration": 324,
    "start_time": "2024-03-22T21:11:05.247Z"
   },
   {
    "duration": 201,
    "start_time": "2024-03-22T21:11:36.399Z"
   },
   {
    "duration": 286,
    "start_time": "2024-03-22T21:12:09.812Z"
   },
   {
    "duration": 8,
    "start_time": "2024-03-22T21:15:27.036Z"
   },
   {
    "duration": 8,
    "start_time": "2024-03-22T21:16:07.311Z"
   },
   {
    "duration": 80,
    "start_time": "2024-03-22T21:19:39.680Z"
   },
   {
    "duration": 126,
    "start_time": "2024-03-22T21:19:50.099Z"
   },
   {
    "duration": 1155,
    "start_time": "2024-03-22T21:20:53.763Z"
   },
   {
    "duration": 1117,
    "start_time": "2024-03-22T21:21:07.668Z"
   },
   {
    "duration": 123,
    "start_time": "2024-03-22T21:21:34.655Z"
   },
   {
    "duration": 11,
    "start_time": "2024-03-22T21:22:45.463Z"
   },
   {
    "duration": 11,
    "start_time": "2024-03-22T21:23:49.915Z"
   },
   {
    "duration": 102,
    "start_time": "2024-03-22T21:24:47.043Z"
   },
   {
    "duration": 101,
    "start_time": "2024-03-22T21:24:51.453Z"
   },
   {
    "duration": 548,
    "start_time": "2024-03-24T18:47:28.241Z"
   },
   {
    "duration": 14,
    "start_time": "2024-03-24T18:47:28.791Z"
   },
   {
    "duration": 14,
    "start_time": "2024-03-24T18:47:28.806Z"
   },
   {
    "duration": 13,
    "start_time": "2024-03-24T18:47:28.822Z"
   },
   {
    "duration": 177,
    "start_time": "2024-03-24T18:47:28.837Z"
   },
   {
    "duration": 5,
    "start_time": "2024-03-24T18:47:29.016Z"
   },
   {
    "duration": 168,
    "start_time": "2024-03-24T18:47:29.023Z"
   },
   {
    "duration": 141,
    "start_time": "2024-03-24T18:47:29.193Z"
   },
   {
    "duration": 96,
    "start_time": "2024-03-24T18:47:29.336Z"
   },
   {
    "duration": 0,
    "start_time": "2024-03-24T18:47:29.434Z"
   },
   {
    "duration": 0,
    "start_time": "2024-03-24T18:47:29.436Z"
   },
   {
    "duration": 0,
    "start_time": "2024-03-24T18:47:29.437Z"
   },
   {
    "duration": 0,
    "start_time": "2024-03-24T18:47:29.439Z"
   },
   {
    "duration": 0,
    "start_time": "2024-03-24T18:47:29.440Z"
   },
   {
    "duration": 0,
    "start_time": "2024-03-24T18:47:29.442Z"
   },
   {
    "duration": 0,
    "start_time": "2024-03-24T18:47:29.443Z"
   },
   {
    "duration": 0,
    "start_time": "2024-03-24T18:47:29.444Z"
   },
   {
    "duration": 0,
    "start_time": "2024-03-24T18:47:29.466Z"
   },
   {
    "duration": 0,
    "start_time": "2024-03-24T18:47:29.467Z"
   },
   {
    "duration": 457,
    "start_time": "2024-03-24T18:50:07.668Z"
   },
   {
    "duration": 13,
    "start_time": "2024-03-24T18:50:08.127Z"
   },
   {
    "duration": 16,
    "start_time": "2024-03-24T18:50:08.141Z"
   },
   {
    "duration": 23,
    "start_time": "2024-03-24T18:50:08.159Z"
   },
   {
    "duration": 80,
    "start_time": "2024-03-24T18:50:08.184Z"
   },
   {
    "duration": 9,
    "start_time": "2024-03-24T18:50:08.265Z"
   },
   {
    "duration": 175,
    "start_time": "2024-03-24T18:50:08.276Z"
   },
   {
    "duration": 143,
    "start_time": "2024-03-24T18:50:08.453Z"
   },
   {
    "duration": 305,
    "start_time": "2024-03-24T18:50:08.598Z"
   },
   {
    "duration": 653,
    "start_time": "2024-03-24T18:50:08.906Z"
   },
   {
    "duration": 203,
    "start_time": "2024-03-24T18:50:09.565Z"
   },
   {
    "duration": 346,
    "start_time": "2024-03-24T18:50:09.770Z"
   },
   {
    "duration": 274,
    "start_time": "2024-03-24T18:50:10.122Z"
   },
   {
    "duration": 330,
    "start_time": "2024-03-24T18:50:10.398Z"
   },
   {
    "duration": 140,
    "start_time": "2024-03-24T18:50:10.730Z"
   },
   {
    "duration": 141,
    "start_time": "2024-03-24T18:50:10.872Z"
   },
   {
    "duration": 9,
    "start_time": "2024-03-24T18:50:11.014Z"
   },
   {
    "duration": 115,
    "start_time": "2024-03-24T18:50:11.025Z"
   },
   {
    "duration": 128,
    "start_time": "2024-03-24T18:50:11.142Z"
   },
   {
    "duration": 3,
    "start_time": "2024-03-24T18:54:12.897Z"
   },
   {
    "duration": 129,
    "start_time": "2024-03-24T19:16:10.965Z"
   },
   {
    "duration": 67,
    "start_time": "2024-03-24T19:17:31.413Z"
   },
   {
    "duration": 9,
    "start_time": "2024-03-24T19:18:09.996Z"
   },
   {
    "duration": 7,
    "start_time": "2024-03-24T19:22:12.789Z"
   },
   {
    "duration": 118,
    "start_time": "2024-03-24T19:22:25.428Z"
   },
   {
    "duration": 128,
    "start_time": "2024-03-24T19:24:51.291Z"
   },
   {
    "duration": 13,
    "start_time": "2024-03-24T19:29:27.624Z"
   },
   {
    "duration": 134,
    "start_time": "2024-03-24T19:33:50.722Z"
   },
   {
    "duration": 133,
    "start_time": "2024-03-24T19:34:10.292Z"
   },
   {
    "duration": 212,
    "start_time": "2024-03-24T19:35:52.930Z"
   },
   {
    "duration": 4,
    "start_time": "2024-03-24T19:37:13.356Z"
   },
   {
    "duration": 104,
    "start_time": "2024-03-24T19:46:40.220Z"
   },
   {
    "duration": 111,
    "start_time": "2024-03-24T19:49:09.957Z"
   },
   {
    "duration": 111,
    "start_time": "2024-03-24T19:49:58.064Z"
   },
   {
    "duration": 218,
    "start_time": "2024-03-24T19:51:32.151Z"
   },
   {
    "duration": 12,
    "start_time": "2024-03-24T19:52:37.886Z"
   },
   {
    "duration": 130,
    "start_time": "2024-03-24T19:53:22.378Z"
   },
   {
    "duration": 6,
    "start_time": "2024-03-24T19:53:58.130Z"
   },
   {
    "duration": 6,
    "start_time": "2024-03-24T19:54:24.679Z"
   },
   {
    "duration": 5,
    "start_time": "2024-03-24T19:55:25.703Z"
   },
   {
    "duration": 15,
    "start_time": "2024-03-24T19:55:58.463Z"
   },
   {
    "duration": 141,
    "start_time": "2024-03-24T19:56:59.252Z"
   },
   {
    "duration": 444,
    "start_time": "2024-03-24T19:58:00.309Z"
   },
   {
    "duration": 15,
    "start_time": "2024-03-24T19:58:00.754Z"
   },
   {
    "duration": 50,
    "start_time": "2024-03-24T19:58:00.770Z"
   },
   {
    "duration": 49,
    "start_time": "2024-03-24T19:58:00.822Z"
   },
   {
    "duration": 109,
    "start_time": "2024-03-24T19:58:00.873Z"
   },
   {
    "duration": 6,
    "start_time": "2024-03-24T19:58:00.984Z"
   },
   {
    "duration": 255,
    "start_time": "2024-03-24T19:58:00.991Z"
   },
   {
    "duration": 122,
    "start_time": "2024-03-24T19:58:01.247Z"
   },
   {
    "duration": 265,
    "start_time": "2024-03-24T19:58:01.370Z"
   },
   {
    "duration": 475,
    "start_time": "2024-03-24T19:58:01.637Z"
   },
   {
    "duration": 175,
    "start_time": "2024-03-24T19:58:02.113Z"
   },
   {
    "duration": 286,
    "start_time": "2024-03-24T19:58:02.290Z"
   },
   {
    "duration": 273,
    "start_time": "2024-03-24T19:58:02.578Z"
   },
   {
    "duration": 370,
    "start_time": "2024-03-24T19:58:02.853Z"
   },
   {
    "duration": 141,
    "start_time": "2024-03-24T19:58:03.225Z"
   },
   {
    "duration": 135,
    "start_time": "2024-03-24T19:58:03.368Z"
   },
   {
    "duration": 10,
    "start_time": "2024-03-24T19:58:03.505Z"
   },
   {
    "duration": 119,
    "start_time": "2024-03-24T19:58:03.516Z"
   },
   {
    "duration": 118,
    "start_time": "2024-03-24T19:58:03.636Z"
   },
   {
    "duration": 10,
    "start_time": "2024-03-24T19:58:03.756Z"
   },
   {
    "duration": 57,
    "start_time": "2024-03-24T19:58:03.767Z"
   },
   {
    "duration": 0,
    "start_time": "2024-03-24T19:58:03.826Z"
   },
   {
    "duration": 0,
    "start_time": "2024-03-24T19:58:03.828Z"
   },
   {
    "duration": 1,
    "start_time": "2024-03-24T19:58:03.828Z"
   },
   {
    "duration": 0,
    "start_time": "2024-03-24T19:58:03.830Z"
   },
   {
    "duration": 0,
    "start_time": "2024-03-24T19:58:03.831Z"
   },
   {
    "duration": 0,
    "start_time": "2024-03-24T19:58:03.832Z"
   },
   {
    "duration": 0,
    "start_time": "2024-03-24T19:58:03.833Z"
   },
   {
    "duration": 0,
    "start_time": "2024-03-24T19:58:03.834Z"
   },
   {
    "duration": 0,
    "start_time": "2024-03-24T19:58:03.835Z"
   },
   {
    "duration": 0,
    "start_time": "2024-03-24T19:58:03.836Z"
   },
   {
    "duration": 0,
    "start_time": "2024-03-24T19:58:03.836Z"
   },
   {
    "duration": 435,
    "start_time": "2024-03-24T19:58:36.536Z"
   },
   {
    "duration": 13,
    "start_time": "2024-03-24T19:58:36.974Z"
   },
   {
    "duration": 8,
    "start_time": "2024-03-24T19:58:36.988Z"
   },
   {
    "duration": 7,
    "start_time": "2024-03-24T19:58:36.998Z"
   },
   {
    "duration": 67,
    "start_time": "2024-03-24T19:58:37.007Z"
   },
   {
    "duration": 6,
    "start_time": "2024-03-24T19:58:37.075Z"
   },
   {
    "duration": 159,
    "start_time": "2024-03-24T19:58:37.082Z"
   },
   {
    "duration": 108,
    "start_time": "2024-03-24T19:58:37.242Z"
   },
   {
    "duration": 263,
    "start_time": "2024-03-24T19:58:37.352Z"
   },
   {
    "duration": 472,
    "start_time": "2024-03-24T19:58:37.617Z"
   },
   {
    "duration": 177,
    "start_time": "2024-03-24T19:58:38.090Z"
   },
   {
    "duration": 286,
    "start_time": "2024-03-24T19:58:38.268Z"
   },
   {
    "duration": 273,
    "start_time": "2024-03-24T19:58:38.556Z"
   },
   {
    "duration": 352,
    "start_time": "2024-03-24T19:58:38.830Z"
   },
   {
    "duration": 133,
    "start_time": "2024-03-24T19:58:39.183Z"
   },
   {
    "duration": 134,
    "start_time": "2024-03-24T19:58:39.318Z"
   },
   {
    "duration": 18,
    "start_time": "2024-03-24T19:58:39.453Z"
   },
   {
    "duration": 130,
    "start_time": "2024-03-24T19:58:39.473Z"
   },
   {
    "duration": 113,
    "start_time": "2024-03-24T19:58:39.605Z"
   },
   {
    "duration": 4,
    "start_time": "2024-03-24T19:58:39.719Z"
   },
   {
    "duration": 149,
    "start_time": "2024-03-24T19:58:39.724Z"
   },
   {
    "duration": 9,
    "start_time": "2024-03-24T19:58:39.874Z"
   },
   {
    "duration": 134,
    "start_time": "2024-03-24T19:58:39.884Z"
   },
   {
    "duration": 138,
    "start_time": "2024-03-24T19:58:40.019Z"
   },
   {
    "duration": 8,
    "start_time": "2024-03-24T19:58:40.159Z"
   },
   {
    "duration": 207,
    "start_time": "2024-03-24T19:58:40.168Z"
   },
   {
    "duration": 135,
    "start_time": "2024-03-24T19:58:40.376Z"
   },
   {
    "duration": 5,
    "start_time": "2024-03-24T19:58:40.514Z"
   },
   {
    "duration": 23,
    "start_time": "2024-03-24T19:58:40.521Z"
   },
   {
    "duration": 21,
    "start_time": "2024-03-24T19:58:40.545Z"
   },
   {
    "duration": 212,
    "start_time": "2024-03-24T19:58:40.567Z"
   },
   {
    "duration": 2679,
    "start_time": "2024-03-24T20:00:40.872Z"
   },
   {
    "duration": 410,
    "start_time": "2024-03-24T20:00:55.804Z"
   },
   {
    "duration": 15,
    "start_time": "2024-03-24T20:00:56.217Z"
   },
   {
    "duration": 13,
    "start_time": "2024-03-24T20:00:56.233Z"
   },
   {
    "duration": 20,
    "start_time": "2024-03-24T20:00:56.248Z"
   },
   {
    "duration": 2367,
    "start_time": "2024-03-24T20:00:56.269Z"
   },
   {
    "duration": 7,
    "start_time": "2024-03-24T20:00:58.638Z"
   },
   {
    "duration": 158,
    "start_time": "2024-03-24T20:00:58.646Z"
   },
   {
    "duration": 121,
    "start_time": "2024-03-24T20:00:58.805Z"
   },
   {
    "duration": 287,
    "start_time": "2024-03-24T20:00:58.927Z"
   },
   {
    "duration": 488,
    "start_time": "2024-03-24T20:00:59.216Z"
   },
   {
    "duration": 173,
    "start_time": "2024-03-24T20:00:59.705Z"
   },
   {
    "duration": 325,
    "start_time": "2024-03-24T20:00:59.879Z"
   },
   {
    "duration": 267,
    "start_time": "2024-03-24T20:01:00.206Z"
   },
   {
    "duration": 333,
    "start_time": "2024-03-24T20:01:00.474Z"
   },
   {
    "duration": 139,
    "start_time": "2024-03-24T20:01:00.809Z"
   },
   {
    "duration": 142,
    "start_time": "2024-03-24T20:01:00.950Z"
   },
   {
    "duration": 10,
    "start_time": "2024-03-24T20:01:01.094Z"
   },
   {
    "duration": 141,
    "start_time": "2024-03-24T20:01:01.105Z"
   },
   {
    "duration": 118,
    "start_time": "2024-03-24T20:01:01.247Z"
   },
   {
    "duration": 5,
    "start_time": "2024-03-24T20:01:01.367Z"
   },
   {
    "duration": 156,
    "start_time": "2024-03-24T20:01:01.374Z"
   },
   {
    "duration": 9,
    "start_time": "2024-03-24T20:01:01.532Z"
   },
   {
    "duration": 203,
    "start_time": "2024-03-24T20:01:01.542Z"
   },
   {
    "duration": 139,
    "start_time": "2024-03-24T20:01:01.747Z"
   },
   {
    "duration": 4,
    "start_time": "2024-03-24T20:01:01.888Z"
   },
   {
    "duration": 262,
    "start_time": "2024-03-24T20:01:01.893Z"
   },
   {
    "duration": 142,
    "start_time": "2024-03-24T20:01:02.156Z"
   },
   {
    "duration": 7,
    "start_time": "2024-03-24T20:01:02.301Z"
   },
   {
    "duration": 38,
    "start_time": "2024-03-24T20:01:02.309Z"
   },
   {
    "duration": 17,
    "start_time": "2024-03-24T20:01:02.348Z"
   },
   {
    "duration": 203,
    "start_time": "2024-03-24T20:01:02.367Z"
   },
   {
    "duration": 59,
    "start_time": "2024-03-24T20:01:44.696Z"
   },
   {
    "duration": 2450,
    "start_time": "2024-03-24T20:01:55.329Z"
   },
   {
    "duration": 2486,
    "start_time": "2024-03-24T20:02:27.391Z"
   },
   {
    "duration": 2340,
    "start_time": "2024-03-24T20:02:49.566Z"
   },
   {
    "duration": 2432,
    "start_time": "2024-03-24T20:03:07.960Z"
   },
   {
    "duration": 606,
    "start_time": "2024-03-24T20:06:23.880Z"
   },
   {
    "duration": 10,
    "start_time": "2024-03-24T20:07:52.328Z"
   },
   {
    "duration": 1010,
    "start_time": "2024-03-24T20:10:22.741Z"
   },
   {
    "duration": 984,
    "start_time": "2024-03-24T20:10:56.594Z"
   },
   {
    "duration": 448,
    "start_time": "2024-03-24T20:36:50.746Z"
   },
   {
    "duration": 13,
    "start_time": "2024-03-24T20:36:51.196Z"
   },
   {
    "duration": 8,
    "start_time": "2024-03-24T20:36:51.210Z"
   },
   {
    "duration": 7,
    "start_time": "2024-03-24T20:36:51.220Z"
   },
   {
    "duration": 2361,
    "start_time": "2024-03-24T20:36:51.230Z"
   },
   {
    "duration": 5,
    "start_time": "2024-03-24T20:36:53.593Z"
   },
   {
    "duration": 155,
    "start_time": "2024-03-24T20:36:53.600Z"
   },
   {
    "duration": 109,
    "start_time": "2024-03-24T20:36:53.757Z"
   },
   {
    "duration": 263,
    "start_time": "2024-03-24T20:36:53.868Z"
   },
   {
    "duration": 463,
    "start_time": "2024-03-24T20:36:54.133Z"
   },
   {
    "duration": 200,
    "start_time": "2024-03-24T20:36:54.597Z"
   },
   {
    "duration": 339,
    "start_time": "2024-03-24T20:36:54.799Z"
   },
   {
    "duration": 253,
    "start_time": "2024-03-24T20:36:55.139Z"
   },
   {
    "duration": 298,
    "start_time": "2024-03-24T20:36:55.395Z"
   },
   {
    "duration": 131,
    "start_time": "2024-03-24T20:36:55.694Z"
   },
   {
    "duration": 162,
    "start_time": "2024-03-24T20:36:55.826Z"
   },
   {
    "duration": 9,
    "start_time": "2024-03-24T20:36:55.989Z"
   },
   {
    "duration": 121,
    "start_time": "2024-03-24T20:36:56.000Z"
   },
   {
    "duration": 136,
    "start_time": "2024-03-24T20:36:56.123Z"
   },
   {
    "duration": 8,
    "start_time": "2024-03-24T20:36:56.260Z"
   },
   {
    "duration": 160,
    "start_time": "2024-03-24T20:36:56.270Z"
   },
   {
    "duration": 12,
    "start_time": "2024-03-24T20:36:56.431Z"
   },
   {
    "duration": 141,
    "start_time": "2024-03-24T20:36:56.447Z"
   },
   {
    "duration": 153,
    "start_time": "2024-03-24T20:36:56.590Z"
   },
   {
    "duration": 4,
    "start_time": "2024-03-24T20:36:56.744Z"
   },
   {
    "duration": 225,
    "start_time": "2024-03-24T20:36:56.749Z"
   },
   {
    "duration": 159,
    "start_time": "2024-03-24T20:36:56.975Z"
   },
   {
    "duration": 6,
    "start_time": "2024-03-24T20:36:57.135Z"
   },
   {
    "duration": 7,
    "start_time": "2024-03-24T20:36:57.142Z"
   },
   {
    "duration": 18,
    "start_time": "2024-03-24T20:36:57.150Z"
   },
   {
    "duration": 598,
    "start_time": "2024-03-24T20:36:57.169Z"
   },
   {
    "duration": 10,
    "start_time": "2024-03-24T20:36:57.769Z"
   },
   {
    "duration": 56,
    "start_time": "2024-03-24T20:36:57.780Z"
   },
   {
    "duration": 0,
    "start_time": "2024-03-24T20:36:57.838Z"
   },
   {
    "duration": 1078,
    "start_time": "2024-03-24T20:37:15.945Z"
   },
   {
    "duration": 1144,
    "start_time": "2024-03-24T20:37:55.789Z"
   },
   {
    "duration": 960,
    "start_time": "2024-03-24T20:39:33.891Z"
   },
   {
    "duration": 8,
    "start_time": "2024-03-24T20:39:55.276Z"
   },
   {
    "duration": 8,
    "start_time": "2024-03-24T20:40:16.269Z"
   },
   {
    "duration": 9,
    "start_time": "2024-03-24T20:47:32.929Z"
   },
   {
    "duration": 953,
    "start_time": "2024-03-24T20:51:01.783Z"
   },
   {
    "duration": 411,
    "start_time": "2024-03-24T20:51:33.691Z"
   },
   {
    "duration": 13,
    "start_time": "2024-03-24T20:51:34.104Z"
   },
   {
    "duration": 15,
    "start_time": "2024-03-24T20:51:34.118Z"
   },
   {
    "duration": 7,
    "start_time": "2024-03-24T20:51:34.135Z"
   },
   {
    "duration": 60,
    "start_time": "2024-03-24T20:51:34.144Z"
   },
   {
    "duration": 0,
    "start_time": "2024-03-24T20:51:34.206Z"
   },
   {
    "duration": 0,
    "start_time": "2024-03-24T20:51:34.209Z"
   },
   {
    "duration": 0,
    "start_time": "2024-03-24T20:51:34.210Z"
   },
   {
    "duration": 0,
    "start_time": "2024-03-24T20:51:34.211Z"
   },
   {
    "duration": 0,
    "start_time": "2024-03-24T20:51:34.212Z"
   },
   {
    "duration": 0,
    "start_time": "2024-03-24T20:51:34.213Z"
   },
   {
    "duration": 0,
    "start_time": "2024-03-24T20:51:34.214Z"
   },
   {
    "duration": 0,
    "start_time": "2024-03-24T20:51:34.215Z"
   },
   {
    "duration": 0,
    "start_time": "2024-03-24T20:51:34.216Z"
   },
   {
    "duration": 0,
    "start_time": "2024-03-24T20:51:34.218Z"
   },
   {
    "duration": 0,
    "start_time": "2024-03-24T20:51:34.219Z"
   },
   {
    "duration": 0,
    "start_time": "2024-03-24T20:51:34.220Z"
   },
   {
    "duration": 0,
    "start_time": "2024-03-24T20:51:34.221Z"
   },
   {
    "duration": 0,
    "start_time": "2024-03-24T20:51:34.222Z"
   },
   {
    "duration": 0,
    "start_time": "2024-03-24T20:51:34.223Z"
   },
   {
    "duration": 0,
    "start_time": "2024-03-24T20:51:34.224Z"
   },
   {
    "duration": 0,
    "start_time": "2024-03-24T20:51:34.225Z"
   },
   {
    "duration": 0,
    "start_time": "2024-03-24T20:51:34.226Z"
   },
   {
    "duration": 0,
    "start_time": "2024-03-24T20:51:34.227Z"
   },
   {
    "duration": 0,
    "start_time": "2024-03-24T20:51:34.228Z"
   },
   {
    "duration": 0,
    "start_time": "2024-03-24T20:51:34.228Z"
   },
   {
    "duration": 0,
    "start_time": "2024-03-24T20:51:34.229Z"
   },
   {
    "duration": 0,
    "start_time": "2024-03-24T20:51:34.266Z"
   },
   {
    "duration": 0,
    "start_time": "2024-03-24T20:51:34.267Z"
   },
   {
    "duration": 0,
    "start_time": "2024-03-24T20:51:34.268Z"
   },
   {
    "duration": 0,
    "start_time": "2024-03-24T20:51:34.269Z"
   },
   {
    "duration": 0,
    "start_time": "2024-03-24T20:51:34.270Z"
   },
   {
    "duration": 0,
    "start_time": "2024-03-24T20:51:34.271Z"
   },
   {
    "duration": 0,
    "start_time": "2024-03-24T20:51:34.272Z"
   },
   {
    "duration": 417,
    "start_time": "2024-03-24T20:52:17.578Z"
   },
   {
    "duration": 13,
    "start_time": "2024-03-24T20:52:17.996Z"
   },
   {
    "duration": 11,
    "start_time": "2024-03-24T20:52:18.011Z"
   },
   {
    "duration": 8,
    "start_time": "2024-03-24T20:52:18.023Z"
   },
   {
    "duration": 97,
    "start_time": "2024-03-24T20:52:18.033Z"
   },
   {
    "duration": 0,
    "start_time": "2024-03-24T20:52:18.132Z"
   },
   {
    "duration": 0,
    "start_time": "2024-03-24T20:52:18.134Z"
   },
   {
    "duration": 0,
    "start_time": "2024-03-24T20:52:18.135Z"
   },
   {
    "duration": 0,
    "start_time": "2024-03-24T20:52:18.136Z"
   },
   {
    "duration": 0,
    "start_time": "2024-03-24T20:52:18.137Z"
   },
   {
    "duration": 0,
    "start_time": "2024-03-24T20:52:18.138Z"
   },
   {
    "duration": 0,
    "start_time": "2024-03-24T20:52:18.139Z"
   },
   {
    "duration": 0,
    "start_time": "2024-03-24T20:52:18.140Z"
   },
   {
    "duration": 0,
    "start_time": "2024-03-24T20:52:18.141Z"
   },
   {
    "duration": 0,
    "start_time": "2024-03-24T20:52:18.142Z"
   },
   {
    "duration": 0,
    "start_time": "2024-03-24T20:52:18.165Z"
   },
   {
    "duration": 0,
    "start_time": "2024-03-24T20:52:18.166Z"
   },
   {
    "duration": 0,
    "start_time": "2024-03-24T20:52:18.167Z"
   },
   {
    "duration": 0,
    "start_time": "2024-03-24T20:52:18.168Z"
   },
   {
    "duration": 0,
    "start_time": "2024-03-24T20:52:18.169Z"
   },
   {
    "duration": 0,
    "start_time": "2024-03-24T20:52:18.170Z"
   },
   {
    "duration": 0,
    "start_time": "2024-03-24T20:52:18.171Z"
   },
   {
    "duration": 0,
    "start_time": "2024-03-24T20:52:18.172Z"
   },
   {
    "duration": 0,
    "start_time": "2024-03-24T20:52:18.173Z"
   },
   {
    "duration": 0,
    "start_time": "2024-03-24T20:52:18.174Z"
   },
   {
    "duration": 0,
    "start_time": "2024-03-24T20:52:18.175Z"
   },
   {
    "duration": 0,
    "start_time": "2024-03-24T20:52:18.176Z"
   },
   {
    "duration": 0,
    "start_time": "2024-03-24T20:52:18.177Z"
   },
   {
    "duration": 0,
    "start_time": "2024-03-24T20:52:18.178Z"
   },
   {
    "duration": 0,
    "start_time": "2024-03-24T20:52:18.179Z"
   },
   {
    "duration": 0,
    "start_time": "2024-03-24T20:52:18.180Z"
   },
   {
    "duration": 0,
    "start_time": "2024-03-24T20:52:18.181Z"
   },
   {
    "duration": 0,
    "start_time": "2024-03-24T20:52:18.182Z"
   },
   {
    "duration": 398,
    "start_time": "2024-03-24T20:52:47.108Z"
   },
   {
    "duration": 16,
    "start_time": "2024-03-24T20:52:47.509Z"
   },
   {
    "duration": 10,
    "start_time": "2024-03-24T20:52:47.527Z"
   },
   {
    "duration": 16,
    "start_time": "2024-03-24T20:52:47.539Z"
   },
   {
    "duration": 85,
    "start_time": "2024-03-24T20:52:47.558Z"
   },
   {
    "duration": 0,
    "start_time": "2024-03-24T20:52:47.645Z"
   },
   {
    "duration": 0,
    "start_time": "2024-03-24T20:52:47.646Z"
   },
   {
    "duration": 0,
    "start_time": "2024-03-24T20:52:47.648Z"
   },
   {
    "duration": 0,
    "start_time": "2024-03-24T20:52:47.650Z"
   },
   {
    "duration": 0,
    "start_time": "2024-03-24T20:52:47.651Z"
   },
   {
    "duration": 0,
    "start_time": "2024-03-24T20:52:47.652Z"
   },
   {
    "duration": 0,
    "start_time": "2024-03-24T20:52:47.654Z"
   },
   {
    "duration": 0,
    "start_time": "2024-03-24T20:52:47.655Z"
   },
   {
    "duration": 0,
    "start_time": "2024-03-24T20:52:47.656Z"
   },
   {
    "duration": 0,
    "start_time": "2024-03-24T20:52:47.665Z"
   },
   {
    "duration": 0,
    "start_time": "2024-03-24T20:52:47.666Z"
   },
   {
    "duration": 0,
    "start_time": "2024-03-24T20:52:47.667Z"
   },
   {
    "duration": 0,
    "start_time": "2024-03-24T20:52:47.668Z"
   },
   {
    "duration": 0,
    "start_time": "2024-03-24T20:52:47.670Z"
   },
   {
    "duration": 0,
    "start_time": "2024-03-24T20:52:47.671Z"
   },
   {
    "duration": 0,
    "start_time": "2024-03-24T20:52:47.672Z"
   },
   {
    "duration": 0,
    "start_time": "2024-03-24T20:52:47.673Z"
   },
   {
    "duration": 0,
    "start_time": "2024-03-24T20:52:47.675Z"
   },
   {
    "duration": 0,
    "start_time": "2024-03-24T20:52:47.676Z"
   },
   {
    "duration": 0,
    "start_time": "2024-03-24T20:52:47.677Z"
   },
   {
    "duration": 0,
    "start_time": "2024-03-24T20:52:47.679Z"
   },
   {
    "duration": 0,
    "start_time": "2024-03-24T20:52:47.680Z"
   },
   {
    "duration": 0,
    "start_time": "2024-03-24T20:52:47.682Z"
   },
   {
    "duration": 0,
    "start_time": "2024-03-24T20:52:47.683Z"
   },
   {
    "duration": 0,
    "start_time": "2024-03-24T20:52:47.684Z"
   },
   {
    "duration": 0,
    "start_time": "2024-03-24T20:52:47.686Z"
   },
   {
    "duration": 0,
    "start_time": "2024-03-24T20:52:47.687Z"
   },
   {
    "duration": 394,
    "start_time": "2024-03-24T20:54:02.006Z"
   },
   {
    "duration": 13,
    "start_time": "2024-03-24T20:54:02.402Z"
   },
   {
    "duration": 8,
    "start_time": "2024-03-24T20:54:02.416Z"
   },
   {
    "duration": 7,
    "start_time": "2024-03-24T20:54:02.425Z"
   },
   {
    "duration": 2426,
    "start_time": "2024-03-24T20:54:02.434Z"
   },
   {
    "duration": 5,
    "start_time": "2024-03-24T20:54:04.862Z"
   },
   {
    "duration": 160,
    "start_time": "2024-03-24T20:54:04.869Z"
   },
   {
    "duration": 125,
    "start_time": "2024-03-24T20:54:05.030Z"
   },
   {
    "duration": 269,
    "start_time": "2024-03-24T20:54:05.165Z"
   },
   {
    "duration": 507,
    "start_time": "2024-03-24T20:54:05.436Z"
   },
   {
    "duration": 221,
    "start_time": "2024-03-24T20:54:05.946Z"
   },
   {
    "duration": 333,
    "start_time": "2024-03-24T20:54:06.169Z"
   },
   {
    "duration": 305,
    "start_time": "2024-03-24T20:54:06.503Z"
   },
   {
    "duration": 296,
    "start_time": "2024-03-24T20:54:06.811Z"
   },
   {
    "duration": 132,
    "start_time": "2024-03-24T20:54:07.109Z"
   },
   {
    "duration": 131,
    "start_time": "2024-03-24T20:54:07.243Z"
   },
   {
    "duration": 8,
    "start_time": "2024-03-24T20:54:07.376Z"
   },
   {
    "duration": 128,
    "start_time": "2024-03-24T20:54:07.386Z"
   },
   {
    "duration": 122,
    "start_time": "2024-03-24T20:54:07.516Z"
   },
   {
    "duration": 4,
    "start_time": "2024-03-24T20:54:07.640Z"
   },
   {
    "duration": 171,
    "start_time": "2024-03-24T20:54:07.645Z"
   },
   {
    "duration": 10,
    "start_time": "2024-03-24T20:54:07.817Z"
   },
   {
    "duration": 141,
    "start_time": "2024-03-24T20:54:07.828Z"
   },
   {
    "duration": 146,
    "start_time": "2024-03-24T20:54:07.970Z"
   },
   {
    "duration": 4,
    "start_time": "2024-03-24T20:54:08.118Z"
   },
   {
    "duration": 210,
    "start_time": "2024-03-24T20:54:08.124Z"
   },
   {
    "duration": 151,
    "start_time": "2024-03-24T20:54:08.336Z"
   },
   {
    "duration": 6,
    "start_time": "2024-03-24T20:54:08.488Z"
   },
   {
    "duration": 6,
    "start_time": "2024-03-24T20:54:08.495Z"
   },
   {
    "duration": 5,
    "start_time": "2024-03-24T20:54:08.503Z"
   },
   {
    "duration": 668,
    "start_time": "2024-03-24T20:54:08.509Z"
   },
   {
    "duration": 9,
    "start_time": "2024-03-24T20:54:09.179Z"
   },
   {
    "duration": 8,
    "start_time": "2024-03-24T20:54:09.190Z"
   },
   {
    "duration": 1043,
    "start_time": "2024-03-24T20:55:03.822Z"
   },
   {
    "duration": 1015,
    "start_time": "2024-03-24T20:55:25.290Z"
   },
   {
    "duration": 8,
    "start_time": "2024-03-24T20:55:41.118Z"
   },
   {
    "duration": 517,
    "start_time": "2024-03-25T18:01:21.509Z"
   },
   {
    "duration": 14,
    "start_time": "2024-03-25T18:01:22.029Z"
   },
   {
    "duration": 9,
    "start_time": "2024-03-25T18:01:22.045Z"
   },
   {
    "duration": 8,
    "start_time": "2024-03-25T18:01:22.057Z"
   },
   {
    "duration": 2949,
    "start_time": "2024-03-25T18:01:22.067Z"
   },
   {
    "duration": 8,
    "start_time": "2024-03-25T18:01:25.018Z"
   },
   {
    "duration": 7,
    "start_time": "2024-03-25T18:01:25.027Z"
   },
   {
    "duration": 181,
    "start_time": "2024-03-25T18:01:25.036Z"
   },
   {
    "duration": 138,
    "start_time": "2024-03-25T18:01:25.219Z"
   },
   {
    "duration": 294,
    "start_time": "2024-03-25T18:01:25.360Z"
   },
   {
    "duration": 669,
    "start_time": "2024-03-25T18:01:25.656Z"
   },
   {
    "duration": 179,
    "start_time": "2024-03-25T18:01:26.326Z"
   },
   {
    "duration": 404,
    "start_time": "2024-03-25T18:01:26.507Z"
   },
   {
    "duration": 218,
    "start_time": "2024-03-25T18:01:26.914Z"
   },
   {
    "duration": 316,
    "start_time": "2024-03-25T18:01:27.133Z"
   },
   {
    "duration": 145,
    "start_time": "2024-03-25T18:01:27.451Z"
   },
   {
    "duration": 140,
    "start_time": "2024-03-25T18:01:27.598Z"
   },
   {
    "duration": 10,
    "start_time": "2024-03-25T18:01:27.739Z"
   },
   {
    "duration": 131,
    "start_time": "2024-03-25T18:01:27.751Z"
   },
   {
    "duration": 121,
    "start_time": "2024-03-25T18:01:27.884Z"
   },
   {
    "duration": 7,
    "start_time": "2024-03-25T18:01:28.007Z"
   },
   {
    "duration": 179,
    "start_time": "2024-03-25T18:01:28.016Z"
   },
   {
    "duration": 18,
    "start_time": "2024-03-25T18:01:28.197Z"
   },
   {
    "duration": 143,
    "start_time": "2024-03-25T18:01:28.217Z"
   },
   {
    "duration": 156,
    "start_time": "2024-03-25T18:01:28.361Z"
   },
   {
    "duration": 4,
    "start_time": "2024-03-25T18:01:28.519Z"
   },
   {
    "duration": 243,
    "start_time": "2024-03-25T18:01:28.524Z"
   },
   {
    "duration": 169,
    "start_time": "2024-03-25T18:01:28.770Z"
   },
   {
    "duration": 8,
    "start_time": "2024-03-25T18:01:28.940Z"
   },
   {
    "duration": 7,
    "start_time": "2024-03-25T18:01:28.949Z"
   },
   {
    "duration": 7,
    "start_time": "2024-03-25T18:01:28.957Z"
   },
   {
    "duration": 622,
    "start_time": "2024-03-25T18:01:28.966Z"
   },
   {
    "duration": 11,
    "start_time": "2024-03-25T18:01:29.589Z"
   },
   {
    "duration": 20,
    "start_time": "2024-03-25T18:01:29.601Z"
   },
   {
    "duration": 9,
    "start_time": "2024-03-25T18:03:20.576Z"
   },
   {
    "duration": 24,
    "start_time": "2024-03-25T18:03:53.170Z"
   },
   {
    "duration": 1056,
    "start_time": "2024-03-25T18:06:56.421Z"
   },
   {
    "duration": 14,
    "start_time": "2024-03-25T18:07:52.929Z"
   },
   {
    "duration": 187,
    "start_time": "2024-03-25T18:46:49.352Z"
   },
   {
    "duration": 195,
    "start_time": "2024-03-25T18:48:44.169Z"
   },
   {
    "duration": 193,
    "start_time": "2024-03-25T18:49:05.951Z"
   },
   {
    "duration": 211,
    "start_time": "2024-03-25T18:49:58.724Z"
   },
   {
    "duration": 10,
    "start_time": "2024-03-25T18:51:57.715Z"
   },
   {
    "duration": 477,
    "start_time": "2024-03-25T19:12:27.521Z"
   },
   {
    "duration": 16,
    "start_time": "2024-03-25T19:12:28.000Z"
   },
   {
    "duration": 10,
    "start_time": "2024-03-25T19:12:28.018Z"
   },
   {
    "duration": 8,
    "start_time": "2024-03-25T19:12:28.030Z"
   },
   {
    "duration": 339,
    "start_time": "2024-03-25T19:12:28.040Z"
   },
   {
    "duration": 9,
    "start_time": "2024-03-25T19:12:28.380Z"
   },
   {
    "duration": 11,
    "start_time": "2024-03-25T19:12:28.390Z"
   },
   {
    "duration": 175,
    "start_time": "2024-03-25T19:12:28.402Z"
   },
   {
    "duration": 137,
    "start_time": "2024-03-25T19:12:28.579Z"
   },
   {
    "duration": 324,
    "start_time": "2024-03-25T19:12:28.718Z"
   },
   {
    "duration": 313,
    "start_time": "2024-03-25T19:12:29.044Z"
   },
   {
    "duration": 11,
    "start_time": "2024-03-25T19:12:29.359Z"
   },
   {
    "duration": 228,
    "start_time": "2024-03-25T19:12:29.372Z"
   },
   {
    "duration": 322,
    "start_time": "2024-03-25T19:12:29.605Z"
   },
   {
    "duration": 296,
    "start_time": "2024-03-25T19:12:29.929Z"
   },
   {
    "duration": 353,
    "start_time": "2024-03-25T19:12:30.227Z"
   },
   {
    "duration": 160,
    "start_time": "2024-03-25T19:12:30.582Z"
   },
   {
    "duration": 495,
    "start_time": "2024-03-25T19:12:30.744Z"
   },
   {
    "duration": 447,
    "start_time": "2024-03-25T19:12:31.241Z"
   },
   {
    "duration": 139,
    "start_time": "2024-03-25T19:12:31.690Z"
   },
   {
    "duration": 140,
    "start_time": "2024-03-25T19:12:31.830Z"
   },
   {
    "duration": 4,
    "start_time": "2024-03-25T19:12:31.972Z"
   },
   {
    "duration": 175,
    "start_time": "2024-03-25T19:12:31.978Z"
   },
   {
    "duration": 11,
    "start_time": "2024-03-25T19:12:32.155Z"
   },
   {
    "duration": 171,
    "start_time": "2024-03-25T19:12:32.167Z"
   },
   {
    "duration": 159,
    "start_time": "2024-03-25T19:12:32.340Z"
   },
   {
    "duration": 5,
    "start_time": "2024-03-25T19:12:32.501Z"
   },
   {
    "duration": 224,
    "start_time": "2024-03-25T19:12:32.515Z"
   },
   {
    "duration": 159,
    "start_time": "2024-03-25T19:12:32.740Z"
   },
   {
    "duration": 15,
    "start_time": "2024-03-25T19:12:32.900Z"
   },
   {
    "duration": 10,
    "start_time": "2024-03-25T19:12:32.917Z"
   },
   {
    "duration": 8,
    "start_time": "2024-03-25T19:12:32.929Z"
   },
   {
    "duration": 702,
    "start_time": "2024-03-25T19:12:32.940Z"
   },
   {
    "duration": 11,
    "start_time": "2024-03-25T19:12:33.643Z"
   },
   {
    "duration": 9,
    "start_time": "2024-03-25T19:12:33.655Z"
   },
   {
    "duration": 11,
    "start_time": "2024-03-25T19:12:33.666Z"
   },
   {
    "duration": 44,
    "start_time": "2024-03-25T19:12:33.679Z"
   },
   {
    "duration": 14,
    "start_time": "2024-03-25T19:12:33.725Z"
   },
   {
    "duration": 129,
    "start_time": "2024-03-25T19:16:08.920Z"
   },
   {
    "duration": 125,
    "start_time": "2024-03-25T19:19:19.656Z"
   },
   {
    "duration": 141,
    "start_time": "2024-03-25T19:19:52.754Z"
   },
   {
    "duration": 149,
    "start_time": "2024-03-25T19:23:24.132Z"
   },
   {
    "duration": 158,
    "start_time": "2024-03-25T19:23:39.609Z"
   },
   {
    "duration": 9,
    "start_time": "2024-03-25T19:38:33.259Z"
   },
   {
    "duration": 11,
    "start_time": "2024-03-25T19:39:53.695Z"
   },
   {
    "duration": 453,
    "start_time": "2024-03-25T20:03:19.971Z"
   },
   {
    "duration": 17,
    "start_time": "2024-03-25T20:03:20.426Z"
   },
   {
    "duration": 10,
    "start_time": "2024-03-25T20:03:20.444Z"
   },
   {
    "duration": 9,
    "start_time": "2024-03-25T20:03:20.456Z"
   },
   {
    "duration": 320,
    "start_time": "2024-03-25T20:03:20.466Z"
   },
   {
    "duration": 9,
    "start_time": "2024-03-25T20:03:20.788Z"
   },
   {
    "duration": 15,
    "start_time": "2024-03-25T20:03:20.799Z"
   },
   {
    "duration": 198,
    "start_time": "2024-03-25T20:03:20.816Z"
   },
   {
    "duration": 136,
    "start_time": "2024-03-25T20:03:21.015Z"
   },
   {
    "duration": 293,
    "start_time": "2024-03-25T20:03:21.154Z"
   },
   {
    "duration": 292,
    "start_time": "2024-03-25T20:03:21.448Z"
   },
   {
    "duration": 10,
    "start_time": "2024-03-25T20:03:21.741Z"
   },
   {
    "duration": 211,
    "start_time": "2024-03-25T20:03:21.753Z"
   },
   {
    "duration": 286,
    "start_time": "2024-03-25T20:03:21.966Z"
   },
   {
    "duration": 302,
    "start_time": "2024-03-25T20:03:22.254Z"
   },
   {
    "duration": 338,
    "start_time": "2024-03-25T20:03:22.557Z"
   },
   {
    "duration": 19,
    "start_time": "2024-03-25T20:03:22.897Z"
   },
   {
    "duration": 132,
    "start_time": "2024-03-25T20:03:22.917Z"
   },
   {
    "duration": 135,
    "start_time": "2024-03-25T20:03:23.050Z"
   },
   {
    "duration": 4,
    "start_time": "2024-03-25T20:03:23.187Z"
   },
   {
    "duration": 152,
    "start_time": "2024-03-25T20:03:23.192Z"
   },
   {
    "duration": 9,
    "start_time": "2024-03-25T20:03:23.346Z"
   },
   {
    "duration": 176,
    "start_time": "2024-03-25T20:03:23.357Z"
   },
   {
    "duration": 159,
    "start_time": "2024-03-25T20:03:23.534Z"
   },
   {
    "duration": 5,
    "start_time": "2024-03-25T20:03:23.695Z"
   },
   {
    "duration": 242,
    "start_time": "2024-03-25T20:03:23.702Z"
   },
   {
    "duration": 164,
    "start_time": "2024-03-25T20:03:23.945Z"
   },
   {
    "duration": 8,
    "start_time": "2024-03-25T20:03:24.113Z"
   },
   {
    "duration": 7,
    "start_time": "2024-03-25T20:03:24.123Z"
   },
   {
    "duration": 7,
    "start_time": "2024-03-25T20:03:24.131Z"
   },
   {
    "duration": 734,
    "start_time": "2024-03-25T20:03:24.140Z"
   },
   {
    "duration": 12,
    "start_time": "2024-03-25T20:03:24.876Z"
   },
   {
    "duration": 10,
    "start_time": "2024-03-25T20:03:24.889Z"
   },
   {
    "duration": 10,
    "start_time": "2024-03-25T20:03:24.915Z"
   },
   {
    "duration": 16,
    "start_time": "2024-03-25T20:03:24.927Z"
   },
   {
    "duration": 32,
    "start_time": "2024-03-25T20:03:24.946Z"
   },
   {
    "duration": 44,
    "start_time": "2024-03-25T20:03:24.980Z"
   },
   {
    "duration": 456,
    "start_time": "2024-03-25T20:04:02.114Z"
   },
   {
    "duration": 14,
    "start_time": "2024-03-25T20:04:02.572Z"
   },
   {
    "duration": 16,
    "start_time": "2024-03-25T20:04:02.588Z"
   },
   {
    "duration": 23,
    "start_time": "2024-03-25T20:04:02.607Z"
   },
   {
    "duration": 335,
    "start_time": "2024-03-25T20:04:02.632Z"
   },
   {
    "duration": 10,
    "start_time": "2024-03-25T20:04:02.969Z"
   },
   {
    "duration": 20,
    "start_time": "2024-03-25T20:04:02.980Z"
   },
   {
    "duration": 193,
    "start_time": "2024-03-25T20:04:03.002Z"
   },
   {
    "duration": 144,
    "start_time": "2024-03-25T20:04:03.197Z"
   },
   {
    "duration": 297,
    "start_time": "2024-03-25T20:04:03.345Z"
   },
   {
    "duration": 301,
    "start_time": "2024-03-25T20:04:03.643Z"
   },
   {
    "duration": 11,
    "start_time": "2024-03-25T20:04:03.945Z"
   },
   {
    "duration": 208,
    "start_time": "2024-03-25T20:04:03.957Z"
   },
   {
    "duration": 288,
    "start_time": "2024-03-25T20:04:04.167Z"
   },
   {
    "duration": 291,
    "start_time": "2024-03-25T20:04:04.457Z"
   },
   {
    "duration": 316,
    "start_time": "2024-03-25T20:04:04.750Z"
   },
   {
    "duration": 9,
    "start_time": "2024-03-25T20:04:05.068Z"
   },
   {
    "duration": 158,
    "start_time": "2024-03-25T20:04:05.079Z"
   },
   {
    "duration": 142,
    "start_time": "2024-03-25T20:04:05.239Z"
   },
   {
    "duration": 4,
    "start_time": "2024-03-25T20:04:05.384Z"
   },
   {
    "duration": 156,
    "start_time": "2024-03-25T20:04:05.390Z"
   },
   {
    "duration": 10,
    "start_time": "2024-03-25T20:04:05.548Z"
   },
   {
    "duration": 157,
    "start_time": "2024-03-25T20:04:05.560Z"
   },
   {
    "duration": 163,
    "start_time": "2024-03-25T20:04:05.719Z"
   },
   {
    "duration": 4,
    "start_time": "2024-03-25T20:04:05.884Z"
   },
   {
    "duration": 225,
    "start_time": "2024-03-25T20:04:05.890Z"
   },
   {
    "duration": 193,
    "start_time": "2024-03-25T20:04:06.117Z"
   },
   {
    "duration": 6,
    "start_time": "2024-03-25T20:04:06.314Z"
   },
   {
    "duration": 24,
    "start_time": "2024-03-25T20:04:06.321Z"
   },
   {
    "duration": 30,
    "start_time": "2024-03-25T20:04:06.347Z"
   },
   {
    "duration": 670,
    "start_time": "2024-03-25T20:04:06.379Z"
   },
   {
    "duration": 9,
    "start_time": "2024-03-25T20:04:07.051Z"
   },
   {
    "duration": 36,
    "start_time": "2024-03-25T20:04:07.062Z"
   },
   {
    "duration": 33,
    "start_time": "2024-03-25T20:04:07.100Z"
   },
   {
    "duration": 42,
    "start_time": "2024-03-25T20:04:07.135Z"
   },
   {
    "duration": 43,
    "start_time": "2024-03-25T20:04:07.178Z"
   },
   {
    "duration": 18,
    "start_time": "2024-03-25T20:04:07.223Z"
   },
   {
    "duration": 214,
    "start_time": "2024-03-25T20:05:46.586Z"
   },
   {
    "duration": 488,
    "start_time": "2024-03-25T20:18:51.396Z"
   },
   {
    "duration": 17,
    "start_time": "2024-03-25T20:18:51.886Z"
   },
   {
    "duration": 9,
    "start_time": "2024-03-25T20:18:51.905Z"
   },
   {
    "duration": 8,
    "start_time": "2024-03-25T20:18:51.915Z"
   },
   {
    "duration": 332,
    "start_time": "2024-03-25T20:18:51.925Z"
   },
   {
    "duration": 8,
    "start_time": "2024-03-25T20:18:52.258Z"
   },
   {
    "duration": 7,
    "start_time": "2024-03-25T20:18:52.268Z"
   },
   {
    "duration": 171,
    "start_time": "2024-03-25T20:18:52.276Z"
   },
   {
    "duration": 125,
    "start_time": "2024-03-25T20:18:52.448Z"
   },
   {
    "duration": 285,
    "start_time": "2024-03-25T20:18:52.575Z"
   },
   {
    "duration": 293,
    "start_time": "2024-03-25T20:18:52.862Z"
   },
   {
    "duration": 10,
    "start_time": "2024-03-25T20:18:53.156Z"
   },
   {
    "duration": 205,
    "start_time": "2024-03-25T20:18:53.168Z"
   },
   {
    "duration": 318,
    "start_time": "2024-03-25T20:18:53.374Z"
   },
   {
    "duration": 272,
    "start_time": "2024-03-25T20:18:53.694Z"
   },
   {
    "duration": 324,
    "start_time": "2024-03-25T20:18:53.968Z"
   },
   {
    "duration": 22,
    "start_time": "2024-03-25T20:18:54.293Z"
   },
   {
    "duration": 140,
    "start_time": "2024-03-25T20:18:54.317Z"
   },
   {
    "duration": 158,
    "start_time": "2024-03-25T20:18:54.459Z"
   },
   {
    "duration": 5,
    "start_time": "2024-03-25T20:18:54.619Z"
   },
   {
    "duration": 167,
    "start_time": "2024-03-25T20:18:54.626Z"
   },
   {
    "duration": 21,
    "start_time": "2024-03-25T20:18:54.795Z"
   },
   {
    "duration": 163,
    "start_time": "2024-03-25T20:18:54.818Z"
   },
   {
    "duration": 155,
    "start_time": "2024-03-25T20:18:54.983Z"
   },
   {
    "duration": 4,
    "start_time": "2024-03-25T20:18:55.140Z"
   },
   {
    "duration": 238,
    "start_time": "2024-03-25T20:18:55.146Z"
   },
   {
    "duration": 155,
    "start_time": "2024-03-25T20:18:55.386Z"
   },
   {
    "duration": 6,
    "start_time": "2024-03-25T20:18:55.544Z"
   },
   {
    "duration": 6,
    "start_time": "2024-03-25T20:18:55.551Z"
   },
   {
    "duration": 6,
    "start_time": "2024-03-25T20:18:55.558Z"
   },
   {
    "duration": 731,
    "start_time": "2024-03-25T20:18:55.566Z"
   },
   {
    "duration": 17,
    "start_time": "2024-03-25T20:18:56.300Z"
   },
   {
    "duration": 11,
    "start_time": "2024-03-25T20:18:56.319Z"
   },
   {
    "duration": 14,
    "start_time": "2024-03-25T20:18:56.332Z"
   },
   {
    "duration": 9,
    "start_time": "2024-03-25T20:18:56.348Z"
   },
   {
    "duration": 58,
    "start_time": "2024-03-25T20:18:56.358Z"
   },
   {
    "duration": 15,
    "start_time": "2024-03-25T20:18:56.418Z"
   },
   {
    "duration": 437,
    "start_time": "2024-03-25T20:28:06.873Z"
   },
   {
    "duration": 15,
    "start_time": "2024-03-25T20:28:07.311Z"
   },
   {
    "duration": 8,
    "start_time": "2024-03-25T20:28:07.327Z"
   },
   {
    "duration": 7,
    "start_time": "2024-03-25T20:28:07.337Z"
   },
   {
    "duration": 305,
    "start_time": "2024-03-25T20:28:07.345Z"
   },
   {
    "duration": 8,
    "start_time": "2024-03-25T20:28:07.651Z"
   },
   {
    "duration": 13,
    "start_time": "2024-03-25T20:28:07.660Z"
   },
   {
    "duration": 167,
    "start_time": "2024-03-25T20:28:07.674Z"
   },
   {
    "duration": 126,
    "start_time": "2024-03-25T20:28:07.842Z"
   },
   {
    "duration": 296,
    "start_time": "2024-03-25T20:28:07.971Z"
   },
   {
    "duration": 298,
    "start_time": "2024-03-25T20:28:08.269Z"
   },
   {
    "duration": 10,
    "start_time": "2024-03-25T20:28:08.569Z"
   },
   {
    "duration": 219,
    "start_time": "2024-03-25T20:28:08.580Z"
   },
   {
    "duration": 324,
    "start_time": "2024-03-25T20:28:08.801Z"
   },
   {
    "duration": 301,
    "start_time": "2024-03-25T20:28:09.127Z"
   },
   {
    "duration": 338,
    "start_time": "2024-03-25T20:28:09.430Z"
   },
   {
    "duration": 9,
    "start_time": "2024-03-25T20:28:09.770Z"
   },
   {
    "duration": 140,
    "start_time": "2024-03-25T20:28:09.781Z"
   },
   {
    "duration": 137,
    "start_time": "2024-03-25T20:28:09.923Z"
   },
   {
    "duration": 4,
    "start_time": "2024-03-25T20:28:10.063Z"
   },
   {
    "duration": 151,
    "start_time": "2024-03-25T20:28:10.069Z"
   },
   {
    "duration": 11,
    "start_time": "2024-03-25T20:28:10.222Z"
   },
   {
    "duration": 151,
    "start_time": "2024-03-25T20:28:10.235Z"
   },
   {
    "duration": 174,
    "start_time": "2024-03-25T20:28:10.388Z"
   },
   {
    "duration": 5,
    "start_time": "2024-03-25T20:28:10.563Z"
   },
   {
    "duration": 250,
    "start_time": "2024-03-25T20:28:10.570Z"
   },
   {
    "duration": 165,
    "start_time": "2024-03-25T20:28:10.821Z"
   },
   {
    "duration": 6,
    "start_time": "2024-03-25T20:28:10.990Z"
   },
   {
    "duration": 17,
    "start_time": "2024-03-25T20:28:10.998Z"
   },
   {
    "duration": 6,
    "start_time": "2024-03-25T20:28:11.017Z"
   },
   {
    "duration": 632,
    "start_time": "2024-03-25T20:28:11.024Z"
   },
   {
    "duration": 10,
    "start_time": "2024-03-25T20:28:11.658Z"
   },
   {
    "duration": 9,
    "start_time": "2024-03-25T20:28:11.669Z"
   },
   {
    "duration": 9,
    "start_time": "2024-03-25T20:28:11.680Z"
   },
   {
    "duration": 30,
    "start_time": "2024-03-25T20:28:11.690Z"
   },
   {
    "duration": 26,
    "start_time": "2024-03-25T20:28:11.721Z"
   },
   {
    "duration": 14,
    "start_time": "2024-03-25T20:28:11.748Z"
   },
   {
    "duration": 423,
    "start_time": "2024-03-25T20:28:51.460Z"
   },
   {
    "duration": 15,
    "start_time": "2024-03-25T20:28:51.886Z"
   },
   {
    "duration": 9,
    "start_time": "2024-03-25T20:28:51.902Z"
   },
   {
    "duration": 13,
    "start_time": "2024-03-25T20:28:51.913Z"
   },
   {
    "duration": 310,
    "start_time": "2024-03-25T20:28:51.928Z"
   },
   {
    "duration": 10,
    "start_time": "2024-03-25T20:28:52.240Z"
   },
   {
    "duration": 24,
    "start_time": "2024-03-25T20:28:52.252Z"
   },
   {
    "duration": 190,
    "start_time": "2024-03-25T20:28:52.278Z"
   },
   {
    "duration": 121,
    "start_time": "2024-03-25T20:28:52.470Z"
   },
   {
    "duration": 293,
    "start_time": "2024-03-25T20:28:52.594Z"
   },
   {
    "duration": 285,
    "start_time": "2024-03-25T20:28:52.889Z"
   },
   {
    "duration": 10,
    "start_time": "2024-03-25T20:28:53.176Z"
   },
   {
    "duration": 210,
    "start_time": "2024-03-25T20:28:53.188Z"
   },
   {
    "duration": 337,
    "start_time": "2024-03-25T20:28:53.399Z"
   },
   {
    "duration": 285,
    "start_time": "2024-03-25T20:28:53.738Z"
   },
   {
    "duration": 335,
    "start_time": "2024-03-25T20:28:54.025Z"
   },
   {
    "duration": 9,
    "start_time": "2024-03-25T20:28:54.361Z"
   },
   {
    "duration": 134,
    "start_time": "2024-03-25T20:28:54.372Z"
   },
   {
    "duration": 146,
    "start_time": "2024-03-25T20:28:54.507Z"
   },
   {
    "duration": 4,
    "start_time": "2024-03-25T20:28:54.654Z"
   },
   {
    "duration": 168,
    "start_time": "2024-03-25T20:28:54.660Z"
   },
   {
    "duration": 13,
    "start_time": "2024-03-25T20:28:54.830Z"
   },
   {
    "duration": 160,
    "start_time": "2024-03-25T20:28:54.845Z"
   },
   {
    "duration": 151,
    "start_time": "2024-03-25T20:28:55.014Z"
   },
   {
    "duration": 4,
    "start_time": "2024-03-25T20:28:55.167Z"
   },
   {
    "duration": 222,
    "start_time": "2024-03-25T20:28:55.173Z"
   },
   {
    "duration": 146,
    "start_time": "2024-03-25T20:28:55.397Z"
   },
   {
    "duration": 7,
    "start_time": "2024-03-25T20:28:55.546Z"
   },
   {
    "duration": 11,
    "start_time": "2024-03-25T20:28:55.554Z"
   },
   {
    "duration": 6,
    "start_time": "2024-03-25T20:28:55.566Z"
   },
   {
    "duration": 693,
    "start_time": "2024-03-25T20:28:55.574Z"
   },
   {
    "duration": 11,
    "start_time": "2024-03-25T20:28:56.269Z"
   },
   {
    "duration": 10,
    "start_time": "2024-03-25T20:28:56.281Z"
   },
   {
    "duration": 26,
    "start_time": "2024-03-25T20:28:56.292Z"
   },
   {
    "duration": 7,
    "start_time": "2024-03-25T20:28:56.320Z"
   },
   {
    "duration": 42,
    "start_time": "2024-03-25T20:28:56.329Z"
   },
   {
    "duration": 14,
    "start_time": "2024-03-25T20:28:56.373Z"
   },
   {
    "duration": 505,
    "start_time": "2024-03-26T04:46:49.449Z"
   },
   {
    "duration": 15,
    "start_time": "2024-03-26T04:46:49.956Z"
   },
   {
    "duration": 13,
    "start_time": "2024-03-26T04:46:49.973Z"
   },
   {
    "duration": 12,
    "start_time": "2024-03-26T04:46:49.988Z"
   },
   {
    "duration": 635,
    "start_time": "2024-03-26T04:46:50.002Z"
   },
   {
    "duration": 11,
    "start_time": "2024-03-26T04:46:50.639Z"
   },
   {
    "duration": 9,
    "start_time": "2024-03-26T04:46:50.652Z"
   },
   {
    "duration": 175,
    "start_time": "2024-03-26T04:46:50.663Z"
   },
   {
    "duration": 113,
    "start_time": "2024-03-26T04:46:50.839Z"
   },
   {
    "duration": 255,
    "start_time": "2024-03-26T04:46:50.953Z"
   },
   {
    "duration": 280,
    "start_time": "2024-03-26T04:46:51.210Z"
   },
   {
    "duration": 10,
    "start_time": "2024-03-26T04:46:51.492Z"
   },
   {
    "duration": 218,
    "start_time": "2024-03-26T04:46:51.504Z"
   },
   {
    "duration": 379,
    "start_time": "2024-03-26T04:46:51.724Z"
   },
   {
    "duration": 216,
    "start_time": "2024-03-26T04:46:52.105Z"
   },
   {
    "duration": 311,
    "start_time": "2024-03-26T04:46:52.323Z"
   },
   {
    "duration": 9,
    "start_time": "2024-03-26T04:46:52.635Z"
   },
   {
    "duration": 139,
    "start_time": "2024-03-26T04:46:52.645Z"
   },
   {
    "duration": 143,
    "start_time": "2024-03-26T04:46:52.786Z"
   },
   {
    "duration": 4,
    "start_time": "2024-03-26T04:46:52.931Z"
   },
   {
    "duration": 161,
    "start_time": "2024-03-26T04:46:52.936Z"
   },
   {
    "duration": 10,
    "start_time": "2024-03-26T04:46:53.098Z"
   },
   {
    "duration": 178,
    "start_time": "2024-03-26T04:46:53.110Z"
   },
   {
    "duration": 147,
    "start_time": "2024-03-26T04:46:53.290Z"
   },
   {
    "duration": 4,
    "start_time": "2024-03-26T04:46:53.439Z"
   },
   {
    "duration": 226,
    "start_time": "2024-03-26T04:46:53.445Z"
   },
   {
    "duration": 160,
    "start_time": "2024-03-26T04:46:53.673Z"
   },
   {
    "duration": 6,
    "start_time": "2024-03-26T04:46:53.834Z"
   },
   {
    "duration": 10,
    "start_time": "2024-03-26T04:46:53.842Z"
   },
   {
    "duration": 15,
    "start_time": "2024-03-26T04:46:53.853Z"
   },
   {
    "duration": 611,
    "start_time": "2024-03-26T04:46:53.870Z"
   },
   {
    "duration": 13,
    "start_time": "2024-03-26T04:46:54.485Z"
   },
   {
    "duration": 8,
    "start_time": "2024-03-26T04:46:54.500Z"
   },
   {
    "duration": 16,
    "start_time": "2024-03-26T04:46:54.509Z"
   },
   {
    "duration": 8,
    "start_time": "2024-03-26T04:46:54.526Z"
   },
   {
    "duration": 41,
    "start_time": "2024-03-26T04:46:54.536Z"
   },
   {
    "duration": 18,
    "start_time": "2024-03-26T04:46:54.579Z"
   },
   {
    "duration": 403,
    "start_time": "2024-03-26T04:52:33.128Z"
   },
   {
    "duration": 12,
    "start_time": "2024-03-26T04:52:33.533Z"
   },
   {
    "duration": 9,
    "start_time": "2024-03-26T04:52:33.546Z"
   },
   {
    "duration": 7,
    "start_time": "2024-03-26T04:52:33.557Z"
   },
   {
    "duration": 286,
    "start_time": "2024-03-26T04:52:33.565Z"
   },
   {
    "duration": 7,
    "start_time": "2024-03-26T04:52:33.852Z"
   },
   {
    "duration": 14,
    "start_time": "2024-03-26T04:52:33.860Z"
   },
   {
    "duration": 181,
    "start_time": "2024-03-26T04:52:33.876Z"
   },
   {
    "duration": 140,
    "start_time": "2024-03-26T04:52:34.058Z"
   },
   {
    "duration": 273,
    "start_time": "2024-03-26T04:52:34.201Z"
   },
   {
    "duration": 300,
    "start_time": "2024-03-26T04:52:34.476Z"
   },
   {
    "duration": 14,
    "start_time": "2024-03-26T04:52:34.777Z"
   },
   {
    "duration": 218,
    "start_time": "2024-03-26T04:52:34.792Z"
   },
   {
    "duration": 282,
    "start_time": "2024-03-26T04:52:35.011Z"
   },
   {
    "duration": 271,
    "start_time": "2024-03-26T04:52:35.295Z"
   },
   {
    "duration": 373,
    "start_time": "2024-03-26T04:52:35.567Z"
   },
   {
    "duration": 13,
    "start_time": "2024-03-26T04:52:35.942Z"
   },
   {
    "duration": 155,
    "start_time": "2024-03-26T04:52:35.966Z"
   },
   {
    "duration": 130,
    "start_time": "2024-03-26T04:52:36.123Z"
   },
   {
    "duration": 4,
    "start_time": "2024-03-26T04:52:36.255Z"
   },
   {
    "duration": 140,
    "start_time": "2024-03-26T04:52:36.266Z"
   },
   {
    "duration": 11,
    "start_time": "2024-03-26T04:52:36.407Z"
   },
   {
    "duration": 163,
    "start_time": "2024-03-26T04:52:36.419Z"
   },
   {
    "duration": 160,
    "start_time": "2024-03-26T04:52:36.584Z"
   },
   {
    "duration": 4,
    "start_time": "2024-03-26T04:52:36.745Z"
   },
   {
    "duration": 208,
    "start_time": "2024-03-26T04:52:36.751Z"
   },
   {
    "duration": 146,
    "start_time": "2024-03-26T04:52:36.961Z"
   },
   {
    "duration": 6,
    "start_time": "2024-03-26T04:52:37.110Z"
   },
   {
    "duration": 6,
    "start_time": "2024-03-26T04:52:37.118Z"
   },
   {
    "duration": 17,
    "start_time": "2024-03-26T04:52:37.126Z"
   },
   {
    "duration": 709,
    "start_time": "2024-03-26T04:52:37.145Z"
   },
   {
    "duration": 18,
    "start_time": "2024-03-26T04:52:37.855Z"
   },
   {
    "duration": 12,
    "start_time": "2024-03-26T04:52:37.874Z"
   },
   {
    "duration": 17,
    "start_time": "2024-03-26T04:52:37.887Z"
   },
   {
    "duration": 18,
    "start_time": "2024-03-26T04:52:37.906Z"
   },
   {
    "duration": 26,
    "start_time": "2024-03-26T04:52:37.925Z"
   },
   {
    "duration": 24,
    "start_time": "2024-03-26T04:52:37.953Z"
   },
   {
    "duration": 438,
    "start_time": "2024-03-26T05:04:38.333Z"
   },
   {
    "duration": 21,
    "start_time": "2024-03-26T05:04:38.773Z"
   },
   {
    "duration": 16,
    "start_time": "2024-03-26T05:04:38.796Z"
   },
   {
    "duration": 14,
    "start_time": "2024-03-26T05:04:38.814Z"
   },
   {
    "duration": 305,
    "start_time": "2024-03-26T05:04:38.829Z"
   },
   {
    "duration": 8,
    "start_time": "2024-03-26T05:04:39.135Z"
   },
   {
    "duration": 9,
    "start_time": "2024-03-26T05:04:39.145Z"
   },
   {
    "duration": 179,
    "start_time": "2024-03-26T05:04:39.156Z"
   },
   {
    "duration": 120,
    "start_time": "2024-03-26T05:04:39.336Z"
   },
   {
    "duration": 304,
    "start_time": "2024-03-26T05:04:39.468Z"
   },
   {
    "duration": 274,
    "start_time": "2024-03-26T05:04:39.773Z"
   },
   {
    "duration": 17,
    "start_time": "2024-03-26T05:04:40.049Z"
   },
   {
    "duration": 188,
    "start_time": "2024-03-26T05:04:40.068Z"
   },
   {
    "duration": 301,
    "start_time": "2024-03-26T05:04:40.258Z"
   },
   {
    "duration": 334,
    "start_time": "2024-03-26T05:04:40.565Z"
   },
   {
    "duration": 401,
    "start_time": "2024-03-26T05:04:40.901Z"
   },
   {
    "duration": 8,
    "start_time": "2024-03-26T05:04:41.304Z"
   },
   {
    "duration": 136,
    "start_time": "2024-03-26T05:04:41.314Z"
   },
   {
    "duration": 151,
    "start_time": "2024-03-26T05:04:41.451Z"
   },
   {
    "duration": 5,
    "start_time": "2024-03-26T05:04:41.603Z"
   },
   {
    "duration": 162,
    "start_time": "2024-03-26T05:04:41.609Z"
   },
   {
    "duration": 14,
    "start_time": "2024-03-26T05:04:41.773Z"
   },
   {
    "duration": 151,
    "start_time": "2024-03-26T05:04:41.789Z"
   },
   {
    "duration": 165,
    "start_time": "2024-03-26T05:04:41.942Z"
   },
   {
    "duration": 4,
    "start_time": "2024-03-26T05:04:42.108Z"
   },
   {
    "duration": 237,
    "start_time": "2024-03-26T05:04:42.114Z"
   },
   {
    "duration": 168,
    "start_time": "2024-03-26T05:04:42.353Z"
   },
   {
    "duration": 5,
    "start_time": "2024-03-26T05:04:42.524Z"
   },
   {
    "duration": 6,
    "start_time": "2024-03-26T05:04:42.531Z"
   },
   {
    "duration": 8,
    "start_time": "2024-03-26T05:04:42.539Z"
   },
   {
    "duration": 613,
    "start_time": "2024-03-26T05:04:42.569Z"
   },
   {
    "duration": 10,
    "start_time": "2024-03-26T05:04:43.184Z"
   },
   {
    "duration": 34,
    "start_time": "2024-03-26T05:04:43.196Z"
   },
   {
    "duration": 30,
    "start_time": "2024-03-26T05:04:43.232Z"
   },
   {
    "duration": 19,
    "start_time": "2024-03-26T05:04:43.264Z"
   },
   {
    "duration": 27,
    "start_time": "2024-03-26T05:04:43.284Z"
   },
   {
    "duration": 13,
    "start_time": "2024-03-26T05:04:43.313Z"
   },
   {
    "duration": 50,
    "start_time": "2024-03-26T17:06:12.932Z"
   },
   {
    "duration": 480,
    "start_time": "2024-03-26T17:06:19.546Z"
   },
   {
    "duration": 15,
    "start_time": "2024-03-26T17:06:20.027Z"
   },
   {
    "duration": 27,
    "start_time": "2024-03-26T17:06:20.043Z"
   },
   {
    "duration": 33,
    "start_time": "2024-03-26T17:06:20.072Z"
   },
   {
    "duration": 599,
    "start_time": "2024-03-26T17:06:20.106Z"
   },
   {
    "duration": 8,
    "start_time": "2024-03-26T17:06:20.707Z"
   },
   {
    "duration": 20,
    "start_time": "2024-03-26T17:06:20.717Z"
   },
   {
    "duration": 211,
    "start_time": "2024-03-26T17:06:20.739Z"
   },
   {
    "duration": 121,
    "start_time": "2024-03-26T17:06:20.952Z"
   },
   {
    "duration": 285,
    "start_time": "2024-03-26T17:06:21.088Z"
   },
   {
    "duration": 293,
    "start_time": "2024-03-26T17:06:21.375Z"
   },
   {
    "duration": 17,
    "start_time": "2024-03-26T17:06:21.670Z"
   },
   {
    "duration": 201,
    "start_time": "2024-03-26T17:06:21.688Z"
   },
   {
    "duration": 436,
    "start_time": "2024-03-26T17:06:21.891Z"
   },
   {
    "duration": 220,
    "start_time": "2024-03-26T17:06:22.328Z"
   },
   {
    "duration": 352,
    "start_time": "2024-03-26T17:06:22.550Z"
   },
   {
    "duration": 9,
    "start_time": "2024-03-26T17:06:22.903Z"
   },
   {
    "duration": 131,
    "start_time": "2024-03-26T17:06:22.914Z"
   },
   {
    "duration": 136,
    "start_time": "2024-03-26T17:06:23.046Z"
   },
   {
    "duration": 4,
    "start_time": "2024-03-26T17:06:23.184Z"
   },
   {
    "duration": 169,
    "start_time": "2024-03-26T17:06:23.190Z"
   },
   {
    "duration": 14,
    "start_time": "2024-03-26T17:06:23.360Z"
   },
   {
    "duration": 156,
    "start_time": "2024-03-26T17:06:23.376Z"
   },
   {
    "duration": 145,
    "start_time": "2024-03-26T17:06:23.534Z"
   },
   {
    "duration": 4,
    "start_time": "2024-03-26T17:06:23.681Z"
   },
   {
    "duration": 237,
    "start_time": "2024-03-26T17:06:23.687Z"
   },
   {
    "duration": 151,
    "start_time": "2024-03-26T17:06:23.925Z"
   },
   {
    "duration": 11,
    "start_time": "2024-03-26T17:06:24.079Z"
   },
   {
    "duration": 9,
    "start_time": "2024-03-26T17:06:24.092Z"
   },
   {
    "duration": 13,
    "start_time": "2024-03-26T17:06:24.103Z"
   },
   {
    "duration": 654,
    "start_time": "2024-03-26T17:06:24.117Z"
   },
   {
    "duration": 14,
    "start_time": "2024-03-26T17:06:24.773Z"
   },
   {
    "duration": 11,
    "start_time": "2024-03-26T17:06:24.789Z"
   },
   {
    "duration": 18,
    "start_time": "2024-03-26T17:06:24.801Z"
   },
   {
    "duration": 8,
    "start_time": "2024-03-26T17:06:24.820Z"
   },
   {
    "duration": 26,
    "start_time": "2024-03-26T17:06:24.830Z"
   },
   {
    "duration": 34,
    "start_time": "2024-03-26T17:06:24.858Z"
   },
   {
    "duration": 1572,
    "start_time": "2024-03-26T17:07:17.688Z"
   },
   {
    "duration": 1552,
    "start_time": "2024-03-26T17:07:48.662Z"
   },
   {
    "duration": 454,
    "start_time": "2024-03-26T17:08:03.854Z"
   },
   {
    "duration": 15,
    "start_time": "2024-03-26T17:08:04.310Z"
   },
   {
    "duration": 8,
    "start_time": "2024-03-26T17:08:04.327Z"
   },
   {
    "duration": 93,
    "start_time": "2024-03-26T17:08:04.337Z"
   },
   {
    "duration": 0,
    "start_time": "2024-03-26T17:08:04.434Z"
   },
   {
    "duration": 0,
    "start_time": "2024-03-26T17:08:04.436Z"
   },
   {
    "duration": 0,
    "start_time": "2024-03-26T17:08:04.438Z"
   },
   {
    "duration": 0,
    "start_time": "2024-03-26T17:08:04.439Z"
   },
   {
    "duration": 0,
    "start_time": "2024-03-26T17:08:04.440Z"
   },
   {
    "duration": 0,
    "start_time": "2024-03-26T17:08:04.442Z"
   },
   {
    "duration": 0,
    "start_time": "2024-03-26T17:08:04.443Z"
   },
   {
    "duration": 0,
    "start_time": "2024-03-26T17:08:04.446Z"
   },
   {
    "duration": 0,
    "start_time": "2024-03-26T17:08:04.447Z"
   },
   {
    "duration": 0,
    "start_time": "2024-03-26T17:08:04.449Z"
   },
   {
    "duration": 0,
    "start_time": "2024-03-26T17:08:04.450Z"
   },
   {
    "duration": 0,
    "start_time": "2024-03-26T17:08:04.451Z"
   },
   {
    "duration": 0,
    "start_time": "2024-03-26T17:08:04.453Z"
   },
   {
    "duration": 0,
    "start_time": "2024-03-26T17:08:04.454Z"
   },
   {
    "duration": 0,
    "start_time": "2024-03-26T17:08:04.487Z"
   },
   {
    "duration": 1,
    "start_time": "2024-03-26T17:08:04.488Z"
   },
   {
    "duration": 0,
    "start_time": "2024-03-26T17:08:04.489Z"
   },
   {
    "duration": 0,
    "start_time": "2024-03-26T17:08:04.491Z"
   },
   {
    "duration": 0,
    "start_time": "2024-03-26T17:08:04.492Z"
   },
   {
    "duration": 0,
    "start_time": "2024-03-26T17:08:04.493Z"
   },
   {
    "duration": 0,
    "start_time": "2024-03-26T17:08:04.494Z"
   },
   {
    "duration": 0,
    "start_time": "2024-03-26T17:08:04.495Z"
   },
   {
    "duration": 0,
    "start_time": "2024-03-26T17:08:04.496Z"
   },
   {
    "duration": 0,
    "start_time": "2024-03-26T17:08:04.497Z"
   },
   {
    "duration": 0,
    "start_time": "2024-03-26T17:08:04.498Z"
   },
   {
    "duration": 0,
    "start_time": "2024-03-26T17:08:04.500Z"
   },
   {
    "duration": 0,
    "start_time": "2024-03-26T17:08:04.501Z"
   },
   {
    "duration": 0,
    "start_time": "2024-03-26T17:08:04.501Z"
   },
   {
    "duration": 0,
    "start_time": "2024-03-26T17:08:04.502Z"
   },
   {
    "duration": 0,
    "start_time": "2024-03-26T17:08:04.503Z"
   },
   {
    "duration": 0,
    "start_time": "2024-03-26T17:08:04.505Z"
   },
   {
    "duration": 0,
    "start_time": "2024-03-26T17:08:04.505Z"
   },
   {
    "duration": 0,
    "start_time": "2024-03-26T17:08:04.507Z"
   },
   {
    "duration": 10,
    "start_time": "2024-03-26T17:08:46.994Z"
   },
   {
    "duration": 11,
    "start_time": "2024-03-26T17:09:03.439Z"
   },
   {
    "duration": 10,
    "start_time": "2024-03-26T17:09:33.525Z"
   },
   {
    "duration": 329,
    "start_time": "2024-03-26T17:12:17.123Z"
   },
   {
    "duration": 6,
    "start_time": "2024-03-26T17:15:35.471Z"
   },
   {
    "duration": 5,
    "start_time": "2024-03-26T17:16:33.557Z"
   },
   {
    "duration": 15,
    "start_time": "2024-03-26T17:18:41.809Z"
   },
   {
    "duration": 6,
    "start_time": "2024-03-26T17:19:14.827Z"
   },
   {
    "duration": 6,
    "start_time": "2024-03-26T17:19:55.921Z"
   },
   {
    "duration": 8,
    "start_time": "2024-03-26T17:22:39.464Z"
   },
   {
    "duration": 414,
    "start_time": "2024-03-26T17:22:50.629Z"
   },
   {
    "duration": 16,
    "start_time": "2024-03-26T17:22:51.045Z"
   },
   {
    "duration": 11,
    "start_time": "2024-03-26T17:22:51.063Z"
   },
   {
    "duration": 10,
    "start_time": "2024-03-26T17:22:51.076Z"
   },
   {
    "duration": 312,
    "start_time": "2024-03-26T17:22:51.087Z"
   },
   {
    "duration": 4,
    "start_time": "2024-03-26T17:22:51.401Z"
   },
   {
    "duration": 24,
    "start_time": "2024-03-26T17:22:51.407Z"
   },
   {
    "duration": 17,
    "start_time": "2024-03-26T17:22:51.432Z"
   },
   {
    "duration": 6,
    "start_time": "2024-03-26T17:22:51.450Z"
   },
   {
    "duration": 9,
    "start_time": "2024-03-26T17:22:51.458Z"
   },
   {
    "duration": 11,
    "start_time": "2024-03-26T17:22:51.468Z"
   },
   {
    "duration": 175,
    "start_time": "2024-03-26T17:22:51.481Z"
   },
   {
    "duration": 111,
    "start_time": "2024-03-26T17:22:51.658Z"
   },
   {
    "duration": 278,
    "start_time": "2024-03-26T17:22:51.771Z"
   },
   {
    "duration": 289,
    "start_time": "2024-03-26T17:22:52.051Z"
   },
   {
    "duration": 11,
    "start_time": "2024-03-26T17:22:52.341Z"
   },
   {
    "duration": 209,
    "start_time": "2024-03-26T17:22:52.354Z"
   },
   {
    "duration": 341,
    "start_time": "2024-03-26T17:22:52.565Z"
   },
   {
    "duration": 273,
    "start_time": "2024-03-26T17:22:52.907Z"
   },
   {
    "duration": 340,
    "start_time": "2024-03-26T17:22:53.181Z"
   },
   {
    "duration": 11,
    "start_time": "2024-03-26T17:22:53.523Z"
   },
   {
    "duration": 133,
    "start_time": "2024-03-26T17:22:53.536Z"
   },
   {
    "duration": 133,
    "start_time": "2024-03-26T17:22:53.670Z"
   },
   {
    "duration": 4,
    "start_time": "2024-03-26T17:22:53.804Z"
   },
   {
    "duration": 153,
    "start_time": "2024-03-26T17:22:53.810Z"
   },
   {
    "duration": 10,
    "start_time": "2024-03-26T17:22:53.964Z"
   },
   {
    "duration": 140,
    "start_time": "2024-03-26T17:22:53.987Z"
   },
   {
    "duration": 150,
    "start_time": "2024-03-26T17:22:54.130Z"
   },
   {
    "duration": 9,
    "start_time": "2024-03-26T17:22:54.282Z"
   },
   {
    "duration": 250,
    "start_time": "2024-03-26T17:22:54.292Z"
   },
   {
    "duration": 173,
    "start_time": "2024-03-26T17:22:54.544Z"
   },
   {
    "duration": 6,
    "start_time": "2024-03-26T17:22:54.718Z"
   },
   {
    "duration": 14,
    "start_time": "2024-03-26T17:22:54.726Z"
   },
   {
    "duration": 8,
    "start_time": "2024-03-26T17:22:54.741Z"
   },
   {
    "duration": 662,
    "start_time": "2024-03-26T17:22:54.750Z"
   },
   {
    "duration": 9,
    "start_time": "2024-03-26T17:22:55.414Z"
   },
   {
    "duration": 8,
    "start_time": "2024-03-26T17:22:55.425Z"
   },
   {
    "duration": 17,
    "start_time": "2024-03-26T17:22:55.434Z"
   },
   {
    "duration": 13,
    "start_time": "2024-03-26T17:22:55.452Z"
   },
   {
    "duration": 40,
    "start_time": "2024-03-26T17:22:55.466Z"
   },
   {
    "duration": 12,
    "start_time": "2024-03-26T17:22:55.508Z"
   },
   {
    "duration": 196,
    "start_time": "2024-03-26T17:23:22.377Z"
   },
   {
    "duration": 192,
    "start_time": "2024-03-26T17:53:31.264Z"
   },
   {
    "duration": 288,
    "start_time": "2024-03-26T17:54:06.185Z"
   },
   {
    "duration": 356,
    "start_time": "2024-03-26T17:56:46.881Z"
   },
   {
    "duration": 89,
    "start_time": "2024-03-26T18:09:44.557Z"
   },
   {
    "duration": 173,
    "start_time": "2024-03-26T18:10:18.655Z"
   },
   {
    "duration": 212,
    "start_time": "2024-03-26T18:14:21.859Z"
   },
   {
    "duration": 455,
    "start_time": "2024-03-26T18:16:49.710Z"
   },
   {
    "duration": 15,
    "start_time": "2024-03-26T18:16:50.167Z"
   },
   {
    "duration": 11,
    "start_time": "2024-03-26T18:16:50.184Z"
   },
   {
    "duration": 12,
    "start_time": "2024-03-26T18:16:50.197Z"
   },
   {
    "duration": 731,
    "start_time": "2024-03-26T18:16:50.210Z"
   },
   {
    "duration": 67,
    "start_time": "2024-03-26T18:16:50.943Z"
   },
   {
    "duration": 5,
    "start_time": "2024-03-26T18:16:51.012Z"
   },
   {
    "duration": 10,
    "start_time": "2024-03-26T18:16:51.019Z"
   },
   {
    "duration": 9,
    "start_time": "2024-03-26T18:16:51.031Z"
   },
   {
    "duration": 5,
    "start_time": "2024-03-26T18:16:51.043Z"
   },
   {
    "duration": 11,
    "start_time": "2024-03-26T18:16:51.049Z"
   },
   {
    "duration": 25,
    "start_time": "2024-03-26T18:16:51.062Z"
   },
   {
    "duration": 169,
    "start_time": "2024-03-26T18:16:51.088Z"
   },
   {
    "duration": 130,
    "start_time": "2024-03-26T18:16:51.259Z"
   },
   {
    "duration": 279,
    "start_time": "2024-03-26T18:16:51.390Z"
   },
   {
    "duration": 275,
    "start_time": "2024-03-26T18:16:51.671Z"
   },
   {
    "duration": 10,
    "start_time": "2024-03-26T18:16:51.947Z"
   },
   {
    "duration": 196,
    "start_time": "2024-03-26T18:16:51.958Z"
   },
   {
    "duration": 316,
    "start_time": "2024-03-26T18:16:52.156Z"
   },
   {
    "duration": 226,
    "start_time": "2024-03-26T18:16:52.474Z"
   },
   {
    "duration": 322,
    "start_time": "2024-03-26T18:16:52.701Z"
   },
   {
    "duration": 8,
    "start_time": "2024-03-26T18:16:53.025Z"
   },
   {
    "duration": 131,
    "start_time": "2024-03-26T18:16:53.035Z"
   },
   {
    "duration": 133,
    "start_time": "2024-03-26T18:16:53.167Z"
   },
   {
    "duration": 179,
    "start_time": "2024-03-26T18:16:53.301Z"
   },
   {
    "duration": 7,
    "start_time": "2024-03-26T18:16:53.482Z"
   },
   {
    "duration": 237,
    "start_time": "2024-03-26T18:16:53.490Z"
   },
   {
    "duration": 9,
    "start_time": "2024-03-26T18:16:53.730Z"
   },
   {
    "duration": 155,
    "start_time": "2024-03-26T18:16:53.741Z"
   },
   {
    "duration": 151,
    "start_time": "2024-03-26T18:16:53.897Z"
   },
   {
    "duration": 4,
    "start_time": "2024-03-26T18:16:54.049Z"
   },
   {
    "duration": 233,
    "start_time": "2024-03-26T18:16:54.055Z"
   },
   {
    "duration": 199,
    "start_time": "2024-03-26T18:16:54.289Z"
   },
   {
    "duration": 8,
    "start_time": "2024-03-26T18:16:54.490Z"
   },
   {
    "duration": 9,
    "start_time": "2024-03-26T18:16:54.499Z"
   },
   {
    "duration": 6,
    "start_time": "2024-03-26T18:16:54.509Z"
   },
   {
    "duration": 172,
    "start_time": "2024-03-26T18:16:54.516Z"
   },
   {
    "duration": 11,
    "start_time": "2024-03-26T18:16:54.690Z"
   },
   {
    "duration": 9,
    "start_time": "2024-03-26T18:16:54.703Z"
   },
   {
    "duration": 10,
    "start_time": "2024-03-26T18:16:54.714Z"
   },
   {
    "duration": 8,
    "start_time": "2024-03-26T18:16:54.726Z"
   },
   {
    "duration": 59,
    "start_time": "2024-03-26T18:16:54.735Z"
   },
   {
    "duration": 14,
    "start_time": "2024-03-26T18:16:54.796Z"
   },
   {
    "duration": 301,
    "start_time": "2024-03-26T18:18:10.979Z"
   },
   {
    "duration": 377,
    "start_time": "2024-03-26T18:18:47.565Z"
   },
   {
    "duration": 359,
    "start_time": "2024-03-26T18:19:08.673Z"
   },
   {
    "duration": 200,
    "start_time": "2024-03-26T18:19:38.866Z"
   },
   {
    "duration": 223,
    "start_time": "2024-03-26T18:20:00.249Z"
   },
   {
    "duration": 329,
    "start_time": "2024-03-26T18:20:16.990Z"
   },
   {
    "duration": 240,
    "start_time": "2024-03-26T18:20:48.255Z"
   },
   {
    "duration": 416,
    "start_time": "2024-03-26T18:21:04.264Z"
   },
   {
    "duration": 143,
    "start_time": "2024-03-26T18:21:17.453Z"
   },
   {
    "duration": 151,
    "start_time": "2024-03-26T18:21:34.878Z"
   },
   {
    "duration": 167,
    "start_time": "2024-03-26T18:21:54.204Z"
   },
   {
    "duration": 167,
    "start_time": "2024-03-26T18:22:06.206Z"
   },
   {
    "duration": 176,
    "start_time": "2024-03-26T18:22:21.683Z"
   },
   {
    "duration": 254,
    "start_time": "2024-03-26T18:24:13.288Z"
   },
   {
    "duration": 11,
    "start_time": "2024-03-26T18:25:43.040Z"
   },
   {
    "duration": 95,
    "start_time": "2024-03-26T18:28:27.462Z"
   },
   {
    "duration": 212,
    "start_time": "2024-03-26T18:28:42.739Z"
   },
   {
    "duration": 213,
    "start_time": "2024-03-26T18:28:56.654Z"
   },
   {
    "duration": 408,
    "start_time": "2024-03-26T18:43:37.530Z"
   },
   {
    "duration": 16,
    "start_time": "2024-03-26T18:43:37.940Z"
   },
   {
    "duration": 12,
    "start_time": "2024-03-26T18:43:37.957Z"
   },
   {
    "duration": 11,
    "start_time": "2024-03-26T18:43:37.971Z"
   },
   {
    "duration": 715,
    "start_time": "2024-03-26T18:43:37.988Z"
   },
   {
    "duration": 69,
    "start_time": "2024-03-26T18:43:38.704Z"
   },
   {
    "duration": 5,
    "start_time": "2024-03-26T18:43:38.774Z"
   },
   {
    "duration": 18,
    "start_time": "2024-03-26T18:43:38.780Z"
   },
   {
    "duration": 15,
    "start_time": "2024-03-26T18:43:38.799Z"
   },
   {
    "duration": 5,
    "start_time": "2024-03-26T18:43:38.816Z"
   },
   {
    "duration": 11,
    "start_time": "2024-03-26T18:43:38.823Z"
   },
   {
    "duration": 5,
    "start_time": "2024-03-26T18:43:38.836Z"
   },
   {
    "duration": 248,
    "start_time": "2024-03-26T18:43:38.842Z"
   },
   {
    "duration": 146,
    "start_time": "2024-03-26T18:43:39.091Z"
   },
   {
    "duration": 294,
    "start_time": "2024-03-26T18:43:39.239Z"
   },
   {
    "duration": 340,
    "start_time": "2024-03-26T18:43:39.534Z"
   },
   {
    "duration": 14,
    "start_time": "2024-03-26T18:43:39.876Z"
   },
   {
    "duration": 238,
    "start_time": "2024-03-26T18:43:39.892Z"
   },
   {
    "duration": 296,
    "start_time": "2024-03-26T18:43:40.132Z"
   },
   {
    "duration": 253,
    "start_time": "2024-03-26T18:43:40.429Z"
   },
   {
    "duration": 386,
    "start_time": "2024-03-26T18:43:40.684Z"
   },
   {
    "duration": 15,
    "start_time": "2024-03-26T18:43:41.072Z"
   },
   {
    "duration": 129,
    "start_time": "2024-03-26T18:43:41.089Z"
   },
   {
    "duration": 172,
    "start_time": "2024-03-26T18:43:41.219Z"
   },
   {
    "duration": 182,
    "start_time": "2024-03-26T18:43:41.393Z"
   },
   {
    "duration": 4,
    "start_time": "2024-03-26T18:43:41.577Z"
   },
   {
    "duration": 244,
    "start_time": "2024-03-26T18:43:41.583Z"
   },
   {
    "duration": 12,
    "start_time": "2024-03-26T18:43:41.832Z"
   },
   {
    "duration": 194,
    "start_time": "2024-03-26T18:43:41.845Z"
   },
   {
    "duration": 198,
    "start_time": "2024-03-26T18:43:42.041Z"
   },
   {
    "duration": 4,
    "start_time": "2024-03-26T18:43:42.241Z"
   },
   {
    "duration": 232,
    "start_time": "2024-03-26T18:43:42.247Z"
   },
   {
    "duration": 161,
    "start_time": "2024-03-26T18:43:42.481Z"
   },
   {
    "duration": 6,
    "start_time": "2024-03-26T18:43:42.644Z"
   },
   {
    "duration": 12,
    "start_time": "2024-03-26T18:43:42.651Z"
   },
   {
    "duration": 7,
    "start_time": "2024-03-26T18:43:42.664Z"
   },
   {
    "duration": 186,
    "start_time": "2024-03-26T18:43:42.672Z"
   },
   {
    "duration": 11,
    "start_time": "2024-03-26T18:43:42.860Z"
   },
   {
    "duration": 20,
    "start_time": "2024-03-26T18:43:42.873Z"
   },
   {
    "duration": 9,
    "start_time": "2024-03-26T18:43:42.895Z"
   },
   {
    "duration": 17,
    "start_time": "2024-03-26T18:43:42.905Z"
   },
   {
    "duration": 36,
    "start_time": "2024-03-26T18:43:42.923Z"
   },
   {
    "duration": 14,
    "start_time": "2024-03-26T18:43:42.961Z"
   },
   {
    "duration": 188,
    "start_time": "2024-03-26T19:36:56.868Z"
   },
   {
    "duration": 396,
    "start_time": "2024-03-26T19:57:36.644Z"
   },
   {
    "duration": 13,
    "start_time": "2024-03-26T19:57:37.042Z"
   },
   {
    "duration": 11,
    "start_time": "2024-03-26T19:57:37.057Z"
   },
   {
    "duration": 10,
    "start_time": "2024-03-26T19:57:37.069Z"
   },
   {
    "duration": 677,
    "start_time": "2024-03-26T19:57:37.081Z"
   },
   {
    "duration": 67,
    "start_time": "2024-03-26T19:57:37.760Z"
   },
   {
    "duration": 14,
    "start_time": "2024-03-26T19:57:37.829Z"
   },
   {
    "duration": 19,
    "start_time": "2024-03-26T19:57:37.845Z"
   },
   {
    "duration": 13,
    "start_time": "2024-03-26T19:57:37.866Z"
   },
   {
    "duration": 8,
    "start_time": "2024-03-26T19:57:37.881Z"
   },
   {
    "duration": 13,
    "start_time": "2024-03-26T19:57:37.890Z"
   },
   {
    "duration": 6,
    "start_time": "2024-03-26T19:57:37.905Z"
   },
   {
    "duration": 176,
    "start_time": "2024-03-26T19:57:37.912Z"
   },
   {
    "duration": 141,
    "start_time": "2024-03-26T19:57:38.092Z"
   },
   {
    "duration": 287,
    "start_time": "2024-03-26T19:57:38.235Z"
   },
   {
    "duration": 403,
    "start_time": "2024-03-26T19:57:38.524Z"
   },
   {
    "duration": 9,
    "start_time": "2024-03-26T19:57:38.929Z"
   },
   {
    "duration": 237,
    "start_time": "2024-03-26T19:57:38.940Z"
   },
   {
    "duration": 334,
    "start_time": "2024-03-26T19:57:39.187Z"
   },
   {
    "duration": 261,
    "start_time": "2024-03-26T19:57:39.523Z"
   },
   {
    "duration": 379,
    "start_time": "2024-03-26T19:57:39.786Z"
   },
   {
    "duration": 9,
    "start_time": "2024-03-26T19:57:40.167Z"
   },
   {
    "duration": 136,
    "start_time": "2024-03-26T19:57:40.178Z"
   },
   {
    "duration": 157,
    "start_time": "2024-03-26T19:57:40.315Z"
   },
   {
    "duration": 172,
    "start_time": "2024-03-26T19:57:40.474Z"
   },
   {
    "duration": 4,
    "start_time": "2024-03-26T19:57:40.648Z"
   },
   {
    "duration": 240,
    "start_time": "2024-03-26T19:57:40.653Z"
   },
   {
    "duration": 9,
    "start_time": "2024-03-26T19:57:40.895Z"
   },
   {
    "duration": 175,
    "start_time": "2024-03-26T19:57:40.905Z"
   },
   {
    "duration": 181,
    "start_time": "2024-03-26T19:57:41.081Z"
   },
   {
    "duration": 5,
    "start_time": "2024-03-26T19:57:41.263Z"
   },
   {
    "duration": 241,
    "start_time": "2024-03-26T19:57:41.269Z"
   },
   {
    "duration": 156,
    "start_time": "2024-03-26T19:57:41.511Z"
   },
   {
    "duration": 19,
    "start_time": "2024-03-26T19:57:41.668Z"
   },
   {
    "duration": 20,
    "start_time": "2024-03-26T19:57:41.688Z"
   },
   {
    "duration": 11,
    "start_time": "2024-03-26T19:57:41.710Z"
   },
   {
    "duration": 153,
    "start_time": "2024-03-26T19:57:41.723Z"
   },
   {
    "duration": 15,
    "start_time": "2024-03-26T19:57:41.878Z"
   },
   {
    "duration": 8,
    "start_time": "2024-03-26T19:57:41.895Z"
   },
   {
    "duration": 21,
    "start_time": "2024-03-26T19:57:41.905Z"
   },
   {
    "duration": 27,
    "start_time": "2024-03-26T19:57:41.929Z"
   },
   {
    "duration": 28,
    "start_time": "2024-03-26T19:57:41.957Z"
   },
   {
    "duration": 14,
    "start_time": "2024-03-26T19:57:41.986Z"
   },
   {
    "duration": 236,
    "start_time": "2024-03-26T20:12:58.055Z"
   },
   {
    "duration": 216,
    "start_time": "2024-03-26T20:14:32.338Z"
   },
   {
    "duration": 311,
    "start_time": "2024-03-26T20:17:43.026Z"
   },
   {
    "duration": 288,
    "start_time": "2024-03-26T20:23:53.592Z"
   },
   {
    "duration": 396,
    "start_time": "2024-03-26T20:27:26.286Z"
   },
   {
    "duration": 150,
    "start_time": "2024-03-26T20:28:25.428Z"
   },
   {
    "duration": 2,
    "start_time": "2024-03-26T20:28:50.473Z"
   },
   {
    "duration": 169,
    "start_time": "2024-03-26T20:30:17.401Z"
   },
   {
    "duration": 169,
    "start_time": "2024-03-26T20:30:54.481Z"
   },
   {
    "duration": 245,
    "start_time": "2024-03-26T20:31:17.447Z"
   },
   {
    "duration": 25,
    "start_time": "2024-03-26T20:39:24.046Z"
   },
   {
    "duration": 14,
    "start_time": "2024-03-26T20:42:05.366Z"
   },
   {
    "duration": 451,
    "start_time": "2024-03-26T20:53:16.887Z"
   },
   {
    "duration": 17,
    "start_time": "2024-03-26T20:53:17.340Z"
   },
   {
    "duration": 15,
    "start_time": "2024-03-26T20:53:17.358Z"
   },
   {
    "duration": 12,
    "start_time": "2024-03-26T20:53:17.375Z"
   },
   {
    "duration": 691,
    "start_time": "2024-03-26T20:53:17.389Z"
   },
   {
    "duration": 68,
    "start_time": "2024-03-26T20:53:18.081Z"
   },
   {
    "duration": 5,
    "start_time": "2024-03-26T20:53:18.150Z"
   },
   {
    "duration": 7,
    "start_time": "2024-03-26T20:53:18.156Z"
   },
   {
    "duration": 10,
    "start_time": "2024-03-26T20:53:18.164Z"
   },
   {
    "duration": 6,
    "start_time": "2024-03-26T20:53:18.177Z"
   },
   {
    "duration": 10,
    "start_time": "2024-03-26T20:53:18.185Z"
   },
   {
    "duration": 11,
    "start_time": "2024-03-26T20:53:18.197Z"
   },
   {
    "duration": 180,
    "start_time": "2024-03-26T20:53:18.210Z"
   },
   {
    "duration": 129,
    "start_time": "2024-03-26T20:53:18.391Z"
   },
   {
    "duration": 277,
    "start_time": "2024-03-26T20:53:18.521Z"
   },
   {
    "duration": 333,
    "start_time": "2024-03-26T20:53:18.800Z"
   },
   {
    "duration": 10,
    "start_time": "2024-03-26T20:53:19.135Z"
   },
   {
    "duration": 260,
    "start_time": "2024-03-26T20:53:19.147Z"
   },
   {
    "duration": 350,
    "start_time": "2024-03-26T20:53:19.409Z"
   },
   {
    "duration": 283,
    "start_time": "2024-03-26T20:53:19.761Z"
   },
   {
    "duration": 370,
    "start_time": "2024-03-26T20:53:20.046Z"
   },
   {
    "duration": 9,
    "start_time": "2024-03-26T20:53:20.418Z"
   },
   {
    "duration": 137,
    "start_time": "2024-03-26T20:53:20.429Z"
   },
   {
    "duration": 161,
    "start_time": "2024-03-26T20:53:20.568Z"
   },
   {
    "duration": 4,
    "start_time": "2024-03-26T20:53:20.731Z"
   },
   {
    "duration": 192,
    "start_time": "2024-03-26T20:53:20.736Z"
   },
   {
    "duration": 10,
    "start_time": "2024-03-26T20:53:20.930Z"
   },
   {
    "duration": 246,
    "start_time": "2024-03-26T20:53:20.943Z"
   },
   {
    "duration": 184,
    "start_time": "2024-03-26T20:53:21.190Z"
   },
   {
    "duration": 12,
    "start_time": "2024-03-26T20:53:21.376Z"
   },
   {
    "duration": 231,
    "start_time": "2024-03-26T20:53:21.389Z"
   },
   {
    "duration": 175,
    "start_time": "2024-03-26T20:53:21.621Z"
   },
   {
    "duration": 6,
    "start_time": "2024-03-26T20:53:21.797Z"
   },
   {
    "duration": 7,
    "start_time": "2024-03-26T20:53:21.804Z"
   },
   {
    "duration": 5,
    "start_time": "2024-03-26T20:53:21.812Z"
   },
   {
    "duration": 212,
    "start_time": "2024-03-26T20:53:21.818Z"
   },
   {
    "duration": 11,
    "start_time": "2024-03-26T20:53:22.032Z"
   },
   {
    "duration": 9,
    "start_time": "2024-03-26T20:53:22.044Z"
   },
   {
    "duration": 13,
    "start_time": "2024-03-26T20:53:22.054Z"
   },
   {
    "duration": 9,
    "start_time": "2024-03-26T20:53:22.088Z"
   },
   {
    "duration": 26,
    "start_time": "2024-03-26T20:53:22.099Z"
   },
   {
    "duration": 14,
    "start_time": "2024-03-26T20:53:22.127Z"
   },
   {
    "duration": 407,
    "start_time": "2024-03-26T20:54:34.320Z"
   },
   {
    "duration": 35,
    "start_time": "2024-03-26T20:54:34.728Z"
   },
   {
    "duration": 14,
    "start_time": "2024-03-26T20:54:34.764Z"
   },
   {
    "duration": 21,
    "start_time": "2024-03-26T20:54:34.780Z"
   },
   {
    "duration": 11,
    "start_time": "2024-03-26T20:54:34.803Z"
   },
   {
    "duration": 732,
    "start_time": "2024-03-26T20:54:34.816Z"
   },
   {
    "duration": 74,
    "start_time": "2024-03-26T20:54:35.550Z"
   },
   {
    "duration": 5,
    "start_time": "2024-03-26T20:54:35.625Z"
   },
   {
    "duration": 27,
    "start_time": "2024-03-26T20:54:35.632Z"
   },
   {
    "duration": 25,
    "start_time": "2024-03-26T20:54:35.663Z"
   },
   {
    "duration": 14,
    "start_time": "2024-03-26T20:54:35.691Z"
   },
   {
    "duration": 11,
    "start_time": "2024-03-26T20:54:35.706Z"
   },
   {
    "duration": 15,
    "start_time": "2024-03-26T20:54:35.718Z"
   },
   {
    "duration": 184,
    "start_time": "2024-03-26T20:54:35.734Z"
   },
   {
    "duration": 120,
    "start_time": "2024-03-26T20:54:35.919Z"
   },
   {
    "duration": 289,
    "start_time": "2024-03-26T20:54:36.041Z"
   },
   {
    "duration": 334,
    "start_time": "2024-03-26T20:54:36.332Z"
   },
   {
    "duration": 9,
    "start_time": "2024-03-26T20:54:36.668Z"
   },
   {
    "duration": 237,
    "start_time": "2024-03-26T20:54:36.687Z"
   },
   {
    "duration": 314,
    "start_time": "2024-03-26T20:54:36.925Z"
   },
   {
    "duration": 291,
    "start_time": "2024-03-26T20:54:37.241Z"
   },
   {
    "duration": 359,
    "start_time": "2024-03-26T20:54:37.533Z"
   },
   {
    "duration": 13,
    "start_time": "2024-03-26T20:54:37.893Z"
   },
   {
    "duration": 146,
    "start_time": "2024-03-26T20:54:37.908Z"
   },
   {
    "duration": 166,
    "start_time": "2024-03-26T20:54:38.055Z"
   },
   {
    "duration": 4,
    "start_time": "2024-03-26T20:54:38.222Z"
   },
   {
    "duration": 185,
    "start_time": "2024-03-26T20:54:38.227Z"
   },
   {
    "duration": 9,
    "start_time": "2024-03-26T20:54:38.415Z"
   },
   {
    "duration": 254,
    "start_time": "2024-03-26T20:54:38.425Z"
   },
   {
    "duration": 187,
    "start_time": "2024-03-26T20:54:38.681Z"
   },
   {
    "duration": 5,
    "start_time": "2024-03-26T20:54:38.869Z"
   },
   {
    "duration": 243,
    "start_time": "2024-03-26T20:54:38.875Z"
   },
   {
    "duration": 150,
    "start_time": "2024-03-26T20:54:39.119Z"
   },
   {
    "duration": 6,
    "start_time": "2024-03-26T20:54:39.271Z"
   },
   {
    "duration": 14,
    "start_time": "2024-03-26T20:54:39.279Z"
   },
   {
    "duration": 7,
    "start_time": "2024-03-26T20:54:39.295Z"
   },
   {
    "duration": 176,
    "start_time": "2024-03-26T20:54:39.303Z"
   },
   {
    "duration": 19,
    "start_time": "2024-03-26T20:54:39.481Z"
   },
   {
    "duration": 11,
    "start_time": "2024-03-26T20:54:39.502Z"
   },
   {
    "duration": 29,
    "start_time": "2024-03-26T20:54:39.514Z"
   },
   {
    "duration": 9,
    "start_time": "2024-03-26T20:54:39.544Z"
   },
   {
    "duration": 35,
    "start_time": "2024-03-26T20:54:39.555Z"
   },
   {
    "duration": 18,
    "start_time": "2024-03-26T20:54:39.592Z"
   },
   {
    "duration": 387,
    "start_time": "2024-03-27T13:03:13.030Z"
   },
   {
    "duration": 32,
    "start_time": "2024-03-27T13:03:13.419Z"
   },
   {
    "duration": 12,
    "start_time": "2024-03-27T13:03:13.452Z"
   },
   {
    "duration": 11,
    "start_time": "2024-03-27T13:03:13.465Z"
   },
   {
    "duration": 10,
    "start_time": "2024-03-27T13:03:13.477Z"
   },
   {
    "duration": 672,
    "start_time": "2024-03-27T13:03:13.488Z"
   },
   {
    "duration": 61,
    "start_time": "2024-03-27T13:03:14.162Z"
   },
   {
    "duration": 4,
    "start_time": "2024-03-27T13:03:14.225Z"
   },
   {
    "duration": 6,
    "start_time": "2024-03-27T13:03:14.230Z"
   },
   {
    "duration": 5,
    "start_time": "2024-03-27T13:03:14.240Z"
   },
   {
    "duration": 7,
    "start_time": "2024-03-27T13:03:14.246Z"
   },
   {
    "duration": 13,
    "start_time": "2024-03-27T13:03:14.254Z"
   },
   {
    "duration": 6,
    "start_time": "2024-03-27T13:03:14.268Z"
   },
   {
    "duration": 151,
    "start_time": "2024-03-27T13:03:14.275Z"
   },
   {
    "duration": 122,
    "start_time": "2024-03-27T13:03:14.427Z"
   },
   {
    "duration": 244,
    "start_time": "2024-03-27T13:03:14.550Z"
   },
   {
    "duration": 281,
    "start_time": "2024-03-27T13:03:14.795Z"
   },
   {
    "duration": 9,
    "start_time": "2024-03-27T13:03:15.077Z"
   },
   {
    "duration": 235,
    "start_time": "2024-03-27T13:03:15.087Z"
   },
   {
    "duration": 320,
    "start_time": "2024-03-27T13:03:15.324Z"
   },
   {
    "duration": 213,
    "start_time": "2024-03-27T13:03:15.648Z"
   },
   {
    "duration": 315,
    "start_time": "2024-03-27T13:03:15.863Z"
   },
   {
    "duration": 7,
    "start_time": "2024-03-27T13:03:16.180Z"
   },
   {
    "duration": 117,
    "start_time": "2024-03-27T13:03:16.188Z"
   },
   {
    "duration": 130,
    "start_time": "2024-03-27T13:03:16.306Z"
   },
   {
    "duration": 3,
    "start_time": "2024-03-27T13:03:16.437Z"
   },
   {
    "duration": 176,
    "start_time": "2024-03-27T13:03:16.442Z"
   },
   {
    "duration": 9,
    "start_time": "2024-03-27T13:03:16.620Z"
   },
   {
    "duration": 202,
    "start_time": "2024-03-27T13:03:16.630Z"
   },
   {
    "duration": 145,
    "start_time": "2024-03-27T13:03:16.833Z"
   },
   {
    "duration": 3,
    "start_time": "2024-03-27T13:03:16.979Z"
   },
   {
    "duration": 181,
    "start_time": "2024-03-27T13:03:16.984Z"
   },
   {
    "duration": 131,
    "start_time": "2024-03-27T13:03:17.167Z"
   },
   {
    "duration": 6,
    "start_time": "2024-03-27T13:03:17.299Z"
   },
   {
    "duration": 19,
    "start_time": "2024-03-27T13:03:17.306Z"
   },
   {
    "duration": 13,
    "start_time": "2024-03-27T13:03:17.326Z"
   },
   {
    "duration": 147,
    "start_time": "2024-03-27T13:03:17.341Z"
   },
   {
    "duration": 10,
    "start_time": "2024-03-27T13:03:17.489Z"
   },
   {
    "duration": 8,
    "start_time": "2024-03-27T13:03:17.500Z"
   },
   {
    "duration": 11,
    "start_time": "2024-03-27T13:03:17.509Z"
   },
   {
    "duration": 7,
    "start_time": "2024-03-27T13:03:17.522Z"
   },
   {
    "duration": 37,
    "start_time": "2024-03-27T13:03:17.530Z"
   },
   {
    "duration": 12,
    "start_time": "2024-03-27T13:03:17.569Z"
   },
   {
    "duration": 375,
    "start_time": "2024-03-27T13:18:30.662Z"
   },
   {
    "duration": 33,
    "start_time": "2024-03-27T13:18:31.039Z"
   },
   {
    "duration": 39,
    "start_time": "2024-03-27T13:18:31.073Z"
   },
   {
    "duration": 39,
    "start_time": "2024-03-27T13:18:31.114Z"
   },
   {
    "duration": 44,
    "start_time": "2024-03-27T13:18:31.155Z"
   },
   {
    "duration": 720,
    "start_time": "2024-03-27T13:18:31.200Z"
   },
   {
    "duration": 64,
    "start_time": "2024-03-27T13:18:31.921Z"
   },
   {
    "duration": 4,
    "start_time": "2024-03-27T13:18:31.986Z"
   },
   {
    "duration": 79,
    "start_time": "2024-03-27T13:18:31.992Z"
   },
   {
    "duration": 122,
    "start_time": "2024-03-27T13:18:32.072Z"
   },
   {
    "duration": 170,
    "start_time": "2024-03-27T13:18:32.195Z"
   },
   {
    "duration": 132,
    "start_time": "2024-03-27T13:18:32.367Z"
   },
   {
    "duration": 16,
    "start_time": "2024-03-27T13:18:32.501Z"
   },
   {
    "duration": 148,
    "start_time": "2024-03-27T13:18:32.519Z"
   },
   {
    "duration": 114,
    "start_time": "2024-03-27T13:18:32.669Z"
   },
   {
    "duration": 257,
    "start_time": "2024-03-27T13:18:32.784Z"
   },
   {
    "duration": 275,
    "start_time": "2024-03-27T13:18:33.042Z"
   },
   {
    "duration": 10,
    "start_time": "2024-03-27T13:18:33.318Z"
   },
   {
    "duration": 221,
    "start_time": "2024-03-27T13:18:33.330Z"
   },
   {
    "duration": 318,
    "start_time": "2024-03-27T13:18:33.553Z"
   },
   {
    "duration": 218,
    "start_time": "2024-03-27T13:18:33.872Z"
   },
   {
    "duration": 315,
    "start_time": "2024-03-27T13:18:34.092Z"
   },
   {
    "duration": 8,
    "start_time": "2024-03-27T13:18:34.408Z"
   },
   {
    "duration": 116,
    "start_time": "2024-03-27T13:18:34.417Z"
   },
   {
    "duration": 134,
    "start_time": "2024-03-27T13:18:34.535Z"
   },
   {
    "duration": 4,
    "start_time": "2024-03-27T13:18:34.670Z"
   },
   {
    "duration": 154,
    "start_time": "2024-03-27T13:18:34.675Z"
   },
   {
    "duration": 9,
    "start_time": "2024-03-27T13:18:34.830Z"
   },
   {
    "duration": 219,
    "start_time": "2024-03-27T13:18:34.847Z"
   },
   {
    "duration": 152,
    "start_time": "2024-03-27T13:18:35.068Z"
   },
   {
    "duration": 4,
    "start_time": "2024-03-27T13:18:35.222Z"
   },
   {
    "duration": 196,
    "start_time": "2024-03-27T13:18:35.228Z"
   },
   {
    "duration": 129,
    "start_time": "2024-03-27T13:18:35.425Z"
   },
   {
    "duration": 6,
    "start_time": "2024-03-27T13:18:35.555Z"
   },
   {
    "duration": 5,
    "start_time": "2024-03-27T13:18:35.562Z"
   },
   {
    "duration": 8,
    "start_time": "2024-03-27T13:18:35.569Z"
   },
   {
    "duration": 149,
    "start_time": "2024-03-27T13:18:35.578Z"
   },
   {
    "duration": 19,
    "start_time": "2024-03-27T13:18:35.729Z"
   },
   {
    "duration": 8,
    "start_time": "2024-03-27T13:18:35.749Z"
   },
   {
    "duration": 14,
    "start_time": "2024-03-27T13:18:35.758Z"
   },
   {
    "duration": 7,
    "start_time": "2024-03-27T13:18:35.775Z"
   },
   {
    "duration": 22,
    "start_time": "2024-03-27T13:18:35.783Z"
   },
   {
    "duration": 22,
    "start_time": "2024-03-27T13:18:35.806Z"
   },
   {
    "duration": 355,
    "start_time": "2024-03-27T13:19:00.583Z"
   },
   {
    "duration": 40,
    "start_time": "2024-03-27T13:19:00.940Z"
   },
   {
    "duration": 21,
    "start_time": "2024-03-27T13:19:00.981Z"
   },
   {
    "duration": 55,
    "start_time": "2024-03-27T13:19:01.003Z"
   },
   {
    "duration": 41,
    "start_time": "2024-03-27T13:19:01.059Z"
   },
   {
    "duration": 668,
    "start_time": "2024-03-27T13:19:01.101Z"
   },
   {
    "duration": 64,
    "start_time": "2024-03-27T13:19:01.770Z"
   },
   {
    "duration": 4,
    "start_time": "2024-03-27T13:19:01.835Z"
   },
   {
    "duration": 50,
    "start_time": "2024-03-27T13:19:01.840Z"
   },
   {
    "duration": 51,
    "start_time": "2024-03-27T13:19:01.893Z"
   },
   {
    "duration": 52,
    "start_time": "2024-03-27T13:19:01.946Z"
   },
   {
    "duration": 59,
    "start_time": "2024-03-27T13:19:01.999Z"
   },
   {
    "duration": 70,
    "start_time": "2024-03-27T13:19:02.059Z"
   },
   {
    "duration": 183,
    "start_time": "2024-03-27T13:19:02.130Z"
   },
   {
    "duration": 106,
    "start_time": "2024-03-27T13:19:02.314Z"
   },
   {
    "duration": 245,
    "start_time": "2024-03-27T13:19:02.421Z"
   },
   {
    "duration": 272,
    "start_time": "2024-03-27T13:19:02.667Z"
   },
   {
    "duration": 8,
    "start_time": "2024-03-27T13:19:02.940Z"
   },
   {
    "duration": 234,
    "start_time": "2024-03-27T13:19:02.949Z"
   },
   {
    "duration": 271,
    "start_time": "2024-03-27T13:19:03.185Z"
   },
   {
    "duration": 221,
    "start_time": "2024-03-27T13:19:03.457Z"
   },
   {
    "duration": 300,
    "start_time": "2024-03-27T13:19:03.679Z"
   },
   {
    "duration": 8,
    "start_time": "2024-03-27T13:19:03.980Z"
   },
   {
    "duration": 115,
    "start_time": "2024-03-27T13:19:03.989Z"
   },
   {
    "duration": 137,
    "start_time": "2024-03-27T13:19:04.105Z"
   },
   {
    "duration": 6,
    "start_time": "2024-03-27T13:19:04.243Z"
   },
   {
    "duration": 177,
    "start_time": "2024-03-27T13:19:04.250Z"
   },
   {
    "duration": 8,
    "start_time": "2024-03-27T13:19:04.430Z"
   },
   {
    "duration": 237,
    "start_time": "2024-03-27T13:19:04.439Z"
   },
   {
    "duration": 168,
    "start_time": "2024-03-27T13:19:04.677Z"
   },
   {
    "duration": 4,
    "start_time": "2024-03-27T13:19:04.847Z"
   },
   {
    "duration": 196,
    "start_time": "2024-03-27T13:19:04.852Z"
   },
   {
    "duration": 129,
    "start_time": "2024-03-27T13:19:05.049Z"
   },
   {
    "duration": 6,
    "start_time": "2024-03-27T13:19:05.180Z"
   },
   {
    "duration": 9,
    "start_time": "2024-03-27T13:19:05.187Z"
   },
   {
    "duration": 4,
    "start_time": "2024-03-27T13:19:05.198Z"
   },
   {
    "duration": 152,
    "start_time": "2024-03-27T13:19:05.203Z"
   },
   {
    "duration": 9,
    "start_time": "2024-03-27T13:19:05.356Z"
   },
   {
    "duration": 19,
    "start_time": "2024-03-27T13:19:05.366Z"
   },
   {
    "duration": 29,
    "start_time": "2024-03-27T13:19:05.386Z"
   },
   {
    "duration": 10,
    "start_time": "2024-03-27T13:19:05.416Z"
   },
   {
    "duration": 23,
    "start_time": "2024-03-27T13:19:05.427Z"
   },
   {
    "duration": 11,
    "start_time": "2024-03-27T13:19:05.451Z"
   },
   {
    "duration": 83,
    "start_time": "2024-03-31T20:56:19.708Z"
   },
   {
    "duration": 435,
    "start_time": "2024-03-31T20:56:35.121Z"
   },
   {
    "duration": 82,
    "start_time": "2024-03-31T20:56:35.557Z"
   },
   {
    "duration": 15,
    "start_time": "2024-03-31T20:56:35.641Z"
   },
   {
    "duration": 12,
    "start_time": "2024-03-31T20:56:35.658Z"
   },
   {
    "duration": 11,
    "start_time": "2024-03-31T20:56:35.672Z"
   },
   {
    "duration": 990,
    "start_time": "2024-03-31T20:56:35.685Z"
   },
   {
    "duration": 205,
    "start_time": "2024-03-31T20:56:36.677Z"
   },
   {
    "duration": 7,
    "start_time": "2024-03-31T20:56:36.884Z"
   },
   {
    "duration": 6,
    "start_time": "2024-03-31T20:56:36.893Z"
   },
   {
    "duration": 13,
    "start_time": "2024-03-31T20:56:36.905Z"
   },
   {
    "duration": 6,
    "start_time": "2024-03-31T20:56:36.920Z"
   },
   {
    "duration": 10,
    "start_time": "2024-03-31T20:56:36.928Z"
   },
   {
    "duration": 45,
    "start_time": "2024-03-31T20:56:36.940Z"
   },
   {
    "duration": 196,
    "start_time": "2024-03-31T20:56:36.987Z"
   },
   {
    "duration": 148,
    "start_time": "2024-03-31T20:56:37.185Z"
   },
   {
    "duration": 343,
    "start_time": "2024-03-31T20:56:37.334Z"
   },
   {
    "duration": 382,
    "start_time": "2024-03-31T20:56:37.678Z"
   },
   {
    "duration": 21,
    "start_time": "2024-03-31T20:56:38.062Z"
   },
   {
    "duration": 267,
    "start_time": "2024-03-31T20:56:38.085Z"
   },
   {
    "duration": 426,
    "start_time": "2024-03-31T20:56:38.353Z"
   },
   {
    "duration": 331,
    "start_time": "2024-03-31T20:56:38.781Z"
   },
   {
    "duration": 371,
    "start_time": "2024-03-31T20:56:39.114Z"
   },
   {
    "duration": 12,
    "start_time": "2024-03-31T20:56:39.488Z"
   },
   {
    "duration": 155,
    "start_time": "2024-03-31T20:56:39.502Z"
   },
   {
    "duration": 166,
    "start_time": "2024-03-31T20:56:39.659Z"
   },
   {
    "duration": 4,
    "start_time": "2024-03-31T20:56:39.827Z"
   },
   {
    "duration": 298,
    "start_time": "2024-03-31T20:56:39.833Z"
   },
   {
    "duration": 10,
    "start_time": "2024-03-31T20:56:40.135Z"
   },
   {
    "duration": 196,
    "start_time": "2024-03-31T20:56:40.147Z"
   },
   {
    "duration": 192,
    "start_time": "2024-03-31T20:56:40.344Z"
   },
   {
    "duration": 4,
    "start_time": "2024-03-31T20:56:40.538Z"
   },
   {
    "duration": 233,
    "start_time": "2024-03-31T20:56:40.544Z"
   },
   {
    "duration": 155,
    "start_time": "2024-03-31T20:56:40.782Z"
   },
   {
    "duration": 7,
    "start_time": "2024-03-31T20:56:40.939Z"
   },
   {
    "duration": 16,
    "start_time": "2024-03-31T20:56:40.947Z"
   },
   {
    "duration": 6,
    "start_time": "2024-03-31T20:56:40.965Z"
   },
   {
    "duration": 181,
    "start_time": "2024-03-31T20:56:40.983Z"
   },
   {
    "duration": 19,
    "start_time": "2024-03-31T20:56:41.166Z"
   },
   {
    "duration": 12,
    "start_time": "2024-03-31T20:56:41.186Z"
   },
   {
    "duration": 18,
    "start_time": "2024-03-31T20:56:41.200Z"
   },
   {
    "duration": 11,
    "start_time": "2024-03-31T20:56:41.220Z"
   },
   {
    "duration": 26,
    "start_time": "2024-03-31T20:56:41.232Z"
   },
   {
    "duration": 37,
    "start_time": "2024-03-31T20:56:41.260Z"
   }
  ],
  "kernelspec": {
   "display_name": "Python 3 (ipykernel)",
   "language": "python",
   "name": "python3"
  },
  "language_info": {
   "codemirror_mode": {
    "name": "ipython",
    "version": 3
   },
   "file_extension": ".py",
   "mimetype": "text/x-python",
   "name": "python",
   "nbconvert_exporter": "python",
   "pygments_lexer": "ipython3",
   "version": "3.9.5"
  },
  "toc": {
   "base_numbering": 1,
   "nav_menu": {},
   "number_sections": true,
   "sideBar": true,
   "skip_h1_title": true,
   "title_cell": "Table of Contents",
   "title_sidebar": "Contents",
   "toc_cell": false,
   "toc_position": {},
   "toc_section_display": true,
   "toc_window_display": false
  }
 },
 "nbformat": 4,
 "nbformat_minor": 2
}
