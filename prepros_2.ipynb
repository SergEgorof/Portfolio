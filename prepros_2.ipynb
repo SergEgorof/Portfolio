{
 "cells": [
  {
   "cell_type": "markdown",
   "id": "4f11de00",
   "metadata": {
    "deletable": false,
    "editable": false,
    "id": "4f11de00"
   },
   "source": [
    "# Исследование надежности заемщиков"
   ]
  },
  {
   "cell_type": "markdown",
   "id": "f09d6878",
   "metadata": {
    "deletable": false,
    "editable": false,
    "id": "f09d6878"
   },
   "source": [
    "Это первая часть проекта, она будет проверена автоматически. Вторую часть проверит ревьюер. "
   ]
  },
  {
   "cell_type": "markdown",
   "id": "516620ee",
   "metadata": {
    "deletable": false,
    "editable": false,
    "id": "516620ee"
   },
   "source": [
    "## Откройте таблицу и изучите общую информацию о данных"
   ]
  },
  {
   "cell_type": "markdown",
   "id": "76a8a9ce",
   "metadata": {
    "deletable": false,
    "editable": false,
    "id": "76a8a9ce",
    "tags": [
     "start_task"
    ]
   },
   "source": [
    "**Задание 1. Импортируйте библиотеку pandas. Считайте данные из csv-файла в датафрейм и сохраните в переменную `data`. Путь к файлу:**\n",
    "\n",
    "`/datasets/data.csv`"
   ]
  },
  {
   "cell_type": "code",
   "execution_count": 1,
   "id": "fab207d0",
   "metadata": {
    "id": "fab207d0"
   },
   "outputs": [],
   "source": [
    "# импортируйте библиотеку pandas\n",
    "import pandas as pd"
   ]
  },
  {
   "cell_type": "code",
   "execution_count": 2,
   "id": "6c82b607",
   "metadata": {
    "id": "6c82b607"
   },
   "outputs": [],
   "source": [
    "# прочитайте csv-файл\n",
    "data = pd.read_csv ('/datasets/data.csv')"
   ]
  },
  {
   "cell_type": "markdown",
   "id": "08bbb5b3",
   "metadata": {
    "deletable": false,
    "editable": false,
    "id": "08bbb5b3",
    "tags": [
     "start_task"
    ]
   },
   "source": [
    "**Задание 2. Выведите первые 20 строчек датафрейма `data` на экран.**"
   ]
  },
  {
   "cell_type": "code",
   "execution_count": 3,
   "id": "4ff33b36",
   "metadata": {
    "id": "4ff33b36"
   },
   "outputs": [
    {
     "name": "stdout",
     "output_type": "stream",
     "text": [
      "    children  days_employed  dob_years            education  education_id  \\\n",
      "0          1   -8437.673028         42               высшее             0   \n",
      "1          1   -4024.803754         36              среднее             1   \n",
      "2          0   -5623.422610         33              Среднее             1   \n",
      "3          3   -4124.747207         32              среднее             1   \n",
      "4          0  340266.072047         53              среднее             1   \n",
      "5          0    -926.185831         27               высшее             0   \n",
      "6          0   -2879.202052         43               высшее             0   \n",
      "7          0    -152.779569         50              СРЕДНЕЕ             1   \n",
      "8          2   -6929.865299         35               ВЫСШЕЕ             0   \n",
      "9          0   -2188.756445         41              среднее             1   \n",
      "10         2   -4171.483647         36               высшее             0   \n",
      "11         0    -792.701887         40              среднее             1   \n",
      "12         0            NaN         65              среднее             1   \n",
      "13         0   -1846.641941         54  неоконченное высшее             2   \n",
      "14         0   -1844.956182         56               высшее             0   \n",
      "15         1    -972.364419         26              среднее             1   \n",
      "16         0   -1719.934226         35              среднее             1   \n",
      "17         0   -2369.999720         33               высшее             0   \n",
      "18         0  400281.136913         53              среднее             1   \n",
      "19         0  -10038.818549         48              СРЕДНЕЕ             1   \n",
      "\n",
      "       family_status  family_status_id gender income_type  debt  \\\n",
      "0    женат / замужем                 0      F   сотрудник     0   \n",
      "1    женат / замужем                 0      F   сотрудник     0   \n",
      "2    женат / замужем                 0      M   сотрудник     0   \n",
      "3    женат / замужем                 0      M   сотрудник     0   \n",
      "4   гражданский брак                 1      F   пенсионер     0   \n",
      "5   гражданский брак                 1      M   компаньон     0   \n",
      "6    женат / замужем                 0      F   компаньон     0   \n",
      "7    женат / замужем                 0      M   сотрудник     0   \n",
      "8   гражданский брак                 1      F   сотрудник     0   \n",
      "9    женат / замужем                 0      M   сотрудник     0   \n",
      "10   женат / замужем                 0      M   компаньон     0   \n",
      "11   женат / замужем                 0      F   сотрудник     0   \n",
      "12  гражданский брак                 1      M   пенсионер     0   \n",
      "13   женат / замужем                 0      F   сотрудник     0   \n",
      "14  гражданский брак                 1      F   компаньон     1   \n",
      "15   женат / замужем                 0      F   сотрудник     0   \n",
      "16   женат / замужем                 0      F   сотрудник     0   \n",
      "17  гражданский брак                 1      M   сотрудник     0   \n",
      "18    вдовец / вдова                 2      F   пенсионер     0   \n",
      "19         в разводе                 3      F   сотрудник     0   \n",
      "\n",
      "     total_income                                 purpose  \n",
      "0   253875.639453                           покупка жилья  \n",
      "1   112080.014102                 приобретение автомобиля  \n",
      "2   145885.952297                           покупка жилья  \n",
      "3   267628.550329              дополнительное образование  \n",
      "4   158616.077870                         сыграть свадьбу  \n",
      "5   255763.565419                           покупка жилья  \n",
      "6   240525.971920                       операции с жильем  \n",
      "7   135823.934197                             образование  \n",
      "8    95856.832424                   на проведение свадьбы  \n",
      "9   144425.938277                 покупка жилья для семьи  \n",
      "10  113943.491460                    покупка недвижимости  \n",
      "11   77069.234271       покупка коммерческой недвижимости  \n",
      "12            NaN                         сыграть свадьбу  \n",
      "13  130458.228857                 приобретение автомобиля  \n",
      "14  165127.911772              покупка жилой недвижимости  \n",
      "15  116820.904450  строительство собственной недвижимости  \n",
      "16  289202.704229                            недвижимость  \n",
      "17   90410.586745              строительство недвижимости  \n",
      "18   56823.777243      на покупку подержанного автомобиля  \n",
      "19  242831.107982            на покупку своего автомобиля  \n"
     ]
    }
   ],
   "source": [
    "# ваш код здесь\n",
    "print (data.head(20))"
   ]
  },
  {
   "cell_type": "markdown",
   "id": "c8f382ae",
   "metadata": {
    "deletable": false,
    "editable": false,
    "id": "c8f382ae",
    "tags": [
     "start_task"
    ]
   },
   "source": [
    "**Задание 3. Выведите основную информацию о датафрейме с помощью метода `info()`.**"
   ]
  },
  {
   "cell_type": "code",
   "execution_count": 4,
   "id": "e1ed9908",
   "metadata": {
    "id": "e1ed9908"
   },
   "outputs": [
    {
     "name": "stdout",
     "output_type": "stream",
     "text": [
      "<class 'pandas.core.frame.DataFrame'>\n",
      "RangeIndex: 21525 entries, 0 to 21524\n",
      "Data columns (total 12 columns):\n",
      " #   Column            Non-Null Count  Dtype  \n",
      "---  ------            --------------  -----  \n",
      " 0   children          21525 non-null  int64  \n",
      " 1   days_employed     19351 non-null  float64\n",
      " 2   dob_years         21525 non-null  int64  \n",
      " 3   education         21525 non-null  object \n",
      " 4   education_id      21525 non-null  int64  \n",
      " 5   family_status     21525 non-null  object \n",
      " 6   family_status_id  21525 non-null  int64  \n",
      " 7   gender            21525 non-null  object \n",
      " 8   income_type       21525 non-null  object \n",
      " 9   debt              21525 non-null  int64  \n",
      " 10  total_income      19351 non-null  float64\n",
      " 11  purpose           21525 non-null  object \n",
      "dtypes: float64(2), int64(5), object(5)\n",
      "memory usage: 2.0+ MB\n"
     ]
    }
   ],
   "source": [
    "# ваш код здесь\n",
    "data.info()"
   ]
  },
  {
   "cell_type": "markdown",
   "id": "f969a1cd",
   "metadata": {
    "deletable": false,
    "editable": false,
    "id": "f969a1cd"
   },
   "source": [
    "## Предобработка данных"
   ]
  },
  {
   "cell_type": "markdown",
   "id": "7283e864",
   "metadata": {
    "deletable": false,
    "editable": false,
    "id": "7283e864"
   },
   "source": [
    "### Удаление пропусков"
   ]
  },
  {
   "cell_type": "markdown",
   "id": "c9a0745e",
   "metadata": {
    "deletable": false,
    "editable": false,
    "id": "c9a0745e",
    "tags": [
     "start_task"
    ]
   },
   "source": [
    "**Задание 4. Выведите количество пропущенных значений для каждого столбца. Используйте комбинацию двух методов.**"
   ]
  },
  {
   "cell_type": "markdown",
   "id": "83df1f40",
   "metadata": {
    "id": "b7a096e1"
   },
   "source": [
    "# ваш код здесь\n",
    "#print (len(data[data['days_employed'].isna()]))\n",
    "print (data.isnull().sum())"
   ]
  },
  {
   "cell_type": "markdown",
   "id": "c2578616",
   "metadata": {
    "deletable": false,
    "editable": false,
    "id": "c2578616",
    "tags": [
     "start_task"
    ]
   },
   "source": [
    "**Задание 5. В двух столбцах есть пропущенные значения. Один из них — `days_employed`. Пропуски в этом столбце вы обработаете на следующем этапе. Другой столбец с пропущенными значениями — `total_income` — хранит данные о доходах. На сумму дохода сильнее всего влияет тип занятости, поэтому заполнить пропуски в этом столбце нужно медианным значением по каждому типу из столбца `income_type`. Например, у человека с типом занятости `сотрудник` пропуск в столбце `total_income` должен быть заполнен медианным доходом среди всех записей с тем же типом.**"
   ]
  },
  {
   "cell_type": "code",
   "execution_count": 17,
   "id": "e8afc4bc",
   "metadata": {
    "id": "e8afc4bc"
   },
   "outputs": [],
   "source": [
    "# ваш код здесь\n",
    "#for type in data['income_type'].unique():\n",
    "#    data.loc[(data['income_type']==type) & (data['total_income'].isna()),'total_income']=\\\n",
    "#    data.loc[(data['income_type']==type),'total_income'].median()\n",
    "data = data.dropna(subset=['total_income'])"
   ]
  },
  {
   "cell_type": "markdown",
   "id": "ae986d46",
   "metadata": {
    "deletable": false,
    "editable": false,
    "id": "ae986d46"
   },
   "source": [
    "### Обработка аномальных значений"
   ]
  },
  {
   "cell_type": "markdown",
   "id": "b049cbae",
   "metadata": {
    "deletable": false,
    "editable": false,
    "id": "b049cbae",
    "tags": [
     "start_task"
    ]
   },
   "source": [
    "**Задание 6. В данных могут встречаться артефакты (аномалии) — значения, которые не отражают действительность и появились по какой-то ошибке. Таким артефактом будет отрицательное количество дней трудового стажа в столбце `days_employed`. Для реальных данных это нормально. Обработайте значения в этом столбце: замените все отрицательные значения положительными с помощью метода `abs()`.**"
   ]
  },
  {
   "cell_type": "code",
   "execution_count": 6,
   "id": "187779b0",
   "metadata": {
    "id": "187779b0"
   },
   "outputs": [],
   "source": [
    "# ваш код здесь\n",
    "data['days_employed'] = data['days_employed'].abs()"
   ]
  },
  {
   "cell_type": "markdown",
   "id": "a13054c2",
   "metadata": {
    "deletable": false,
    "editable": false,
    "id": "a13054c2",
    "tags": [
     "start_task"
    ]
   },
   "source": [
    "**Задание 7. Для каждого типа занятости выведите медианное значение трудового стажа `days_employed` в днях.**"
   ]
  },
  {
   "cell_type": "code",
   "execution_count": 7,
   "id": "f3f5810c",
   "metadata": {
    "id": "f3f5810c"
   },
   "outputs": [
    {
     "name": "stdout",
     "output_type": "stream",
     "text": [
      "income_type\n",
      "безработный        366413.652744\n",
      "в декрете            3296.759962\n",
      "госслужащий          2689.368353\n",
      "компаньон            1547.382223\n",
      "пенсионер          365213.306266\n",
      "предприниматель       520.848083\n",
      "сотрудник            1574.202821\n",
      "студент               578.751554\n",
      "Name: days_employed, dtype: float64\n"
     ]
    }
   ],
   "source": [
    "# ваш код здесь\n",
    "print (data.groupby('income_type')['days_employed'].median())\n"
   ]
  },
  {
   "cell_type": "markdown",
   "id": "dbc3168c",
   "metadata": {
    "deletable": false,
    "editable": false,
    "id": "dbc3168c"
   },
   "source": [
    "У двух типов (безработные и пенсионеры) получатся аномально большие значения. Исправить такие значения сложно, поэтому оставьте их как есть."
   ]
  },
  {
   "cell_type": "markdown",
   "id": "ff4378c2",
   "metadata": {
    "deletable": false,
    "editable": false,
    "id": "ff4378c2",
    "tags": [
     "start_task"
    ]
   },
   "source": [
    "**Задание 8. Выведите перечень уникальных значений столбца `children`.**"
   ]
  },
  {
   "cell_type": "code",
   "execution_count": 8,
   "id": "9bd0c232",
   "metadata": {
    "id": "9bd0c232"
   },
   "outputs": [
    {
     "name": "stdout",
     "output_type": "stream",
     "text": [
      "[ 1  0  3  2 -1  4 20  5]\n"
     ]
    }
   ],
   "source": [
    "# ваш код здесь\n",
    "print (data['children'].unique())"
   ]
  },
  {
   "cell_type": "markdown",
   "id": "8e911990",
   "metadata": {
    "deletable": false,
    "editable": false,
    "id": "8e911990",
    "tags": [
     "start_task"
    ]
   },
   "source": [
    "**Задание 9. В столбце `children` есть два аномальных значения. Удалите строки, в которых встречаются такие аномальные значения из датафрейма `data`.**"
   ]
  },
  {
   "cell_type": "code",
   "execution_count": 9,
   "id": "6d5ba289",
   "metadata": {
    "id": "6d5ba289"
   },
   "outputs": [
    {
     "name": "stdout",
     "output_type": "stream",
     "text": [
      "[1 0 3 2 4 5]\n"
     ]
    }
   ],
   "source": [
    "# ваш код здесь\n",
    "data = data[data['children']!=-1]\n",
    "data = data[data['children']!=20]\n",
    "#data_clean = data.dropna(subset=['children']).loc[data['children']==20]\n",
    "print (data['children'].unique())\n"
   ]
  },
  {
   "cell_type": "markdown",
   "id": "18d77455",
   "metadata": {
    "deletable": false,
    "editable": false,
    "id": "18d77455",
    "tags": [
     "start_task"
    ]
   },
   "source": [
    "**Задание 10. Ещё раз выведите перечень уникальных значений столбца `children`, чтобы убедиться, что артефакты удалены.**"
   ]
  },
  {
   "cell_type": "code",
   "execution_count": 10,
   "id": "2c5fa92c",
   "metadata": {
    "id": "2c5fa92c"
   },
   "outputs": [
    {
     "name": "stdout",
     "output_type": "stream",
     "text": [
      "[1 0 3 2 4 5]\n"
     ]
    }
   ],
   "source": [
    "# ваш код здесь\n",
    "print (data['children'].unique())"
   ]
  },
  {
   "cell_type": "markdown",
   "id": "0ec07dee",
   "metadata": {
    "deletable": false,
    "editable": false,
    "id": "0ec07dee"
   },
   "source": [
    "### Удаление пропусков (продолжение)"
   ]
  },
  {
   "cell_type": "markdown",
   "id": "0fc3ae3f",
   "metadata": {
    "deletable": false,
    "editable": false,
    "id": "0fc3ae3f",
    "tags": [
     "start_task"
    ]
   },
   "source": [
    "**Задание 11. Заполните пропуски в столбце `days_employed` медианными значениями по каждому типу занятости `income_type`.**"
   ]
  },
  {
   "cell_type": "code",
   "execution_count": 11,
   "id": "e2aea7ac",
   "metadata": {
    "id": "e2aea7ac"
   },
   "outputs": [],
   "source": [
    "# ваш код здесь\n",
    "for type in data['income_type'].unique():\n",
    "    data.loc[(data['income_type']==type) & (data['days_employed'].isna()),'days_employed']=\\\n",
    "    data.loc[(data['income_type']==type),'days_employed'].median()"
   ]
  },
  {
   "cell_type": "markdown",
   "id": "97b0b795",
   "metadata": {
    "deletable": false,
    "editable": false,
    "id": "97b0b795",
    "tags": [
     "start_task"
    ]
   },
   "source": [
    "**Задание 12. Убедитесь, что все пропуски заполнены. Проверьте себя и ещё раз выведите количество пропущенных значений для каждого столбца с помощью двух методов.**"
   ]
  },
  {
   "cell_type": "code",
   "execution_count": 18,
   "id": "79632a21",
   "metadata": {
    "id": "79632a21"
   },
   "outputs": [
    {
     "name": "stdout",
     "output_type": "stream",
     "text": [
      "children            0\n",
      "days_employed       0\n",
      "dob_years           0\n",
      "education           0\n",
      "education_id        0\n",
      "family_status       0\n",
      "family_status_id    0\n",
      "gender              0\n",
      "income_type         0\n",
      "debt                0\n",
      "total_income        0\n",
      "purpose             0\n",
      "dtype: int64\n"
     ]
    }
   ],
   "source": [
    "# ваш код здесь\n",
    "print (data.isnull().sum())"
   ]
  },
  {
   "cell_type": "markdown",
   "id": "bd4aeb20",
   "metadata": {
    "deletable": false,
    "editable": false,
    "id": "bd4aeb20"
   },
   "source": [
    "### Изменение типов данных"
   ]
  },
  {
   "cell_type": "markdown",
   "id": "963bfa58",
   "metadata": {
    "deletable": false,
    "editable": false,
    "id": "963bfa58",
    "tags": [
     "start_task"
    ]
   },
   "source": [
    "**Задание 13. Замените вещественный тип данных в столбце `total_income` на целочисленный с помощью метода `astype()`.**"
   ]
  },
  {
   "cell_type": "code",
   "execution_count": 19,
   "id": "73da6ea0",
   "metadata": {
    "id": "73da6ea0"
   },
   "outputs": [],
   "source": [
    "# ваш код здесь\n",
    "data['total_income'] = data['total_income'].astype('int')"
   ]
  },
  {
   "cell_type": "markdown",
   "id": "d290239e",
   "metadata": {
    "deletable": false,
    "editable": false,
    "id": "d290239e"
   },
   "source": [
    "### Обработка дубликатов"
   ]
  },
  {
   "cell_type": "markdown",
   "id": "1b5844fd",
   "metadata": {
    "deletable": false,
    "editable": false,
    "id": "1b5844fd",
    "tags": [
     "start_task"
    ]
   },
   "source": [
    "**Задание 14. Обработайте неявные дубликаты в столбце `education`. В этом столбце есть одни и те же значения, но записанные по-разному: с использованием заглавных и строчных букв. Приведите их к нижнему регистру.**"
   ]
  },
  {
   "cell_type": "code",
   "execution_count": null,
   "id": "3f2504b3",
   "metadata": {
    "id": "3f2504b3"
   },
   "outputs": [],
   "source": [
    "# ваш код здесь\n",
    "#print(data['education'].unique())\n",
    "data['education'] = data['education'].str.lower()\n",
    "#print(data['education'].unique())"
   ]
  },
  {
   "cell_type": "markdown",
   "id": "4c22acbc",
   "metadata": {
    "deletable": false,
    "editable": false,
    "id": "4c22acbc",
    "tags": [
     "start_task"
    ]
   },
   "source": [
    "**Задание 15. Выведите на экран количество строк-дубликатов в данных. Если такие строки присутствуют, удалите их.**"
   ]
  },
  {
   "cell_type": "code",
   "execution_count": null,
   "id": "d34a4325",
   "metadata": {
    "id": "d34a4325"
   },
   "outputs": [],
   "source": [
    "# посчитайте дубликаты\n",
    "print (data.duplicated().sum())"
   ]
  },
  {
   "cell_type": "code",
   "execution_count": null,
   "id": "6e1a6499",
   "metadata": {
    "id": "6e1a6499"
   },
   "outputs": [],
   "source": [
    "# удалите дубликаты\n",
    "data = data.drop_duplicates()"
   ]
  },
  {
   "cell_type": "markdown",
   "id": "e5686ccc",
   "metadata": {
    "deletable": false,
    "editable": false,
    "id": "e5686ccc"
   },
   "source": [
    "### Категоризация данных"
   ]
  },
  {
   "cell_type": "markdown",
   "id": "636e9acd",
   "metadata": {
    "deletable": false,
    "editable": false,
    "id": "636e9acd",
    "tags": [
     "start_task"
    ]
   },
   "source": [
    "**Задание 16. На основании диапазонов, указанных ниже, создайте в датафрейме `data` столбец `total_income_category` с категориями:**\n",
    "\n",
    "- 0–30000 — `'E'`;\n",
    "- 30001–50000 — `'D'`;\n",
    "- 50001–200000 — `'C'`;\n",
    "- 200001–1000000 — `'B'`;\n",
    "- 1000001 и выше — `'A'`.\n",
    "\n",
    "\n",
    "**Например, кредитополучателю с доходом 25000 нужно назначить категорию `'E'`, а клиенту, получающему 235000, — `'B'`. Используйте собственную функцию с именем `categorize_income()` и метод `apply()`.**"
   ]
  },
  {
   "cell_type": "code",
   "execution_count": null,
   "id": "880a77e5",
   "metadata": {
    "id": "880a77e5"
   },
   "outputs": [],
   "source": [
    "# создайте функцию categorize_income()\n",
    "def categorize_income(income):\n",
    "    if income <= 30000:\n",
    "        return 'E'\n",
    "    if income <= 50000:\n",
    "        return 'D'\n",
    "    if income <= 200000:\n",
    "        return 'C'\n",
    "    if income <= 1000000:\n",
    "        return 'B'\n",
    "    return 'A'\n",
    "    "
   ]
  },
  {
   "cell_type": "code",
   "execution_count": null,
   "id": "6f25f161",
   "metadata": {
    "id": "6f25f161"
   },
   "outputs": [],
   "source": [
    "# примените функцию методом apply()\n",
    "data['total_income_category'] = data['total_income'].apply(categorize_income)"
   ]
  },
  {
   "cell_type": "markdown",
   "id": "3363b685",
   "metadata": {
    "deletable": false,
    "editable": false,
    "id": "3363b685",
    "tags": [
     "start_task"
    ]
   },
   "source": [
    "**Задание 17. Выведите на экран перечень уникальных целей взятия кредита из столбца `purpose`.**"
   ]
  },
  {
   "cell_type": "code",
   "execution_count": null,
   "id": "e59f2c15",
   "metadata": {
    "id": "e59f2c15"
   },
   "outputs": [],
   "source": [
    "# ваш код здесь\n",
    "print(data['purpose'].unique())"
   ]
  },
  {
   "cell_type": "markdown",
   "id": "bb33e847",
   "metadata": {
    "deletable": false,
    "editable": false,
    "id": "bb33e847",
    "tags": [
     "start_task"
    ]
   },
   "source": [
    "**Задание 18. Создайте функцию, которая на основании данных из столбца `purpose` сформирует новый столбец `purpose_category`, в который войдут следующие категории:**\n",
    "\n",
    "- `'операции с автомобилем'`,\n",
    "- `'операции с недвижимостью'`,\n",
    "- `'проведение свадьбы'`,\n",
    "- `'получение образования'`.\n",
    "\n",
    "**Например, если в столбце `purpose` находится подстрока `'на покупку автомобиля'`, то в столбце `purpose_category` должна появиться строка `'операции с автомобилем'`.**\n",
    "\n",
    "**Используйте собственную функцию с именем `categorize_purpose()` и метод `apply()`. Изучите данные в столбце `purpose` и определите, какие подстроки помогут вам правильно определить категорию.**"
   ]
  },
  {
   "cell_type": "code",
   "execution_count": null,
   "id": "63909b83",
   "metadata": {
    "id": "63909b83"
   },
   "outputs": [],
   "source": [
    "# создайте функцию categorize_purpose()\n",
    "def categorize_purpose(aim):\n",
    "    if aim in ('приобретение автомобиля', 'на покупку подержанного автомобиля',\n",
    "               'на покупку своего автомобиля', 'автомобили', 'сделка с подержанным автомобилем',\n",
    "              'автомобиль','свой автомобиль', 'сделка с автомобилем', 'на покупку автомобиля'):\n",
    "        return 'операции с автомобилем'\n",
    "    if aim in ('покупка жилья', 'операции с жильем', 'покупка жилья для семьи',\n",
    "               'покупка недвижимости', 'покупка коммерческой недвижимости',\n",
    "              'покупка жилой недвижимости', 'строительство собственной недвижимости',\n",
    "              'недвижимость', 'строительство недвижимости',\n",
    "               'операции с коммерческой недвижимостью', 'строительство жилой недвижимости',\n",
    "              'жилье', 'операции со своей недвижимостью', 'покупка своего жилья',\n",
    "              'операции с недвижимостью', 'покупка жилья для сдачи', 'ремонт жилью'):\n",
    "        return 'операции с недвижимостью'\n",
    "    if aim in ('сыграть свадьбу', 'на проведение свадьбы', 'свадьба'):\n",
    "        return 'проведение свадьбы'\n",
    "    if aim in ('образование', 'заняться образованием', 'получение образования',\n",
    "               'получение дополнительного образования', 'получение высшего образования',\n",
    "              'профильное образование', 'высшее образование', 'заняться высшим образованием',\n",
    "              'дополнительное образование'):\n",
    "        return'получение образования'"
   ]
  },
  {
   "cell_type": "code",
   "execution_count": null,
   "id": "7cb4a81d",
   "metadata": {
    "id": "7cb4a81d"
   },
   "outputs": [],
   "source": [
    "# примените функцию методом apply()\n",
    "data['purpose_category'] = data['purpose'].apply(categorize_purpose)\n",
    "print (data.head(30))"
   ]
  },
  {
   "cell_type": "code",
   "execution_count": null,
   "id": "976c8e8b",
   "metadata": {},
   "outputs": [],
   "source": []
  },
  {
   "cell_type": "code",
   "execution_count": null,
   "id": "0ec4de6b",
   "metadata": {},
   "outputs": [],
   "source": []
  }
 ],
 "metadata": {
  "ExecuteTimeLog": [
   {
    "duration": 44,
    "start_time": "2023-11-25T20:00:25.716Z"
   },
   {
    "duration": 371,
    "start_time": "2023-11-25T20:00:49.176Z"
   },
   {
    "duration": 137,
    "start_time": "2023-11-25T20:00:49.549Z"
   },
   {
    "duration": 10,
    "start_time": "2023-11-25T20:00:49.687Z"
   },
   {
    "duration": 34,
    "start_time": "2023-11-25T20:00:49.699Z"
   },
   {
    "duration": 5,
    "start_time": "2023-11-25T20:00:49.735Z"
   },
   {
    "duration": 23,
    "start_time": "2023-11-25T20:00:49.741Z"
   },
   {
    "duration": 11,
    "start_time": "2023-11-25T20:00:49.766Z"
   },
   {
    "duration": 11,
    "start_time": "2023-11-25T20:00:49.778Z"
   },
   {
    "duration": 23,
    "start_time": "2023-11-25T20:00:49.790Z"
   },
   {
    "duration": 24,
    "start_time": "2023-11-25T20:00:49.816Z"
   },
   {
    "duration": 17,
    "start_time": "2023-11-25T20:00:49.842Z"
   },
   {
    "duration": 26,
    "start_time": "2023-11-25T20:00:49.861Z"
   },
   {
    "duration": 14,
    "start_time": "2023-11-25T20:00:49.888Z"
   },
   {
    "duration": 20,
    "start_time": "2023-11-25T20:00:49.904Z"
   },
   {
    "duration": 17,
    "start_time": "2023-11-25T20:00:49.926Z"
   },
   {
    "duration": 18,
    "start_time": "2023-11-25T20:00:49.945Z"
   },
   {
    "duration": 25,
    "start_time": "2023-11-25T20:00:49.964Z"
   },
   {
    "duration": 25,
    "start_time": "2023-11-25T20:00:49.991Z"
   },
   {
    "duration": 29,
    "start_time": "2023-11-25T20:00:50.017Z"
   },
   {
    "duration": 17,
    "start_time": "2023-11-25T20:00:50.047Z"
   },
   {
    "duration": 18,
    "start_time": "2023-11-25T20:00:50.066Z"
   },
   {
    "duration": 18,
    "start_time": "2023-11-25T20:00:50.085Z"
   },
   {
    "duration": 14,
    "start_time": "2023-11-25T20:01:49.194Z"
   },
   {
    "duration": 5,
    "start_time": "2023-11-25T20:05:20.983Z"
   },
   {
    "duration": 5,
    "start_time": "2023-11-25T20:10:12.831Z"
   },
   {
    "duration": 18,
    "start_time": "2023-11-25T20:12:11.961Z"
   },
   {
    "duration": 9,
    "start_time": "2023-11-25T20:15:09.747Z"
   },
   {
    "duration": 39,
    "start_time": "2023-11-25T20:29:54.917Z"
   },
   {
    "duration": 31,
    "start_time": "2023-11-25T20:29:59.740Z"
   },
   {
    "duration": 6,
    "start_time": "2023-11-25T20:39:11.064Z"
   },
   {
    "duration": 381,
    "start_time": "2023-11-25T20:39:35.754Z"
   },
   {
    "duration": 79,
    "start_time": "2023-11-25T20:39:36.137Z"
   },
   {
    "duration": 9,
    "start_time": "2023-11-25T20:39:36.217Z"
   },
   {
    "duration": 35,
    "start_time": "2023-11-25T20:39:36.228Z"
   },
   {
    "duration": 34,
    "start_time": "2023-11-25T20:39:36.265Z"
   },
   {
    "duration": 3,
    "start_time": "2023-11-25T20:39:36.301Z"
   },
   {
    "duration": 29,
    "start_time": "2023-11-25T20:39:36.305Z"
   },
   {
    "duration": 3,
    "start_time": "2023-11-25T20:39:36.335Z"
   },
   {
    "duration": 9,
    "start_time": "2023-11-25T20:39:36.340Z"
   },
   {
    "duration": 5,
    "start_time": "2023-11-25T20:39:36.351Z"
   },
   {
    "duration": 13,
    "start_time": "2023-11-25T20:39:36.357Z"
   },
   {
    "duration": 17,
    "start_time": "2023-11-25T20:39:36.371Z"
   },
   {
    "duration": 9,
    "start_time": "2023-11-25T20:39:36.390Z"
   },
   {
    "duration": 10,
    "start_time": "2023-11-25T20:39:36.400Z"
   },
   {
    "duration": 5,
    "start_time": "2023-11-25T20:39:36.411Z"
   },
   {
    "duration": 4,
    "start_time": "2023-11-25T20:39:36.417Z"
   },
   {
    "duration": 7,
    "start_time": "2023-11-25T20:39:36.422Z"
   },
   {
    "duration": 4,
    "start_time": "2023-11-25T20:39:36.430Z"
   },
   {
    "duration": 7,
    "start_time": "2023-11-25T20:39:36.435Z"
   },
   {
    "duration": 4,
    "start_time": "2023-11-25T20:39:36.444Z"
   },
   {
    "duration": 4,
    "start_time": "2023-11-25T20:39:36.449Z"
   },
   {
    "duration": 4,
    "start_time": "2023-11-25T20:40:51.559Z"
   },
   {
    "duration": 12,
    "start_time": "2023-11-25T20:50:09.656Z"
   },
   {
    "duration": 9,
    "start_time": "2023-11-25T20:51:36.744Z"
   },
   {
    "duration": 379,
    "start_time": "2023-11-25T20:51:42.564Z"
   },
   {
    "duration": 76,
    "start_time": "2023-11-25T20:51:42.945Z"
   },
   {
    "duration": 10,
    "start_time": "2023-11-25T20:51:43.022Z"
   },
   {
    "duration": 16,
    "start_time": "2023-11-25T20:51:43.034Z"
   },
   {
    "duration": 35,
    "start_time": "2023-11-25T20:51:43.051Z"
   },
   {
    "duration": 2,
    "start_time": "2023-11-25T20:51:43.088Z"
   },
   {
    "duration": 13,
    "start_time": "2023-11-25T20:51:43.092Z"
   },
   {
    "duration": 3,
    "start_time": "2023-11-25T20:51:43.107Z"
   },
   {
    "duration": 11,
    "start_time": "2023-11-25T20:51:43.132Z"
   },
   {
    "duration": 3,
    "start_time": "2023-11-25T20:51:43.145Z"
   },
   {
    "duration": 23,
    "start_time": "2023-11-25T20:51:43.149Z"
   },
   {
    "duration": 8,
    "start_time": "2023-11-25T20:51:43.174Z"
   },
   {
    "duration": 15,
    "start_time": "2023-11-25T20:51:43.184Z"
   },
   {
    "duration": 5,
    "start_time": "2023-11-25T20:51:43.200Z"
   },
   {
    "duration": 5,
    "start_time": "2023-11-25T20:51:43.206Z"
   },
   {
    "duration": 4,
    "start_time": "2023-11-25T20:51:43.213Z"
   },
   {
    "duration": 5,
    "start_time": "2023-11-25T20:51:43.219Z"
   },
   {
    "duration": 6,
    "start_time": "2023-11-25T20:51:43.226Z"
   },
   {
    "duration": 5,
    "start_time": "2023-11-25T20:51:43.233Z"
   },
   {
    "duration": 5,
    "start_time": "2023-11-25T20:51:43.239Z"
   },
   {
    "duration": 13,
    "start_time": "2023-11-25T20:51:43.245Z"
   },
   {
    "duration": 9,
    "start_time": "2023-11-25T20:54:06.881Z"
   },
   {
    "duration": 9,
    "start_time": "2023-11-25T20:54:10.727Z"
   },
   {
    "duration": 408,
    "start_time": "2023-11-25T20:54:17.715Z"
   },
   {
    "duration": 78,
    "start_time": "2023-11-25T20:54:18.125Z"
   },
   {
    "duration": 10,
    "start_time": "2023-11-25T20:54:18.205Z"
   },
   {
    "duration": 15,
    "start_time": "2023-11-25T20:54:18.217Z"
   },
   {
    "duration": 37,
    "start_time": "2023-11-25T20:54:18.234Z"
   },
   {
    "duration": 3,
    "start_time": "2023-11-25T20:54:18.273Z"
   },
   {
    "duration": 9,
    "start_time": "2023-11-25T20:54:18.278Z"
   },
   {
    "duration": 3,
    "start_time": "2023-11-25T20:54:18.288Z"
   },
   {
    "duration": 14,
    "start_time": "2023-11-25T20:54:18.292Z"
   },
   {
    "duration": 2,
    "start_time": "2023-11-25T20:54:18.330Z"
   },
   {
    "duration": 4,
    "start_time": "2023-11-25T20:54:18.334Z"
   },
   {
    "duration": 11,
    "start_time": "2023-11-25T20:54:18.340Z"
   },
   {
    "duration": 5,
    "start_time": "2023-11-25T20:54:18.353Z"
   },
   {
    "duration": 3,
    "start_time": "2023-11-25T20:54:18.361Z"
   },
   {
    "duration": 10,
    "start_time": "2023-11-25T20:54:18.365Z"
   },
   {
    "duration": 6,
    "start_time": "2023-11-25T20:54:18.376Z"
   },
   {
    "duration": 18,
    "start_time": "2023-11-25T20:54:18.383Z"
   },
   {
    "duration": 8,
    "start_time": "2023-11-25T20:54:18.402Z"
   },
   {
    "duration": 6,
    "start_time": "2023-11-25T20:54:18.412Z"
   },
   {
    "duration": 10,
    "start_time": "2023-11-25T20:54:18.419Z"
   },
   {
    "duration": 7,
    "start_time": "2023-11-25T20:54:18.430Z"
   },
   {
    "duration": 3,
    "start_time": "2023-11-25T20:55:41.967Z"
   },
   {
    "duration": 6,
    "start_time": "2023-11-25T20:55:53.333Z"
   },
   {
    "duration": 9,
    "start_time": "2023-11-25T20:56:18.743Z"
   },
   {
    "duration": 8,
    "start_time": "2023-11-25T20:56:53.077Z"
   },
   {
    "duration": 11,
    "start_time": "2023-11-25T20:57:17.905Z"
   },
   {
    "duration": 365,
    "start_time": "2023-11-25T20:57:41.774Z"
   },
   {
    "duration": 78,
    "start_time": "2023-11-25T20:57:42.141Z"
   },
   {
    "duration": 11,
    "start_time": "2023-11-25T20:57:42.220Z"
   },
   {
    "duration": 15,
    "start_time": "2023-11-25T20:57:42.233Z"
   },
   {
    "duration": 34,
    "start_time": "2023-11-25T20:57:42.250Z"
   },
   {
    "duration": 3,
    "start_time": "2023-11-25T20:57:42.286Z"
   },
   {
    "duration": 8,
    "start_time": "2023-11-25T20:57:42.291Z"
   },
   {
    "duration": 31,
    "start_time": "2023-11-25T20:57:42.301Z"
   },
   {
    "duration": 10,
    "start_time": "2023-11-25T20:57:42.334Z"
   },
   {
    "duration": 2,
    "start_time": "2023-11-25T20:57:42.348Z"
   },
   {
    "duration": 3,
    "start_time": "2023-11-25T20:57:42.352Z"
   },
   {
    "duration": 3,
    "start_time": "2023-11-25T20:57:42.357Z"
   },
   {
    "duration": 4,
    "start_time": "2023-11-25T20:57:42.361Z"
   },
   {
    "duration": 4,
    "start_time": "2023-11-25T20:57:42.366Z"
   },
   {
    "duration": 5,
    "start_time": "2023-11-25T20:57:42.371Z"
   },
   {
    "duration": 4,
    "start_time": "2023-11-25T20:57:42.378Z"
   },
   {
    "duration": 5,
    "start_time": "2023-11-25T20:57:42.383Z"
   },
   {
    "duration": 4,
    "start_time": "2023-11-25T20:57:42.389Z"
   },
   {
    "duration": 3,
    "start_time": "2023-11-25T20:57:42.395Z"
   },
   {
    "duration": 3,
    "start_time": "2023-11-25T20:57:42.431Z"
   },
   {
    "duration": 4,
    "start_time": "2023-11-25T20:57:42.435Z"
   },
   {
    "duration": 11,
    "start_time": "2023-11-25T21:03:52.709Z"
   },
   {
    "duration": 378,
    "start_time": "2023-11-25T21:04:03.973Z"
   },
   {
    "duration": 79,
    "start_time": "2023-11-25T21:04:04.353Z"
   },
   {
    "duration": 10,
    "start_time": "2023-11-25T21:04:04.434Z"
   },
   {
    "duration": 18,
    "start_time": "2023-11-25T21:04:04.446Z"
   },
   {
    "duration": 34,
    "start_time": "2023-11-25T21:04:04.466Z"
   },
   {
    "duration": 4,
    "start_time": "2023-11-25T21:04:04.502Z"
   },
   {
    "duration": 28,
    "start_time": "2023-11-25T21:04:04.507Z"
   },
   {
    "duration": 3,
    "start_time": "2023-11-25T21:04:04.537Z"
   },
   {
    "duration": 14,
    "start_time": "2023-11-25T21:04:04.542Z"
   },
   {
    "duration": 3,
    "start_time": "2023-11-25T21:04:04.558Z"
   },
   {
    "duration": 38,
    "start_time": "2023-11-25T21:04:04.563Z"
   },
   {
    "duration": 31,
    "start_time": "2023-11-25T21:04:04.603Z"
   },
   {
    "duration": 5,
    "start_time": "2023-11-25T21:04:04.635Z"
   },
   {
    "duration": 8,
    "start_time": "2023-11-25T21:04:04.641Z"
   },
   {
    "duration": 8,
    "start_time": "2023-11-25T21:04:04.650Z"
   },
   {
    "duration": 5,
    "start_time": "2023-11-25T21:04:04.659Z"
   },
   {
    "duration": 11,
    "start_time": "2023-11-25T21:04:04.665Z"
   },
   {
    "duration": 4,
    "start_time": "2023-11-25T21:04:04.678Z"
   },
   {
    "duration": 4,
    "start_time": "2023-11-25T21:04:04.684Z"
   },
   {
    "duration": 11,
    "start_time": "2023-11-25T21:04:04.690Z"
   },
   {
    "duration": 5,
    "start_time": "2023-11-25T21:04:04.703Z"
   },
   {
    "duration": 5,
    "start_time": "2023-11-25T21:07:22.862Z"
   },
   {
    "duration": 14,
    "start_time": "2023-11-25T21:09:35.295Z"
   },
   {
    "duration": 17,
    "start_time": "2023-11-25T21:13:28.483Z"
   },
   {
    "duration": 5,
    "start_time": "2023-11-25T21:28:39.929Z"
   },
   {
    "duration": 60,
    "start_time": "2023-11-25T22:33:39.776Z"
   },
   {
    "duration": 8,
    "start_time": "2023-11-25T22:34:34.649Z"
   },
   {
    "duration": 391,
    "start_time": "2023-11-25T22:34:52.269Z"
   },
   {
    "duration": 84,
    "start_time": "2023-11-25T22:34:52.661Z"
   },
   {
    "duration": 12,
    "start_time": "2023-11-25T22:34:52.747Z"
   },
   {
    "duration": 27,
    "start_time": "2023-11-25T22:34:52.762Z"
   },
   {
    "duration": 51,
    "start_time": "2023-11-25T22:34:52.791Z"
   },
   {
    "duration": 4,
    "start_time": "2023-11-25T22:34:52.844Z"
   },
   {
    "duration": 15,
    "start_time": "2023-11-25T22:34:52.850Z"
   },
   {
    "duration": 3,
    "start_time": "2023-11-25T22:34:52.868Z"
   },
   {
    "duration": 15,
    "start_time": "2023-11-25T22:34:52.873Z"
   },
   {
    "duration": 3,
    "start_time": "2023-11-25T22:34:52.891Z"
   },
   {
    "duration": 63,
    "start_time": "2023-11-25T22:34:52.895Z"
   },
   {
    "duration": 9,
    "start_time": "2023-11-25T22:34:52.960Z"
   },
   {
    "duration": 17,
    "start_time": "2023-11-25T22:34:52.971Z"
   },
   {
    "duration": 14,
    "start_time": "2023-11-25T22:34:52.989Z"
   },
   {
    "duration": 25,
    "start_time": "2023-11-25T22:34:53.005Z"
   },
   {
    "duration": 18,
    "start_time": "2023-11-25T22:34:53.032Z"
   },
   {
    "duration": 3,
    "start_time": "2023-11-25T22:34:53.052Z"
   },
   {
    "duration": 22,
    "start_time": "2023-11-25T22:34:53.057Z"
   },
   {
    "duration": 6,
    "start_time": "2023-11-25T22:34:53.081Z"
   },
   {
    "duration": 87,
    "start_time": "2023-11-25T22:34:53.089Z"
   },
   {
    "duration": 0,
    "start_time": "2023-11-25T22:34:53.178Z"
   },
   {
    "duration": 4,
    "start_time": "2023-11-25T22:35:12.465Z"
   },
   {
    "duration": 11,
    "start_time": "2023-11-25T22:35:19.471Z"
   },
   {
    "duration": 17,
    "start_time": "2023-11-25T22:35:48.329Z"
   },
   {
    "duration": 17,
    "start_time": "2023-11-25T22:36:31.222Z"
   },
   {
    "duration": 45,
    "start_time": "2023-11-26T19:37:13.489Z"
   },
   {
    "duration": 416,
    "start_time": "2023-11-26T19:37:24.730Z"
   },
   {
    "duration": 291,
    "start_time": "2023-11-26T19:37:25.148Z"
   },
   {
    "duration": 10,
    "start_time": "2023-11-26T19:37:25.440Z"
   },
   {
    "duration": 25,
    "start_time": "2023-11-26T19:37:25.451Z"
   },
   {
    "duration": 31,
    "start_time": "2023-11-26T19:37:25.478Z"
   },
   {
    "duration": 2,
    "start_time": "2023-11-26T19:37:25.511Z"
   },
   {
    "duration": 13,
    "start_time": "2023-11-26T19:37:25.515Z"
   },
   {
    "duration": 22,
    "start_time": "2023-11-26T19:37:25.529Z"
   },
   {
    "duration": 38,
    "start_time": "2023-11-26T19:37:25.552Z"
   },
   {
    "duration": 22,
    "start_time": "2023-11-26T19:37:25.591Z"
   },
   {
    "duration": 54,
    "start_time": "2023-11-26T19:37:25.614Z"
   },
   {
    "duration": 9,
    "start_time": "2023-11-26T19:37:25.670Z"
   },
   {
    "duration": 80,
    "start_time": "2023-11-26T19:37:25.681Z"
   },
   {
    "duration": 0,
    "start_time": "2023-11-26T19:37:25.763Z"
   },
   {
    "duration": 0,
    "start_time": "2023-11-26T19:37:25.764Z"
   },
   {
    "duration": 0,
    "start_time": "2023-11-26T19:37:25.765Z"
   },
   {
    "duration": 0,
    "start_time": "2023-11-26T19:37:25.766Z"
   },
   {
    "duration": 0,
    "start_time": "2023-11-26T19:37:25.767Z"
   },
   {
    "duration": 0,
    "start_time": "2023-11-26T19:37:25.768Z"
   },
   {
    "duration": 0,
    "start_time": "2023-11-26T19:37:25.769Z"
   },
   {
    "duration": 0,
    "start_time": "2023-11-26T19:37:25.770Z"
   },
   {
    "duration": 20,
    "start_time": "2023-11-26T19:39:18.962Z"
   },
   {
    "duration": 9,
    "start_time": "2023-11-26T19:39:42.842Z"
   },
   {
    "duration": 7,
    "start_time": "2023-11-26T19:40:12.213Z"
   },
   {
    "duration": 7,
    "start_time": "2023-11-26T19:40:18.073Z"
   },
   {
    "duration": 9,
    "start_time": "2023-11-26T19:40:29.995Z"
   },
   {
    "duration": 4,
    "start_time": "2023-11-26T19:41:18.711Z"
   }
  ],
  "colab": {
   "provenance": []
  },
  "kernelspec": {
   "display_name": "Python 3 (ipykernel)",
   "language": "python",
   "name": "python3"
  },
  "language_info": {
   "codemirror_mode": {
    "name": "ipython",
    "version": 3
   },
   "file_extension": ".py",
   "mimetype": "text/x-python",
   "name": "python",
   "nbconvert_exporter": "python",
   "pygments_lexer": "ipython3",
   "version": "3.9.5"
  },
  "toc": {
   "base_numbering": 1,
   "nav_menu": {},
   "number_sections": true,
   "sideBar": true,
   "skip_h1_title": true,
   "title_cell": "Table of Contents",
   "title_sidebar": "Contents",
   "toc_cell": false,
   "toc_position": {},
   "toc_section_display": true,
   "toc_window_display": false
  }
 },
 "nbformat": 4,
 "nbformat_minor": 5
}
