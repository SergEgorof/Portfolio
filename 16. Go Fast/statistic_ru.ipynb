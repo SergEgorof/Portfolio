{
 "cells": [
  {
   "cell_type": "markdown",
   "id": "38b488a7",
   "metadata": {},
   "source": [
    "# Описание проекта"
   ]
  },
  {
   "cell_type": "markdown",
   "id": "dfff86df",
   "metadata": {},
   "source": [
    "Необходимо проанализировать данные сервиса продажи самокатов GoFast.Нам передали данные о некоторых пользователях из нескольких городов, а также об их поездках. Проанализируем данные и проверем некоторые гипотезы, которые могут помочь бизнесу вырасти.\n",
    "Чтобы совершать поездки по городу, пользователи сервиса GoFast пользуются мобильным приложением. Сервисом можно пользоваться:\n",
    "без подписки\n",
    "абонентская плата отсутствует;\n",
    "стоимость одной минуты поездки — \n",
    "8\n",
    "8 рублей;\n",
    "стоимость старта (начала поездки) — \n",
    "50\n",
    "50 рублей;\n",
    "с подпиской Ultra\n",
    "абонентская плата — \n",
    "199\n",
    "199 рублей в месяц;\n",
    "стоимость одной минуты поездки — \n",
    "6\n",
    "6 рублей;\n",
    "стоимость старта — бесплатно."
   ]
  },
  {
   "cell_type": "code",
   "execution_count": 1,
   "id": "72576667",
   "metadata": {},
   "outputs": [],
   "source": [
    "import pandas as pd"
   ]
  },
  {
   "cell_type": "code",
   "execution_count": 2,
   "id": "bdb99d2e",
   "metadata": {},
   "outputs": [],
   "source": [
    "import matplotlib.pyplot as plt"
   ]
  },
  {
   "cell_type": "code",
   "execution_count": 3,
   "id": "45f6c5fb",
   "metadata": {},
   "outputs": [],
   "source": [
    "import numpy as np"
   ]
  },
  {
   "cell_type": "code",
   "execution_count": 4,
   "id": "ce1957cc",
   "metadata": {},
   "outputs": [],
   "source": [
    "from scipy import stats as st"
   ]
  },
  {
   "cell_type": "markdown",
   "id": "c42cbe00",
   "metadata": {},
   "source": [
    "#### Шаг 1. Загрузка данных"
   ]
  },
  {
   "cell_type": "code",
   "execution_count": 5,
   "id": "eff9f206",
   "metadata": {},
   "outputs": [
    {
     "data": {
      "text/html": [
       "<div>\n",
       "<style scoped>\n",
       "    .dataframe tbody tr th:only-of-type {\n",
       "        vertical-align: middle;\n",
       "    }\n",
       "\n",
       "    .dataframe tbody tr th {\n",
       "        vertical-align: top;\n",
       "    }\n",
       "\n",
       "    .dataframe thead th {\n",
       "        text-align: right;\n",
       "    }\n",
       "</style>\n",
       "<table border=\"1\" class=\"dataframe\">\n",
       "  <thead>\n",
       "    <tr style=\"text-align: right;\">\n",
       "      <th></th>\n",
       "      <th>user_id</th>\n",
       "      <th>name</th>\n",
       "      <th>age</th>\n",
       "      <th>city</th>\n",
       "      <th>subscription_type</th>\n",
       "    </tr>\n",
       "  </thead>\n",
       "  <tbody>\n",
       "    <tr>\n",
       "      <th>0</th>\n",
       "      <td>1</td>\n",
       "      <td>Кира</td>\n",
       "      <td>22</td>\n",
       "      <td>Тюмень</td>\n",
       "      <td>ultra</td>\n",
       "    </tr>\n",
       "    <tr>\n",
       "      <th>1</th>\n",
       "      <td>2</td>\n",
       "      <td>Станислав</td>\n",
       "      <td>31</td>\n",
       "      <td>Омск</td>\n",
       "      <td>ultra</td>\n",
       "    </tr>\n",
       "    <tr>\n",
       "      <th>2</th>\n",
       "      <td>3</td>\n",
       "      <td>Алексей</td>\n",
       "      <td>20</td>\n",
       "      <td>Москва</td>\n",
       "      <td>ultra</td>\n",
       "    </tr>\n",
       "    <tr>\n",
       "      <th>3</th>\n",
       "      <td>4</td>\n",
       "      <td>Константин</td>\n",
       "      <td>26</td>\n",
       "      <td>Ростов-на-Дону</td>\n",
       "      <td>ultra</td>\n",
       "    </tr>\n",
       "    <tr>\n",
       "      <th>4</th>\n",
       "      <td>5</td>\n",
       "      <td>Адель</td>\n",
       "      <td>28</td>\n",
       "      <td>Омск</td>\n",
       "      <td>ultra</td>\n",
       "    </tr>\n",
       "    <tr>\n",
       "      <th>...</th>\n",
       "      <td>...</td>\n",
       "      <td>...</td>\n",
       "      <td>...</td>\n",
       "      <td>...</td>\n",
       "      <td>...</td>\n",
       "    </tr>\n",
       "    <tr>\n",
       "      <th>1560</th>\n",
       "      <td>829</td>\n",
       "      <td>Федор</td>\n",
       "      <td>29</td>\n",
       "      <td>Пятигорск</td>\n",
       "      <td>free</td>\n",
       "    </tr>\n",
       "    <tr>\n",
       "      <th>1561</th>\n",
       "      <td>809</td>\n",
       "      <td>Юрий</td>\n",
       "      <td>26</td>\n",
       "      <td>Сочи</td>\n",
       "      <td>free</td>\n",
       "    </tr>\n",
       "    <tr>\n",
       "      <th>1562</th>\n",
       "      <td>307</td>\n",
       "      <td>Ясмина</td>\n",
       "      <td>19</td>\n",
       "      <td>Краснодар</td>\n",
       "      <td>ultra</td>\n",
       "    </tr>\n",
       "    <tr>\n",
       "      <th>1563</th>\n",
       "      <td>47</td>\n",
       "      <td>Юрий</td>\n",
       "      <td>28</td>\n",
       "      <td>Тюмень</td>\n",
       "      <td>ultra</td>\n",
       "    </tr>\n",
       "    <tr>\n",
       "      <th>1564</th>\n",
       "      <td>1045</td>\n",
       "      <td>Артемий</td>\n",
       "      <td>28</td>\n",
       "      <td>Ростов-на-Дону</td>\n",
       "      <td>free</td>\n",
       "    </tr>\n",
       "  </tbody>\n",
       "</table>\n",
       "<p>1565 rows × 5 columns</p>\n",
       "</div>"
      ],
      "text/plain": [
       "      user_id        name  age            city subscription_type\n",
       "0           1        Кира   22          Тюмень             ultra\n",
       "1           2   Станислав   31            Омск             ultra\n",
       "2           3     Алексей   20          Москва             ultra\n",
       "3           4  Константин   26  Ростов-на-Дону             ultra\n",
       "4           5       Адель   28            Омск             ultra\n",
       "...       ...         ...  ...             ...               ...\n",
       "1560      829       Федор   29       Пятигорск              free\n",
       "1561      809        Юрий   26            Сочи              free\n",
       "1562      307      Ясмина   19       Краснодар             ultra\n",
       "1563       47        Юрий   28          Тюмень             ultra\n",
       "1564     1045     Артемий   28  Ростов-на-Дону              free\n",
       "\n",
       "[1565 rows x 5 columns]"
      ]
     },
     "metadata": {},
     "output_type": "display_data"
    },
    {
     "name": "stdout",
     "output_type": "stream",
     "text": [
      "<class 'pandas.core.frame.DataFrame'>\n",
      "RangeIndex: 1565 entries, 0 to 1564\n",
      "Data columns (total 5 columns):\n",
      " #   Column             Non-Null Count  Dtype \n",
      "---  ------             --------------  ----- \n",
      " 0   user_id            1565 non-null   int64 \n",
      " 1   name               1565 non-null   object\n",
      " 2   age                1565 non-null   int64 \n",
      " 3   city               1565 non-null   object\n",
      " 4   subscription_type  1565 non-null   object\n",
      "dtypes: int64(2), object(3)\n",
      "memory usage: 61.3+ KB\n"
     ]
    }
   ],
   "source": [
    "users = pd.read_csv('/datasets/users_go.csv')\n",
    "display(users)\n",
    "users.info()"
   ]
  },
  {
   "cell_type": "markdown",
   "id": "fbfbe94f",
   "metadata": {},
   "source": [
    "user_id\tуникальный идентификатор пользователя\n",
    "name\tимя пользователя\n",
    "age\tвозраст\n",
    "city\tгород\n",
    "subscription_type\tтип подписки (free, ultra)\n",
    "Все данные готовы к анализу. Пропусков нет. Типы данных правильные. Необходимо проверить на дуюликаты колонку user_id. Данные в ней предполагаются уникальные. "
   ]
  },
  {
   "cell_type": "code",
   "execution_count": 6,
   "id": "4c5f4191",
   "metadata": {},
   "outputs": [
    {
     "data": {
      "text/html": [
       "<div>\n",
       "<style scoped>\n",
       "    .dataframe tbody tr th:only-of-type {\n",
       "        vertical-align: middle;\n",
       "    }\n",
       "\n",
       "    .dataframe tbody tr th {\n",
       "        vertical-align: top;\n",
       "    }\n",
       "\n",
       "    .dataframe thead th {\n",
       "        text-align: right;\n",
       "    }\n",
       "</style>\n",
       "<table border=\"1\" class=\"dataframe\">\n",
       "  <thead>\n",
       "    <tr style=\"text-align: right;\">\n",
       "      <th></th>\n",
       "      <th>user_id</th>\n",
       "      <th>distance</th>\n",
       "      <th>duration</th>\n",
       "      <th>date</th>\n",
       "    </tr>\n",
       "  </thead>\n",
       "  <tbody>\n",
       "    <tr>\n",
       "      <th>0</th>\n",
       "      <td>1</td>\n",
       "      <td>4409.919140</td>\n",
       "      <td>25.599769</td>\n",
       "      <td>2021-01-01</td>\n",
       "    </tr>\n",
       "    <tr>\n",
       "      <th>1</th>\n",
       "      <td>1</td>\n",
       "      <td>2617.592153</td>\n",
       "      <td>15.816871</td>\n",
       "      <td>2021-01-18</td>\n",
       "    </tr>\n",
       "    <tr>\n",
       "      <th>2</th>\n",
       "      <td>1</td>\n",
       "      <td>754.159807</td>\n",
       "      <td>6.232113</td>\n",
       "      <td>2021-04-20</td>\n",
       "    </tr>\n",
       "    <tr>\n",
       "      <th>3</th>\n",
       "      <td>1</td>\n",
       "      <td>2694.783254</td>\n",
       "      <td>18.511000</td>\n",
       "      <td>2021-08-11</td>\n",
       "    </tr>\n",
       "    <tr>\n",
       "      <th>4</th>\n",
       "      <td>1</td>\n",
       "      <td>4028.687306</td>\n",
       "      <td>26.265803</td>\n",
       "      <td>2021-08-28</td>\n",
       "    </tr>\n",
       "    <tr>\n",
       "      <th>...</th>\n",
       "      <td>...</td>\n",
       "      <td>...</td>\n",
       "      <td>...</td>\n",
       "      <td>...</td>\n",
       "    </tr>\n",
       "    <tr>\n",
       "      <th>18063</th>\n",
       "      <td>1534</td>\n",
       "      <td>3781.098080</td>\n",
       "      <td>19.822962</td>\n",
       "      <td>2021-11-04</td>\n",
       "    </tr>\n",
       "    <tr>\n",
       "      <th>18064</th>\n",
       "      <td>1534</td>\n",
       "      <td>2840.423057</td>\n",
       "      <td>21.409799</td>\n",
       "      <td>2021-11-16</td>\n",
       "    </tr>\n",
       "    <tr>\n",
       "      <th>18065</th>\n",
       "      <td>1534</td>\n",
       "      <td>3826.185507</td>\n",
       "      <td>18.435051</td>\n",
       "      <td>2021-11-18</td>\n",
       "    </tr>\n",
       "    <tr>\n",
       "      <th>18066</th>\n",
       "      <td>1534</td>\n",
       "      <td>2902.308661</td>\n",
       "      <td>16.674362</td>\n",
       "      <td>2021-11-27</td>\n",
       "    </tr>\n",
       "    <tr>\n",
       "      <th>18067</th>\n",
       "      <td>1534</td>\n",
       "      <td>2371.711192</td>\n",
       "      <td>15.893917</td>\n",
       "      <td>2021-12-29</td>\n",
       "    </tr>\n",
       "  </tbody>\n",
       "</table>\n",
       "<p>18068 rows × 4 columns</p>\n",
       "</div>"
      ],
      "text/plain": [
       "       user_id     distance   duration        date\n",
       "0            1  4409.919140  25.599769  2021-01-01\n",
       "1            1  2617.592153  15.816871  2021-01-18\n",
       "2            1   754.159807   6.232113  2021-04-20\n",
       "3            1  2694.783254  18.511000  2021-08-11\n",
       "4            1  4028.687306  26.265803  2021-08-28\n",
       "...        ...          ...        ...         ...\n",
       "18063     1534  3781.098080  19.822962  2021-11-04\n",
       "18064     1534  2840.423057  21.409799  2021-11-16\n",
       "18065     1534  3826.185507  18.435051  2021-11-18\n",
       "18066     1534  2902.308661  16.674362  2021-11-27\n",
       "18067     1534  2371.711192  15.893917  2021-12-29\n",
       "\n",
       "[18068 rows x 4 columns]"
      ]
     },
     "metadata": {},
     "output_type": "display_data"
    },
    {
     "name": "stdout",
     "output_type": "stream",
     "text": [
      "<class 'pandas.core.frame.DataFrame'>\n",
      "RangeIndex: 18068 entries, 0 to 18067\n",
      "Data columns (total 4 columns):\n",
      " #   Column    Non-Null Count  Dtype  \n",
      "---  ------    --------------  -----  \n",
      " 0   user_id   18068 non-null  int64  \n",
      " 1   distance  18068 non-null  float64\n",
      " 2   duration  18068 non-null  float64\n",
      " 3   date      18068 non-null  object \n",
      "dtypes: float64(2), int64(1), object(1)\n",
      "memory usage: 564.8+ KB\n"
     ]
    }
   ],
   "source": [
    "rides = pd.read_csv('/datasets/rides_go.csv')\n",
    "display(rides)\n",
    "rides.info()"
   ]
  },
  {
   "cell_type": "markdown",
   "id": "18073327",
   "metadata": {},
   "source": [
    "user_id\tуникальный идентификатор пользователя\n",
    "distance\tрасстояние, которое пользователь проехал в текущей сессии (в метрах)\n",
    "duration\tпродолжительность сессии (в минутах) — время с того момента, как пользователь нажал кнопку «Начать поездку» до момента, как он нажал кнопку «Завершить поездку»\n",
    "date\tдата совершения поездки\n",
    "Предварительный анализ показывает, что данные без пропусков. Дубликатов здесь нет, т.к. нет столбца, требующего уникальных данных.\n",
    "Необходимо преобразовать тип данных столбца \"date\""
   ]
  },
  {
   "cell_type": "code",
   "execution_count": 7,
   "id": "760edb7e",
   "metadata": {},
   "outputs": [
    {
     "data": {
      "text/html": [
       "<div>\n",
       "<style scoped>\n",
       "    .dataframe tbody tr th:only-of-type {\n",
       "        vertical-align: middle;\n",
       "    }\n",
       "\n",
       "    .dataframe tbody tr th {\n",
       "        vertical-align: top;\n",
       "    }\n",
       "\n",
       "    .dataframe thead th {\n",
       "        text-align: right;\n",
       "    }\n",
       "</style>\n",
       "<table border=\"1\" class=\"dataframe\">\n",
       "  <thead>\n",
       "    <tr style=\"text-align: right;\">\n",
       "      <th></th>\n",
       "      <th>subscription_type</th>\n",
       "      <th>minute_price</th>\n",
       "      <th>start_ride_price</th>\n",
       "      <th>subscription_fee</th>\n",
       "    </tr>\n",
       "  </thead>\n",
       "  <tbody>\n",
       "    <tr>\n",
       "      <th>0</th>\n",
       "      <td>free</td>\n",
       "      <td>8</td>\n",
       "      <td>50</td>\n",
       "      <td>0</td>\n",
       "    </tr>\n",
       "    <tr>\n",
       "      <th>1</th>\n",
       "      <td>ultra</td>\n",
       "      <td>6</td>\n",
       "      <td>0</td>\n",
       "      <td>199</td>\n",
       "    </tr>\n",
       "  </tbody>\n",
       "</table>\n",
       "</div>"
      ],
      "text/plain": [
       "  subscription_type  minute_price  start_ride_price  subscription_fee\n",
       "0              free             8                50                 0\n",
       "1             ultra             6                 0               199"
      ]
     },
     "metadata": {},
     "output_type": "display_data"
    }
   ],
   "source": [
    "subs = pd.read_csv('/datasets/subscriptions_go.csv')\n",
    "display(subs)"
   ]
  },
  {
   "cell_type": "markdown",
   "id": "18ea8b8f",
   "metadata": {},
   "source": [
    "subscription_type\tтип подписки\n",
    "minute_price\tстоимость одной минуты поездки по данной подписке\n",
    "start_ride_price\tстоимость начала поездки\n",
    "subscription_fee\tстоимость ежемесячного платежа\n",
    "В данной таблице указаны ценовые параметры для подписчиков сервиса и без подписки."
   ]
  },
  {
   "cell_type": "markdown",
   "id": "e95ebca7",
   "metadata": {},
   "source": [
    "#### Шаг 2. Предобработка данных"
   ]
  },
  {
   "cell_type": "markdown",
   "id": "6557c5e9",
   "metadata": {},
   "source": [
    "Преобразуем столбец с датой к правильному формату"
   ]
  },
  {
   "cell_type": "code",
   "execution_count": 8,
   "id": "af6d202c",
   "metadata": {},
   "outputs": [
    {
     "name": "stdout",
     "output_type": "stream",
     "text": [
      "<class 'pandas.core.frame.DataFrame'>\n",
      "RangeIndex: 18068 entries, 0 to 18067\n",
      "Data columns (total 4 columns):\n",
      " #   Column    Non-Null Count  Dtype         \n",
      "---  ------    --------------  -----         \n",
      " 0   user_id   18068 non-null  int64         \n",
      " 1   distance  18068 non-null  float64       \n",
      " 2   duration  18068 non-null  float64       \n",
      " 3   date      18068 non-null  datetime64[ns]\n",
      "dtypes: datetime64[ns](1), float64(2), int64(1)\n",
      "memory usage: 564.8 KB\n"
     ]
    }
   ],
   "source": [
    "rides['date'] = pd.to_datetime(rides['date'], format='%Y-%m-%d')\n",
    "rides.info()"
   ]
  },
  {
   "cell_type": "markdown",
   "id": "c84315a2",
   "metadata": {},
   "source": [
    "Добавим столбец с номером месяца"
   ]
  },
  {
   "cell_type": "code",
   "execution_count": 9,
   "id": "82fdf675",
   "metadata": {},
   "outputs": [
    {
     "data": {
      "text/html": [
       "<div>\n",
       "<style scoped>\n",
       "    .dataframe tbody tr th:only-of-type {\n",
       "        vertical-align: middle;\n",
       "    }\n",
       "\n",
       "    .dataframe tbody tr th {\n",
       "        vertical-align: top;\n",
       "    }\n",
       "\n",
       "    .dataframe thead th {\n",
       "        text-align: right;\n",
       "    }\n",
       "</style>\n",
       "<table border=\"1\" class=\"dataframe\">\n",
       "  <thead>\n",
       "    <tr style=\"text-align: right;\">\n",
       "      <th></th>\n",
       "      <th>user_id</th>\n",
       "      <th>distance</th>\n",
       "      <th>duration</th>\n",
       "      <th>date</th>\n",
       "      <th>month</th>\n",
       "    </tr>\n",
       "  </thead>\n",
       "  <tbody>\n",
       "    <tr>\n",
       "      <th>0</th>\n",
       "      <td>1</td>\n",
       "      <td>4409.919140</td>\n",
       "      <td>25.599769</td>\n",
       "      <td>2021-01-01</td>\n",
       "      <td>1</td>\n",
       "    </tr>\n",
       "    <tr>\n",
       "      <th>1</th>\n",
       "      <td>1</td>\n",
       "      <td>2617.592153</td>\n",
       "      <td>15.816871</td>\n",
       "      <td>2021-01-18</td>\n",
       "      <td>1</td>\n",
       "    </tr>\n",
       "    <tr>\n",
       "      <th>2</th>\n",
       "      <td>1</td>\n",
       "      <td>754.159807</td>\n",
       "      <td>6.232113</td>\n",
       "      <td>2021-04-20</td>\n",
       "      <td>4</td>\n",
       "    </tr>\n",
       "    <tr>\n",
       "      <th>3</th>\n",
       "      <td>1</td>\n",
       "      <td>2694.783254</td>\n",
       "      <td>18.511000</td>\n",
       "      <td>2021-08-11</td>\n",
       "      <td>8</td>\n",
       "    </tr>\n",
       "    <tr>\n",
       "      <th>4</th>\n",
       "      <td>1</td>\n",
       "      <td>4028.687306</td>\n",
       "      <td>26.265803</td>\n",
       "      <td>2021-08-28</td>\n",
       "      <td>8</td>\n",
       "    </tr>\n",
       "    <tr>\n",
       "      <th>...</th>\n",
       "      <td>...</td>\n",
       "      <td>...</td>\n",
       "      <td>...</td>\n",
       "      <td>...</td>\n",
       "      <td>...</td>\n",
       "    </tr>\n",
       "    <tr>\n",
       "      <th>18063</th>\n",
       "      <td>1534</td>\n",
       "      <td>3781.098080</td>\n",
       "      <td>19.822962</td>\n",
       "      <td>2021-11-04</td>\n",
       "      <td>11</td>\n",
       "    </tr>\n",
       "    <tr>\n",
       "      <th>18064</th>\n",
       "      <td>1534</td>\n",
       "      <td>2840.423057</td>\n",
       "      <td>21.409799</td>\n",
       "      <td>2021-11-16</td>\n",
       "      <td>11</td>\n",
       "    </tr>\n",
       "    <tr>\n",
       "      <th>18065</th>\n",
       "      <td>1534</td>\n",
       "      <td>3826.185507</td>\n",
       "      <td>18.435051</td>\n",
       "      <td>2021-11-18</td>\n",
       "      <td>11</td>\n",
       "    </tr>\n",
       "    <tr>\n",
       "      <th>18066</th>\n",
       "      <td>1534</td>\n",
       "      <td>2902.308661</td>\n",
       "      <td>16.674362</td>\n",
       "      <td>2021-11-27</td>\n",
       "      <td>11</td>\n",
       "    </tr>\n",
       "    <tr>\n",
       "      <th>18067</th>\n",
       "      <td>1534</td>\n",
       "      <td>2371.711192</td>\n",
       "      <td>15.893917</td>\n",
       "      <td>2021-12-29</td>\n",
       "      <td>12</td>\n",
       "    </tr>\n",
       "  </tbody>\n",
       "</table>\n",
       "<p>18068 rows × 5 columns</p>\n",
       "</div>"
      ],
      "text/plain": [
       "       user_id     distance   duration       date  month\n",
       "0            1  4409.919140  25.599769 2021-01-01      1\n",
       "1            1  2617.592153  15.816871 2021-01-18      1\n",
       "2            1   754.159807   6.232113 2021-04-20      4\n",
       "3            1  2694.783254  18.511000 2021-08-11      8\n",
       "4            1  4028.687306  26.265803 2021-08-28      8\n",
       "...        ...          ...        ...        ...    ...\n",
       "18063     1534  3781.098080  19.822962 2021-11-04     11\n",
       "18064     1534  2840.423057  21.409799 2021-11-16     11\n",
       "18065     1534  3826.185507  18.435051 2021-11-18     11\n",
       "18066     1534  2902.308661  16.674362 2021-11-27     11\n",
       "18067     1534  2371.711192  15.893917 2021-12-29     12\n",
       "\n",
       "[18068 rows x 5 columns]"
      ]
     },
     "metadata": {},
     "output_type": "display_data"
    }
   ],
   "source": [
    "rides['month'] = pd.DatetimeIndex(rides['date']).month\n",
    "display(rides)"
   ]
  },
  {
   "cell_type": "markdown",
   "id": "06f58ca6",
   "metadata": {},
   "source": [
    "проверим и удалим дубликаты из user_id. По смыслу это унимкальный столбец "
   ]
  },
  {
   "cell_type": "markdown",
   "id": "2fe62da6",
   "metadata": {},
   "source": [
    "Пропусков в наших таблицах нет. Проверить на наличие дубликатов имеет смысл 'user_id'"
   ]
  },
  {
   "cell_type": "code",
   "execution_count": 10,
   "id": "d2f0addf",
   "metadata": {},
   "outputs": [
    {
     "name": "stdout",
     "output_type": "stream",
     "text": [
      "<class 'pandas.core.frame.DataFrame'>\n",
      "Int64Index: 1534 entries, 0 to 1533\n",
      "Data columns (total 5 columns):\n",
      " #   Column             Non-Null Count  Dtype \n",
      "---  ------             --------------  ----- \n",
      " 0   user_id            1534 non-null   int64 \n",
      " 1   name               1534 non-null   object\n",
      " 2   age                1534 non-null   int64 \n",
      " 3   city               1534 non-null   object\n",
      " 4   subscription_type  1534 non-null   object\n",
      "dtypes: int64(2), object(3)\n",
      "memory usage: 71.9+ KB\n"
     ]
    }
   ],
   "source": [
    "users['user_id'].duplicated().sum()\n",
    "users = users.drop_duplicates(subset='user_id',keep='first')\n",
    "users.info()"
   ]
  },
  {
   "cell_type": "markdown",
   "id": "0a708c6e",
   "metadata": {},
   "source": [
    "<div class=\"alert alert-info\">В данном разделе провели предобработку данных. Привели дату к нужному формату. Удалили дубликаты. Проверили на наличие пропусков. </div>"
   ]
  },
  {
   "cell_type": "markdown",
   "id": "212593c7",
   "metadata": {},
   "source": [
    "### Исследовательский анализ данных"
   ]
  },
  {
   "cell_type": "markdown",
   "id": "aff3f2c3",
   "metadata": {},
   "source": [
    "### Частота встречаемости городов"
   ]
  },
  {
   "cell_type": "code",
   "execution_count": 11,
   "id": "7b0a3730",
   "metadata": {},
   "outputs": [],
   "source": [
    "city_counts = users['city'].value_counts()"
   ]
  },
  {
   "cell_type": "code",
   "execution_count": 12,
   "id": "d31cd66c",
   "metadata": {},
   "outputs": [
    {
     "data": {
      "image/png": "[encoded data removed]",
      "text/plain": [
       "<Figure size 432x288 with 1 Axes>"
      ]
     },
     "metadata": {
      "needs_background": "light"
     },
     "output_type": "display_data"
    },
    {
     "name": "stdout",
     "output_type": "stream",
     "text": [
      "Пятигорск         219\n",
      "Екатеринбург      204\n",
      "Ростов-на-Дону    198\n",
      "Краснодар         193\n",
      "Сочи              189\n",
      "Омск              183\n",
      "Тюмень            180\n",
      "Москва            168\n",
      "Name: city, dtype: int64\n"
     ]
    }
   ],
   "source": [
    "city_counts.plot(kind='bar', rot=45, color='skyblue')\n",
    "plt.xlabel('Город')\n",
    "plt.ylabel('Количество')\n",
    "plt.title('Столбчатая диаграмма по городам')\n",
    "plt.grid(axis='y', alpha=0.7)\n",
    "plt.show()\n",
    "print (city_counts)"
   ]
  },
  {
   "cell_type": "markdown",
   "id": "5ec295de",
   "metadata": {},
   "source": [
    "Довольно ровное распределение пользователей сервиса по городам"
   ]
  },
  {
   "cell_type": "code",
   "execution_count": 13,
   "id": "451e2cd5",
   "metadata": {},
   "outputs": [],
   "source": [
    "subscr_counts = users['subscription_type'].value_counts()"
   ]
  },
  {
   "cell_type": "code",
   "execution_count": 14,
   "id": "76b3eb97",
   "metadata": {},
   "outputs": [
    {
     "data": {
      "image/png": "[encoded data removed]",
      "text/plain": [
       "<Figure size 432x288 with 1 Axes>"
      ]
     },
     "metadata": {
      "needs_background": "light"
     },
     "output_type": "display_data"
    }
   ],
   "source": [
    "subscr_counts.plot(kind='bar', rot=45, color='skyblue')\n",
    "plt.xlabel('Тип подписки')\n",
    "plt.ylabel('Количество')\n",
    "plt.title('Столбчатая диаграмма по подписке')\n",
    "plt.grid(axis='y', alpha=0.7)\n",
    "plt.show()"
   ]
  },
  {
   "cell_type": "markdown",
   "id": "8a971407",
   "metadata": {},
   "source": [
    "Число пользователей без подписки незначительно превышает пользователей с подпиской."
   ]
  },
  {
   "cell_type": "code",
   "execution_count": 15,
   "id": "b39232bd",
   "metadata": {},
   "outputs": [
    {
     "data": {
      "text/plain": [
       "([<matplotlib.patches.Wedge at 0x7f8f3891a9d0>,\n",
       "  <matplotlib.patches.Wedge at 0x7f8f388a8130>],\n",
       " [Text(1.089350532812134, -0.15269386582937716, 'free'),\n",
       "  Text(-1.0893505185158978, 0.15269396782173414, 'ultra')],\n",
       " [Text(0.5941911997157094, -0.08328756317966025, '54.4%'),\n",
       "  Text(-0.5941911919177624, 0.08328761881185497, '45.6%')])"
      ]
     },
     "execution_count": 15,
     "metadata": {},
     "output_type": "execute_result"
    },
    {
     "data": {
      "image/png": "[encoded data removed]",
      "text/plain": [
       "<Figure size 576x576 with 1 Axes>"
      ]
     },
     "metadata": {},
     "output_type": "display_data"
    }
   ],
   "source": [
    "plt.figure(figsize=(8,8))\n",
    "plt.pie(subscr_counts, labels=subscr_counts.index, autopct='%1.1f%%', startangle=90,counterclock=False)"
   ]
  },
  {
   "cell_type": "code",
   "execution_count": 16,
   "id": "fcd1c5c8",
   "metadata": {},
   "outputs": [
    {
     "name": "stdout",
     "output_type": "stream",
     "text": [
      "free     835\n",
      "ultra    699\n",
      "Name: subscription_type, dtype: int64\n"
     ]
    }
   ],
   "source": [
    "print(subscr_counts)"
   ]
  },
  {
   "cell_type": "code",
   "execution_count": 17,
   "id": "8d9edd42",
   "metadata": {},
   "outputs": [],
   "source": [
    "age_counts = users['age'].value_counts()"
   ]
  },
  {
   "cell_type": "code",
   "execution_count": 18,
   "id": "a392c265",
   "metadata": {},
   "outputs": [
    {
     "data": {
      "image/png": "[encoded data removed]",
      "text/plain": [
       "<Figure size 864x432 with 1 Axes>"
      ]
     },
     "metadata": {
      "needs_background": "light"
     },
     "output_type": "display_data"
    }
   ],
   "source": [
    "age_counts.plot(kind='bar', rot=45, color='skyblue', figsize=(12,6))\n",
    "plt.xlabel('Возраст')\n",
    "plt.ylabel('Количество')\n",
    "plt.title('Столбчатая диаграмма по возрасту')\n",
    "plt.grid(axis='y', alpha=0.7)\n",
    "plt.show()"
   ]
  },
  {
   "cell_type": "code",
   "execution_count": 19,
   "id": "48e7abe9",
   "metadata": {},
   "outputs": [
    {
     "data": {
      "text/plain": [
       "count    1534.000000\n",
       "mean       24.903520\n",
       "std         4.572367\n",
       "min        12.000000\n",
       "25%        22.000000\n",
       "50%        25.000000\n",
       "75%        28.000000\n",
       "max        43.000000\n",
       "Name: age, dtype: float64"
      ]
     },
     "execution_count": 19,
     "metadata": {},
     "output_type": "execute_result"
    }
   ],
   "source": [
    "users['age'].describe()"
   ]
  },
  {
   "cell_type": "markdown",
   "id": "ad839bc4",
   "metadata": {},
   "source": [
    "Сервис максимально востребован среди людей 20-30 лет"
   ]
  },
  {
   "cell_type": "code",
   "execution_count": 20,
   "id": "a28ee55a",
   "metadata": {},
   "outputs": [
    {
     "data": {
      "image/png": "[encoded data removed]",
      "text/plain": [
       "<Figure size 432x288 with 1 Axes>"
      ]
     },
     "metadata": {
      "needs_background": "light"
     },
     "output_type": "display_data"
    },
    {
     "data": {
      "text/plain": [
       "count    18068.000000\n",
       "mean        17.805011\n",
       "std          6.091051\n",
       "min          0.500000\n",
       "25%         13.597563\n",
       "50%         17.678395\n",
       "75%         21.724800\n",
       "max         40.823963\n",
       "Name: duration, dtype: float64"
      ]
     },
     "execution_count": 20,
     "metadata": {},
     "output_type": "execute_result"
    }
   ],
   "source": [
    "plt.hist(rides['duration'],bins=100)\n",
    "plt.show()\n",
    "rides['duration'].describe()"
   ]
  },
  {
   "cell_type": "markdown",
   "id": "87af16ae",
   "metadata": {},
   "source": [
    "Довольно ровное распределение, близкое к нормальному. Явных выбросов нет. За исключением небольшого в районе 0. Что предположительно связано либо с неисправностью, либо то, что не понравилось. Медиана очень близка к средней 17.8 мин "
   ]
  },
  {
   "cell_type": "code",
   "execution_count": 21,
   "id": "2cc0ea3a",
   "metadata": {},
   "outputs": [
    {
     "data": {
      "image/png": "[encoded data removed]",
      "text/plain": [
       "<Figure size 432x288 with 1 Axes>"
      ]
     },
     "metadata": {
      "needs_background": "light"
     },
     "output_type": "display_data"
    },
    {
     "data": {
      "text/plain": [
       "count    18068.000000\n",
       "mean      3070.659976\n",
       "std       1116.831209\n",
       "min          0.855683\n",
       "25%       2543.226360\n",
       "50%       3133.609994\n",
       "75%       3776.222735\n",
       "max       7211.007745\n",
       "Name: distance, dtype: float64"
      ]
     },
     "execution_count": 21,
     "metadata": {},
     "output_type": "execute_result"
    }
   ],
   "source": [
    "plt.hist(rides['distance'],bins=100)\n",
    "plt.show()\n",
    "rides['distance'].describe()"
   ]
  },
  {
   "cell_type": "markdown",
   "id": "79c9b97b",
   "metadata": {},
   "source": [
    "По дистанции все выводы схожи за исключением одного момента. Явно прослеживается 2 пика. До 1км и в районе 3км. Очевидно это связано с разными целями поездок - покататься в парке и в качестве транспорта добраться до нужного адреса. Средняя поездка около 3км"
   ]
  },
  {
   "cell_type": "markdown",
   "id": "4ef51331",
   "metadata": {},
   "source": [
    "#### Шаг 4. Объединение данных"
   ]
  },
  {
   "cell_type": "markdown",
   "id": "5e7c1dd3",
   "metadata": {},
   "source": [
    "Объкдиним все 3 датасета в один для удобства анализа"
   ]
  },
  {
   "cell_type": "code",
   "execution_count": 22,
   "id": "6bf288b5",
   "metadata": {},
   "outputs": [
    {
     "data": {
      "text/html": [
       "<div>\n",
       "<style scoped>\n",
       "    .dataframe tbody tr th:only-of-type {\n",
       "        vertical-align: middle;\n",
       "    }\n",
       "\n",
       "    .dataframe tbody tr th {\n",
       "        vertical-align: top;\n",
       "    }\n",
       "\n",
       "    .dataframe thead th {\n",
       "        text-align: right;\n",
       "    }\n",
       "</style>\n",
       "<table border=\"1\" class=\"dataframe\">\n",
       "  <thead>\n",
       "    <tr style=\"text-align: right;\">\n",
       "      <th></th>\n",
       "      <th>user_id</th>\n",
       "      <th>name</th>\n",
       "      <th>age</th>\n",
       "      <th>city</th>\n",
       "      <th>subscription_type</th>\n",
       "      <th>distance</th>\n",
       "      <th>duration</th>\n",
       "      <th>date</th>\n",
       "      <th>month</th>\n",
       "      <th>minute_price</th>\n",
       "      <th>start_ride_price</th>\n",
       "      <th>subscription_fee</th>\n",
       "    </tr>\n",
       "  </thead>\n",
       "  <tbody>\n",
       "    <tr>\n",
       "      <th>0</th>\n",
       "      <td>1</td>\n",
       "      <td>Кира</td>\n",
       "      <td>22</td>\n",
       "      <td>Тюмень</td>\n",
       "      <td>ultra</td>\n",
       "      <td>4409.919140</td>\n",
       "      <td>25.599769</td>\n",
       "      <td>2021-01-01</td>\n",
       "      <td>1</td>\n",
       "      <td>6</td>\n",
       "      <td>0</td>\n",
       "      <td>199</td>\n",
       "    </tr>\n",
       "    <tr>\n",
       "      <th>1</th>\n",
       "      <td>1</td>\n",
       "      <td>Кира</td>\n",
       "      <td>22</td>\n",
       "      <td>Тюмень</td>\n",
       "      <td>ultra</td>\n",
       "      <td>2617.592153</td>\n",
       "      <td>15.816871</td>\n",
       "      <td>2021-01-18</td>\n",
       "      <td>1</td>\n",
       "      <td>6</td>\n",
       "      <td>0</td>\n",
       "      <td>199</td>\n",
       "    </tr>\n",
       "    <tr>\n",
       "      <th>2</th>\n",
       "      <td>1</td>\n",
       "      <td>Кира</td>\n",
       "      <td>22</td>\n",
       "      <td>Тюмень</td>\n",
       "      <td>ultra</td>\n",
       "      <td>754.159807</td>\n",
       "      <td>6.232113</td>\n",
       "      <td>2021-04-20</td>\n",
       "      <td>4</td>\n",
       "      <td>6</td>\n",
       "      <td>0</td>\n",
       "      <td>199</td>\n",
       "    </tr>\n",
       "    <tr>\n",
       "      <th>3</th>\n",
       "      <td>1</td>\n",
       "      <td>Кира</td>\n",
       "      <td>22</td>\n",
       "      <td>Тюмень</td>\n",
       "      <td>ultra</td>\n",
       "      <td>2694.783254</td>\n",
       "      <td>18.511000</td>\n",
       "      <td>2021-08-11</td>\n",
       "      <td>8</td>\n",
       "      <td>6</td>\n",
       "      <td>0</td>\n",
       "      <td>199</td>\n",
       "    </tr>\n",
       "    <tr>\n",
       "      <th>4</th>\n",
       "      <td>1</td>\n",
       "      <td>Кира</td>\n",
       "      <td>22</td>\n",
       "      <td>Тюмень</td>\n",
       "      <td>ultra</td>\n",
       "      <td>4028.687306</td>\n",
       "      <td>26.265803</td>\n",
       "      <td>2021-08-28</td>\n",
       "      <td>8</td>\n",
       "      <td>6</td>\n",
       "      <td>0</td>\n",
       "      <td>199</td>\n",
       "    </tr>\n",
       "    <tr>\n",
       "      <th>...</th>\n",
       "      <td>...</td>\n",
       "      <td>...</td>\n",
       "      <td>...</td>\n",
       "      <td>...</td>\n",
       "      <td>...</td>\n",
       "      <td>...</td>\n",
       "      <td>...</td>\n",
       "      <td>...</td>\n",
       "      <td>...</td>\n",
       "      <td>...</td>\n",
       "      <td>...</td>\n",
       "      <td>...</td>\n",
       "    </tr>\n",
       "    <tr>\n",
       "      <th>18063</th>\n",
       "      <td>1534</td>\n",
       "      <td>Альберт</td>\n",
       "      <td>25</td>\n",
       "      <td>Краснодар</td>\n",
       "      <td>free</td>\n",
       "      <td>3781.098080</td>\n",
       "      <td>19.822962</td>\n",
       "      <td>2021-11-04</td>\n",
       "      <td>11</td>\n",
       "      <td>8</td>\n",
       "      <td>50</td>\n",
       "      <td>0</td>\n",
       "    </tr>\n",
       "    <tr>\n",
       "      <th>18064</th>\n",
       "      <td>1534</td>\n",
       "      <td>Альберт</td>\n",
       "      <td>25</td>\n",
       "      <td>Краснодар</td>\n",
       "      <td>free</td>\n",
       "      <td>2840.423057</td>\n",
       "      <td>21.409799</td>\n",
       "      <td>2021-11-16</td>\n",
       "      <td>11</td>\n",
       "      <td>8</td>\n",
       "      <td>50</td>\n",
       "      <td>0</td>\n",
       "    </tr>\n",
       "    <tr>\n",
       "      <th>18065</th>\n",
       "      <td>1534</td>\n",
       "      <td>Альберт</td>\n",
       "      <td>25</td>\n",
       "      <td>Краснодар</td>\n",
       "      <td>free</td>\n",
       "      <td>3826.185507</td>\n",
       "      <td>18.435051</td>\n",
       "      <td>2021-11-18</td>\n",
       "      <td>11</td>\n",
       "      <td>8</td>\n",
       "      <td>50</td>\n",
       "      <td>0</td>\n",
       "    </tr>\n",
       "    <tr>\n",
       "      <th>18066</th>\n",
       "      <td>1534</td>\n",
       "      <td>Альберт</td>\n",
       "      <td>25</td>\n",
       "      <td>Краснодар</td>\n",
       "      <td>free</td>\n",
       "      <td>2902.308661</td>\n",
       "      <td>16.674362</td>\n",
       "      <td>2021-11-27</td>\n",
       "      <td>11</td>\n",
       "      <td>8</td>\n",
       "      <td>50</td>\n",
       "      <td>0</td>\n",
       "    </tr>\n",
       "    <tr>\n",
       "      <th>18067</th>\n",
       "      <td>1534</td>\n",
       "      <td>Альберт</td>\n",
       "      <td>25</td>\n",
       "      <td>Краснодар</td>\n",
       "      <td>free</td>\n",
       "      <td>2371.711192</td>\n",
       "      <td>15.893917</td>\n",
       "      <td>2021-12-29</td>\n",
       "      <td>12</td>\n",
       "      <td>8</td>\n",
       "      <td>50</td>\n",
       "      <td>0</td>\n",
       "    </tr>\n",
       "  </tbody>\n",
       "</table>\n",
       "<p>18068 rows × 12 columns</p>\n",
       "</div>"
      ],
      "text/plain": [
       "       user_id     name  age       city subscription_type     distance  \\\n",
       "0            1     Кира   22     Тюмень             ultra  4409.919140   \n",
       "1            1     Кира   22     Тюмень             ultra  2617.592153   \n",
       "2            1     Кира   22     Тюмень             ultra   754.159807   \n",
       "3            1     Кира   22     Тюмень             ultra  2694.783254   \n",
       "4            1     Кира   22     Тюмень             ultra  4028.687306   \n",
       "...        ...      ...  ...        ...               ...          ...   \n",
       "18063     1534  Альберт   25  Краснодар              free  3781.098080   \n",
       "18064     1534  Альберт   25  Краснодар              free  2840.423057   \n",
       "18065     1534  Альберт   25  Краснодар              free  3826.185507   \n",
       "18066     1534  Альберт   25  Краснодар              free  2902.308661   \n",
       "18067     1534  Альберт   25  Краснодар              free  2371.711192   \n",
       "\n",
       "        duration       date  month  minute_price  start_ride_price  \\\n",
       "0      25.599769 2021-01-01      1             6                 0   \n",
       "1      15.816871 2021-01-18      1             6                 0   \n",
       "2       6.232113 2021-04-20      4             6                 0   \n",
       "3      18.511000 2021-08-11      8             6                 0   \n",
       "4      26.265803 2021-08-28      8             6                 0   \n",
       "...          ...        ...    ...           ...               ...   \n",
       "18063  19.822962 2021-11-04     11             8                50   \n",
       "18064  21.409799 2021-11-16     11             8                50   \n",
       "18065  18.435051 2021-11-18     11             8                50   \n",
       "18066  16.674362 2021-11-27     11             8                50   \n",
       "18067  15.893917 2021-12-29     12             8                50   \n",
       "\n",
       "       subscription_fee  \n",
       "0                   199  \n",
       "1                   199  \n",
       "2                   199  \n",
       "3                   199  \n",
       "4                   199  \n",
       "...                 ...  \n",
       "18063                 0  \n",
       "18064                 0  \n",
       "18065                 0  \n",
       "18066                 0  \n",
       "18067                 0  \n",
       "\n",
       "[18068 rows x 12 columns]"
      ]
     },
     "metadata": {},
     "output_type": "display_data"
    }
   ],
   "source": [
    "merge_data = pd.merge(users, rides, on='user_id', how='inner')\n",
    "merged_data = pd.merge(merge_data, subs, on='subscription_type', how='inner')\n",
    "display(merged_data)"
   ]
  },
  {
   "cell_type": "markdown",
   "id": "07901ae5",
   "metadata": {},
   "source": [
    "<div class=\"alert alert-info\">Округлим данные по продолжительности каждой поездки в большую сторону. </div>"
   ]
  },
  {
   "cell_type": "code",
   "execution_count": 23,
   "id": "7988b7cd",
   "metadata": {},
   "outputs": [
    {
     "data": {
      "text/html": [
       "<div>\n",
       "<style scoped>\n",
       "    .dataframe tbody tr th:only-of-type {\n",
       "        vertical-align: middle;\n",
       "    }\n",
       "\n",
       "    .dataframe tbody tr th {\n",
       "        vertical-align: top;\n",
       "    }\n",
       "\n",
       "    .dataframe thead th {\n",
       "        text-align: right;\n",
       "    }\n",
       "</style>\n",
       "<table border=\"1\" class=\"dataframe\">\n",
       "  <thead>\n",
       "    <tr style=\"text-align: right;\">\n",
       "      <th></th>\n",
       "      <th>user_id</th>\n",
       "      <th>name</th>\n",
       "      <th>age</th>\n",
       "      <th>city</th>\n",
       "      <th>subscription_type</th>\n",
       "      <th>distance</th>\n",
       "      <th>duration</th>\n",
       "      <th>date</th>\n",
       "      <th>month</th>\n",
       "      <th>minute_price</th>\n",
       "      <th>start_ride_price</th>\n",
       "      <th>subscription_fee</th>\n",
       "    </tr>\n",
       "  </thead>\n",
       "  <tbody>\n",
       "    <tr>\n",
       "      <th>0</th>\n",
       "      <td>1</td>\n",
       "      <td>Кира</td>\n",
       "      <td>22</td>\n",
       "      <td>Тюмень</td>\n",
       "      <td>ultra</td>\n",
       "      <td>4409.919140</td>\n",
       "      <td>26.0</td>\n",
       "      <td>2021-01-01</td>\n",
       "      <td>1</td>\n",
       "      <td>6</td>\n",
       "      <td>0</td>\n",
       "      <td>199</td>\n",
       "    </tr>\n",
       "    <tr>\n",
       "      <th>1</th>\n",
       "      <td>1</td>\n",
       "      <td>Кира</td>\n",
       "      <td>22</td>\n",
       "      <td>Тюмень</td>\n",
       "      <td>ultra</td>\n",
       "      <td>2617.592153</td>\n",
       "      <td>16.0</td>\n",
       "      <td>2021-01-18</td>\n",
       "      <td>1</td>\n",
       "      <td>6</td>\n",
       "      <td>0</td>\n",
       "      <td>199</td>\n",
       "    </tr>\n",
       "    <tr>\n",
       "      <th>2</th>\n",
       "      <td>1</td>\n",
       "      <td>Кира</td>\n",
       "      <td>22</td>\n",
       "      <td>Тюмень</td>\n",
       "      <td>ultra</td>\n",
       "      <td>754.159807</td>\n",
       "      <td>7.0</td>\n",
       "      <td>2021-04-20</td>\n",
       "      <td>4</td>\n",
       "      <td>6</td>\n",
       "      <td>0</td>\n",
       "      <td>199</td>\n",
       "    </tr>\n",
       "    <tr>\n",
       "      <th>3</th>\n",
       "      <td>1</td>\n",
       "      <td>Кира</td>\n",
       "      <td>22</td>\n",
       "      <td>Тюмень</td>\n",
       "      <td>ultra</td>\n",
       "      <td>2694.783254</td>\n",
       "      <td>19.0</td>\n",
       "      <td>2021-08-11</td>\n",
       "      <td>8</td>\n",
       "      <td>6</td>\n",
       "      <td>0</td>\n",
       "      <td>199</td>\n",
       "    </tr>\n",
       "    <tr>\n",
       "      <th>4</th>\n",
       "      <td>1</td>\n",
       "      <td>Кира</td>\n",
       "      <td>22</td>\n",
       "      <td>Тюмень</td>\n",
       "      <td>ultra</td>\n",
       "      <td>4028.687306</td>\n",
       "      <td>27.0</td>\n",
       "      <td>2021-08-28</td>\n",
       "      <td>8</td>\n",
       "      <td>6</td>\n",
       "      <td>0</td>\n",
       "      <td>199</td>\n",
       "    </tr>\n",
       "    <tr>\n",
       "      <th>...</th>\n",
       "      <td>...</td>\n",
       "      <td>...</td>\n",
       "      <td>...</td>\n",
       "      <td>...</td>\n",
       "      <td>...</td>\n",
       "      <td>...</td>\n",
       "      <td>...</td>\n",
       "      <td>...</td>\n",
       "      <td>...</td>\n",
       "      <td>...</td>\n",
       "      <td>...</td>\n",
       "      <td>...</td>\n",
       "    </tr>\n",
       "    <tr>\n",
       "      <th>18063</th>\n",
       "      <td>1534</td>\n",
       "      <td>Альберт</td>\n",
       "      <td>25</td>\n",
       "      <td>Краснодар</td>\n",
       "      <td>free</td>\n",
       "      <td>3781.098080</td>\n",
       "      <td>20.0</td>\n",
       "      <td>2021-11-04</td>\n",
       "      <td>11</td>\n",
       "      <td>8</td>\n",
       "      <td>50</td>\n",
       "      <td>0</td>\n",
       "    </tr>\n",
       "    <tr>\n",
       "      <th>18064</th>\n",
       "      <td>1534</td>\n",
       "      <td>Альберт</td>\n",
       "      <td>25</td>\n",
       "      <td>Краснодар</td>\n",
       "      <td>free</td>\n",
       "      <td>2840.423057</td>\n",
       "      <td>22.0</td>\n",
       "      <td>2021-11-16</td>\n",
       "      <td>11</td>\n",
       "      <td>8</td>\n",
       "      <td>50</td>\n",
       "      <td>0</td>\n",
       "    </tr>\n",
       "    <tr>\n",
       "      <th>18065</th>\n",
       "      <td>1534</td>\n",
       "      <td>Альберт</td>\n",
       "      <td>25</td>\n",
       "      <td>Краснодар</td>\n",
       "      <td>free</td>\n",
       "      <td>3826.185507</td>\n",
       "      <td>19.0</td>\n",
       "      <td>2021-11-18</td>\n",
       "      <td>11</td>\n",
       "      <td>8</td>\n",
       "      <td>50</td>\n",
       "      <td>0</td>\n",
       "    </tr>\n",
       "    <tr>\n",
       "      <th>18066</th>\n",
       "      <td>1534</td>\n",
       "      <td>Альберт</td>\n",
       "      <td>25</td>\n",
       "      <td>Краснодар</td>\n",
       "      <td>free</td>\n",
       "      <td>2902.308661</td>\n",
       "      <td>17.0</td>\n",
       "      <td>2021-11-27</td>\n",
       "      <td>11</td>\n",
       "      <td>8</td>\n",
       "      <td>50</td>\n",
       "      <td>0</td>\n",
       "    </tr>\n",
       "    <tr>\n",
       "      <th>18067</th>\n",
       "      <td>1534</td>\n",
       "      <td>Альберт</td>\n",
       "      <td>25</td>\n",
       "      <td>Краснодар</td>\n",
       "      <td>free</td>\n",
       "      <td>2371.711192</td>\n",
       "      <td>16.0</td>\n",
       "      <td>2021-12-29</td>\n",
       "      <td>12</td>\n",
       "      <td>8</td>\n",
       "      <td>50</td>\n",
       "      <td>0</td>\n",
       "    </tr>\n",
       "  </tbody>\n",
       "</table>\n",
       "<p>18068 rows × 12 columns</p>\n",
       "</div>"
      ],
      "text/plain": [
       "       user_id     name  age       city subscription_type     distance  \\\n",
       "0            1     Кира   22     Тюмень             ultra  4409.919140   \n",
       "1            1     Кира   22     Тюмень             ultra  2617.592153   \n",
       "2            1     Кира   22     Тюмень             ultra   754.159807   \n",
       "3            1     Кира   22     Тюмень             ultra  2694.783254   \n",
       "4            1     Кира   22     Тюмень             ultra  4028.687306   \n",
       "...        ...      ...  ...        ...               ...          ...   \n",
       "18063     1534  Альберт   25  Краснодар              free  3781.098080   \n",
       "18064     1534  Альберт   25  Краснодар              free  2840.423057   \n",
       "18065     1534  Альберт   25  Краснодар              free  3826.185507   \n",
       "18066     1534  Альберт   25  Краснодар              free  2902.308661   \n",
       "18067     1534  Альберт   25  Краснодар              free  2371.711192   \n",
       "\n",
       "       duration       date  month  minute_price  start_ride_price  \\\n",
       "0          26.0 2021-01-01      1             6                 0   \n",
       "1          16.0 2021-01-18      1             6                 0   \n",
       "2           7.0 2021-04-20      4             6                 0   \n",
       "3          19.0 2021-08-11      8             6                 0   \n",
       "4          27.0 2021-08-28      8             6                 0   \n",
       "...         ...        ...    ...           ...               ...   \n",
       "18063      20.0 2021-11-04     11             8                50   \n",
       "18064      22.0 2021-11-16     11             8                50   \n",
       "18065      19.0 2021-11-18     11             8                50   \n",
       "18066      17.0 2021-11-27     11             8                50   \n",
       "18067      16.0 2021-12-29     12             8                50   \n",
       "\n",
       "       subscription_fee  \n",
       "0                   199  \n",
       "1                   199  \n",
       "2                   199  \n",
       "3                   199  \n",
       "4                   199  \n",
       "...                 ...  \n",
       "18063                 0  \n",
       "18064                 0  \n",
       "18065                 0  \n",
       "18066                 0  \n",
       "18067                 0  \n",
       "\n",
       "[18068 rows x 12 columns]"
      ]
     },
     "metadata": {},
     "output_type": "display_data"
    }
   ],
   "source": [
    "merged_data['duration'] = np.ceil(merged_data['duration'])\n",
    "display (merged_data)"
   ]
  },
  {
   "cell_type": "markdown",
   "id": "95045620",
   "metadata": {},
   "source": [
    "<div class=\"alert alert-info\"> Округлим данные по длительности каждой поездки в большую сторону. </div>"
   ]
  },
  {
   "cell_type": "code",
   "execution_count": 24,
   "id": "d0953cab",
   "metadata": {},
   "outputs": [
    {
     "data": {
      "text/html": [
       "<div>\n",
       "<style scoped>\n",
       "    .dataframe tbody tr th:only-of-type {\n",
       "        vertical-align: middle;\n",
       "    }\n",
       "\n",
       "    .dataframe tbody tr th {\n",
       "        vertical-align: top;\n",
       "    }\n",
       "\n",
       "    .dataframe thead th {\n",
       "        text-align: right;\n",
       "    }\n",
       "</style>\n",
       "<table border=\"1\" class=\"dataframe\">\n",
       "  <thead>\n",
       "    <tr style=\"text-align: right;\">\n",
       "      <th></th>\n",
       "      <th>user_id</th>\n",
       "      <th>name</th>\n",
       "      <th>age</th>\n",
       "      <th>city</th>\n",
       "      <th>subscription_type</th>\n",
       "      <th>distance</th>\n",
       "      <th>duration</th>\n",
       "      <th>date</th>\n",
       "      <th>month</th>\n",
       "      <th>minute_price</th>\n",
       "      <th>start_ride_price</th>\n",
       "      <th>subscription_fee</th>\n",
       "    </tr>\n",
       "  </thead>\n",
       "  <tbody>\n",
       "    <tr>\n",
       "      <th>0</th>\n",
       "      <td>1</td>\n",
       "      <td>Кира</td>\n",
       "      <td>22</td>\n",
       "      <td>Тюмень</td>\n",
       "      <td>ultra</td>\n",
       "      <td>4410.0</td>\n",
       "      <td>26.0</td>\n",
       "      <td>2021-01-01</td>\n",
       "      <td>1</td>\n",
       "      <td>6</td>\n",
       "      <td>0</td>\n",
       "      <td>199</td>\n",
       "    </tr>\n",
       "    <tr>\n",
       "      <th>1</th>\n",
       "      <td>1</td>\n",
       "      <td>Кира</td>\n",
       "      <td>22</td>\n",
       "      <td>Тюмень</td>\n",
       "      <td>ultra</td>\n",
       "      <td>2618.0</td>\n",
       "      <td>16.0</td>\n",
       "      <td>2021-01-18</td>\n",
       "      <td>1</td>\n",
       "      <td>6</td>\n",
       "      <td>0</td>\n",
       "      <td>199</td>\n",
       "    </tr>\n",
       "    <tr>\n",
       "      <th>2</th>\n",
       "      <td>1</td>\n",
       "      <td>Кира</td>\n",
       "      <td>22</td>\n",
       "      <td>Тюмень</td>\n",
       "      <td>ultra</td>\n",
       "      <td>755.0</td>\n",
       "      <td>7.0</td>\n",
       "      <td>2021-04-20</td>\n",
       "      <td>4</td>\n",
       "      <td>6</td>\n",
       "      <td>0</td>\n",
       "      <td>199</td>\n",
       "    </tr>\n",
       "    <tr>\n",
       "      <th>3</th>\n",
       "      <td>1</td>\n",
       "      <td>Кира</td>\n",
       "      <td>22</td>\n",
       "      <td>Тюмень</td>\n",
       "      <td>ultra</td>\n",
       "      <td>2695.0</td>\n",
       "      <td>19.0</td>\n",
       "      <td>2021-08-11</td>\n",
       "      <td>8</td>\n",
       "      <td>6</td>\n",
       "      <td>0</td>\n",
       "      <td>199</td>\n",
       "    </tr>\n",
       "    <tr>\n",
       "      <th>4</th>\n",
       "      <td>1</td>\n",
       "      <td>Кира</td>\n",
       "      <td>22</td>\n",
       "      <td>Тюмень</td>\n",
       "      <td>ultra</td>\n",
       "      <td>4029.0</td>\n",
       "      <td>27.0</td>\n",
       "      <td>2021-08-28</td>\n",
       "      <td>8</td>\n",
       "      <td>6</td>\n",
       "      <td>0</td>\n",
       "      <td>199</td>\n",
       "    </tr>\n",
       "    <tr>\n",
       "      <th>...</th>\n",
       "      <td>...</td>\n",
       "      <td>...</td>\n",
       "      <td>...</td>\n",
       "      <td>...</td>\n",
       "      <td>...</td>\n",
       "      <td>...</td>\n",
       "      <td>...</td>\n",
       "      <td>...</td>\n",
       "      <td>...</td>\n",
       "      <td>...</td>\n",
       "      <td>...</td>\n",
       "      <td>...</td>\n",
       "    </tr>\n",
       "    <tr>\n",
       "      <th>18063</th>\n",
       "      <td>1534</td>\n",
       "      <td>Альберт</td>\n",
       "      <td>25</td>\n",
       "      <td>Краснодар</td>\n",
       "      <td>free</td>\n",
       "      <td>3782.0</td>\n",
       "      <td>20.0</td>\n",
       "      <td>2021-11-04</td>\n",
       "      <td>11</td>\n",
       "      <td>8</td>\n",
       "      <td>50</td>\n",
       "      <td>0</td>\n",
       "    </tr>\n",
       "    <tr>\n",
       "      <th>18064</th>\n",
       "      <td>1534</td>\n",
       "      <td>Альберт</td>\n",
       "      <td>25</td>\n",
       "      <td>Краснодар</td>\n",
       "      <td>free</td>\n",
       "      <td>2841.0</td>\n",
       "      <td>22.0</td>\n",
       "      <td>2021-11-16</td>\n",
       "      <td>11</td>\n",
       "      <td>8</td>\n",
       "      <td>50</td>\n",
       "      <td>0</td>\n",
       "    </tr>\n",
       "    <tr>\n",
       "      <th>18065</th>\n",
       "      <td>1534</td>\n",
       "      <td>Альберт</td>\n",
       "      <td>25</td>\n",
       "      <td>Краснодар</td>\n",
       "      <td>free</td>\n",
       "      <td>3827.0</td>\n",
       "      <td>19.0</td>\n",
       "      <td>2021-11-18</td>\n",
       "      <td>11</td>\n",
       "      <td>8</td>\n",
       "      <td>50</td>\n",
       "      <td>0</td>\n",
       "    </tr>\n",
       "    <tr>\n",
       "      <th>18066</th>\n",
       "      <td>1534</td>\n",
       "      <td>Альберт</td>\n",
       "      <td>25</td>\n",
       "      <td>Краснодар</td>\n",
       "      <td>free</td>\n",
       "      <td>2903.0</td>\n",
       "      <td>17.0</td>\n",
       "      <td>2021-11-27</td>\n",
       "      <td>11</td>\n",
       "      <td>8</td>\n",
       "      <td>50</td>\n",
       "      <td>0</td>\n",
       "    </tr>\n",
       "    <tr>\n",
       "      <th>18067</th>\n",
       "      <td>1534</td>\n",
       "      <td>Альберт</td>\n",
       "      <td>25</td>\n",
       "      <td>Краснодар</td>\n",
       "      <td>free</td>\n",
       "      <td>2372.0</td>\n",
       "      <td>16.0</td>\n",
       "      <td>2021-12-29</td>\n",
       "      <td>12</td>\n",
       "      <td>8</td>\n",
       "      <td>50</td>\n",
       "      <td>0</td>\n",
       "    </tr>\n",
       "  </tbody>\n",
       "</table>\n",
       "<p>18068 rows × 12 columns</p>\n",
       "</div>"
      ],
      "text/plain": [
       "       user_id     name  age       city subscription_type  distance  duration  \\\n",
       "0            1     Кира   22     Тюмень             ultra    4410.0      26.0   \n",
       "1            1     Кира   22     Тюмень             ultra    2618.0      16.0   \n",
       "2            1     Кира   22     Тюмень             ultra     755.0       7.0   \n",
       "3            1     Кира   22     Тюмень             ultra    2695.0      19.0   \n",
       "4            1     Кира   22     Тюмень             ultra    4029.0      27.0   \n",
       "...        ...      ...  ...        ...               ...       ...       ...   \n",
       "18063     1534  Альберт   25  Краснодар              free    3782.0      20.0   \n",
       "18064     1534  Альберт   25  Краснодар              free    2841.0      22.0   \n",
       "18065     1534  Альберт   25  Краснодар              free    3827.0      19.0   \n",
       "18066     1534  Альберт   25  Краснодар              free    2903.0      17.0   \n",
       "18067     1534  Альберт   25  Краснодар              free    2372.0      16.0   \n",
       "\n",
       "            date  month  minute_price  start_ride_price  subscription_fee  \n",
       "0     2021-01-01      1             6                 0               199  \n",
       "1     2021-01-18      1             6                 0               199  \n",
       "2     2021-04-20      4             6                 0               199  \n",
       "3     2021-08-11      8             6                 0               199  \n",
       "4     2021-08-28      8             6                 0               199  \n",
       "...          ...    ...           ...               ...               ...  \n",
       "18063 2021-11-04     11             8                50                 0  \n",
       "18064 2021-11-16     11             8                50                 0  \n",
       "18065 2021-11-18     11             8                50                 0  \n",
       "18066 2021-11-27     11             8                50                 0  \n",
       "18067 2021-12-29     12             8                50                 0  \n",
       "\n",
       "[18068 rows x 12 columns]"
      ]
     },
     "metadata": {},
     "output_type": "display_data"
    }
   ],
   "source": [
    "merged_data['distance'] = np.ceil(merged_data['distance'])\n",
    "display (merged_data)"
   ]
  },
  {
   "cell_type": "markdown",
   "id": "d962cdb9",
   "metadata": {},
   "source": [
    "Также создадим раздельные датасеты для пользователей с подпиской и без"
   ]
  },
  {
   "cell_type": "code",
   "execution_count": 25,
   "id": "81fdf2bc",
   "metadata": {},
   "outputs": [
    {
     "data": {
      "text/html": [
       "<div>\n",
       "<style scoped>\n",
       "    .dataframe tbody tr th:only-of-type {\n",
       "        vertical-align: middle;\n",
       "    }\n",
       "\n",
       "    .dataframe tbody tr th {\n",
       "        vertical-align: top;\n",
       "    }\n",
       "\n",
       "    .dataframe thead th {\n",
       "        text-align: right;\n",
       "    }\n",
       "</style>\n",
       "<table border=\"1\" class=\"dataframe\">\n",
       "  <thead>\n",
       "    <tr style=\"text-align: right;\">\n",
       "      <th></th>\n",
       "      <th>user_id</th>\n",
       "      <th>name</th>\n",
       "      <th>age</th>\n",
       "      <th>city</th>\n",
       "      <th>subscription_type</th>\n",
       "      <th>distance</th>\n",
       "      <th>duration</th>\n",
       "      <th>date</th>\n",
       "      <th>month</th>\n",
       "      <th>minute_price</th>\n",
       "      <th>start_ride_price</th>\n",
       "      <th>subscription_fee</th>\n",
       "    </tr>\n",
       "  </thead>\n",
       "  <tbody>\n",
       "    <tr>\n",
       "      <th>6500</th>\n",
       "      <td>700</td>\n",
       "      <td>Айдар</td>\n",
       "      <td>22</td>\n",
       "      <td>Омск</td>\n",
       "      <td>free</td>\n",
       "      <td>2516.0</td>\n",
       "      <td>15.0</td>\n",
       "      <td>2021-01-02</td>\n",
       "      <td>1</td>\n",
       "      <td>8</td>\n",
       "      <td>50</td>\n",
       "      <td>0</td>\n",
       "    </tr>\n",
       "    <tr>\n",
       "      <th>6501</th>\n",
       "      <td>700</td>\n",
       "      <td>Айдар</td>\n",
       "      <td>22</td>\n",
       "      <td>Омск</td>\n",
       "      <td>free</td>\n",
       "      <td>847.0</td>\n",
       "      <td>17.0</td>\n",
       "      <td>2021-02-01</td>\n",
       "      <td>2</td>\n",
       "      <td>8</td>\n",
       "      <td>50</td>\n",
       "      <td>0</td>\n",
       "    </tr>\n",
       "    <tr>\n",
       "      <th>6502</th>\n",
       "      <td>700</td>\n",
       "      <td>Айдар</td>\n",
       "      <td>22</td>\n",
       "      <td>Омск</td>\n",
       "      <td>free</td>\n",
       "      <td>4005.0</td>\n",
       "      <td>21.0</td>\n",
       "      <td>2021-02-04</td>\n",
       "      <td>2</td>\n",
       "      <td>8</td>\n",
       "      <td>50</td>\n",
       "      <td>0</td>\n",
       "    </tr>\n",
       "    <tr>\n",
       "      <th>6503</th>\n",
       "      <td>700</td>\n",
       "      <td>Айдар</td>\n",
       "      <td>22</td>\n",
       "      <td>Омск</td>\n",
       "      <td>free</td>\n",
       "      <td>1206.0</td>\n",
       "      <td>10.0</td>\n",
       "      <td>2021-02-10</td>\n",
       "      <td>2</td>\n",
       "      <td>8</td>\n",
       "      <td>50</td>\n",
       "      <td>0</td>\n",
       "    </tr>\n",
       "    <tr>\n",
       "      <th>6504</th>\n",
       "      <td>700</td>\n",
       "      <td>Айдар</td>\n",
       "      <td>22</td>\n",
       "      <td>Омск</td>\n",
       "      <td>free</td>\n",
       "      <td>3048.0</td>\n",
       "      <td>18.0</td>\n",
       "      <td>2021-02-14</td>\n",
       "      <td>2</td>\n",
       "      <td>8</td>\n",
       "      <td>50</td>\n",
       "      <td>0</td>\n",
       "    </tr>\n",
       "    <tr>\n",
       "      <th>...</th>\n",
       "      <td>...</td>\n",
       "      <td>...</td>\n",
       "      <td>...</td>\n",
       "      <td>...</td>\n",
       "      <td>...</td>\n",
       "      <td>...</td>\n",
       "      <td>...</td>\n",
       "      <td>...</td>\n",
       "      <td>...</td>\n",
       "      <td>...</td>\n",
       "      <td>...</td>\n",
       "      <td>...</td>\n",
       "    </tr>\n",
       "    <tr>\n",
       "      <th>18063</th>\n",
       "      <td>1534</td>\n",
       "      <td>Альберт</td>\n",
       "      <td>25</td>\n",
       "      <td>Краснодар</td>\n",
       "      <td>free</td>\n",
       "      <td>3782.0</td>\n",
       "      <td>20.0</td>\n",
       "      <td>2021-11-04</td>\n",
       "      <td>11</td>\n",
       "      <td>8</td>\n",
       "      <td>50</td>\n",
       "      <td>0</td>\n",
       "    </tr>\n",
       "    <tr>\n",
       "      <th>18064</th>\n",
       "      <td>1534</td>\n",
       "      <td>Альберт</td>\n",
       "      <td>25</td>\n",
       "      <td>Краснодар</td>\n",
       "      <td>free</td>\n",
       "      <td>2841.0</td>\n",
       "      <td>22.0</td>\n",
       "      <td>2021-11-16</td>\n",
       "      <td>11</td>\n",
       "      <td>8</td>\n",
       "      <td>50</td>\n",
       "      <td>0</td>\n",
       "    </tr>\n",
       "    <tr>\n",
       "      <th>18065</th>\n",
       "      <td>1534</td>\n",
       "      <td>Альберт</td>\n",
       "      <td>25</td>\n",
       "      <td>Краснодар</td>\n",
       "      <td>free</td>\n",
       "      <td>3827.0</td>\n",
       "      <td>19.0</td>\n",
       "      <td>2021-11-18</td>\n",
       "      <td>11</td>\n",
       "      <td>8</td>\n",
       "      <td>50</td>\n",
       "      <td>0</td>\n",
       "    </tr>\n",
       "    <tr>\n",
       "      <th>18066</th>\n",
       "      <td>1534</td>\n",
       "      <td>Альберт</td>\n",
       "      <td>25</td>\n",
       "      <td>Краснодар</td>\n",
       "      <td>free</td>\n",
       "      <td>2903.0</td>\n",
       "      <td>17.0</td>\n",
       "      <td>2021-11-27</td>\n",
       "      <td>11</td>\n",
       "      <td>8</td>\n",
       "      <td>50</td>\n",
       "      <td>0</td>\n",
       "    </tr>\n",
       "    <tr>\n",
       "      <th>18067</th>\n",
       "      <td>1534</td>\n",
       "      <td>Альберт</td>\n",
       "      <td>25</td>\n",
       "      <td>Краснодар</td>\n",
       "      <td>free</td>\n",
       "      <td>2372.0</td>\n",
       "      <td>16.0</td>\n",
       "      <td>2021-12-29</td>\n",
       "      <td>12</td>\n",
       "      <td>8</td>\n",
       "      <td>50</td>\n",
       "      <td>0</td>\n",
       "    </tr>\n",
       "  </tbody>\n",
       "</table>\n",
       "<p>11568 rows × 12 columns</p>\n",
       "</div>"
      ],
      "text/plain": [
       "       user_id     name  age       city subscription_type  distance  duration  \\\n",
       "6500       700    Айдар   22       Омск              free    2516.0      15.0   \n",
       "6501       700    Айдар   22       Омск              free     847.0      17.0   \n",
       "6502       700    Айдар   22       Омск              free    4005.0      21.0   \n",
       "6503       700    Айдар   22       Омск              free    1206.0      10.0   \n",
       "6504       700    Айдар   22       Омск              free    3048.0      18.0   \n",
       "...        ...      ...  ...        ...               ...       ...       ...   \n",
       "18063     1534  Альберт   25  Краснодар              free    3782.0      20.0   \n",
       "18064     1534  Альберт   25  Краснодар              free    2841.0      22.0   \n",
       "18065     1534  Альберт   25  Краснодар              free    3827.0      19.0   \n",
       "18066     1534  Альберт   25  Краснодар              free    2903.0      17.0   \n",
       "18067     1534  Альберт   25  Краснодар              free    2372.0      16.0   \n",
       "\n",
       "            date  month  minute_price  start_ride_price  subscription_fee  \n",
       "6500  2021-01-02      1             8                50                 0  \n",
       "6501  2021-02-01      2             8                50                 0  \n",
       "6502  2021-02-04      2             8                50                 0  \n",
       "6503  2021-02-10      2             8                50                 0  \n",
       "6504  2021-02-14      2             8                50                 0  \n",
       "...          ...    ...           ...               ...               ...  \n",
       "18063 2021-11-04     11             8                50                 0  \n",
       "18064 2021-11-16     11             8                50                 0  \n",
       "18065 2021-11-18     11             8                50                 0  \n",
       "18066 2021-11-27     11             8                50                 0  \n",
       "18067 2021-12-29     12             8                50                 0  \n",
       "\n",
       "[11568 rows x 12 columns]"
      ]
     },
     "metadata": {},
     "output_type": "display_data"
    }
   ],
   "source": [
    "merged_data_free = merged_data[merged_data['subscription_type']=='free']\n",
    "display(merged_data_free)"
   ]
  },
  {
   "cell_type": "code",
   "execution_count": 26,
   "id": "51fdb41a",
   "metadata": {},
   "outputs": [
    {
     "data": {
      "text/html": [
       "<div>\n",
       "<style scoped>\n",
       "    .dataframe tbody tr th:only-of-type {\n",
       "        vertical-align: middle;\n",
       "    }\n",
       "\n",
       "    .dataframe tbody tr th {\n",
       "        vertical-align: top;\n",
       "    }\n",
       "\n",
       "    .dataframe thead th {\n",
       "        text-align: right;\n",
       "    }\n",
       "</style>\n",
       "<table border=\"1\" class=\"dataframe\">\n",
       "  <thead>\n",
       "    <tr style=\"text-align: right;\">\n",
       "      <th></th>\n",
       "      <th>user_id</th>\n",
       "      <th>name</th>\n",
       "      <th>age</th>\n",
       "      <th>city</th>\n",
       "      <th>subscription_type</th>\n",
       "      <th>distance</th>\n",
       "      <th>duration</th>\n",
       "      <th>date</th>\n",
       "      <th>month</th>\n",
       "      <th>minute_price</th>\n",
       "      <th>start_ride_price</th>\n",
       "      <th>subscription_fee</th>\n",
       "    </tr>\n",
       "  </thead>\n",
       "  <tbody>\n",
       "    <tr>\n",
       "      <th>0</th>\n",
       "      <td>1</td>\n",
       "      <td>Кира</td>\n",
       "      <td>22</td>\n",
       "      <td>Тюмень</td>\n",
       "      <td>ultra</td>\n",
       "      <td>4410.0</td>\n",
       "      <td>26.0</td>\n",
       "      <td>2021-01-01</td>\n",
       "      <td>1</td>\n",
       "      <td>6</td>\n",
       "      <td>0</td>\n",
       "      <td>199</td>\n",
       "    </tr>\n",
       "    <tr>\n",
       "      <th>1</th>\n",
       "      <td>1</td>\n",
       "      <td>Кира</td>\n",
       "      <td>22</td>\n",
       "      <td>Тюмень</td>\n",
       "      <td>ultra</td>\n",
       "      <td>2618.0</td>\n",
       "      <td>16.0</td>\n",
       "      <td>2021-01-18</td>\n",
       "      <td>1</td>\n",
       "      <td>6</td>\n",
       "      <td>0</td>\n",
       "      <td>199</td>\n",
       "    </tr>\n",
       "    <tr>\n",
       "      <th>2</th>\n",
       "      <td>1</td>\n",
       "      <td>Кира</td>\n",
       "      <td>22</td>\n",
       "      <td>Тюмень</td>\n",
       "      <td>ultra</td>\n",
       "      <td>755.0</td>\n",
       "      <td>7.0</td>\n",
       "      <td>2021-04-20</td>\n",
       "      <td>4</td>\n",
       "      <td>6</td>\n",
       "      <td>0</td>\n",
       "      <td>199</td>\n",
       "    </tr>\n",
       "    <tr>\n",
       "      <th>3</th>\n",
       "      <td>1</td>\n",
       "      <td>Кира</td>\n",
       "      <td>22</td>\n",
       "      <td>Тюмень</td>\n",
       "      <td>ultra</td>\n",
       "      <td>2695.0</td>\n",
       "      <td>19.0</td>\n",
       "      <td>2021-08-11</td>\n",
       "      <td>8</td>\n",
       "      <td>6</td>\n",
       "      <td>0</td>\n",
       "      <td>199</td>\n",
       "    </tr>\n",
       "    <tr>\n",
       "      <th>4</th>\n",
       "      <td>1</td>\n",
       "      <td>Кира</td>\n",
       "      <td>22</td>\n",
       "      <td>Тюмень</td>\n",
       "      <td>ultra</td>\n",
       "      <td>4029.0</td>\n",
       "      <td>27.0</td>\n",
       "      <td>2021-08-28</td>\n",
       "      <td>8</td>\n",
       "      <td>6</td>\n",
       "      <td>0</td>\n",
       "      <td>199</td>\n",
       "    </tr>\n",
       "    <tr>\n",
       "      <th>...</th>\n",
       "      <td>...</td>\n",
       "      <td>...</td>\n",
       "      <td>...</td>\n",
       "      <td>...</td>\n",
       "      <td>...</td>\n",
       "      <td>...</td>\n",
       "      <td>...</td>\n",
       "      <td>...</td>\n",
       "      <td>...</td>\n",
       "      <td>...</td>\n",
       "      <td>...</td>\n",
       "      <td>...</td>\n",
       "    </tr>\n",
       "    <tr>\n",
       "      <th>6495</th>\n",
       "      <td>699</td>\n",
       "      <td>Оксана</td>\n",
       "      <td>22</td>\n",
       "      <td>Москва</td>\n",
       "      <td>ultra</td>\n",
       "      <td>3974.0</td>\n",
       "      <td>25.0</td>\n",
       "      <td>2021-08-29</td>\n",
       "      <td>8</td>\n",
       "      <td>6</td>\n",
       "      <td>0</td>\n",
       "      <td>199</td>\n",
       "    </tr>\n",
       "    <tr>\n",
       "      <th>6496</th>\n",
       "      <td>699</td>\n",
       "      <td>Оксана</td>\n",
       "      <td>22</td>\n",
       "      <td>Москва</td>\n",
       "      <td>ultra</td>\n",
       "      <td>3289.0</td>\n",
       "      <td>16.0</td>\n",
       "      <td>2021-09-12</td>\n",
       "      <td>9</td>\n",
       "      <td>6</td>\n",
       "      <td>0</td>\n",
       "      <td>199</td>\n",
       "    </tr>\n",
       "    <tr>\n",
       "      <th>6497</th>\n",
       "      <td>699</td>\n",
       "      <td>Оксана</td>\n",
       "      <td>22</td>\n",
       "      <td>Москва</td>\n",
       "      <td>ultra</td>\n",
       "      <td>3077.0</td>\n",
       "      <td>15.0</td>\n",
       "      <td>2021-09-26</td>\n",
       "      <td>9</td>\n",
       "      <td>6</td>\n",
       "      <td>0</td>\n",
       "      <td>199</td>\n",
       "    </tr>\n",
       "    <tr>\n",
       "      <th>6498</th>\n",
       "      <td>699</td>\n",
       "      <td>Оксана</td>\n",
       "      <td>22</td>\n",
       "      <td>Москва</td>\n",
       "      <td>ultra</td>\n",
       "      <td>4708.0</td>\n",
       "      <td>16.0</td>\n",
       "      <td>2021-10-17</td>\n",
       "      <td>10</td>\n",
       "      <td>6</td>\n",
       "      <td>0</td>\n",
       "      <td>199</td>\n",
       "    </tr>\n",
       "    <tr>\n",
       "      <th>6499</th>\n",
       "      <td>699</td>\n",
       "      <td>Оксана</td>\n",
       "      <td>22</td>\n",
       "      <td>Москва</td>\n",
       "      <td>ultra</td>\n",
       "      <td>3203.0</td>\n",
       "      <td>26.0</td>\n",
       "      <td>2021-12-03</td>\n",
       "      <td>12</td>\n",
       "      <td>6</td>\n",
       "      <td>0</td>\n",
       "      <td>199</td>\n",
       "    </tr>\n",
       "  </tbody>\n",
       "</table>\n",
       "<p>6500 rows × 12 columns</p>\n",
       "</div>"
      ],
      "text/plain": [
       "      user_id    name  age    city subscription_type  distance  duration  \\\n",
       "0           1    Кира   22  Тюмень             ultra    4410.0      26.0   \n",
       "1           1    Кира   22  Тюмень             ultra    2618.0      16.0   \n",
       "2           1    Кира   22  Тюмень             ultra     755.0       7.0   \n",
       "3           1    Кира   22  Тюмень             ultra    2695.0      19.0   \n",
       "4           1    Кира   22  Тюмень             ultra    4029.0      27.0   \n",
       "...       ...     ...  ...     ...               ...       ...       ...   \n",
       "6495      699  Оксана   22  Москва             ultra    3974.0      25.0   \n",
       "6496      699  Оксана   22  Москва             ultra    3289.0      16.0   \n",
       "6497      699  Оксана   22  Москва             ultra    3077.0      15.0   \n",
       "6498      699  Оксана   22  Москва             ultra    4708.0      16.0   \n",
       "6499      699  Оксана   22  Москва             ultra    3203.0      26.0   \n",
       "\n",
       "           date  month  minute_price  start_ride_price  subscription_fee  \n",
       "0    2021-01-01      1             6                 0               199  \n",
       "1    2021-01-18      1             6                 0               199  \n",
       "2    2021-04-20      4             6                 0               199  \n",
       "3    2021-08-11      8             6                 0               199  \n",
       "4    2021-08-28      8             6                 0               199  \n",
       "...         ...    ...           ...               ...               ...  \n",
       "6495 2021-08-29      8             6                 0               199  \n",
       "6496 2021-09-12      9             6                 0               199  \n",
       "6497 2021-09-26      9             6                 0               199  \n",
       "6498 2021-10-17     10             6                 0               199  \n",
       "6499 2021-12-03     12             6                 0               199  \n",
       "\n",
       "[6500 rows x 12 columns]"
      ]
     },
     "metadata": {},
     "output_type": "display_data"
    }
   ],
   "source": [
    "merged_data_ultra = merged_data[merged_data['subscription_type']=='ultra']\n",
    "display(merged_data_ultra)"
   ]
  },
  {
   "cell_type": "code",
   "execution_count": 28,
   "id": "cc8da8cc",
   "metadata": {},
   "outputs": [
    {
     "data": {
      "image/png": "[encoded data removed]",
      "text/plain": [
       "<Figure size 432x288 with 1 Axes>"
      ]
     },
     "metadata": {
      "needs_background": "light"
     },
     "output_type": "display_data"
    },
    {
     "data": {
      "text/plain": [
       "count    11568.000000\n",
       "mean        17.890992\n",
       "std          6.330250\n",
       "min          1.000000\n",
       "25%         13.000000\n",
       "50%         18.000000\n",
       "75%         22.000000\n",
       "max         35.000000\n",
       "Name: duration, dtype: float64"
      ]
     },
     "execution_count": 28,
     "metadata": {},
     "output_type": "execute_result"
    }
   ],
   "source": [
    "plt.hist(merged_data_free['duration'],bins=50)\n",
    "plt.show()\n",
    "merged_data_free['duration'].describe()"
   ]
  },
  {
   "cell_type": "code",
   "execution_count": 29,
   "id": "d0b53637",
   "metadata": {},
   "outputs": [
    {
     "data": {
      "image/png": "[encoded data removed]",
      "text/plain": [
       "<Figure size 432x288 with 1 Axes>"
      ]
     },
     "metadata": {
      "needs_background": "light"
     },
     "output_type": "display_data"
    },
    {
     "data": {
      "text/plain": [
       "count    11568.000000\n",
       "mean      3045.992911\n",
       "std       1246.174341\n",
       "min          1.000000\n",
       "25%       2367.000000\n",
       "50%       3115.000000\n",
       "75%       3906.000000\n",
       "max       7212.000000\n",
       "Name: distance, dtype: float64"
      ]
     },
     "execution_count": 29,
     "metadata": {},
     "output_type": "execute_result"
    }
   ],
   "source": [
    "plt.hist(merged_data_free['distance'],bins=50)\n",
    "plt.show()\n",
    "merged_data_free['distance'].describe()"
   ]
  },
  {
   "cell_type": "code",
   "execution_count": 30,
   "id": "38d22683",
   "metadata": {},
   "outputs": [
    {
     "data": {
      "image/png": "[encoded data removed]",
      "text/plain": [
       "<Figure size 432x288 with 1 Axes>"
      ]
     },
     "metadata": {
      "needs_background": "light"
     },
     "output_type": "display_data"
    },
    {
     "data": {
      "text/plain": [
       "count    6500.000000\n",
       "mean       19.037692\n",
       "std         5.577439\n",
       "min         4.000000\n",
       "25%        15.000000\n",
       "50%        19.000000\n",
       "75%        22.000000\n",
       "max        41.000000\n",
       "Name: duration, dtype: float64"
      ]
     },
     "execution_count": 30,
     "metadata": {},
     "output_type": "execute_result"
    }
   ],
   "source": [
    "plt.hist(merged_data_ultra['duration'],bins=50)\n",
    "plt.show()\n",
    "merged_data_ultra['duration'].describe()"
   ]
  },
  {
   "cell_type": "code",
   "execution_count": 31,
   "id": "b4d2911e",
   "metadata": {},
   "outputs": [
    {
     "data": {
      "image/png": "[encoded data removed]",
      "text/plain": [
       "<Figure size 432x288 with 1 Axes>"
      ]
     },
     "metadata": {
      "needs_background": "light"
     },
     "output_type": "display_data"
    },
    {
     "data": {
      "text/plain": [
       "count    6500.000000\n",
       "mean     3115.949231\n",
       "std       836.894838\n",
       "min       245.000000\n",
       "25%      2786.000000\n",
       "50%      3149.000000\n",
       "75%      3561.000000\n",
       "max      5700.000000\n",
       "Name: distance, dtype: float64"
      ]
     },
     "execution_count": 31,
     "metadata": {},
     "output_type": "execute_result"
    }
   ],
   "source": [
    "plt.hist(merged_data_ultra['distance'],bins=30)\n",
    "plt.show()\n",
    "merged_data_ultra['distance'].describe()"
   ]
  },
  {
   "cell_type": "markdown",
   "id": "d38aafef",
   "metadata": {},
   "source": [
    "Довольно неожиданно, что у подписчиков также есть локальный пик в районе 1000м. Я полагал, что подписчики используют самокат как транспорт. но возможно, они также катаются в парке на малое расстояние. При этом у пользователей без подписки явный локальный максимум на 300-500м. Что свидетельствует, что им просто не понравилось или не получилось."
   ]
  },
  {
   "cell_type": "markdown",
   "id": "956e06e7",
   "metadata": {},
   "source": [
    "Средняя дистанция у подписчиков - 3148. Что превышает оптимальное расстояние с т.зрения износа. Но крайне незначительо (менее 1% разница). При этом медиана в 3115м укладывается в нужный предел. С учетом, что у неподписчиков и средняя(3114) и медиана(3045) ниже нужного предела,можно уверенно говорить, что самокаты используются рационально.  "
   ]
  },
  {
   "cell_type": "markdown",
   "id": "402d620f",
   "metadata": {},
   "source": [
    "#### Шаг 5. Подсчёт выручки"
   ]
  },
  {
   "cell_type": "markdown",
   "id": "a275d833",
   "metadata": {},
   "source": [
    "1 Создадим датафрейм с агрегированными данными о поездках на основе датафрейма с объединёнными данными из шага 4: найдем суммарное расстояние, количество поездок и суммарное время для каждого пользователя за каждый месяц.\n",
    "5.2 В этот же датафрейм добавим столбец с помесячной выручкой, которую принёс каждый пользователь. "
   ]
  },
  {
   "cell_type": "code",
   "execution_count": 32,
   "id": "53049e0a",
   "metadata": {},
   "outputs": [
    {
     "data": {
      "text/html": [
       "<div>\n",
       "<style scoped>\n",
       "    .dataframe tbody tr th:only-of-type {\n",
       "        vertical-align: middle;\n",
       "    }\n",
       "\n",
       "    .dataframe tbody tr th {\n",
       "        vertical-align: top;\n",
       "    }\n",
       "\n",
       "    .dataframe thead tr th {\n",
       "        text-align: left;\n",
       "    }\n",
       "</style>\n",
       "<table border=\"1\" class=\"dataframe\">\n",
       "  <thead>\n",
       "    <tr>\n",
       "      <th></th>\n",
       "      <th>user_id</th>\n",
       "      <th>month</th>\n",
       "      <th colspan=\"2\" halign=\"left\">distance</th>\n",
       "      <th>duration</th>\n",
       "    </tr>\n",
       "    <tr>\n",
       "      <th></th>\n",
       "      <th></th>\n",
       "      <th></th>\n",
       "      <th>count</th>\n",
       "      <th>sum</th>\n",
       "      <th>sum</th>\n",
       "    </tr>\n",
       "  </thead>\n",
       "  <tbody>\n",
       "    <tr>\n",
       "      <th>0</th>\n",
       "      <td>1</td>\n",
       "      <td>1</td>\n",
       "      <td>2</td>\n",
       "      <td>7028.0</td>\n",
       "      <td>42.0</td>\n",
       "    </tr>\n",
       "    <tr>\n",
       "      <th>1</th>\n",
       "      <td>1</td>\n",
       "      <td>4</td>\n",
       "      <td>1</td>\n",
       "      <td>755.0</td>\n",
       "      <td>7.0</td>\n",
       "    </tr>\n",
       "    <tr>\n",
       "      <th>2</th>\n",
       "      <td>1</td>\n",
       "      <td>8</td>\n",
       "      <td>2</td>\n",
       "      <td>6724.0</td>\n",
       "      <td>46.0</td>\n",
       "    </tr>\n",
       "    <tr>\n",
       "      <th>3</th>\n",
       "      <td>1</td>\n",
       "      <td>10</td>\n",
       "      <td>2</td>\n",
       "      <td>5811.0</td>\n",
       "      <td>32.0</td>\n",
       "    </tr>\n",
       "    <tr>\n",
       "      <th>4</th>\n",
       "      <td>1</td>\n",
       "      <td>11</td>\n",
       "      <td>3</td>\n",
       "      <td>7005.0</td>\n",
       "      <td>56.0</td>\n",
       "    </tr>\n",
       "    <tr>\n",
       "      <th>...</th>\n",
       "      <td>...</td>\n",
       "      <td>...</td>\n",
       "      <td>...</td>\n",
       "      <td>...</td>\n",
       "      <td>...</td>\n",
       "    </tr>\n",
       "    <tr>\n",
       "      <th>11326</th>\n",
       "      <td>1534</td>\n",
       "      <td>6</td>\n",
       "      <td>2</td>\n",
       "      <td>3411.0</td>\n",
       "      <td>26.0</td>\n",
       "    </tr>\n",
       "    <tr>\n",
       "      <th>11327</th>\n",
       "      <td>1534</td>\n",
       "      <td>8</td>\n",
       "      <td>2</td>\n",
       "      <td>7623.0</td>\n",
       "      <td>48.0</td>\n",
       "    </tr>\n",
       "    <tr>\n",
       "      <th>11328</th>\n",
       "      <td>1534</td>\n",
       "      <td>9</td>\n",
       "      <td>1</td>\n",
       "      <td>4929.0</td>\n",
       "      <td>23.0</td>\n",
       "    </tr>\n",
       "    <tr>\n",
       "      <th>11329</th>\n",
       "      <td>1534</td>\n",
       "      <td>11</td>\n",
       "      <td>4</td>\n",
       "      <td>13353.0</td>\n",
       "      <td>78.0</td>\n",
       "    </tr>\n",
       "    <tr>\n",
       "      <th>11330</th>\n",
       "      <td>1534</td>\n",
       "      <td>12</td>\n",
       "      <td>1</td>\n",
       "      <td>2372.0</td>\n",
       "      <td>16.0</td>\n",
       "    </tr>\n",
       "  </tbody>\n",
       "</table>\n",
       "<p>11331 rows × 5 columns</p>\n",
       "</div>"
      ],
      "text/plain": [
       "      user_id month distance          duration\n",
       "                       count      sum      sum\n",
       "0           1     1        2   7028.0     42.0\n",
       "1           1     4        1    755.0      7.0\n",
       "2           1     8        2   6724.0     46.0\n",
       "3           1    10        2   5811.0     32.0\n",
       "4           1    11        3   7005.0     56.0\n",
       "...       ...   ...      ...      ...      ...\n",
       "11326    1534     6        2   3411.0     26.0\n",
       "11327    1534     8        2   7623.0     48.0\n",
       "11328    1534     9        1   4929.0     23.0\n",
       "11329    1534    11        4  13353.0     78.0\n",
       "11330    1534    12        1   2372.0     16.0\n",
       "\n",
       "[11331 rows x 5 columns]"
      ]
     },
     "metadata": {},
     "output_type": "display_data"
    },
    {
     "name": "stdout",
     "output_type": "stream",
     "text": [
      "<class 'pandas.core.frame.DataFrame'>\n",
      "RangeIndex: 11331 entries, 0 to 11330\n",
      "Data columns (total 5 columns):\n",
      " #   Column             Non-Null Count  Dtype  \n",
      "---  ------             --------------  -----  \n",
      " 0   (user_id, )        11331 non-null  int64  \n",
      " 1   (month, )          11331 non-null  int64  \n",
      " 2   (distance, count)  11331 non-null  int64  \n",
      " 3   (distance, sum)    11331 non-null  float64\n",
      " 4   (duration, sum)    11331 non-null  float64\n",
      "dtypes: float64(2), int64(3)\n",
      "memory usage: 442.7 KB\n"
     ]
    }
   ],
   "source": [
    "pivot_table_result = merged_data.pivot_table(index=['user_id','month']\n",
    "      , values=['distance', 'duration'],\n",
    "      aggfunc={'distance' : ['count','sum'],'duration':'sum'}  \n",
    "    )\n",
    "pivot_table_result = pivot_table_result.reset_index(drop=False)\n",
    "display(pivot_table_result)\n",
    "pivot_table_result.info()"
   ]
  },
  {
   "cell_type": "markdown",
   "id": "28d81f6e",
   "metadata": {},
   "source": [
    "Получилась сводная таблица. Необходимо переименовать стобцы для дальнейшей работы."
   ]
  },
  {
   "cell_type": "code",
   "execution_count": 33,
   "id": "f5d29f1e",
   "metadata": {},
   "outputs": [],
   "source": [
    "pivot_table_result.columns = ['_'.join(col).strip()for col in pivot_table_result.columns.values]"
   ]
  },
  {
   "cell_type": "code",
   "execution_count": 34,
   "id": "1d1ebf36",
   "metadata": {},
   "outputs": [
    {
     "name": "stdout",
     "output_type": "stream",
     "text": [
      "<class 'pandas.core.frame.DataFrame'>\n",
      "RangeIndex: 11331 entries, 0 to 11330\n",
      "Data columns (total 5 columns):\n",
      " #   Column          Non-Null Count  Dtype  \n",
      "---  ------          --------------  -----  \n",
      " 0   user_id_        11331 non-null  int64  \n",
      " 1   month_          11331 non-null  int64  \n",
      " 2   distance_count  11331 non-null  int64  \n",
      " 3   distance_sum    11331 non-null  float64\n",
      " 4   duration_sum    11331 non-null  float64\n",
      "dtypes: float64(2), int64(3)\n",
      "memory usage: 442.7 KB\n"
     ]
    }
   ],
   "source": [
    "pivot_table_result['duration_sum'] = np.ceil(pivot_table_result['duration_sum'])\n",
    "pivot_table_result.info()"
   ]
  },
  {
   "cell_type": "code",
   "execution_count": 35,
   "id": "d60b16ca",
   "metadata": {},
   "outputs": [
    {
     "data": {
      "text/html": [
       "<div>\n",
       "<style scoped>\n",
       "    .dataframe tbody tr th:only-of-type {\n",
       "        vertical-align: middle;\n",
       "    }\n",
       "\n",
       "    .dataframe tbody tr th {\n",
       "        vertical-align: top;\n",
       "    }\n",
       "\n",
       "    .dataframe thead th {\n",
       "        text-align: right;\n",
       "    }\n",
       "</style>\n",
       "<table border=\"1\" class=\"dataframe\">\n",
       "  <thead>\n",
       "    <tr style=\"text-align: right;\">\n",
       "      <th></th>\n",
       "      <th>user_id</th>\n",
       "      <th>month</th>\n",
       "      <th>distance_count</th>\n",
       "      <th>distance_sum</th>\n",
       "      <th>duration_sum</th>\n",
       "    </tr>\n",
       "  </thead>\n",
       "  <tbody>\n",
       "    <tr>\n",
       "      <th>0</th>\n",
       "      <td>1</td>\n",
       "      <td>1</td>\n",
       "      <td>2</td>\n",
       "      <td>7028.0</td>\n",
       "      <td>42.0</td>\n",
       "    </tr>\n",
       "    <tr>\n",
       "      <th>1</th>\n",
       "      <td>1</td>\n",
       "      <td>4</td>\n",
       "      <td>1</td>\n",
       "      <td>755.0</td>\n",
       "      <td>7.0</td>\n",
       "    </tr>\n",
       "    <tr>\n",
       "      <th>2</th>\n",
       "      <td>1</td>\n",
       "      <td>8</td>\n",
       "      <td>2</td>\n",
       "      <td>6724.0</td>\n",
       "      <td>46.0</td>\n",
       "    </tr>\n",
       "    <tr>\n",
       "      <th>3</th>\n",
       "      <td>1</td>\n",
       "      <td>10</td>\n",
       "      <td>2</td>\n",
       "      <td>5811.0</td>\n",
       "      <td>32.0</td>\n",
       "    </tr>\n",
       "    <tr>\n",
       "      <th>4</th>\n",
       "      <td>1</td>\n",
       "      <td>11</td>\n",
       "      <td>3</td>\n",
       "      <td>7005.0</td>\n",
       "      <td>56.0</td>\n",
       "    </tr>\n",
       "    <tr>\n",
       "      <th>...</th>\n",
       "      <td>...</td>\n",
       "      <td>...</td>\n",
       "      <td>...</td>\n",
       "      <td>...</td>\n",
       "      <td>...</td>\n",
       "    </tr>\n",
       "    <tr>\n",
       "      <th>11326</th>\n",
       "      <td>1534</td>\n",
       "      <td>6</td>\n",
       "      <td>2</td>\n",
       "      <td>3411.0</td>\n",
       "      <td>26.0</td>\n",
       "    </tr>\n",
       "    <tr>\n",
       "      <th>11327</th>\n",
       "      <td>1534</td>\n",
       "      <td>8</td>\n",
       "      <td>2</td>\n",
       "      <td>7623.0</td>\n",
       "      <td>48.0</td>\n",
       "    </tr>\n",
       "    <tr>\n",
       "      <th>11328</th>\n",
       "      <td>1534</td>\n",
       "      <td>9</td>\n",
       "      <td>1</td>\n",
       "      <td>4929.0</td>\n",
       "      <td>23.0</td>\n",
       "    </tr>\n",
       "    <tr>\n",
       "      <th>11329</th>\n",
       "      <td>1534</td>\n",
       "      <td>11</td>\n",
       "      <td>4</td>\n",
       "      <td>13353.0</td>\n",
       "      <td>78.0</td>\n",
       "    </tr>\n",
       "    <tr>\n",
       "      <th>11330</th>\n",
       "      <td>1534</td>\n",
       "      <td>12</td>\n",
       "      <td>1</td>\n",
       "      <td>2372.0</td>\n",
       "      <td>16.0</td>\n",
       "    </tr>\n",
       "  </tbody>\n",
       "</table>\n",
       "<p>11331 rows × 5 columns</p>\n",
       "</div>"
      ],
      "text/plain": [
       "       user_id  month  distance_count  distance_sum  duration_sum\n",
       "0            1      1               2        7028.0          42.0\n",
       "1            1      4               1         755.0           7.0\n",
       "2            1      8               2        6724.0          46.0\n",
       "3            1     10               2        5811.0          32.0\n",
       "4            1     11               3        7005.0          56.0\n",
       "...        ...    ...             ...           ...           ...\n",
       "11326     1534      6               2        3411.0          26.0\n",
       "11327     1534      8               2        7623.0          48.0\n",
       "11328     1534      9               1        4929.0          23.0\n",
       "11329     1534     11               4       13353.0          78.0\n",
       "11330     1534     12               1        2372.0          16.0\n",
       "\n",
       "[11331 rows x 5 columns]"
      ]
     },
     "metadata": {},
     "output_type": "display_data"
    }
   ],
   "source": [
    "pivot_table_result = pivot_table_result.rename(columns={'user_id_':'user_id', 'month_':'month'})\n",
    "display (pivot_table_result)"
   ]
  },
  {
   "cell_type": "code",
   "execution_count": 36,
   "id": "845cf08b",
   "metadata": {},
   "outputs": [
    {
     "data": {
      "text/html": [
       "<div>\n",
       "<style scoped>\n",
       "    .dataframe tbody tr th:only-of-type {\n",
       "        vertical-align: middle;\n",
       "    }\n",
       "\n",
       "    .dataframe tbody tr th {\n",
       "        vertical-align: top;\n",
       "    }\n",
       "\n",
       "    .dataframe thead th {\n",
       "        text-align: right;\n",
       "    }\n",
       "</style>\n",
       "<table border=\"1\" class=\"dataframe\">\n",
       "  <thead>\n",
       "    <tr style=\"text-align: right;\">\n",
       "      <th></th>\n",
       "      <th>user_id</th>\n",
       "      <th>month</th>\n",
       "      <th>distance_count</th>\n",
       "      <th>distance_sum</th>\n",
       "      <th>duration_sum</th>\n",
       "      <th>subscription_type</th>\n",
       "    </tr>\n",
       "  </thead>\n",
       "  <tbody>\n",
       "    <tr>\n",
       "      <th>0</th>\n",
       "      <td>1</td>\n",
       "      <td>1</td>\n",
       "      <td>2</td>\n",
       "      <td>7028.0</td>\n",
       "      <td>42.0</td>\n",
       "      <td>ultra</td>\n",
       "    </tr>\n",
       "    <tr>\n",
       "      <th>1</th>\n",
       "      <td>1</td>\n",
       "      <td>4</td>\n",
       "      <td>1</td>\n",
       "      <td>755.0</td>\n",
       "      <td>7.0</td>\n",
       "      <td>ultra</td>\n",
       "    </tr>\n",
       "    <tr>\n",
       "      <th>2</th>\n",
       "      <td>1</td>\n",
       "      <td>8</td>\n",
       "      <td>2</td>\n",
       "      <td>6724.0</td>\n",
       "      <td>46.0</td>\n",
       "      <td>ultra</td>\n",
       "    </tr>\n",
       "    <tr>\n",
       "      <th>3</th>\n",
       "      <td>1</td>\n",
       "      <td>10</td>\n",
       "      <td>2</td>\n",
       "      <td>5811.0</td>\n",
       "      <td>32.0</td>\n",
       "      <td>ultra</td>\n",
       "    </tr>\n",
       "    <tr>\n",
       "      <th>4</th>\n",
       "      <td>1</td>\n",
       "      <td>11</td>\n",
       "      <td>3</td>\n",
       "      <td>7005.0</td>\n",
       "      <td>56.0</td>\n",
       "      <td>ultra</td>\n",
       "    </tr>\n",
       "    <tr>\n",
       "      <th>...</th>\n",
       "      <td>...</td>\n",
       "      <td>...</td>\n",
       "      <td>...</td>\n",
       "      <td>...</td>\n",
       "      <td>...</td>\n",
       "      <td>...</td>\n",
       "    </tr>\n",
       "    <tr>\n",
       "      <th>11326</th>\n",
       "      <td>1534</td>\n",
       "      <td>6</td>\n",
       "      <td>2</td>\n",
       "      <td>3411.0</td>\n",
       "      <td>26.0</td>\n",
       "      <td>free</td>\n",
       "    </tr>\n",
       "    <tr>\n",
       "      <th>11327</th>\n",
       "      <td>1534</td>\n",
       "      <td>8</td>\n",
       "      <td>2</td>\n",
       "      <td>7623.0</td>\n",
       "      <td>48.0</td>\n",
       "      <td>free</td>\n",
       "    </tr>\n",
       "    <tr>\n",
       "      <th>11328</th>\n",
       "      <td>1534</td>\n",
       "      <td>9</td>\n",
       "      <td>1</td>\n",
       "      <td>4929.0</td>\n",
       "      <td>23.0</td>\n",
       "      <td>free</td>\n",
       "    </tr>\n",
       "    <tr>\n",
       "      <th>11329</th>\n",
       "      <td>1534</td>\n",
       "      <td>11</td>\n",
       "      <td>4</td>\n",
       "      <td>13353.0</td>\n",
       "      <td>78.0</td>\n",
       "      <td>free</td>\n",
       "    </tr>\n",
       "    <tr>\n",
       "      <th>11330</th>\n",
       "      <td>1534</td>\n",
       "      <td>12</td>\n",
       "      <td>1</td>\n",
       "      <td>2372.0</td>\n",
       "      <td>16.0</td>\n",
       "      <td>free</td>\n",
       "    </tr>\n",
       "  </tbody>\n",
       "</table>\n",
       "<p>11331 rows × 6 columns</p>\n",
       "</div>"
      ],
      "text/plain": [
       "       user_id  month  distance_count  distance_sum  duration_sum  \\\n",
       "0            1      1               2        7028.0          42.0   \n",
       "1            1      4               1         755.0           7.0   \n",
       "2            1      8               2        6724.0          46.0   \n",
       "3            1     10               2        5811.0          32.0   \n",
       "4            1     11               3        7005.0          56.0   \n",
       "...        ...    ...             ...           ...           ...   \n",
       "11326     1534      6               2        3411.0          26.0   \n",
       "11327     1534      8               2        7623.0          48.0   \n",
       "11328     1534      9               1        4929.0          23.0   \n",
       "11329     1534     11               4       13353.0          78.0   \n",
       "11330     1534     12               1        2372.0          16.0   \n",
       "\n",
       "      subscription_type  \n",
       "0                 ultra  \n",
       "1                 ultra  \n",
       "2                 ultra  \n",
       "3                 ultra  \n",
       "4                 ultra  \n",
       "...                 ...  \n",
       "11326              free  \n",
       "11327              free  \n",
       "11328              free  \n",
       "11329              free  \n",
       "11330              free  \n",
       "\n",
       "[11331 rows x 6 columns]"
      ]
     },
     "metadata": {},
     "output_type": "display_data"
    }
   ],
   "source": [
    "result_new = pd.merge(pivot_table_result, users[['user_id', 'subscription_type']],on='user_id', how='left')\n",
    "display(result_new)"
   ]
  },
  {
   "cell_type": "markdown",
   "id": "c29b71f6",
   "metadata": {},
   "source": [
    "Создадим функцию для расчета выручки по каждому пользователю. Алгоритм расчета несколько отличается для подписчиков и нет. Данные по стоимости подписки вставлены напрямую в формулу. Что неправильно, т.к. могут поменяться в исходном датасете. Но так сделано для простоты, т.к. всего 4 числа.  "
   ]
  },
  {
   "cell_type": "code",
   "execution_count": 37,
   "id": "89f696fd",
   "metadata": {},
   "outputs": [],
   "source": [
    "def calc_income(row):\n",
    "    if row['subscription_type']=='ultra':\n",
    "        return \\\n",
    "            row['distance_count']*0 + row['duration_sum']*6 + 199\n",
    "    elif row['subscription_type']=='free':\n",
    "        return row['distance_count']*50 + row['duration_sum']*8 + 0\n",
    "    else:\n",
    "        return 0"
   ]
  },
  {
   "cell_type": "markdown",
   "id": "b7789b06",
   "metadata": {},
   "source": [
    "Добавим столбец с выручкой по каждому пользователю в месяц."
   ]
  },
  {
   "cell_type": "code",
   "execution_count": 38,
   "id": "5033c7e8",
   "metadata": {},
   "outputs": [
    {
     "data": {
      "text/html": [
       "<div>\n",
       "<style scoped>\n",
       "    .dataframe tbody tr th:only-of-type {\n",
       "        vertical-align: middle;\n",
       "    }\n",
       "\n",
       "    .dataframe tbody tr th {\n",
       "        vertical-align: top;\n",
       "    }\n",
       "\n",
       "    .dataframe thead th {\n",
       "        text-align: right;\n",
       "    }\n",
       "</style>\n",
       "<table border=\"1\" class=\"dataframe\">\n",
       "  <thead>\n",
       "    <tr style=\"text-align: right;\">\n",
       "      <th></th>\n",
       "      <th>user_id</th>\n",
       "      <th>month</th>\n",
       "      <th>distance_count</th>\n",
       "      <th>distance_sum</th>\n",
       "      <th>duration_sum</th>\n",
       "      <th>subscription_type</th>\n",
       "      <th>income</th>\n",
       "    </tr>\n",
       "  </thead>\n",
       "  <tbody>\n",
       "    <tr>\n",
       "      <th>0</th>\n",
       "      <td>1</td>\n",
       "      <td>1</td>\n",
       "      <td>2</td>\n",
       "      <td>7028.0</td>\n",
       "      <td>42.0</td>\n",
       "      <td>ultra</td>\n",
       "      <td>451.0</td>\n",
       "    </tr>\n",
       "    <tr>\n",
       "      <th>1</th>\n",
       "      <td>1</td>\n",
       "      <td>4</td>\n",
       "      <td>1</td>\n",
       "      <td>755.0</td>\n",
       "      <td>7.0</td>\n",
       "      <td>ultra</td>\n",
       "      <td>241.0</td>\n",
       "    </tr>\n",
       "    <tr>\n",
       "      <th>2</th>\n",
       "      <td>1</td>\n",
       "      <td>8</td>\n",
       "      <td>2</td>\n",
       "      <td>6724.0</td>\n",
       "      <td>46.0</td>\n",
       "      <td>ultra</td>\n",
       "      <td>475.0</td>\n",
       "    </tr>\n",
       "    <tr>\n",
       "      <th>3</th>\n",
       "      <td>1</td>\n",
       "      <td>10</td>\n",
       "      <td>2</td>\n",
       "      <td>5811.0</td>\n",
       "      <td>32.0</td>\n",
       "      <td>ultra</td>\n",
       "      <td>391.0</td>\n",
       "    </tr>\n",
       "    <tr>\n",
       "      <th>4</th>\n",
       "      <td>1</td>\n",
       "      <td>11</td>\n",
       "      <td>3</td>\n",
       "      <td>7005.0</td>\n",
       "      <td>56.0</td>\n",
       "      <td>ultra</td>\n",
       "      <td>535.0</td>\n",
       "    </tr>\n",
       "    <tr>\n",
       "      <th>...</th>\n",
       "      <td>...</td>\n",
       "      <td>...</td>\n",
       "      <td>...</td>\n",
       "      <td>...</td>\n",
       "      <td>...</td>\n",
       "      <td>...</td>\n",
       "      <td>...</td>\n",
       "    </tr>\n",
       "    <tr>\n",
       "      <th>11326</th>\n",
       "      <td>1534</td>\n",
       "      <td>6</td>\n",
       "      <td>2</td>\n",
       "      <td>3411.0</td>\n",
       "      <td>26.0</td>\n",
       "      <td>free</td>\n",
       "      <td>308.0</td>\n",
       "    </tr>\n",
       "    <tr>\n",
       "      <th>11327</th>\n",
       "      <td>1534</td>\n",
       "      <td>8</td>\n",
       "      <td>2</td>\n",
       "      <td>7623.0</td>\n",
       "      <td>48.0</td>\n",
       "      <td>free</td>\n",
       "      <td>484.0</td>\n",
       "    </tr>\n",
       "    <tr>\n",
       "      <th>11328</th>\n",
       "      <td>1534</td>\n",
       "      <td>9</td>\n",
       "      <td>1</td>\n",
       "      <td>4929.0</td>\n",
       "      <td>23.0</td>\n",
       "      <td>free</td>\n",
       "      <td>234.0</td>\n",
       "    </tr>\n",
       "    <tr>\n",
       "      <th>11329</th>\n",
       "      <td>1534</td>\n",
       "      <td>11</td>\n",
       "      <td>4</td>\n",
       "      <td>13353.0</td>\n",
       "      <td>78.0</td>\n",
       "      <td>free</td>\n",
       "      <td>824.0</td>\n",
       "    </tr>\n",
       "    <tr>\n",
       "      <th>11330</th>\n",
       "      <td>1534</td>\n",
       "      <td>12</td>\n",
       "      <td>1</td>\n",
       "      <td>2372.0</td>\n",
       "      <td>16.0</td>\n",
       "      <td>free</td>\n",
       "      <td>178.0</td>\n",
       "    </tr>\n",
       "  </tbody>\n",
       "</table>\n",
       "<p>11331 rows × 7 columns</p>\n",
       "</div>"
      ],
      "text/plain": [
       "       user_id  month  distance_count  distance_sum  duration_sum  \\\n",
       "0            1      1               2        7028.0          42.0   \n",
       "1            1      4               1         755.0           7.0   \n",
       "2            1      8               2        6724.0          46.0   \n",
       "3            1     10               2        5811.0          32.0   \n",
       "4            1     11               3        7005.0          56.0   \n",
       "...        ...    ...             ...           ...           ...   \n",
       "11326     1534      6               2        3411.0          26.0   \n",
       "11327     1534      8               2        7623.0          48.0   \n",
       "11328     1534      9               1        4929.0          23.0   \n",
       "11329     1534     11               4       13353.0          78.0   \n",
       "11330     1534     12               1        2372.0          16.0   \n",
       "\n",
       "      subscription_type  income  \n",
       "0                 ultra   451.0  \n",
       "1                 ultra   241.0  \n",
       "2                 ultra   475.0  \n",
       "3                 ultra   391.0  \n",
       "4                 ultra   535.0  \n",
       "...                 ...     ...  \n",
       "11326              free   308.0  \n",
       "11327              free   484.0  \n",
       "11328              free   234.0  \n",
       "11329              free   824.0  \n",
       "11330              free   178.0  \n",
       "\n",
       "[11331 rows x 7 columns]"
      ]
     },
     "metadata": {},
     "output_type": "display_data"
    }
   ],
   "source": [
    "result_new['income'] = result_new.apply(calc_income,axis=1)\n",
    "display(result_new)"
   ]
  },
  {
   "cell_type": "markdown",
   "id": "034b185a",
   "metadata": {},
   "source": [
    "<div class=\"alert alert-info\">Выделим датасет для подписчиков</div>"
   ]
  },
  {
   "cell_type": "code",
   "execution_count": 39,
   "id": "0d66291e",
   "metadata": {},
   "outputs": [
    {
     "data": {
      "text/html": [
       "<div>\n",
       "<style scoped>\n",
       "    .dataframe tbody tr th:only-of-type {\n",
       "        vertical-align: middle;\n",
       "    }\n",
       "\n",
       "    .dataframe tbody tr th {\n",
       "        vertical-align: top;\n",
       "    }\n",
       "\n",
       "    .dataframe thead th {\n",
       "        text-align: right;\n",
       "    }\n",
       "</style>\n",
       "<table border=\"1\" class=\"dataframe\">\n",
       "  <thead>\n",
       "    <tr style=\"text-align: right;\">\n",
       "      <th></th>\n",
       "      <th>user_id</th>\n",
       "      <th>month</th>\n",
       "      <th>distance_count</th>\n",
       "      <th>distance_sum</th>\n",
       "      <th>duration_sum</th>\n",
       "      <th>subscription_type</th>\n",
       "      <th>income</th>\n",
       "    </tr>\n",
       "  </thead>\n",
       "  <tbody>\n",
       "    <tr>\n",
       "      <th>0</th>\n",
       "      <td>1</td>\n",
       "      <td>1</td>\n",
       "      <td>2</td>\n",
       "      <td>7028.0</td>\n",
       "      <td>42.0</td>\n",
       "      <td>ultra</td>\n",
       "      <td>451.0</td>\n",
       "    </tr>\n",
       "    <tr>\n",
       "      <th>1</th>\n",
       "      <td>1</td>\n",
       "      <td>4</td>\n",
       "      <td>1</td>\n",
       "      <td>755.0</td>\n",
       "      <td>7.0</td>\n",
       "      <td>ultra</td>\n",
       "      <td>241.0</td>\n",
       "    </tr>\n",
       "    <tr>\n",
       "      <th>2</th>\n",
       "      <td>1</td>\n",
       "      <td>8</td>\n",
       "      <td>2</td>\n",
       "      <td>6724.0</td>\n",
       "      <td>46.0</td>\n",
       "      <td>ultra</td>\n",
       "      <td>475.0</td>\n",
       "    </tr>\n",
       "    <tr>\n",
       "      <th>3</th>\n",
       "      <td>1</td>\n",
       "      <td>10</td>\n",
       "      <td>2</td>\n",
       "      <td>5811.0</td>\n",
       "      <td>32.0</td>\n",
       "      <td>ultra</td>\n",
       "      <td>391.0</td>\n",
       "    </tr>\n",
       "    <tr>\n",
       "      <th>4</th>\n",
       "      <td>1</td>\n",
       "      <td>11</td>\n",
       "      <td>3</td>\n",
       "      <td>7005.0</td>\n",
       "      <td>56.0</td>\n",
       "      <td>ultra</td>\n",
       "      <td>535.0</td>\n",
       "    </tr>\n",
       "    <tr>\n",
       "      <th>...</th>\n",
       "      <td>...</td>\n",
       "      <td>...</td>\n",
       "      <td>...</td>\n",
       "      <td>...</td>\n",
       "      <td>...</td>\n",
       "      <td>...</td>\n",
       "      <td>...</td>\n",
       "    </tr>\n",
       "    <tr>\n",
       "      <th>4528</th>\n",
       "      <td>699</td>\n",
       "      <td>6</td>\n",
       "      <td>1</td>\n",
       "      <td>4073.0</td>\n",
       "      <td>17.0</td>\n",
       "      <td>ultra</td>\n",
       "      <td>301.0</td>\n",
       "    </tr>\n",
       "    <tr>\n",
       "      <th>4529</th>\n",
       "      <td>699</td>\n",
       "      <td>8</td>\n",
       "      <td>2</td>\n",
       "      <td>7020.0</td>\n",
       "      <td>45.0</td>\n",
       "      <td>ultra</td>\n",
       "      <td>469.0</td>\n",
       "    </tr>\n",
       "    <tr>\n",
       "      <th>4530</th>\n",
       "      <td>699</td>\n",
       "      <td>9</td>\n",
       "      <td>2</td>\n",
       "      <td>6366.0</td>\n",
       "      <td>31.0</td>\n",
       "      <td>ultra</td>\n",
       "      <td>385.0</td>\n",
       "    </tr>\n",
       "    <tr>\n",
       "      <th>4531</th>\n",
       "      <td>699</td>\n",
       "      <td>10</td>\n",
       "      <td>1</td>\n",
       "      <td>4708.0</td>\n",
       "      <td>16.0</td>\n",
       "      <td>ultra</td>\n",
       "      <td>295.0</td>\n",
       "    </tr>\n",
       "    <tr>\n",
       "      <th>4532</th>\n",
       "      <td>699</td>\n",
       "      <td>12</td>\n",
       "      <td>1</td>\n",
       "      <td>3203.0</td>\n",
       "      <td>26.0</td>\n",
       "      <td>ultra</td>\n",
       "      <td>355.0</td>\n",
       "    </tr>\n",
       "  </tbody>\n",
       "</table>\n",
       "<p>4533 rows × 7 columns</p>\n",
       "</div>"
      ],
      "text/plain": [
       "      user_id  month  distance_count  distance_sum  duration_sum  \\\n",
       "0           1      1               2        7028.0          42.0   \n",
       "1           1      4               1         755.0           7.0   \n",
       "2           1      8               2        6724.0          46.0   \n",
       "3           1     10               2        5811.0          32.0   \n",
       "4           1     11               3        7005.0          56.0   \n",
       "...       ...    ...             ...           ...           ...   \n",
       "4528      699      6               1        4073.0          17.0   \n",
       "4529      699      8               2        7020.0          45.0   \n",
       "4530      699      9               2        6366.0          31.0   \n",
       "4531      699     10               1        4708.0          16.0   \n",
       "4532      699     12               1        3203.0          26.0   \n",
       "\n",
       "     subscription_type  income  \n",
       "0                ultra   451.0  \n",
       "1                ultra   241.0  \n",
       "2                ultra   475.0  \n",
       "3                ultra   391.0  \n",
       "4                ultra   535.0  \n",
       "...                ...     ...  \n",
       "4528             ultra   301.0  \n",
       "4529             ultra   469.0  \n",
       "4530             ultra   385.0  \n",
       "4531             ultra   295.0  \n",
       "4532             ultra   355.0  \n",
       "\n",
       "[4533 rows x 7 columns]"
      ]
     },
     "metadata": {},
     "output_type": "display_data"
    }
   ],
   "source": [
    "result_new_ultra = result_new[result_new['subscription_type']=='ultra']\n",
    "display(result_new_ultra)"
   ]
  },
  {
   "cell_type": "markdown",
   "id": "2829a3b2",
   "metadata": {},
   "source": [
    "<div class=\"alert alert-info\"> и для пользователей  без подписки </div>"
   ]
  },
  {
   "cell_type": "code",
   "execution_count": 40,
   "id": "beea7c4a",
   "metadata": {},
   "outputs": [
    {
     "data": {
      "text/html": [
       "<div>\n",
       "<style scoped>\n",
       "    .dataframe tbody tr th:only-of-type {\n",
       "        vertical-align: middle;\n",
       "    }\n",
       "\n",
       "    .dataframe tbody tr th {\n",
       "        vertical-align: top;\n",
       "    }\n",
       "\n",
       "    .dataframe thead th {\n",
       "        text-align: right;\n",
       "    }\n",
       "</style>\n",
       "<table border=\"1\" class=\"dataframe\">\n",
       "  <thead>\n",
       "    <tr style=\"text-align: right;\">\n",
       "      <th></th>\n",
       "      <th>user_id</th>\n",
       "      <th>month</th>\n",
       "      <th>distance_count</th>\n",
       "      <th>distance_sum</th>\n",
       "      <th>duration_sum</th>\n",
       "      <th>subscription_type</th>\n",
       "      <th>income</th>\n",
       "    </tr>\n",
       "  </thead>\n",
       "  <tbody>\n",
       "    <tr>\n",
       "      <th>4533</th>\n",
       "      <td>700</td>\n",
       "      <td>1</td>\n",
       "      <td>1</td>\n",
       "      <td>2516.0</td>\n",
       "      <td>15.0</td>\n",
       "      <td>free</td>\n",
       "      <td>170.0</td>\n",
       "    </tr>\n",
       "    <tr>\n",
       "      <th>4534</th>\n",
       "      <td>700</td>\n",
       "      <td>2</td>\n",
       "      <td>5</td>\n",
       "      <td>13449.0</td>\n",
       "      <td>89.0</td>\n",
       "      <td>free</td>\n",
       "      <td>962.0</td>\n",
       "    </tr>\n",
       "    <tr>\n",
       "      <th>4535</th>\n",
       "      <td>700</td>\n",
       "      <td>3</td>\n",
       "      <td>1</td>\n",
       "      <td>3799.0</td>\n",
       "      <td>19.0</td>\n",
       "      <td>free</td>\n",
       "      <td>202.0</td>\n",
       "    </tr>\n",
       "    <tr>\n",
       "      <th>4536</th>\n",
       "      <td>700</td>\n",
       "      <td>4</td>\n",
       "      <td>1</td>\n",
       "      <td>2985.0</td>\n",
       "      <td>16.0</td>\n",
       "      <td>free</td>\n",
       "      <td>178.0</td>\n",
       "    </tr>\n",
       "    <tr>\n",
       "      <th>4537</th>\n",
       "      <td>700</td>\n",
       "      <td>6</td>\n",
       "      <td>2</td>\n",
       "      <td>5929.0</td>\n",
       "      <td>29.0</td>\n",
       "      <td>free</td>\n",
       "      <td>332.0</td>\n",
       "    </tr>\n",
       "    <tr>\n",
       "      <th>...</th>\n",
       "      <td>...</td>\n",
       "      <td>...</td>\n",
       "      <td>...</td>\n",
       "      <td>...</td>\n",
       "      <td>...</td>\n",
       "      <td>...</td>\n",
       "      <td>...</td>\n",
       "    </tr>\n",
       "    <tr>\n",
       "      <th>11326</th>\n",
       "      <td>1534</td>\n",
       "      <td>6</td>\n",
       "      <td>2</td>\n",
       "      <td>3411.0</td>\n",
       "      <td>26.0</td>\n",
       "      <td>free</td>\n",
       "      <td>308.0</td>\n",
       "    </tr>\n",
       "    <tr>\n",
       "      <th>11327</th>\n",
       "      <td>1534</td>\n",
       "      <td>8</td>\n",
       "      <td>2</td>\n",
       "      <td>7623.0</td>\n",
       "      <td>48.0</td>\n",
       "      <td>free</td>\n",
       "      <td>484.0</td>\n",
       "    </tr>\n",
       "    <tr>\n",
       "      <th>11328</th>\n",
       "      <td>1534</td>\n",
       "      <td>9</td>\n",
       "      <td>1</td>\n",
       "      <td>4929.0</td>\n",
       "      <td>23.0</td>\n",
       "      <td>free</td>\n",
       "      <td>234.0</td>\n",
       "    </tr>\n",
       "    <tr>\n",
       "      <th>11329</th>\n",
       "      <td>1534</td>\n",
       "      <td>11</td>\n",
       "      <td>4</td>\n",
       "      <td>13353.0</td>\n",
       "      <td>78.0</td>\n",
       "      <td>free</td>\n",
       "      <td>824.0</td>\n",
       "    </tr>\n",
       "    <tr>\n",
       "      <th>11330</th>\n",
       "      <td>1534</td>\n",
       "      <td>12</td>\n",
       "      <td>1</td>\n",
       "      <td>2372.0</td>\n",
       "      <td>16.0</td>\n",
       "      <td>free</td>\n",
       "      <td>178.0</td>\n",
       "    </tr>\n",
       "  </tbody>\n",
       "</table>\n",
       "<p>6798 rows × 7 columns</p>\n",
       "</div>"
      ],
      "text/plain": [
       "       user_id  month  distance_count  distance_sum  duration_sum  \\\n",
       "4533       700      1               1        2516.0          15.0   \n",
       "4534       700      2               5       13449.0          89.0   \n",
       "4535       700      3               1        3799.0          19.0   \n",
       "4536       700      4               1        2985.0          16.0   \n",
       "4537       700      6               2        5929.0          29.0   \n",
       "...        ...    ...             ...           ...           ...   \n",
       "11326     1534      6               2        3411.0          26.0   \n",
       "11327     1534      8               2        7623.0          48.0   \n",
       "11328     1534      9               1        4929.0          23.0   \n",
       "11329     1534     11               4       13353.0          78.0   \n",
       "11330     1534     12               1        2372.0          16.0   \n",
       "\n",
       "      subscription_type  income  \n",
       "4533               free   170.0  \n",
       "4534               free   962.0  \n",
       "4535               free   202.0  \n",
       "4536               free   178.0  \n",
       "4537               free   332.0  \n",
       "...                 ...     ...  \n",
       "11326              free   308.0  \n",
       "11327              free   484.0  \n",
       "11328              free   234.0  \n",
       "11329              free   824.0  \n",
       "11330              free   178.0  \n",
       "\n",
       "[6798 rows x 7 columns]"
      ]
     },
     "metadata": {},
     "output_type": "display_data"
    }
   ],
   "source": [
    "result_new_free = result_new[result_new['subscription_type']=='free']\n",
    "display(result_new_free)"
   ]
  },
  {
   "cell_type": "markdown",
   "id": "8d847762",
   "metadata": {},
   "source": [
    "<div class=\"alert alert-info\">Расчитаем среднемесячные значения расстояния и продолжительности для подписчиков и неподаисчиков.</div>"
   ]
  },
  {
   "cell_type": "code",
   "execution_count": 41,
   "id": "06c3fa16",
   "metadata": {},
   "outputs": [
    {
     "data": {
      "text/html": [
       "<div>\n",
       "<style scoped>\n",
       "    .dataframe tbody tr th:only-of-type {\n",
       "        vertical-align: middle;\n",
       "    }\n",
       "\n",
       "    .dataframe tbody tr th {\n",
       "        vertical-align: top;\n",
       "    }\n",
       "\n",
       "    .dataframe thead th {\n",
       "        text-align: right;\n",
       "    }\n",
       "</style>\n",
       "<table border=\"1\" class=\"dataframe\">\n",
       "  <thead>\n",
       "    <tr style=\"text-align: right;\">\n",
       "      <th></th>\n",
       "      <th>distance_sum</th>\n",
       "      <th>duration_sum</th>\n",
       "    </tr>\n",
       "    <tr>\n",
       "      <th>month</th>\n",
       "      <th></th>\n",
       "      <th></th>\n",
       "    </tr>\n",
       "  </thead>\n",
       "  <tbody>\n",
       "    <tr>\n",
       "      <th>1</th>\n",
       "      <td>5167.893333</td>\n",
       "      <td>29.958333</td>\n",
       "    </tr>\n",
       "    <tr>\n",
       "      <th>2</th>\n",
       "      <td>4963.124764</td>\n",
       "      <td>28.935728</td>\n",
       "    </tr>\n",
       "    <tr>\n",
       "      <th>3</th>\n",
       "      <td>5295.976619</td>\n",
       "      <td>31.039568</td>\n",
       "    </tr>\n",
       "    <tr>\n",
       "      <th>4</th>\n",
       "      <td>5191.338156</td>\n",
       "      <td>31.159132</td>\n",
       "    </tr>\n",
       "    <tr>\n",
       "      <th>5</th>\n",
       "      <td>5229.364747</td>\n",
       "      <td>30.514834</td>\n",
       "    </tr>\n",
       "    <tr>\n",
       "      <th>6</th>\n",
       "      <td>5159.864177</td>\n",
       "      <td>30.293718</td>\n",
       "    </tr>\n",
       "    <tr>\n",
       "      <th>7</th>\n",
       "      <td>5202.779359</td>\n",
       "      <td>30.535587</td>\n",
       "    </tr>\n",
       "    <tr>\n",
       "      <th>8</th>\n",
       "      <td>5176.665487</td>\n",
       "      <td>30.578761</td>\n",
       "    </tr>\n",
       "    <tr>\n",
       "      <th>9</th>\n",
       "      <td>5296.228769</td>\n",
       "      <td>31.109185</td>\n",
       "    </tr>\n",
       "    <tr>\n",
       "      <th>10</th>\n",
       "      <td>5131.245902</td>\n",
       "      <td>30.539162</td>\n",
       "    </tr>\n",
       "    <tr>\n",
       "      <th>11</th>\n",
       "      <td>5084.592793</td>\n",
       "      <td>29.904505</td>\n",
       "    </tr>\n",
       "    <tr>\n",
       "      <th>12</th>\n",
       "      <td>5279.920339</td>\n",
       "      <td>30.700000</td>\n",
       "    </tr>\n",
       "  </tbody>\n",
       "</table>\n",
       "</div>"
      ],
      "text/plain": [
       "       distance_sum  duration_sum\n",
       "month                            \n",
       "1       5167.893333     29.958333\n",
       "2       4963.124764     28.935728\n",
       "3       5295.976619     31.039568\n",
       "4       5191.338156     31.159132\n",
       "5       5229.364747     30.514834\n",
       "6       5159.864177     30.293718\n",
       "7       5202.779359     30.535587\n",
       "8       5176.665487     30.578761\n",
       "9       5296.228769     31.109185\n",
       "10      5131.245902     30.539162\n",
       "11      5084.592793     29.904505\n",
       "12      5279.920339     30.700000"
      ]
     },
     "metadata": {},
     "output_type": "display_data"
    }
   ],
   "source": [
    "dur_free_month = result_new_free.pivot_table(index='month'\n",
    "      , values=['distance_sum', 'duration_sum'],\n",
    "      aggfunc='mean')\n",
    "display(dur_free_month)"
   ]
  },
  {
   "cell_type": "code",
   "execution_count": 42,
   "id": "3b002dc0",
   "metadata": {},
   "outputs": [
    {
     "data": {
      "text/html": [
       "<div>\n",
       "<style scoped>\n",
       "    .dataframe tbody tr th:only-of-type {\n",
       "        vertical-align: middle;\n",
       "    }\n",
       "\n",
       "    .dataframe tbody tr th {\n",
       "        vertical-align: top;\n",
       "    }\n",
       "\n",
       "    .dataframe thead th {\n",
       "        text-align: right;\n",
       "    }\n",
       "</style>\n",
       "<table border=\"1\" class=\"dataframe\">\n",
       "  <thead>\n",
       "    <tr style=\"text-align: right;\">\n",
       "      <th></th>\n",
       "      <th>distance_sum</th>\n",
       "      <th>duration_sum</th>\n",
       "    </tr>\n",
       "    <tr>\n",
       "      <th>month</th>\n",
       "      <th></th>\n",
       "      <th></th>\n",
       "    </tr>\n",
       "  </thead>\n",
       "  <tbody>\n",
       "    <tr>\n",
       "      <th>1</th>\n",
       "      <td>4608.864103</td>\n",
       "      <td>28.417949</td>\n",
       "    </tr>\n",
       "    <tr>\n",
       "      <th>2</th>\n",
       "      <td>4099.954802</td>\n",
       "      <td>25.483051</td>\n",
       "    </tr>\n",
       "    <tr>\n",
       "      <th>3</th>\n",
       "      <td>4432.416667</td>\n",
       "      <td>26.853535</td>\n",
       "    </tr>\n",
       "    <tr>\n",
       "      <th>4</th>\n",
       "      <td>4585.120321</td>\n",
       "      <td>28.026738</td>\n",
       "    </tr>\n",
       "    <tr>\n",
       "      <th>5</th>\n",
       "      <td>4608.034568</td>\n",
       "      <td>28.246914</td>\n",
       "    </tr>\n",
       "    <tr>\n",
       "      <th>6</th>\n",
       "      <td>4426.055276</td>\n",
       "      <td>27.065327</td>\n",
       "    </tr>\n",
       "    <tr>\n",
       "      <th>7</th>\n",
       "      <td>4638.369231</td>\n",
       "      <td>28.143590</td>\n",
       "    </tr>\n",
       "    <tr>\n",
       "      <th>8</th>\n",
       "      <td>4389.520833</td>\n",
       "      <td>26.960938</td>\n",
       "    </tr>\n",
       "    <tr>\n",
       "      <th>9</th>\n",
       "      <td>4471.146479</td>\n",
       "      <td>27.554930</td>\n",
       "    </tr>\n",
       "    <tr>\n",
       "      <th>10</th>\n",
       "      <td>4463.448925</td>\n",
       "      <td>26.838710</td>\n",
       "    </tr>\n",
       "    <tr>\n",
       "      <th>11</th>\n",
       "      <td>4318.751412</td>\n",
       "      <td>26.412429</td>\n",
       "    </tr>\n",
       "    <tr>\n",
       "      <th>12</th>\n",
       "      <td>4531.565097</td>\n",
       "      <td>27.335180</td>\n",
       "    </tr>\n",
       "  </tbody>\n",
       "</table>\n",
       "</div>"
      ],
      "text/plain": [
       "       distance_sum  duration_sum\n",
       "month                            \n",
       "1       4608.864103     28.417949\n",
       "2       4099.954802     25.483051\n",
       "3       4432.416667     26.853535\n",
       "4       4585.120321     28.026738\n",
       "5       4608.034568     28.246914\n",
       "6       4426.055276     27.065327\n",
       "7       4638.369231     28.143590\n",
       "8       4389.520833     26.960938\n",
       "9       4471.146479     27.554930\n",
       "10      4463.448925     26.838710\n",
       "11      4318.751412     26.412429\n",
       "12      4531.565097     27.335180"
      ]
     },
     "metadata": {},
     "output_type": "display_data"
    }
   ],
   "source": [
    "dur_ultra_month = result_new_ultra.pivot_table(index='month'\n",
    "      , values=['distance_sum', 'duration_sum'],\n",
    "      aggfunc='mean')\n",
    "display(dur_ultra_month)"
   ]
  },
  {
   "cell_type": "markdown",
   "id": "41545ac0",
   "metadata": {},
   "source": [
    "## Шаг 6. Проверка гипотез"
   ]
  },
  {
   "cell_type": "markdown",
   "id": "a38611c0",
   "metadata": {},
   "source": [
    "### Сравнение времени поездки"
   ]
  },
  {
   "cell_type": "markdown",
   "id": "f045276e",
   "metadata": {},
   "source": [
    "<!-- <div class=\"alert alert-info\">Необходимо понять, тратят ли пользователи с подпиской больше времени на поездки. Если да, то подписчики возможно \"выгоднее\"</div>"
   ]
  },
  {
   "cell_type": "markdown",
   "id": "f8baf93a",
   "metadata": {},
   "source": [
    "<div class=\"alert alert-info\">Нулевая гипотеза - тратят столько же времени на поездки. Альтернативная - подписчики тратят больше времени.</div>"
   ]
  },
  {
   "cell_type": "code",
   "execution_count": 43,
   "id": "79fc85fa",
   "metadata": {},
   "outputs": [
    {
     "name": "stdout",
     "output_type": "stream",
     "text": [
      "p-значение: 2.4959453720736625e-34\n",
      "Отвергаем нулевую гипотезу\n"
     ]
    }
   ],
   "source": [
    "alpha = 0.05\n",
    "results = st.ttest_ind(merged_data_ultra['duration'], merged_data_free['duration'], alternative='greater')\n",
    "print ('p-значение:', results.pvalue)\n",
    "if results.pvalue < alpha:\n",
    "    print('Отвергаем нулевую гипотезу')\n",
    "else:\n",
    "    print ('Не получилось отвергнуть нулевую гипотезу ')\n"
   ]
  },
  {
   "cell_type": "markdown",
   "id": "ecd7120b",
   "metadata": {},
   "source": [
    "<div class=\"alert alert-info\"> Вывод - пользователи с подпиской тратят на поездки больше времени, чем пользователи без подписки.</div>"
   ]
  },
  {
   "cell_type": "code",
   "execution_count": 44,
   "id": "401af0e3",
   "metadata": {},
   "outputs": [
    {
     "data": {
      "text/plain": [
       "count    11568.000000\n",
       "mean        17.890992\n",
       "std          6.330250\n",
       "min          1.000000\n",
       "25%         13.000000\n",
       "50%         18.000000\n",
       "75%         22.000000\n",
       "max         35.000000\n",
       "Name: duration, dtype: float64"
      ]
     },
     "execution_count": 44,
     "metadata": {},
     "output_type": "execute_result"
    }
   ],
   "source": [
    "merged_data_free['duration'].describe()"
   ]
  },
  {
   "cell_type": "code",
   "execution_count": 45,
   "id": "0c43627a",
   "metadata": {},
   "outputs": [
    {
     "data": {
      "text/plain": [
       "count    6500.000000\n",
       "mean       19.037692\n",
       "std         5.577439\n",
       "min         4.000000\n",
       "25%        15.000000\n",
       "50%        19.000000\n",
       "75%        22.000000\n",
       "max        41.000000\n",
       "Name: duration, dtype: float64"
      ]
     },
     "execution_count": 45,
     "metadata": {},
     "output_type": "execute_result"
    }
   ],
   "source": [
    "merged_data_ultra['duration'].describe()"
   ]
  },
  {
   "cell_type": "markdown",
   "id": "b4f55fbb",
   "metadata": {},
   "source": [
    "<div class=\"alert alert-info\">Вывод. Данные очень близки. С подпиской незначительно больше. Разница минимальна, что не позволяет делать вывод о выгодности подписчиков с т.зрения длительности. \n",
    "    Данный вывод некорректный. Выше проделан статистический тест</div>"
   ]
  },
  {
   "cell_type": "markdown",
   "id": "d2406a74",
   "metadata": {},
   "source": [
    "### Оценка расстояния одной поездки"
   ]
  },
  {
   "cell_type": "markdown",
   "id": "b0418533",
   "metadata": {},
   "source": [
    "<div class=\"alert alert-info\">Расстояние одной поездки в 3130 метров — оптимальное с точки зрения износа самоката. Необходимо оценить, что среднее расстояние, которое проезжают пользователи с подпиской за одну поездку, не превышает 3130 метров.</div>"
   ]
  },
  {
   "cell_type": "markdown",
   "id": "fcff9cac",
   "metadata": {},
   "source": [
    "<div class=\"alert alert-info\">Нулевая версия = среднее расстояние поездки у подписчиков равно 3130м. Альтернативная не больше. </div>"
   ]
  },
  {
   "cell_type": "code",
   "execution_count": 46,
   "id": "c1639b62",
   "metadata": {},
   "outputs": [
    {
     "name": "stdout",
     "output_type": "stream",
     "text": [
      "p-значение 0.9120422337080507\n",
      "Не отвергаем нулевую гипотезу\n"
     ]
    }
   ],
   "source": [
    "int_value = 3130\n",
    "alpha = 0.05\n",
    "results = st.ttest_1samp(merged_data_ultra['distance'], int_value, alternative = 'greater')\n",
    "print ('p-значение', results.pvalue)\n",
    "if (results.pvalue < alpha):\n",
    "    print('Отвергаем нулевую гипотезу ')\n",
    "else:\n",
    "    print('Не отвергаем нулевую гипотезу')\n",
    "        \n",
    "        "
   ]
  },
  {
   "cell_type": "markdown",
   "id": "c2c6db73",
   "metadata": {},
   "source": [
    "<div class=\"alert alert-info\">Согласно нашему статистическому анализу не удалось отвергнуть нулевую гипотезу о равенстве среднего расстояния 3130м  </div>"
   ]
  },
  {
   "cell_type": "markdown",
   "id": "d22b26ce",
   "metadata": {},
   "source": [
    "<div class=\"alert alert-info\">Заменил альтернативную гипотезу на \"больше\". Получается т.к. гипотеза односторонняя - то нулевая: равно или меньще. пльтернативная: больше. Нулевую гипотезу ни при каком разумном alpha мы не отвергнем. Значит отвергаем альтернативную. Таким образом, версия о оптимальном использовании самокатов подтверждается.</div>"
   ]
  },
  {
   "cell_type": "code",
   "execution_count": 47,
   "id": "66dee9b6",
   "metadata": {},
   "outputs": [
    {
     "data": {
      "text/plain": [
       "count    6500.000000\n",
       "mean     3115.949231\n",
       "std       836.894838\n",
       "min       245.000000\n",
       "25%      2786.000000\n",
       "50%      3149.000000\n",
       "75%      3561.000000\n",
       "max      5700.000000\n",
       "Name: distance, dtype: float64"
      ]
     },
     "execution_count": 47,
     "metadata": {},
     "output_type": "execute_result"
    }
   ],
   "source": [
    "merged_data_ultra['distance'].describe()"
   ]
  },
  {
   "cell_type": "code",
   "execution_count": 48,
   "id": "1ecd7a11",
   "metadata": {},
   "outputs": [
    {
     "data": {
      "text/plain": [
       "count    11568.000000\n",
       "mean      3045.992911\n",
       "std       1246.174341\n",
       "min          1.000000\n",
       "25%       2367.000000\n",
       "50%       3115.000000\n",
       "75%       3906.000000\n",
       "max       7212.000000\n",
       "Name: distance, dtype: float64"
      ]
     },
     "execution_count": 48,
     "metadata": {},
     "output_type": "execute_result"
    }
   ],
   "source": [
    "merged_data_free['distance'].describe()"
   ]
  },
  {
   "cell_type": "markdown",
   "id": "b19c5cf8",
   "metadata": {},
   "source": [
    "Также мин.расстояние около 0 без подписки и 244 с подпиской говорит о том, что подписчики видимо более опытные. Сначала попробовали, понравилось и оформили подписку."
   ]
  },
  {
   "cell_type": "markdown",
   "id": "c40f5b5e",
   "metadata": {},
   "source": [
    "### Сравнение выручки с подпиской и без"
   ]
  },
  {
   "cell_type": "markdown",
   "id": "bd954107",
   "metadata": {},
   "source": [
    "<div class=\"alert alert-info\">Проверим гипотезу о том, будет ли помесячная выручка от пользователей с подпиской по месяцам выше, чем выручка от пользователей без подписки. </div>"
   ]
  },
  {
   "cell_type": "markdown",
   "id": "8785ad90",
   "metadata": {},
   "source": [
    "<div class=\"alert alert-info\">Нулевая версия - помесячная выручка от пользователей с подпиской равна пользователям без подписки. Альтернативная - больше. </div>"
   ]
  },
  {
   "cell_type": "code",
   "execution_count": 49,
   "id": "6f98d450",
   "metadata": {},
   "outputs": [
    {
     "name": "stdout",
     "output_type": "stream",
     "text": [
      "p-значение: 1.8850394384715216e-31\n",
      "Отвергаем нулевую гипотезу\n"
     ]
    }
   ],
   "source": [
    "alpha = 0.05\n",
    "results = st.ttest_ind(result_new_ultra['income'], result_new_free['income'], alternative='greater')\n",
    "print ('p-значение:', results.pvalue)\n",
    "if results.pvalue < alpha:\n",
    "    print('Отвергаем нулевую гипотезу')\n",
    "else:\n",
    "    print ('Не получилось отвергнуть нулевую гипотезу ')\n"
   ]
  },
  {
   "cell_type": "markdown",
   "id": "abccc8ff",
   "metadata": {},
   "source": [
    "<div class=\"alert alert-info\">Вывод - сработала альтернативная версия. Пользователи с подпиской тратят в месяц больше.</div>"
   ]
  },
  {
   "cell_type": "code",
   "execution_count": 50,
   "id": "fabe24f7",
   "metadata": {
    "scrolled": true
   },
   "outputs": [
    {
     "data": {
      "text/html": [
       "<div>\n",
       "<style scoped>\n",
       "    .dataframe tbody tr th:only-of-type {\n",
       "        vertical-align: middle;\n",
       "    }\n",
       "\n",
       "    .dataframe tbody tr th {\n",
       "        vertical-align: top;\n",
       "    }\n",
       "\n",
       "    .dataframe thead th {\n",
       "        text-align: right;\n",
       "    }\n",
       "</style>\n",
       "<table border=\"1\" class=\"dataframe\">\n",
       "  <thead>\n",
       "    <tr style=\"text-align: right;\">\n",
       "      <th></th>\n",
       "      <th></th>\n",
       "      <th>income</th>\n",
       "    </tr>\n",
       "    <tr>\n",
       "      <th>month</th>\n",
       "      <th>subscription_type</th>\n",
       "      <th></th>\n",
       "    </tr>\n",
       "  </thead>\n",
       "  <tbody>\n",
       "    <tr>\n",
       "      <th rowspan=\"2\" valign=\"top\">1</th>\n",
       "      <th>free</th>\n",
       "      <td>193850.0</td>\n",
       "    </tr>\n",
       "    <tr>\n",
       "      <th>ultra</th>\n",
       "      <td>144108.0</td>\n",
       "    </tr>\n",
       "    <tr>\n",
       "      <th rowspan=\"2\" valign=\"top\">2</th>\n",
       "      <th>free</th>\n",
       "      <td>165856.0</td>\n",
       "    </tr>\n",
       "    <tr>\n",
       "      <th>ultra</th>\n",
       "      <td>124572.0</td>\n",
       "    </tr>\n",
       "    <tr>\n",
       "      <th rowspan=\"2\" valign=\"top\">3</th>\n",
       "      <th>free</th>\n",
       "      <td>187214.0</td>\n",
       "    </tr>\n",
       "    <tr>\n",
       "      <th>ultra</th>\n",
       "      <td>142608.0</td>\n",
       "    </tr>\n",
       "    <tr>\n",
       "      <th rowspan=\"2\" valign=\"top\">4</th>\n",
       "      <th>free</th>\n",
       "      <td>185598.0</td>\n",
       "    </tr>\n",
       "    <tr>\n",
       "      <th>ultra</th>\n",
       "      <td>137318.0</td>\n",
       "    </tr>\n",
       "    <tr>\n",
       "      <th rowspan=\"2\" valign=\"top\">5</th>\n",
       "      <th>free</th>\n",
       "      <td>188030.0</td>\n",
       "    </tr>\n",
       "    <tr>\n",
       "      <th>ultra</th>\n",
       "      <td>149235.0</td>\n",
       "    </tr>\n",
       "    <tr>\n",
       "      <th rowspan=\"2\" valign=\"top\">6</th>\n",
       "      <th>free</th>\n",
       "      <td>192144.0</td>\n",
       "    </tr>\n",
       "    <tr>\n",
       "      <th>ultra</th>\n",
       "      <td>143834.0</td>\n",
       "    </tr>\n",
       "    <tr>\n",
       "      <th rowspan=\"2\" valign=\"top\">7</th>\n",
       "      <th>free</th>\n",
       "      <td>185038.0</td>\n",
       "    </tr>\n",
       "    <tr>\n",
       "      <th>ultra</th>\n",
       "      <td>143466.0</td>\n",
       "    </tr>\n",
       "    <tr>\n",
       "      <th rowspan=\"2\" valign=\"top\">8</th>\n",
       "      <th>free</th>\n",
       "      <td>187116.0</td>\n",
       "    </tr>\n",
       "    <tr>\n",
       "      <th>ultra</th>\n",
       "      <td>138534.0</td>\n",
       "    </tr>\n",
       "    <tr>\n",
       "      <th rowspan=\"2\" valign=\"top\">9</th>\n",
       "      <th>free</th>\n",
       "      <td>193700.0</td>\n",
       "    </tr>\n",
       "    <tr>\n",
       "      <th>ultra</th>\n",
       "      <td>129337.0</td>\n",
       "    </tr>\n",
       "    <tr>\n",
       "      <th rowspan=\"2\" valign=\"top\">10</th>\n",
       "      <th>free</th>\n",
       "      <td>181428.0</td>\n",
       "    </tr>\n",
       "    <tr>\n",
       "      <th>ultra</th>\n",
       "      <td>133932.0</td>\n",
       "    </tr>\n",
       "    <tr>\n",
       "      <th rowspan=\"2\" valign=\"top\">11</th>\n",
       "      <th>free</th>\n",
       "      <td>179076.0</td>\n",
       "    </tr>\n",
       "    <tr>\n",
       "      <th>ultra</th>\n",
       "      <td>126546.0</td>\n",
       "    </tr>\n",
       "    <tr>\n",
       "      <th rowspan=\"2\" valign=\"top\">12</th>\n",
       "      <th>free</th>\n",
       "      <td>195054.0</td>\n",
       "    </tr>\n",
       "    <tr>\n",
       "      <th>ultra</th>\n",
       "      <td>131047.0</td>\n",
       "    </tr>\n",
       "  </tbody>\n",
       "</table>\n",
       "</div>"
      ],
      "text/plain": [
       "                           income\n",
       "month subscription_type          \n",
       "1     free               193850.0\n",
       "      ultra              144108.0\n",
       "2     free               165856.0\n",
       "      ultra              124572.0\n",
       "3     free               187214.0\n",
       "      ultra              142608.0\n",
       "4     free               185598.0\n",
       "      ultra              137318.0\n",
       "5     free               188030.0\n",
       "      ultra              149235.0\n",
       "6     free               192144.0\n",
       "      ultra              143834.0\n",
       "7     free               185038.0\n",
       "      ultra              143466.0\n",
       "8     free               187116.0\n",
       "      ultra              138534.0\n",
       "9     free               193700.0\n",
       "      ultra              129337.0\n",
       "10    free               181428.0\n",
       "      ultra              133932.0\n",
       "11    free               179076.0\n",
       "      ultra              126546.0\n",
       "12    free               195054.0\n",
       "      ultra              131047.0"
      ]
     },
     "metadata": {},
     "output_type": "display_data"
    }
   ],
   "source": [
    "incom_sub = result_new.pivot_table(index=['month', 'subscription_type']\n",
    "      , values='income', aggfunc='sum') \n",
    "display(incom_sub)"
   ]
  },
  {
   "cell_type": "markdown",
   "id": "e566da66",
   "metadata": {},
   "source": [
    "<div class=\"alert alert-info\">Выручка у пользователей без подписки значительно выше, чем с подпиской. Пр этом у нас подписчиков 699 и неподписчиков 835. Что в пересчете на одного пользователя говорит о том, что средний подписчик тратит немного меньше(205р), чем без подписки(230р).</div> "
   ]
  },
  {
   "cell_type": "markdown",
   "id": "e555deee",
   "metadata": {},
   "source": [
    "Расчеты показывают, что выручка от пользователей без подписки ежемесячно значительно превышает выручку от подписчиков. Начальная гипотеза не верна."
   ]
  },
  {
   "cell_type": "markdown",
   "id": "fa3f40c0",
   "metadata": {},
   "source": [
    "<div class=\"alert alert-info\">От себя рассмотрю еще одну гипотезу. Есть подозрение, что подписка не очень выгодна подписчикам. Для оценки гипотезы оценю удельную стоимость 1км для подписчиков и неподписчиков с разбивкой по месяцам.</div>"
   ]
  },
  {
   "cell_type": "code",
   "execution_count": 51,
   "id": "3e5624fa",
   "metadata": {},
   "outputs": [
    {
     "data": {
      "text/html": [
       "<div>\n",
       "<style scoped>\n",
       "    .dataframe tbody tr th:only-of-type {\n",
       "        vertical-align: middle;\n",
       "    }\n",
       "\n",
       "    .dataframe tbody tr th {\n",
       "        vertical-align: top;\n",
       "    }\n",
       "\n",
       "    .dataframe thead th {\n",
       "        text-align: right;\n",
       "    }\n",
       "</style>\n",
       "<table border=\"1\" class=\"dataframe\">\n",
       "  <thead>\n",
       "    <tr style=\"text-align: right;\">\n",
       "      <th></th>\n",
       "      <th></th>\n",
       "      <th>distance_sum</th>\n",
       "      <th>income</th>\n",
       "      <th>cost</th>\n",
       "    </tr>\n",
       "    <tr>\n",
       "      <th>month</th>\n",
       "      <th>subscription_type</th>\n",
       "      <th></th>\n",
       "      <th></th>\n",
       "      <th></th>\n",
       "    </tr>\n",
       "  </thead>\n",
       "  <tbody>\n",
       "    <tr>\n",
       "      <th rowspan=\"2\" valign=\"top\">1</th>\n",
       "      <th>free</th>\n",
       "      <td>3100.736</td>\n",
       "      <td>193850.0</td>\n",
       "      <td>0.062517</td>\n",
       "    </tr>\n",
       "    <tr>\n",
       "      <th>ultra</th>\n",
       "      <td>1797.457</td>\n",
       "      <td>144108.0</td>\n",
       "      <td>0.080173</td>\n",
       "    </tr>\n",
       "    <tr>\n",
       "      <th rowspan=\"2\" valign=\"top\">2</th>\n",
       "      <th>free</th>\n",
       "      <td>2625.493</td>\n",
       "      <td>165856.0</td>\n",
       "      <td>0.063171</td>\n",
       "    </tr>\n",
       "    <tr>\n",
       "      <th>ultra</th>\n",
       "      <td>1451.384</td>\n",
       "      <td>124572.0</td>\n",
       "      <td>0.085830</td>\n",
       "    </tr>\n",
       "    <tr>\n",
       "      <th rowspan=\"2\" valign=\"top\">3</th>\n",
       "      <th>free</th>\n",
       "      <td>2944.563</td>\n",
       "      <td>187214.0</td>\n",
       "      <td>0.063580</td>\n",
       "    </tr>\n",
       "    <tr>\n",
       "      <th>ultra</th>\n",
       "      <td>1755.237</td>\n",
       "      <td>142608.0</td>\n",
       "      <td>0.081247</td>\n",
       "    </tr>\n",
       "    <tr>\n",
       "      <th rowspan=\"2\" valign=\"top\">4</th>\n",
       "      <th>free</th>\n",
       "      <td>2870.810</td>\n",
       "      <td>185598.0</td>\n",
       "      <td>0.064650</td>\n",
       "    </tr>\n",
       "    <tr>\n",
       "      <th>ultra</th>\n",
       "      <td>1714.835</td>\n",
       "      <td>137318.0</td>\n",
       "      <td>0.080077</td>\n",
       "    </tr>\n",
       "    <tr>\n",
       "      <th rowspan=\"2\" valign=\"top\">5</th>\n",
       "      <th>free</th>\n",
       "      <td>2996.426</td>\n",
       "      <td>188030.0</td>\n",
       "      <td>0.062751</td>\n",
       "    </tr>\n",
       "    <tr>\n",
       "      <th>ultra</th>\n",
       "      <td>1866.254</td>\n",
       "      <td>149235.0</td>\n",
       "      <td>0.079965</td>\n",
       "    </tr>\n",
       "    <tr>\n",
       "      <th rowspan=\"2\" valign=\"top\">6</th>\n",
       "      <th>free</th>\n",
       "      <td>3039.160</td>\n",
       "      <td>192144.0</td>\n",
       "      <td>0.063223</td>\n",
       "    </tr>\n",
       "    <tr>\n",
       "      <th>ultra</th>\n",
       "      <td>1761.570</td>\n",
       "      <td>143834.0</td>\n",
       "      <td>0.081651</td>\n",
       "    </tr>\n",
       "    <tr>\n",
       "      <th rowspan=\"2\" valign=\"top\">7</th>\n",
       "      <th>free</th>\n",
       "      <td>2923.962</td>\n",
       "      <td>185038.0</td>\n",
       "      <td>0.063283</td>\n",
       "    </tr>\n",
       "    <tr>\n",
       "      <th>ultra</th>\n",
       "      <td>1808.964</td>\n",
       "      <td>143466.0</td>\n",
       "      <td>0.079308</td>\n",
       "    </tr>\n",
       "    <tr>\n",
       "      <th rowspan=\"2\" valign=\"top\">8</th>\n",
       "      <th>free</th>\n",
       "      <td>2924.816</td>\n",
       "      <td>187116.0</td>\n",
       "      <td>0.063975</td>\n",
       "    </tr>\n",
       "    <tr>\n",
       "      <th>ultra</th>\n",
       "      <td>1685.576</td>\n",
       "      <td>138534.0</td>\n",
       "      <td>0.082188</td>\n",
       "    </tr>\n",
       "    <tr>\n",
       "      <th rowspan=\"2\" valign=\"top\">9</th>\n",
       "      <th>free</th>\n",
       "      <td>3055.924</td>\n",
       "      <td>193700.0</td>\n",
       "      <td>0.063385</td>\n",
       "    </tr>\n",
       "    <tr>\n",
       "      <th>ultra</th>\n",
       "      <td>1587.257</td>\n",
       "      <td>129337.0</td>\n",
       "      <td>0.081485</td>\n",
       "    </tr>\n",
       "    <tr>\n",
       "      <th rowspan=\"2\" valign=\"top\">10</th>\n",
       "      <th>free</th>\n",
       "      <td>2817.054</td>\n",
       "      <td>181428.0</td>\n",
       "      <td>0.064403</td>\n",
       "    </tr>\n",
       "    <tr>\n",
       "      <th>ultra</th>\n",
       "      <td>1660.403</td>\n",
       "      <td>133932.0</td>\n",
       "      <td>0.080662</td>\n",
       "    </tr>\n",
       "    <tr>\n",
       "      <th rowspan=\"2\" valign=\"top\">11</th>\n",
       "      <th>free</th>\n",
       "      <td>2821.949</td>\n",
       "      <td>179076.0</td>\n",
       "      <td>0.063458</td>\n",
       "    </tr>\n",
       "    <tr>\n",
       "      <th>ultra</th>\n",
       "      <td>1528.838</td>\n",
       "      <td>126546.0</td>\n",
       "      <td>0.082773</td>\n",
       "    </tr>\n",
       "    <tr>\n",
       "      <th rowspan=\"2\" valign=\"top\">12</th>\n",
       "      <th>free</th>\n",
       "      <td>3115.153</td>\n",
       "      <td>195054.0</td>\n",
       "      <td>0.062615</td>\n",
       "    </tr>\n",
       "    <tr>\n",
       "      <th>ultra</th>\n",
       "      <td>1635.895</td>\n",
       "      <td>131047.0</td>\n",
       "      <td>0.080107</td>\n",
       "    </tr>\n",
       "  </tbody>\n",
       "</table>\n",
       "</div>"
      ],
      "text/plain": [
       "                         distance_sum    income      cost\n",
       "month subscription_type                                  \n",
       "1     free                   3100.736  193850.0  0.062517\n",
       "      ultra                  1797.457  144108.0  0.080173\n",
       "2     free                   2625.493  165856.0  0.063171\n",
       "      ultra                  1451.384  124572.0  0.085830\n",
       "3     free                   2944.563  187214.0  0.063580\n",
       "      ultra                  1755.237  142608.0  0.081247\n",
       "4     free                   2870.810  185598.0  0.064650\n",
       "      ultra                  1714.835  137318.0  0.080077\n",
       "5     free                   2996.426  188030.0  0.062751\n",
       "      ultra                  1866.254  149235.0  0.079965\n",
       "6     free                   3039.160  192144.0  0.063223\n",
       "      ultra                  1761.570  143834.0  0.081651\n",
       "7     free                   2923.962  185038.0  0.063283\n",
       "      ultra                  1808.964  143466.0  0.079308\n",
       "8     free                   2924.816  187116.0  0.063975\n",
       "      ultra                  1685.576  138534.0  0.082188\n",
       "9     free                   3055.924  193700.0  0.063385\n",
       "      ultra                  1587.257  129337.0  0.081485\n",
       "10    free                   2817.054  181428.0  0.064403\n",
       "      ultra                  1660.403  133932.0  0.080662\n",
       "11    free                   2821.949  179076.0  0.063458\n",
       "      ultra                  1528.838  126546.0  0.082773\n",
       "12    free                   3115.153  195054.0  0.062615\n",
       "      ultra                  1635.895  131047.0  0.080107"
      ]
     },
     "metadata": {},
     "output_type": "display_data"
    }
   ],
   "source": [
    "result_income = result_new.pivot_table(index=['month','subscription_type'], values=['distance_sum','income'],\n",
    "                                      aggfunc={'distance_sum':'sum','income':'sum'})\n",
    "result_income['cost'] = result_income['income']/result_income['distance_sum']\n",
    "result_income['distance_sum'] /=1000\n",
    "display(result_income)"
   ]
  },
  {
   "cell_type": "markdown",
   "id": "ca7842a8",
   "metadata": {},
   "source": [
    "<div class=\"alert alert-info\">Похоже удалось выявить очень серьезную проблему у сервиса (если нет ошибки в расчетах). Удельная стоимость 1км для среднего подписчика на 30% превышает стоимость для неподписчика. Это явный нонсенс. Главный принцип оформления подписки - снижение расходов. Конторе явно надо пересматривать ценовую политику. Проблема, очевидно связана с тем, что и подписчики и неподписчики пользуются довольно мало. Не более 30мин и 5км в месяц. Это не позволяет окупить абонентскую плату 199р. </div>"
   ]
  },
  {
   "cell_type": "markdown",
   "id": "cdf8c807",
   "metadata": {},
   "source": [
    "### 6.4 Сравнение количества обращений в техподдержку "
   ]
  },
  {
   "cell_type": "markdown",
   "id": "855889a3",
   "metadata": {},
   "source": [
    "Для сравнения среднего значения генеральной совокупности до и после изменения используется метод \n",
    "scipy.stats.ttest_rel. при этом нулевой гипотезой будет их равенство, \n",
    "а в качестве альтернативной можно рассмотреть  - больше, меньше, не равно."
   ]
  },
  {
   "cell_type": "markdown",
   "id": "0c4f0b33",
   "metadata": {},
   "source": [
    "### Выводы"
   ]
  },
  {
   "cell_type": "markdown",
   "id": "9bb05c7d",
   "metadata": {},
   "source": [
    "На данном этапе сделана только обязательная часть работы. Распределения предполагается сделать чуть позже. "
   ]
  },
  {
   "cell_type": "markdown",
   "id": "f0d622c5",
   "metadata": {},
   "source": [
    "В целом сравнение 2х категорий говорит о том, что подписчики ездят чуть дольше и дальше. При этом категория пользователей без подписки значильно больше и по числу и по выручке. Единичный средний подписчик тратит чуть больше. Очевидно, что в категорию неподписчиков входит много тех, кто брал только на попробовать. И за счет них статистика в целом чуть ниже. имеет счысл попробовать дополнительно оценить выгоду подписчика от подписки. Для этого надо расчитать их расходы по существующей схеме и как будто у них нет подписки. Это позволит провести рекламную кампанию по привлечению подписчиков. При этом крайне желательно предложить дополнительный сервис для подписчиков. Как-то резервирование по карте самоката. Бесплатные минуты. Пакеты трафика. И многое другое. В аналогичных сервисах в других странах это реализовано."
   ]
  },
  {
   "cell_type": "markdown",
   "id": "1b3aea24",
   "metadata": {},
   "source": [
    "<div class=\"alert alert-info\">Также необходимо полностью сменить ценовую политику связанную с подпиской. Основополагающий принцип для подписчиков - получить некоторое удобство пользования, привилегии, более дешевый 1км пробега. При этом контора вправе расчитывать, что средний подписчик будет пользоваться в мес. больше сервисом и приносить бОльшую прибыль, чем неподписчик. Ничего это в настоящий момент нет. Очень полезно использовать существующие аналогичные сервисы. К примеру Lime (London) </div>"
   ]
  }
 ],
 "metadata": {
  "ExecuteTimeLog": [
   {
    "duration": 62,
    "start_time": "2023-12-23T23:38:27.158Z"
   },
   {
    "duration": 371,
    "start_time": "2023-12-23T23:40:03.252Z"
   },
   {
    "duration": 93,
    "start_time": "2023-12-23T23:40:03.625Z"
   },
   {
    "duration": 405,
    "start_time": "2023-12-23T23:40:26.312Z"
   },
   {
    "duration": 71,
    "start_time": "2023-12-23T23:40:26.718Z"
   },
   {
    "duration": 39,
    "start_time": "2023-12-23T23:40:44.861Z"
   },
   {
    "duration": 82,
    "start_time": "2023-12-23T23:41:34.126Z"
   },
   {
    "duration": 42,
    "start_time": "2023-12-23T23:41:50.886Z"
   },
   {
    "duration": 62,
    "start_time": "2023-12-23T23:42:39.669Z"
   },
   {
    "duration": 52,
    "start_time": "2023-12-23T23:43:35.254Z"
   },
   {
    "duration": 42,
    "start_time": "2023-12-23T23:57:45.310Z"
   },
   {
    "duration": 48,
    "start_time": "2023-12-26T13:21:30.149Z"
   },
   {
    "duration": 421,
    "start_time": "2023-12-26T13:21:42.556Z"
   },
   {
    "duration": 96,
    "start_time": "2023-12-26T13:21:42.981Z"
   },
   {
    "duration": 86,
    "start_time": "2023-12-26T13:21:43.079Z"
   },
   {
    "duration": 55,
    "start_time": "2023-12-26T13:21:43.166Z"
   },
   {
    "duration": 7,
    "start_time": "2023-12-26T13:21:43.223Z"
   },
   {
    "duration": 50,
    "start_time": "2023-12-26T13:22:05.693Z"
   },
   {
    "duration": 6,
    "start_time": "2023-12-26T13:24:21.723Z"
   },
   {
    "duration": 16,
    "start_time": "2023-12-26T13:24:39.442Z"
   },
   {
    "duration": 62,
    "start_time": "2023-12-26T13:25:47.517Z"
   },
   {
    "duration": 6,
    "start_time": "2023-12-26T13:26:11.623Z"
   },
   {
    "duration": 1178,
    "start_time": "2023-12-26T13:28:58.589Z"
   },
   {
    "duration": 5,
    "start_time": "2023-12-26T13:29:43.386Z"
   },
   {
    "duration": 4,
    "start_time": "2023-12-26T13:30:15.394Z"
   },
   {
    "duration": 5,
    "start_time": "2023-12-26T13:31:23.433Z"
   },
   {
    "duration": 7,
    "start_time": "2023-12-26T13:32:06.981Z"
   },
   {
    "duration": 1179,
    "start_time": "2023-12-26T13:33:51.831Z"
   },
   {
    "duration": 7,
    "start_time": "2023-12-26T13:34:01.239Z"
   },
   {
    "duration": 5,
    "start_time": "2023-12-26T13:34:48.589Z"
   },
   {
    "duration": 11,
    "start_time": "2023-12-26T13:36:34.341Z"
   },
   {
    "duration": 5,
    "start_time": "2023-12-26T13:36:59.508Z"
   },
   {
    "duration": 12,
    "start_time": "2023-12-26T13:37:12.298Z"
   },
   {
    "duration": 14,
    "start_time": "2023-12-26T13:40:32.449Z"
   },
   {
    "duration": 412,
    "start_time": "2023-12-26T13:40:42.482Z"
   },
   {
    "duration": 50,
    "start_time": "2023-12-26T13:40:42.896Z"
   },
   {
    "duration": 43,
    "start_time": "2023-12-26T13:40:42.948Z"
   },
   {
    "duration": 30,
    "start_time": "2023-12-26T13:40:42.992Z"
   },
   {
    "duration": 14,
    "start_time": "2023-12-26T13:40:43.024Z"
   },
   {
    "duration": 13,
    "start_time": "2023-12-26T13:40:43.040Z"
   },
   {
    "duration": 27,
    "start_time": "2023-12-26T13:40:43.055Z"
   },
   {
    "duration": 6,
    "start_time": "2023-12-26T13:44:09.720Z"
   },
   {
    "duration": 3,
    "start_time": "2023-12-26T13:46:59.762Z"
   },
   {
    "duration": 4,
    "start_time": "2023-12-26T13:47:03.571Z"
   },
   {
    "duration": 557,
    "start_time": "2023-12-26T13:48:14.287Z"
   },
   {
    "duration": 82,
    "start_time": "2023-12-26T13:49:25.881Z"
   },
   {
    "duration": 126,
    "start_time": "2023-12-26T13:49:48.334Z"
   },
   {
    "duration": 134,
    "start_time": "2023-12-26T13:52:21.630Z"
   },
   {
    "duration": 379,
    "start_time": "2023-12-26T13:52:35.843Z"
   },
   {
    "duration": 66,
    "start_time": "2023-12-26T13:52:36.224Z"
   },
   {
    "duration": 0,
    "start_time": "2023-12-26T13:52:36.292Z"
   },
   {
    "duration": 0,
    "start_time": "2023-12-26T13:52:36.293Z"
   },
   {
    "duration": 0,
    "start_time": "2023-12-26T13:52:36.294Z"
   },
   {
    "duration": 0,
    "start_time": "2023-12-26T13:52:36.295Z"
   },
   {
    "duration": 0,
    "start_time": "2023-12-26T13:52:36.296Z"
   },
   {
    "duration": 0,
    "start_time": "2023-12-26T13:52:36.297Z"
   },
   {
    "duration": 0,
    "start_time": "2023-12-26T13:52:36.298Z"
   },
   {
    "duration": 0,
    "start_time": "2023-12-26T13:52:36.299Z"
   },
   {
    "duration": 8,
    "start_time": "2023-12-26T13:52:49.237Z"
   },
   {
    "duration": 355,
    "start_time": "2023-12-26T13:52:59.237Z"
   },
   {
    "duration": 66,
    "start_time": "2023-12-26T13:52:59.594Z"
   },
   {
    "duration": 0,
    "start_time": "2023-12-26T13:52:59.661Z"
   },
   {
    "duration": 0,
    "start_time": "2023-12-26T13:52:59.663Z"
   },
   {
    "duration": 0,
    "start_time": "2023-12-26T13:52:59.664Z"
   },
   {
    "duration": 0,
    "start_time": "2023-12-26T13:52:59.665Z"
   },
   {
    "duration": 0,
    "start_time": "2023-12-26T13:52:59.666Z"
   },
   {
    "duration": 0,
    "start_time": "2023-12-26T13:52:59.681Z"
   },
   {
    "duration": 0,
    "start_time": "2023-12-26T13:52:59.682Z"
   },
   {
    "duration": 0,
    "start_time": "2023-12-26T13:52:59.684Z"
   },
   {
    "duration": 7,
    "start_time": "2023-12-26T13:53:05.042Z"
   },
   {
    "duration": 261,
    "start_time": "2023-12-26T13:53:42.192Z"
   },
   {
    "duration": 14,
    "start_time": "2023-12-26T13:53:48.946Z"
   },
   {
    "duration": 368,
    "start_time": "2023-12-26T13:53:55.225Z"
   },
   {
    "duration": 234,
    "start_time": "2023-12-26T13:53:55.595Z"
   },
   {
    "duration": 49,
    "start_time": "2023-12-26T13:53:55.831Z"
   },
   {
    "duration": 42,
    "start_time": "2023-12-26T13:53:55.882Z"
   },
   {
    "duration": 18,
    "start_time": "2023-12-26T13:53:55.925Z"
   },
   {
    "duration": 12,
    "start_time": "2023-12-26T13:53:55.945Z"
   },
   {
    "duration": 28,
    "start_time": "2023-12-26T13:53:55.959Z"
   },
   {
    "duration": 12,
    "start_time": "2023-12-26T13:53:55.989Z"
   },
   {
    "duration": 4,
    "start_time": "2023-12-26T13:53:56.002Z"
   },
   {
    "duration": 191,
    "start_time": "2023-12-26T13:53:56.007Z"
   },
   {
    "duration": 4,
    "start_time": "2023-12-26T13:56:11.709Z"
   },
   {
    "duration": 126,
    "start_time": "2023-12-26T13:57:16.705Z"
   },
   {
    "duration": 77,
    "start_time": "2023-12-26T14:04:13.245Z"
   },
   {
    "duration": 3,
    "start_time": "2023-12-26T14:04:19.624Z"
   },
   {
    "duration": 251,
    "start_time": "2023-12-26T14:04:21.414Z"
   },
   {
    "duration": 79,
    "start_time": "2023-12-26T14:05:45.284Z"
   },
   {
    "duration": 73,
    "start_time": "2023-12-26T14:05:56.408Z"
   },
   {
    "duration": 377,
    "start_time": "2023-12-26T14:06:04.617Z"
   },
   {
    "duration": 257,
    "start_time": "2023-12-26T14:06:04.996Z"
   },
   {
    "duration": 47,
    "start_time": "2023-12-26T14:06:05.255Z"
   },
   {
    "duration": 42,
    "start_time": "2023-12-26T14:06:05.303Z"
   },
   {
    "duration": 18,
    "start_time": "2023-12-26T14:06:05.348Z"
   },
   {
    "duration": 24,
    "start_time": "2023-12-26T14:06:05.368Z"
   },
   {
    "duration": 14,
    "start_time": "2023-12-26T14:06:05.394Z"
   },
   {
    "duration": 11,
    "start_time": "2023-12-26T14:06:05.410Z"
   },
   {
    "duration": 6,
    "start_time": "2023-12-26T14:06:05.423Z"
   },
   {
    "duration": 193,
    "start_time": "2023-12-26T14:06:05.430Z"
   },
   {
    "duration": 4,
    "start_time": "2023-12-26T14:06:05.624Z"
   },
   {
    "duration": 139,
    "start_time": "2023-12-26T14:06:05.629Z"
   },
   {
    "duration": 13,
    "start_time": "2023-12-26T14:06:05.769Z"
   },
   {
    "duration": 90,
    "start_time": "2023-12-26T14:06:05.784Z"
   },
   {
    "duration": 268,
    "start_time": "2023-12-26T14:06:30.442Z"
   },
   {
    "duration": 337,
    "start_time": "2023-12-26T14:06:44.989Z"
   },
   {
    "duration": 286,
    "start_time": "2023-12-26T14:07:01.593Z"
   },
   {
    "duration": 72,
    "start_time": "2023-12-26T14:09:44.687Z"
   },
   {
    "duration": 163,
    "start_time": "2023-12-26T14:09:57.475Z"
   },
   {
    "duration": 160,
    "start_time": "2023-12-26T14:11:19.613Z"
   },
   {
    "duration": 252,
    "start_time": "2023-12-26T14:11:33.084Z"
   },
   {
    "duration": 243,
    "start_time": "2023-12-26T14:11:47.918Z"
   },
   {
    "duration": 10,
    "start_time": "2023-12-26T14:16:47.171Z"
   },
   {
    "duration": 16,
    "start_time": "2023-12-26T14:19:53.800Z"
   },
   {
    "duration": 35,
    "start_time": "2023-12-26T14:20:12.484Z"
   },
   {
    "duration": 12,
    "start_time": "2023-12-26T14:23:38.725Z"
   },
   {
    "duration": 8,
    "start_time": "2023-12-26T14:25:36.004Z"
   },
   {
    "duration": 19,
    "start_time": "2023-12-26T14:26:25.561Z"
   },
   {
    "duration": 19,
    "start_time": "2023-12-26T14:27:13.566Z"
   },
   {
    "duration": 232,
    "start_time": "2023-12-26T14:28:36.218Z"
   },
   {
    "duration": 295,
    "start_time": "2023-12-26T14:29:08.340Z"
   },
   {
    "duration": 235,
    "start_time": "2023-12-26T14:29:33.514Z"
   },
   {
    "duration": 220,
    "start_time": "2023-12-26T14:29:59.145Z"
   },
   {
    "duration": 227,
    "start_time": "2023-12-26T14:32:15.966Z"
   },
   {
    "duration": 150,
    "start_time": "2023-12-26T14:32:30.803Z"
   },
   {
    "duration": 147,
    "start_time": "2023-12-26T14:32:42.831Z"
   },
   {
    "duration": 141,
    "start_time": "2023-12-26T14:32:50.167Z"
   },
   {
    "duration": 4,
    "start_time": "2023-12-26T14:46:20.093Z"
   },
   {
    "duration": 3,
    "start_time": "2023-12-26T14:47:35.973Z"
   },
   {
    "duration": 4,
    "start_time": "2023-12-26T14:47:52.479Z"
   },
   {
    "duration": 17,
    "start_time": "2023-12-26T14:48:05.889Z"
   },
   {
    "duration": 15,
    "start_time": "2023-12-26T14:48:10.337Z"
   },
   {
    "duration": 90,
    "start_time": "2023-12-26T14:48:57.100Z"
   },
   {
    "duration": 15,
    "start_time": "2023-12-26T14:52:09.254Z"
   },
   {
    "duration": 31,
    "start_time": "2023-12-26T14:53:15.419Z"
   },
   {
    "duration": 7,
    "start_time": "2023-12-26T14:58:49.777Z"
   },
   {
    "duration": 3,
    "start_time": "2023-12-26T14:59:23.630Z"
   },
   {
    "duration": 1119,
    "start_time": "2023-12-26T14:59:25.866Z"
   },
   {
    "duration": 39,
    "start_time": "2023-12-26T15:00:02.298Z"
   },
   {
    "duration": 3,
    "start_time": "2023-12-26T15:07:48.936Z"
   },
   {
    "duration": 3,
    "start_time": "2023-12-26T15:07:58.048Z"
   },
   {
    "duration": 11,
    "start_time": "2023-12-26T15:08:29.259Z"
   },
   {
    "duration": 10,
    "start_time": "2023-12-26T15:08:44.603Z"
   },
   {
    "duration": 14,
    "start_time": "2023-12-26T15:09:27.948Z"
   },
   {
    "duration": 12,
    "start_time": "2023-12-26T15:25:04.883Z"
   },
   {
    "duration": 16,
    "start_time": "2023-12-26T15:25:37.225Z"
   },
   {
    "duration": 96,
    "start_time": "2023-12-26T15:35:51.621Z"
   },
   {
    "duration": 73,
    "start_time": "2023-12-26T15:36:49.416Z"
   },
   {
    "duration": 416,
    "start_time": "2023-12-26T15:37:53.982Z"
   },
   {
    "duration": 255,
    "start_time": "2023-12-26T15:37:54.400Z"
   },
   {
    "duration": 47,
    "start_time": "2023-12-26T15:37:54.657Z"
   },
   {
    "duration": 43,
    "start_time": "2023-12-26T15:37:54.706Z"
   },
   {
    "duration": 18,
    "start_time": "2023-12-26T15:37:54.751Z"
   },
   {
    "duration": 18,
    "start_time": "2023-12-26T15:37:54.771Z"
   },
   {
    "duration": 13,
    "start_time": "2023-12-26T15:37:54.791Z"
   },
   {
    "duration": 11,
    "start_time": "2023-12-26T15:37:54.806Z"
   },
   {
    "duration": 3,
    "start_time": "2023-12-26T15:37:54.819Z"
   },
   {
    "duration": 186,
    "start_time": "2023-12-26T15:37:54.823Z"
   },
   {
    "duration": 4,
    "start_time": "2023-12-26T15:37:55.010Z"
   },
   {
    "duration": 138,
    "start_time": "2023-12-26T15:37:55.016Z"
   },
   {
    "duration": 4,
    "start_time": "2023-12-26T15:37:55.155Z"
   },
   {
    "duration": 290,
    "start_time": "2023-12-26T15:37:55.161Z"
   },
   {
    "duration": 285,
    "start_time": "2023-12-26T15:37:55.453Z"
   },
   {
    "duration": 268,
    "start_time": "2023-12-26T15:37:55.739Z"
   },
   {
    "duration": 32,
    "start_time": "2023-12-26T15:37:56.009Z"
   },
   {
    "duration": 36,
    "start_time": "2023-12-26T15:37:56.042Z"
   },
   {
    "duration": 27,
    "start_time": "2023-12-26T15:37:56.082Z"
   },
   {
    "duration": 168,
    "start_time": "2023-12-26T15:37:56.110Z"
   },
   {
    "duration": 157,
    "start_time": "2023-12-26T15:37:56.280Z"
   },
   {
    "duration": 163,
    "start_time": "2023-12-26T15:37:56.438Z"
   },
   {
    "duration": 143,
    "start_time": "2023-12-26T15:37:56.603Z"
   },
   {
    "duration": 50,
    "start_time": "2023-12-26T15:37:56.747Z"
   },
   {
    "duration": 3,
    "start_time": "2023-12-26T15:37:56.798Z"
   },
   {
    "duration": 26,
    "start_time": "2023-12-26T15:37:56.802Z"
   },
   {
    "duration": 19,
    "start_time": "2023-12-26T15:37:56.830Z"
   },
   {
    "duration": 37,
    "start_time": "2023-12-26T15:37:56.851Z"
   },
   {
    "duration": 28,
    "start_time": "2023-12-26T15:37:56.890Z"
   },
   {
    "duration": 86,
    "start_time": "2023-12-26T15:37:56.920Z"
   },
   {
    "duration": 0,
    "start_time": "2023-12-26T15:37:57.008Z"
   },
   {
    "duration": 79,
    "start_time": "2023-12-26T15:38:24.239Z"
   },
   {
    "duration": 4,
    "start_time": "2023-12-26T15:41:21.059Z"
   },
   {
    "duration": 163,
    "start_time": "2023-12-26T15:41:29.421Z"
   },
   {
    "duration": 4,
    "start_time": "2023-12-26T15:42:37.507Z"
   },
   {
    "duration": 4,
    "start_time": "2023-12-26T15:42:45.660Z"
   },
   {
    "duration": 76,
    "start_time": "2023-12-26T15:42:56.317Z"
   },
   {
    "duration": 77,
    "start_time": "2023-12-26T15:43:30.458Z"
   },
   {
    "duration": 3,
    "start_time": "2023-12-26T15:43:57.391Z"
   },
   {
    "duration": 168,
    "start_time": "2023-12-26T15:45:50.610Z"
   },
   {
    "duration": 175,
    "start_time": "2023-12-26T15:46:43.689Z"
   },
   {
    "duration": 231,
    "start_time": "2023-12-26T15:47:04.501Z"
   },
   {
    "duration": 157,
    "start_time": "2023-12-26T15:48:11.934Z"
   },
   {
    "duration": 9,
    "start_time": "2023-12-26T15:57:09.878Z"
   },
   {
    "duration": 10,
    "start_time": "2023-12-26T15:57:52.247Z"
   },
   {
    "duration": 8,
    "start_time": "2023-12-26T16:00:30.331Z"
   },
   {
    "duration": 11,
    "start_time": "2023-12-26T16:47:41.081Z"
   },
   {
    "duration": 1366,
    "start_time": "2023-12-26T16:50:08.686Z"
   },
   {
    "duration": 42,
    "start_time": "2023-12-26T16:54:20.126Z"
   },
   {
    "duration": 3,
    "start_time": "2023-12-26T16:54:39.138Z"
   },
   {
    "duration": 10,
    "start_time": "2023-12-26T16:54:40.892Z"
   },
   {
    "duration": 161,
    "start_time": "2023-12-26T16:55:09.499Z"
   },
   {
    "duration": 14,
    "start_time": "2023-12-26T16:56:10.378Z"
   },
   {
    "duration": 413,
    "start_time": "2023-12-26T16:56:24.746Z"
   },
   {
    "duration": 241,
    "start_time": "2023-12-26T16:56:25.162Z"
   },
   {
    "duration": 47,
    "start_time": "2023-12-26T16:56:25.404Z"
   },
   {
    "duration": 41,
    "start_time": "2023-12-26T16:56:25.453Z"
   },
   {
    "duration": 18,
    "start_time": "2023-12-26T16:56:25.497Z"
   },
   {
    "duration": 14,
    "start_time": "2023-12-26T16:56:25.517Z"
   },
   {
    "duration": 24,
    "start_time": "2023-12-26T16:56:25.532Z"
   },
   {
    "duration": 31,
    "start_time": "2023-12-26T16:56:25.558Z"
   },
   {
    "duration": 4,
    "start_time": "2023-12-26T16:56:25.590Z"
   },
   {
    "duration": 191,
    "start_time": "2023-12-26T16:56:25.596Z"
   },
   {
    "duration": 4,
    "start_time": "2023-12-26T16:56:25.789Z"
   },
   {
    "duration": 143,
    "start_time": "2023-12-26T16:56:25.795Z"
   },
   {
    "duration": 4,
    "start_time": "2023-12-26T16:56:25.940Z"
   },
   {
    "duration": 287,
    "start_time": "2023-12-26T16:56:25.949Z"
   },
   {
    "duration": 285,
    "start_time": "2023-12-26T16:56:26.238Z"
   },
   {
    "duration": 262,
    "start_time": "2023-12-26T16:56:26.524Z"
   },
   {
    "duration": 32,
    "start_time": "2023-12-26T16:56:26.788Z"
   },
   {
    "duration": 22,
    "start_time": "2023-12-26T16:56:26.822Z"
   },
   {
    "duration": 51,
    "start_time": "2023-12-26T16:56:26.848Z"
   },
   {
    "duration": 195,
    "start_time": "2023-12-26T16:56:26.901Z"
   },
   {
    "duration": 156,
    "start_time": "2023-12-26T16:56:27.098Z"
   },
   {
    "duration": 166,
    "start_time": "2023-12-26T16:56:27.256Z"
   },
   {
    "duration": 147,
    "start_time": "2023-12-26T16:56:27.424Z"
   },
   {
    "duration": 47,
    "start_time": "2023-12-26T16:56:27.573Z"
   },
   {
    "duration": 3,
    "start_time": "2023-12-26T16:56:27.622Z"
   },
   {
    "duration": 9,
    "start_time": "2023-12-26T16:56:27.627Z"
   },
   {
    "duration": 17,
    "start_time": "2023-12-26T16:56:27.637Z"
   },
   {
    "duration": 12,
    "start_time": "2023-12-26T16:56:27.682Z"
   },
   {
    "duration": 99,
    "start_time": "2023-12-26T16:56:27.696Z"
   },
   {
    "duration": 0,
    "start_time": "2023-12-26T16:56:27.796Z"
   },
   {
    "duration": 0,
    "start_time": "2023-12-26T16:56:27.798Z"
   },
   {
    "duration": 0,
    "start_time": "2023-12-26T16:56:27.799Z"
   },
   {
    "duration": 0,
    "start_time": "2023-12-26T16:56:27.801Z"
   },
   {
    "duration": 0,
    "start_time": "2023-12-26T16:56:27.802Z"
   },
   {
    "duration": 0,
    "start_time": "2023-12-26T16:56:27.804Z"
   },
   {
    "duration": 0,
    "start_time": "2023-12-26T16:56:27.805Z"
   },
   {
    "duration": 13,
    "start_time": "2023-12-26T17:00:16.280Z"
   },
   {
    "duration": 13,
    "start_time": "2023-12-26T17:00:35.039Z"
   },
   {
    "duration": 17,
    "start_time": "2023-12-26T17:00:41.096Z"
   },
   {
    "duration": 4,
    "start_time": "2023-12-26T17:01:01.921Z"
   },
   {
    "duration": 170,
    "start_time": "2023-12-26T17:01:02.867Z"
   },
   {
    "duration": 4,
    "start_time": "2023-12-26T17:06:00.092Z"
   },
   {
    "duration": 4,
    "start_time": "2023-12-26T17:06:18.796Z"
   },
   {
    "duration": 4,
    "start_time": "2023-12-26T17:06:57.071Z"
   },
   {
    "duration": 12,
    "start_time": "2023-12-26T17:07:07.286Z"
   },
   {
    "duration": 18,
    "start_time": "2023-12-26T17:07:25.607Z"
   },
   {
    "duration": 3,
    "start_time": "2023-12-26T17:10:35.270Z"
   },
   {
    "duration": 2,
    "start_time": "2023-12-26T17:10:39.357Z"
   },
   {
    "duration": 1124,
    "start_time": "2023-12-26T17:14:13.576Z"
   },
   {
    "duration": 131,
    "start_time": "2023-12-26T17:14:51.191Z"
   },
   {
    "duration": 17,
    "start_time": "2023-12-26T17:15:25.449Z"
   },
   {
    "duration": 15,
    "start_time": "2023-12-26T17:15:46.893Z"
   },
   {
    "duration": 125,
    "start_time": "2023-12-26T17:16:03.663Z"
   },
   {
    "duration": 4,
    "start_time": "2023-12-26T17:16:32.953Z"
   },
   {
    "duration": 18,
    "start_time": "2023-12-26T17:16:47.568Z"
   },
   {
    "duration": 15,
    "start_time": "2023-12-26T17:17:01.799Z"
   },
   {
    "duration": 116,
    "start_time": "2023-12-26T17:17:13.016Z"
   },
   {
    "duration": 17,
    "start_time": "2023-12-26T17:17:38.208Z"
   },
   {
    "duration": 288,
    "start_time": "2023-12-26T17:44:42.611Z"
   },
   {
    "duration": 241,
    "start_time": "2023-12-26T17:52:06.113Z"
   },
   {
    "duration": 130,
    "start_time": "2023-12-26T17:58:29.173Z"
   },
   {
    "duration": 155,
    "start_time": "2023-12-26T18:01:21.910Z"
   },
   {
    "duration": 10,
    "start_time": "2023-12-26T18:12:20.408Z"
   },
   {
    "duration": 8,
    "start_time": "2023-12-26T18:12:22.464Z"
   },
   {
    "duration": 8,
    "start_time": "2023-12-26T18:14:02.001Z"
   },
   {
    "duration": 8,
    "start_time": "2023-12-26T18:14:22.137Z"
   },
   {
    "duration": 179,
    "start_time": "2023-12-26T18:35:05.298Z"
   },
   {
    "duration": 393,
    "start_time": "2023-12-26T19:46:56.276Z"
   },
   {
    "duration": 266,
    "start_time": "2023-12-26T19:46:56.671Z"
   },
   {
    "duration": 52,
    "start_time": "2023-12-26T19:46:56.941Z"
   },
   {
    "duration": 46,
    "start_time": "2023-12-26T19:46:56.995Z"
   },
   {
    "duration": 21,
    "start_time": "2023-12-26T19:46:57.043Z"
   },
   {
    "duration": 16,
    "start_time": "2023-12-26T19:46:57.066Z"
   },
   {
    "duration": 16,
    "start_time": "2023-12-26T19:46:57.084Z"
   },
   {
    "duration": 50,
    "start_time": "2023-12-26T19:46:57.102Z"
   },
   {
    "duration": 0,
    "start_time": "2023-12-26T19:46:57.155Z"
   },
   {
    "duration": 0,
    "start_time": "2023-12-26T19:46:57.156Z"
   },
   {
    "duration": 0,
    "start_time": "2023-12-26T19:46:57.157Z"
   },
   {
    "duration": 1,
    "start_time": "2023-12-26T19:46:57.158Z"
   },
   {
    "duration": 0,
    "start_time": "2023-12-26T19:46:57.160Z"
   },
   {
    "duration": 0,
    "start_time": "2023-12-26T19:46:57.161Z"
   },
   {
    "duration": 0,
    "start_time": "2023-12-26T19:46:57.162Z"
   },
   {
    "duration": 0,
    "start_time": "2023-12-26T19:46:57.163Z"
   },
   {
    "duration": 0,
    "start_time": "2023-12-26T19:46:57.165Z"
   },
   {
    "duration": 0,
    "start_time": "2023-12-26T19:46:57.166Z"
   },
   {
    "duration": 0,
    "start_time": "2023-12-26T19:46:57.167Z"
   },
   {
    "duration": 0,
    "start_time": "2023-12-26T19:46:57.168Z"
   },
   {
    "duration": 0,
    "start_time": "2023-12-26T19:46:57.169Z"
   },
   {
    "duration": 0,
    "start_time": "2023-12-26T19:46:57.170Z"
   },
   {
    "duration": 0,
    "start_time": "2023-12-26T19:46:57.171Z"
   },
   {
    "duration": 0,
    "start_time": "2023-12-26T19:46:57.172Z"
   },
   {
    "duration": 0,
    "start_time": "2023-12-26T19:46:57.174Z"
   },
   {
    "duration": 0,
    "start_time": "2023-12-26T19:46:57.175Z"
   },
   {
    "duration": 0,
    "start_time": "2023-12-26T19:46:57.176Z"
   },
   {
    "duration": 0,
    "start_time": "2023-12-26T19:46:57.177Z"
   },
   {
    "duration": 0,
    "start_time": "2023-12-26T19:46:57.178Z"
   },
   {
    "duration": 0,
    "start_time": "2023-12-26T19:46:57.179Z"
   },
   {
    "duration": 0,
    "start_time": "2023-12-26T19:46:57.180Z"
   },
   {
    "duration": 0,
    "start_time": "2023-12-26T19:46:57.182Z"
   },
   {
    "duration": 0,
    "start_time": "2023-12-26T19:46:57.183Z"
   },
   {
    "duration": 0,
    "start_time": "2023-12-26T19:46:57.183Z"
   },
   {
    "duration": 0,
    "start_time": "2023-12-26T19:46:57.184Z"
   },
   {
    "duration": 0,
    "start_time": "2023-12-26T19:46:57.185Z"
   },
   {
    "duration": 0,
    "start_time": "2023-12-26T19:46:57.186Z"
   },
   {
    "duration": 0,
    "start_time": "2023-12-26T19:46:57.187Z"
   },
   {
    "duration": 0,
    "start_time": "2023-12-26T19:46:57.187Z"
   },
   {
    "duration": 0,
    "start_time": "2023-12-26T19:46:57.188Z"
   },
   {
    "duration": 0,
    "start_time": "2023-12-26T19:46:57.189Z"
   },
   {
    "duration": 0,
    "start_time": "2023-12-26T19:46:57.190Z"
   },
   {
    "duration": 13,
    "start_time": "2023-12-26T19:47:39.025Z"
   },
   {
    "duration": 4,
    "start_time": "2023-12-26T19:47:39.718Z"
   },
   {
    "duration": 161,
    "start_time": "2023-12-26T19:47:39.892Z"
   },
   {
    "duration": 4,
    "start_time": "2023-12-26T19:47:40.243Z"
   },
   {
    "duration": 132,
    "start_time": "2023-12-26T19:47:40.432Z"
   },
   {
    "duration": 4,
    "start_time": "2023-12-26T19:47:40.785Z"
   },
   {
    "duration": 287,
    "start_time": "2023-12-26T19:47:40.962Z"
   },
   {
    "duration": 49,
    "start_time": "2023-12-26T19:47:41.251Z"
   },
   {
    "duration": 0,
    "start_time": "2023-12-26T19:47:41.301Z"
   },
   {
    "duration": 302,
    "start_time": "2023-12-26T19:47:41.640Z"
   },
   {
    "duration": 238,
    "start_time": "2023-12-26T19:47:45.311Z"
   },
   {
    "duration": 263,
    "start_time": "2023-12-26T19:47:45.649Z"
   },
   {
    "duration": 44,
    "start_time": "2023-12-26T19:47:46.284Z"
   },
   {
    "duration": 32,
    "start_time": "2023-12-26T19:47:46.466Z"
   },
   {
    "duration": 46,
    "start_time": "2023-12-26T19:47:46.653Z"
   },
   {
    "duration": 33,
    "start_time": "2023-12-26T19:47:52.038Z"
   },
   {
    "duration": 22,
    "start_time": "2023-12-26T19:47:52.466Z"
   },
   {
    "duration": 22,
    "start_time": "2023-12-26T19:47:52.635Z"
   },
   {
    "duration": 177,
    "start_time": "2023-12-26T19:47:52.794Z"
   },
   {
    "duration": 219,
    "start_time": "2023-12-26T19:47:52.973Z"
   },
   {
    "duration": 173,
    "start_time": "2023-12-26T19:47:53.194Z"
   },
   {
    "duration": 164,
    "start_time": "2023-12-26T19:47:53.369Z"
   },
   {
    "duration": 44,
    "start_time": "2023-12-26T19:47:54.455Z"
   },
   {
    "duration": 3,
    "start_time": "2023-12-26T19:47:54.636Z"
   },
   {
    "duration": 4,
    "start_time": "2023-12-26T19:47:54.995Z"
   },
   {
    "duration": 12,
    "start_time": "2023-12-26T19:47:55.164Z"
   },
   {
    "duration": 13,
    "start_time": "2023-12-26T19:47:55.335Z"
   },
   {
    "duration": 121,
    "start_time": "2023-12-26T19:47:55.510Z"
   },
   {
    "duration": 3,
    "start_time": "2023-12-26T19:47:55.855Z"
   },
   {
    "duration": 64,
    "start_time": "2023-12-26T19:47:56.043Z"
   },
   {
    "duration": 149,
    "start_time": "2023-12-26T19:47:56.221Z"
   },
   {
    "duration": 152,
    "start_time": "2023-12-26T19:47:59.817Z"
   },
   {
    "duration": 12,
    "start_time": "2023-12-26T19:48:00.360Z"
   },
   {
    "duration": 9,
    "start_time": "2023-12-26T19:48:00.522Z"
   },
   {
    "duration": 8,
    "start_time": "2023-12-26T19:48:01.034Z"
   },
   {
    "duration": 9,
    "start_time": "2023-12-26T19:48:01.200Z"
   },
   {
    "duration": 19,
    "start_time": "2023-12-26T19:48:01.794Z"
   },
   {
    "duration": 57,
    "start_time": "2023-12-26T19:48:03.235Z"
   },
   {
    "duration": 407,
    "start_time": "2023-12-26T19:48:12.156Z"
   },
   {
    "duration": 258,
    "start_time": "2023-12-26T19:48:12.565Z"
   },
   {
    "duration": 51,
    "start_time": "2023-12-26T19:48:12.825Z"
   },
   {
    "duration": 44,
    "start_time": "2023-12-26T19:48:12.878Z"
   },
   {
    "duration": 25,
    "start_time": "2023-12-26T19:48:12.924Z"
   },
   {
    "duration": 27,
    "start_time": "2023-12-26T19:48:12.951Z"
   },
   {
    "duration": 38,
    "start_time": "2023-12-26T19:48:12.979Z"
   },
   {
    "duration": 22,
    "start_time": "2023-12-26T19:48:13.019Z"
   },
   {
    "duration": 31,
    "start_time": "2023-12-26T19:48:13.042Z"
   },
   {
    "duration": 206,
    "start_time": "2023-12-26T19:48:13.075Z"
   },
   {
    "duration": 4,
    "start_time": "2023-12-26T19:48:13.283Z"
   },
   {
    "duration": 154,
    "start_time": "2023-12-26T19:48:13.288Z"
   },
   {
    "duration": 4,
    "start_time": "2023-12-26T19:48:13.443Z"
   },
   {
    "duration": 270,
    "start_time": "2023-12-26T19:48:13.450Z"
   },
   {
    "duration": 309,
    "start_time": "2023-12-26T19:48:13.722Z"
   },
   {
    "duration": 246,
    "start_time": "2023-12-26T19:48:14.033Z"
   },
   {
    "duration": 31,
    "start_time": "2023-12-26T19:48:14.281Z"
   },
   {
    "duration": 37,
    "start_time": "2023-12-26T19:48:14.313Z"
   },
   {
    "duration": 19,
    "start_time": "2023-12-26T19:48:14.351Z"
   },
   {
    "duration": 189,
    "start_time": "2023-12-26T19:48:14.371Z"
   },
   {
    "duration": 183,
    "start_time": "2023-12-26T19:48:14.562Z"
   },
   {
    "duration": 157,
    "start_time": "2023-12-26T19:48:14.746Z"
   },
   {
    "duration": 152,
    "start_time": "2023-12-26T19:48:14.904Z"
   },
   {
    "duration": 42,
    "start_time": "2023-12-26T19:48:15.057Z"
   },
   {
    "duration": 57,
    "start_time": "2023-12-26T19:48:15.100Z"
   },
   {
    "duration": 75,
    "start_time": "2023-12-26T19:48:15.159Z"
   },
   {
    "duration": 51,
    "start_time": "2023-12-26T19:48:15.235Z"
   },
   {
    "duration": 62,
    "start_time": "2023-12-26T19:48:15.288Z"
   },
   {
    "duration": 36,
    "start_time": "2023-12-26T19:48:15.352Z"
   },
   {
    "duration": 5,
    "start_time": "2023-12-26T19:48:15.390Z"
   },
   {
    "duration": 176,
    "start_time": "2023-12-26T19:48:15.396Z"
   },
   {
    "duration": 10,
    "start_time": "2023-12-26T19:48:15.574Z"
   },
   {
    "duration": 27,
    "start_time": "2023-12-26T19:48:15.586Z"
   },
   {
    "duration": 82,
    "start_time": "2023-12-26T19:48:15.615Z"
   },
   {
    "duration": 16,
    "start_time": "2023-12-26T19:48:15.700Z"
   },
   {
    "duration": 29,
    "start_time": "2023-12-26T19:48:15.718Z"
   },
   {
    "duration": 7,
    "start_time": "2023-12-26T19:53:12.931Z"
   },
   {
    "duration": 148,
    "start_time": "2023-12-27T12:36:42.204Z"
   },
   {
    "duration": 8,
    "start_time": "2023-12-27T12:37:46.849Z"
   },
   {
    "duration": 8,
    "start_time": "2023-12-27T12:38:30.345Z"
   },
   {
    "duration": 4,
    "start_time": "2023-12-27T12:56:03.812Z"
   },
   {
    "duration": 21,
    "start_time": "2023-12-27T12:56:23.374Z"
   },
   {
    "duration": 21,
    "start_time": "2023-12-27T12:56:38.215Z"
   },
   {
    "duration": 22,
    "start_time": "2023-12-27T12:56:44.514Z"
   },
   {
    "duration": 14,
    "start_time": "2023-12-27T13:10:49.986Z"
   },
   {
    "duration": 88,
    "start_time": "2023-12-27T13:11:04.698Z"
   },
   {
    "duration": 7,
    "start_time": "2023-12-27T13:13:18.042Z"
   },
   {
    "duration": 3,
    "start_time": "2023-12-27T13:13:31.548Z"
   },
   {
    "duration": 16,
    "start_time": "2023-12-27T13:41:34.890Z"
   },
   {
    "duration": 14,
    "start_time": "2023-12-27T13:42:14.467Z"
   },
   {
    "duration": 13,
    "start_time": "2023-12-27T13:44:07.763Z"
   },
   {
    "duration": 12,
    "start_time": "2023-12-27T13:44:51.245Z"
   },
   {
    "duration": 20,
    "start_time": "2023-12-27T13:45:16.914Z"
   },
   {
    "duration": 77,
    "start_time": "2023-12-27T13:47:21.909Z"
   },
   {
    "duration": 23,
    "start_time": "2023-12-27T13:47:39.683Z"
   },
   {
    "duration": 23,
    "start_time": "2023-12-27T14:12:05.338Z"
   },
   {
    "duration": 11,
    "start_time": "2023-12-27T14:17:11.501Z"
   },
   {
    "duration": 17,
    "start_time": "2023-12-27T14:17:28.469Z"
   },
   {
    "duration": 2,
    "start_time": "2023-12-27T14:18:17.414Z"
   },
   {
    "duration": 334,
    "start_time": "2023-12-27T16:29:27.601Z"
   },
   {
    "duration": 214,
    "start_time": "2023-12-27T16:29:27.937Z"
   },
   {
    "duration": 45,
    "start_time": "2023-12-27T16:29:28.152Z"
   },
   {
    "duration": 39,
    "start_time": "2023-12-27T16:29:28.199Z"
   },
   {
    "duration": 18,
    "start_time": "2023-12-27T16:29:28.240Z"
   },
   {
    "duration": 89,
    "start_time": "2023-12-27T16:29:28.260Z"
   },
   {
    "duration": 39,
    "start_time": "2023-12-27T16:29:28.350Z"
   },
   {
    "duration": 24,
    "start_time": "2023-12-27T16:29:28.390Z"
   },
   {
    "duration": 4,
    "start_time": "2023-12-27T16:29:28.415Z"
   },
   {
    "duration": 149,
    "start_time": "2023-12-27T16:29:28.421Z"
   },
   {
    "duration": 3,
    "start_time": "2023-12-27T16:29:28.572Z"
   },
   {
    "duration": 130,
    "start_time": "2023-12-27T16:29:28.576Z"
   },
   {
    "duration": 79,
    "start_time": "2023-12-27T16:29:28.707Z"
   },
   {
    "duration": 3,
    "start_time": "2023-12-27T16:29:28.790Z"
   },
   {
    "duration": 14,
    "start_time": "2023-12-27T16:29:28.795Z"
   },
   {
    "duration": 241,
    "start_time": "2023-12-27T16:29:28.811Z"
   },
   {
    "duration": 7,
    "start_time": "2023-12-27T16:29:29.054Z"
   },
   {
    "duration": 281,
    "start_time": "2023-12-27T16:29:29.063Z"
   },
   {
    "duration": 222,
    "start_time": "2023-12-27T16:29:29.346Z"
   },
   {
    "duration": 27,
    "start_time": "2023-12-27T16:29:29.570Z"
   },
   {
    "duration": 80,
    "start_time": "2023-12-27T16:29:29.598Z"
   },
   {
    "duration": 0,
    "start_time": "2023-12-27T16:29:29.680Z"
   },
   {
    "duration": 0,
    "start_time": "2023-12-27T16:29:29.681Z"
   },
   {
    "duration": 0,
    "start_time": "2023-12-27T16:29:29.682Z"
   },
   {
    "duration": 0,
    "start_time": "2023-12-27T16:29:29.684Z"
   },
   {
    "duration": 0,
    "start_time": "2023-12-27T16:29:29.685Z"
   },
   {
    "duration": 0,
    "start_time": "2023-12-27T16:29:29.686Z"
   },
   {
    "duration": 0,
    "start_time": "2023-12-27T16:29:29.687Z"
   },
   {
    "duration": 0,
    "start_time": "2023-12-27T16:29:29.689Z"
   },
   {
    "duration": 0,
    "start_time": "2023-12-27T16:29:29.690Z"
   },
   {
    "duration": 0,
    "start_time": "2023-12-27T16:29:29.691Z"
   },
   {
    "duration": 1,
    "start_time": "2023-12-27T16:29:29.692Z"
   },
   {
    "duration": 0,
    "start_time": "2023-12-27T16:29:29.693Z"
   },
   {
    "duration": 0,
    "start_time": "2023-12-27T16:29:29.695Z"
   },
   {
    "duration": 0,
    "start_time": "2023-12-27T16:29:29.696Z"
   },
   {
    "duration": 0,
    "start_time": "2023-12-27T16:29:29.698Z"
   },
   {
    "duration": 0,
    "start_time": "2023-12-27T16:29:29.699Z"
   },
   {
    "duration": 0,
    "start_time": "2023-12-27T16:29:29.700Z"
   },
   {
    "duration": 0,
    "start_time": "2023-12-27T16:29:29.701Z"
   },
   {
    "duration": 1,
    "start_time": "2023-12-27T16:29:29.702Z"
   },
   {
    "duration": 0,
    "start_time": "2023-12-27T16:29:29.704Z"
   },
   {
    "duration": 0,
    "start_time": "2023-12-27T16:29:29.705Z"
   },
   {
    "duration": 403,
    "start_time": "2023-12-27T18:45:09.649Z"
   },
   {
    "duration": 410,
    "start_time": "2023-12-27T18:45:10.054Z"
   },
   {
    "duration": 113,
    "start_time": "2023-12-27T18:45:10.465Z"
   },
   {
    "duration": 199,
    "start_time": "2023-12-27T18:45:10.579Z"
   },
   {
    "duration": 72,
    "start_time": "2023-12-27T18:45:10.780Z"
   },
   {
    "duration": 16,
    "start_time": "2023-12-27T18:45:10.854Z"
   },
   {
    "duration": 20,
    "start_time": "2023-12-27T18:45:10.872Z"
   },
   {
    "duration": 28,
    "start_time": "2023-12-27T18:45:10.894Z"
   },
   {
    "duration": 23,
    "start_time": "2023-12-27T18:45:10.924Z"
   },
   {
    "duration": 205,
    "start_time": "2023-12-27T18:45:10.949Z"
   },
   {
    "duration": 5,
    "start_time": "2023-12-27T18:45:11.156Z"
   },
   {
    "duration": 143,
    "start_time": "2023-12-27T18:45:11.162Z"
   },
   {
    "duration": 98,
    "start_time": "2023-12-27T18:45:11.307Z"
   },
   {
    "duration": 4,
    "start_time": "2023-12-27T18:45:11.407Z"
   },
   {
    "duration": 27,
    "start_time": "2023-12-27T18:45:11.412Z"
   },
   {
    "duration": 307,
    "start_time": "2023-12-27T18:45:11.444Z"
   },
   {
    "duration": 10,
    "start_time": "2023-12-27T18:45:11.753Z"
   },
   {
    "duration": 315,
    "start_time": "2023-12-27T18:45:11.765Z"
   },
   {
    "duration": 274,
    "start_time": "2023-12-27T18:45:12.082Z"
   },
   {
    "duration": 29,
    "start_time": "2023-12-27T18:45:12.358Z"
   },
   {
    "duration": 95,
    "start_time": "2023-12-27T18:45:12.389Z"
   },
   {
    "duration": 0,
    "start_time": "2023-12-27T18:45:12.485Z"
   },
   {
    "duration": 0,
    "start_time": "2023-12-27T18:45:12.486Z"
   },
   {
    "duration": 0,
    "start_time": "2023-12-27T18:45:12.487Z"
   },
   {
    "duration": 0,
    "start_time": "2023-12-27T18:45:12.488Z"
   },
   {
    "duration": 0,
    "start_time": "2023-12-27T18:45:12.490Z"
   },
   {
    "duration": 0,
    "start_time": "2023-12-27T18:45:12.490Z"
   },
   {
    "duration": 0,
    "start_time": "2023-12-27T18:45:12.492Z"
   },
   {
    "duration": 0,
    "start_time": "2023-12-27T18:45:12.493Z"
   },
   {
    "duration": 0,
    "start_time": "2023-12-27T18:45:12.494Z"
   },
   {
    "duration": 0,
    "start_time": "2023-12-27T18:45:12.496Z"
   },
   {
    "duration": 0,
    "start_time": "2023-12-27T18:45:12.497Z"
   },
   {
    "duration": 0,
    "start_time": "2023-12-27T18:45:12.498Z"
   },
   {
    "duration": 0,
    "start_time": "2023-12-27T18:45:12.499Z"
   },
   {
    "duration": 0,
    "start_time": "2023-12-27T18:45:12.500Z"
   },
   {
    "duration": 0,
    "start_time": "2023-12-27T18:45:12.502Z"
   },
   {
    "duration": 0,
    "start_time": "2023-12-27T18:45:12.503Z"
   },
   {
    "duration": 0,
    "start_time": "2023-12-27T18:45:12.536Z"
   },
   {
    "duration": 0,
    "start_time": "2023-12-27T18:45:12.537Z"
   },
   {
    "duration": 0,
    "start_time": "2023-12-27T18:45:12.538Z"
   },
   {
    "duration": 0,
    "start_time": "2023-12-27T18:45:12.541Z"
   },
   {
    "duration": 0,
    "start_time": "2023-12-27T18:45:12.542Z"
   },
   {
    "duration": 411,
    "start_time": "2023-12-27T18:46:41.676Z"
   },
   {
    "duration": 257,
    "start_time": "2023-12-27T18:46:42.089Z"
   },
   {
    "duration": 3,
    "start_time": "2023-12-27T18:46:42.347Z"
   },
   {
    "duration": 51,
    "start_time": "2023-12-27T18:46:42.352Z"
   },
   {
    "duration": 64,
    "start_time": "2023-12-27T18:46:42.405Z"
   },
   {
    "duration": 22,
    "start_time": "2023-12-27T18:46:42.472Z"
   },
   {
    "duration": 22,
    "start_time": "2023-12-27T18:46:42.496Z"
   },
   {
    "duration": 29,
    "start_time": "2023-12-27T18:46:42.520Z"
   },
   {
    "duration": 16,
    "start_time": "2023-12-27T18:46:42.551Z"
   },
   {
    "duration": 4,
    "start_time": "2023-12-27T18:46:42.570Z"
   },
   {
    "duration": 190,
    "start_time": "2023-12-27T18:46:42.575Z"
   },
   {
    "duration": 4,
    "start_time": "2023-12-27T18:46:42.766Z"
   },
   {
    "duration": 138,
    "start_time": "2023-12-27T18:46:42.771Z"
   },
   {
    "duration": 93,
    "start_time": "2023-12-27T18:46:42.910Z"
   },
   {
    "duration": 3,
    "start_time": "2023-12-27T18:46:43.005Z"
   },
   {
    "duration": 33,
    "start_time": "2023-12-27T18:46:43.010Z"
   },
   {
    "duration": 299,
    "start_time": "2023-12-27T18:46:43.045Z"
   },
   {
    "duration": 9,
    "start_time": "2023-12-27T18:46:43.346Z"
   },
   {
    "duration": 324,
    "start_time": "2023-12-27T18:46:43.357Z"
   },
   {
    "duration": 270,
    "start_time": "2023-12-27T18:46:43.683Z"
   },
   {
    "duration": 33,
    "start_time": "2023-12-27T18:46:43.955Z"
   },
   {
    "duration": 54,
    "start_time": "2023-12-27T18:46:43.990Z"
   },
   {
    "duration": 35,
    "start_time": "2023-12-27T18:46:44.046Z"
   },
   {
    "duration": 26,
    "start_time": "2023-12-27T18:46:44.082Z"
   },
   {
    "duration": 31,
    "start_time": "2023-12-27T18:46:44.110Z"
   },
   {
    "duration": 215,
    "start_time": "2023-12-27T18:46:44.143Z"
   },
   {
    "duration": 196,
    "start_time": "2023-12-27T18:46:44.360Z"
   },
   {
    "duration": 158,
    "start_time": "2023-12-27T18:46:44.560Z"
   },
   {
    "duration": 156,
    "start_time": "2023-12-27T18:46:44.719Z"
   },
   {
    "duration": 41,
    "start_time": "2023-12-27T18:46:44.876Z"
   },
   {
    "duration": 13,
    "start_time": "2023-12-27T18:46:44.919Z"
   },
   {
    "duration": 14,
    "start_time": "2023-12-27T18:46:44.944Z"
   },
   {
    "duration": 13,
    "start_time": "2023-12-27T18:46:44.960Z"
   },
   {
    "duration": 23,
    "start_time": "2023-12-27T18:46:44.974Z"
   },
   {
    "duration": 28,
    "start_time": "2023-12-27T18:46:44.998Z"
   },
   {
    "duration": 246,
    "start_time": "2023-12-27T18:46:45.027Z"
   },
   {
    "duration": 7,
    "start_time": "2023-12-27T18:46:45.274Z"
   },
   {
    "duration": 33,
    "start_time": "2023-12-27T18:46:45.283Z"
   },
   {
    "duration": 28,
    "start_time": "2023-12-27T18:46:45.318Z"
   },
   {
    "duration": 40,
    "start_time": "2023-12-27T18:46:45.348Z"
   },
   {
    "duration": 21,
    "start_time": "2023-12-27T18:46:45.390Z"
   },
   {
    "duration": 49,
    "start_time": "2023-12-27T18:46:45.412Z"
   },
   {
    "duration": 194,
    "start_time": "2023-12-27T18:53:14.476Z"
   },
   {
    "duration": 391,
    "start_time": "2023-12-27T18:53:25.387Z"
   },
   {
    "duration": 240,
    "start_time": "2023-12-27T18:53:25.780Z"
   },
   {
    "duration": 8,
    "start_time": "2023-12-27T18:53:26.022Z"
   },
   {
    "duration": 58,
    "start_time": "2023-12-27T18:53:26.040Z"
   },
   {
    "duration": 52,
    "start_time": "2023-12-27T18:53:26.100Z"
   },
   {
    "duration": 20,
    "start_time": "2023-12-27T18:53:26.154Z"
   },
   {
    "duration": 14,
    "start_time": "2023-12-27T18:53:26.176Z"
   },
   {
    "duration": 25,
    "start_time": "2023-12-27T18:53:26.191Z"
   },
   {
    "duration": 24,
    "start_time": "2023-12-27T18:53:26.218Z"
   },
   {
    "duration": 10,
    "start_time": "2023-12-27T18:53:26.245Z"
   },
   {
    "duration": 189,
    "start_time": "2023-12-27T18:53:26.257Z"
   },
   {
    "duration": 4,
    "start_time": "2023-12-27T18:53:26.448Z"
   },
   {
    "duration": 155,
    "start_time": "2023-12-27T18:53:26.454Z"
   },
   {
    "duration": 95,
    "start_time": "2023-12-27T18:53:26.612Z"
   },
   {
    "duration": 4,
    "start_time": "2023-12-27T18:53:26.708Z"
   },
   {
    "duration": 28,
    "start_time": "2023-12-27T18:53:26.714Z"
   },
   {
    "duration": 302,
    "start_time": "2023-12-27T18:53:26.743Z"
   },
   {
    "duration": 9,
    "start_time": "2023-12-27T18:53:27.047Z"
   },
   {
    "duration": 320,
    "start_time": "2023-12-27T18:53:27.057Z"
   },
   {
    "duration": 267,
    "start_time": "2023-12-27T18:53:27.378Z"
   },
   {
    "duration": 31,
    "start_time": "2023-12-27T18:53:27.647Z"
   },
   {
    "duration": 25,
    "start_time": "2023-12-27T18:53:27.680Z"
   },
   {
    "duration": 62,
    "start_time": "2023-12-27T18:53:27.707Z"
   },
   {
    "duration": 31,
    "start_time": "2023-12-27T18:53:27.770Z"
   },
   {
    "duration": 19,
    "start_time": "2023-12-27T18:53:27.803Z"
   },
   {
    "duration": 228,
    "start_time": "2023-12-27T18:53:27.824Z"
   },
   {
    "duration": 211,
    "start_time": "2023-12-27T18:53:28.053Z"
   },
   {
    "duration": 196,
    "start_time": "2023-12-27T18:53:28.269Z"
   },
   {
    "duration": 152,
    "start_time": "2023-12-27T18:53:28.467Z"
   },
   {
    "duration": 54,
    "start_time": "2023-12-27T18:53:28.620Z"
   },
   {
    "duration": 3,
    "start_time": "2023-12-27T18:53:28.676Z"
   },
   {
    "duration": 13,
    "start_time": "2023-12-27T18:53:28.681Z"
   },
   {
    "duration": 13,
    "start_time": "2023-12-27T18:53:28.695Z"
   },
   {
    "duration": 24,
    "start_time": "2023-12-27T18:53:28.735Z"
   },
   {
    "duration": 4,
    "start_time": "2023-12-27T18:53:28.761Z"
   },
   {
    "duration": 236,
    "start_time": "2023-12-27T18:53:28.766Z"
   },
   {
    "duration": 8,
    "start_time": "2023-12-27T18:53:29.004Z"
   },
   {
    "duration": 31,
    "start_time": "2023-12-27T18:53:29.014Z"
   },
   {
    "duration": 8,
    "start_time": "2023-12-27T18:53:29.047Z"
   },
   {
    "duration": 27,
    "start_time": "2023-12-27T18:53:29.057Z"
   },
   {
    "duration": 18,
    "start_time": "2023-12-27T18:53:29.086Z"
   },
   {
    "duration": 22,
    "start_time": "2023-12-27T18:53:29.106Z"
   },
   {
    "duration": 459,
    "start_time": "2023-12-28T06:08:30.683Z"
   },
   {
    "duration": 278,
    "start_time": "2023-12-28T06:08:31.144Z"
   },
   {
    "duration": 2,
    "start_time": "2023-12-28T06:08:31.424Z"
   },
   {
    "duration": 228,
    "start_time": "2023-12-28T06:08:31.428Z"
   },
   {
    "duration": 52,
    "start_time": "2023-12-28T06:08:31.659Z"
   },
   {
    "duration": 26,
    "start_time": "2023-12-28T06:08:31.714Z"
   },
   {
    "duration": 154,
    "start_time": "2023-12-28T06:08:31.741Z"
   },
   {
    "duration": 41,
    "start_time": "2023-12-28T06:08:31.897Z"
   },
   {
    "duration": 28,
    "start_time": "2023-12-28T06:08:31.940Z"
   },
   {
    "duration": 12,
    "start_time": "2023-12-28T06:08:31.969Z"
   },
   {
    "duration": 185,
    "start_time": "2023-12-28T06:08:31.983Z"
   },
   {
    "duration": 4,
    "start_time": "2023-12-28T06:08:32.169Z"
   },
   {
    "duration": 140,
    "start_time": "2023-12-28T06:08:32.174Z"
   },
   {
    "duration": 108,
    "start_time": "2023-12-28T06:08:32.317Z"
   },
   {
    "duration": 70,
    "start_time": "2023-12-28T06:08:32.427Z"
   },
   {
    "duration": 48,
    "start_time": "2023-12-28T06:08:32.499Z"
   },
   {
    "duration": 400,
    "start_time": "2023-12-28T06:08:32.548Z"
   },
   {
    "duration": 7,
    "start_time": "2023-12-28T06:08:32.950Z"
   },
   {
    "duration": 803,
    "start_time": "2023-12-28T06:08:32.989Z"
   },
   {
    "duration": 469,
    "start_time": "2023-12-28T06:08:33.794Z"
   },
   {
    "duration": 43,
    "start_time": "2023-12-28T06:08:34.265Z"
   },
   {
    "duration": 56,
    "start_time": "2023-12-28T06:08:34.310Z"
   },
   {
    "duration": 48,
    "start_time": "2023-12-28T06:08:34.367Z"
   },
   {
    "duration": 29,
    "start_time": "2023-12-28T06:08:34.416Z"
   },
   {
    "duration": 3,
    "start_time": "2023-12-28T06:08:34.446Z"
   },
   {
    "duration": 651,
    "start_time": "2023-12-28T06:08:34.450Z"
   },
   {
    "duration": 420,
    "start_time": "2023-12-28T06:08:35.102Z"
   },
   {
    "duration": 609,
    "start_time": "2023-12-28T06:08:35.524Z"
   },
   {
    "duration": 323,
    "start_time": "2023-12-28T06:08:36.189Z"
   },
   {
    "duration": 100,
    "start_time": "2023-12-28T06:08:36.513Z"
   },
   {
    "duration": 3,
    "start_time": "2023-12-28T06:08:36.615Z"
   },
   {
    "duration": 77,
    "start_time": "2023-12-28T06:08:36.620Z"
   },
   {
    "duration": 15,
    "start_time": "2023-12-28T06:08:36.699Z"
   },
   {
    "duration": 88,
    "start_time": "2023-12-28T06:08:36.716Z"
   },
   {
    "duration": 7,
    "start_time": "2023-12-28T06:08:36.807Z"
   },
   {
    "duration": 572,
    "start_time": "2023-12-28T06:08:36.818Z"
   },
   {
    "duration": 10,
    "start_time": "2023-12-28T06:08:37.395Z"
   },
   {
    "duration": 15,
    "start_time": "2023-12-28T06:08:37.408Z"
   },
   {
    "duration": 66,
    "start_time": "2023-12-28T06:08:37.425Z"
   },
   {
    "duration": 13,
    "start_time": "2023-12-28T06:08:37.493Z"
   },
   {
    "duration": 18,
    "start_time": "2023-12-28T06:08:37.512Z"
   },
   {
    "duration": 22,
    "start_time": "2023-12-28T06:08:37.531Z"
   },
   {
    "duration": 45,
    "start_time": "2023-12-28T13:18:01.726Z"
   },
   {
    "duration": 379,
    "start_time": "2023-12-28T13:18:11.007Z"
   },
   {
    "duration": 369,
    "start_time": "2023-12-28T13:18:11.388Z"
   },
   {
    "duration": 2,
    "start_time": "2023-12-28T13:18:11.759Z"
   },
   {
    "duration": 114,
    "start_time": "2023-12-28T13:18:11.763Z"
   },
   {
    "duration": 174,
    "start_time": "2023-12-28T13:18:11.879Z"
   },
   {
    "duration": 61,
    "start_time": "2023-12-28T13:18:12.054Z"
   },
   {
    "duration": 12,
    "start_time": "2023-12-28T13:18:12.116Z"
   },
   {
    "duration": 24,
    "start_time": "2023-12-28T13:18:12.129Z"
   },
   {
    "duration": 10,
    "start_time": "2023-12-28T13:18:12.155Z"
   },
   {
    "duration": 4,
    "start_time": "2023-12-28T13:18:12.167Z"
   },
   {
    "duration": 148,
    "start_time": "2023-12-28T13:18:12.172Z"
   },
   {
    "duration": 4,
    "start_time": "2023-12-28T13:18:12.322Z"
   },
   {
    "duration": 119,
    "start_time": "2023-12-28T13:18:12.328Z"
   },
   {
    "duration": 82,
    "start_time": "2023-12-28T13:18:12.448Z"
   },
   {
    "duration": 3,
    "start_time": "2023-12-28T13:18:12.531Z"
   },
   {
    "duration": 12,
    "start_time": "2023-12-28T13:18:12.536Z"
   },
   {
    "duration": 234,
    "start_time": "2023-12-28T13:18:12.549Z"
   },
   {
    "duration": 7,
    "start_time": "2023-12-28T13:18:12.784Z"
   },
   {
    "duration": 264,
    "start_time": "2023-12-28T13:18:12.792Z"
   },
   {
    "duration": 217,
    "start_time": "2023-12-28T13:18:13.058Z"
   },
   {
    "duration": 26,
    "start_time": "2023-12-28T13:18:13.288Z"
   },
   {
    "duration": 17,
    "start_time": "2023-12-28T13:18:13.316Z"
   },
   {
    "duration": 17,
    "start_time": "2023-12-28T13:18:13.334Z"
   },
   {
    "duration": 27,
    "start_time": "2023-12-28T13:18:13.353Z"
   },
   {
    "duration": 30,
    "start_time": "2023-12-28T13:18:13.382Z"
   },
   {
    "duration": 2,
    "start_time": "2023-12-28T13:18:13.413Z"
   },
   {
    "duration": 190,
    "start_time": "2023-12-28T13:18:13.416Z"
   },
   {
    "duration": 166,
    "start_time": "2023-12-28T13:18:13.609Z"
   },
   {
    "duration": 165,
    "start_time": "2023-12-28T13:18:13.776Z"
   },
   {
    "duration": 141,
    "start_time": "2023-12-28T13:18:13.943Z"
   },
   {
    "duration": 45,
    "start_time": "2023-12-28T13:18:14.085Z"
   },
   {
    "duration": 3,
    "start_time": "2023-12-28T13:18:14.131Z"
   },
   {
    "duration": 12,
    "start_time": "2023-12-28T13:18:14.135Z"
   },
   {
    "duration": 13,
    "start_time": "2023-12-28T13:18:14.149Z"
   },
   {
    "duration": 36,
    "start_time": "2023-12-28T13:18:14.163Z"
   },
   {
    "duration": 3,
    "start_time": "2023-12-28T13:18:14.201Z"
   },
   {
    "duration": 149,
    "start_time": "2023-12-28T13:18:14.205Z"
   },
   {
    "duration": 7,
    "start_time": "2023-12-28T13:18:14.355Z"
   },
   {
    "duration": 8,
    "start_time": "2023-12-28T13:18:14.363Z"
   },
   {
    "duration": 17,
    "start_time": "2023-12-28T13:18:14.372Z"
   },
   {
    "duration": 13,
    "start_time": "2023-12-28T13:18:14.390Z"
   },
   {
    "duration": 15,
    "start_time": "2023-12-28T13:18:14.404Z"
   },
   {
    "duration": 19,
    "start_time": "2023-12-28T13:18:14.420Z"
   },
   {
    "duration": 149,
    "start_time": "2023-12-28T13:19:02.305Z"
   },
   {
    "duration": 230,
    "start_time": "2023-12-28T13:19:09.096Z"
   },
   {
    "duration": 120,
    "start_time": "2023-12-28T13:19:18.997Z"
   },
   {
    "duration": 78,
    "start_time": "2023-12-28T13:44:00.096Z"
   },
   {
    "duration": 437,
    "start_time": "2023-12-28T13:45:02.150Z"
   },
   {
    "duration": 32,
    "start_time": "2023-12-28T13:45:31.829Z"
   },
   {
    "duration": 4,
    "start_time": "2023-12-28T13:46:21.508Z"
   },
   {
    "duration": 6,
    "start_time": "2023-12-28T13:49:13.107Z"
   },
   {
    "duration": 52,
    "start_time": "2023-12-28T13:52:44.912Z"
   },
   {
    "duration": 5,
    "start_time": "2023-12-28T13:52:54.732Z"
   },
   {
    "duration": 5,
    "start_time": "2023-12-28T14:03:24.548Z"
   },
   {
    "duration": 5,
    "start_time": "2023-12-28T14:07:09.280Z"
   },
   {
    "duration": 5,
    "start_time": "2023-12-28T14:16:05.723Z"
   },
   {
    "duration": 19,
    "start_time": "2023-12-28T14:16:25.918Z"
   },
   {
    "duration": 16,
    "start_time": "2023-12-28T14:17:05.710Z"
   },
   {
    "duration": 14,
    "start_time": "2023-12-28T14:17:19.955Z"
   },
   {
    "duration": 7,
    "start_time": "2023-12-28T14:20:20.271Z"
   },
   {
    "duration": 2,
    "start_time": "2023-12-28T14:36:42.800Z"
   },
   {
    "duration": 10,
    "start_time": "2023-12-28T14:36:52.236Z"
   },
   {
    "duration": 32,
    "start_time": "2023-12-28T14:39:24.893Z"
   },
   {
    "duration": 345,
    "start_time": "2023-12-28T14:39:32.654Z"
   },
   {
    "duration": 221,
    "start_time": "2023-12-28T14:39:33.001Z"
   },
   {
    "duration": 3,
    "start_time": "2023-12-28T14:39:33.224Z"
   },
   {
    "duration": 427,
    "start_time": "2023-12-28T14:39:33.229Z"
   },
   {
    "duration": 48,
    "start_time": "2023-12-28T14:39:33.657Z"
   },
   {
    "duration": 40,
    "start_time": "2023-12-28T14:39:33.706Z"
   },
   {
    "duration": 19,
    "start_time": "2023-12-28T14:39:33.748Z"
   },
   {
    "duration": 12,
    "start_time": "2023-12-28T14:39:33.769Z"
   },
   {
    "duration": 17,
    "start_time": "2023-12-28T14:39:33.783Z"
   },
   {
    "duration": 10,
    "start_time": "2023-12-28T14:39:33.802Z"
   },
   {
    "duration": 3,
    "start_time": "2023-12-28T14:39:33.813Z"
   },
   {
    "duration": 159,
    "start_time": "2023-12-28T14:39:33.817Z"
   },
   {
    "duration": 5,
    "start_time": "2023-12-28T14:39:33.977Z"
   },
   {
    "duration": 149,
    "start_time": "2023-12-28T14:39:33.984Z"
   },
   {
    "duration": 86,
    "start_time": "2023-12-28T14:39:34.134Z"
   },
   {
    "duration": 3,
    "start_time": "2023-12-28T14:39:34.221Z"
   },
   {
    "duration": 12,
    "start_time": "2023-12-28T14:39:34.225Z"
   },
   {
    "duration": 254,
    "start_time": "2023-12-28T14:39:34.238Z"
   },
   {
    "duration": 10,
    "start_time": "2023-12-28T14:39:34.498Z"
   },
   {
    "duration": 225,
    "start_time": "2023-12-28T14:39:34.510Z"
   },
   {
    "duration": 227,
    "start_time": "2023-12-28T14:39:34.736Z"
   },
   {
    "duration": 35,
    "start_time": "2023-12-28T14:39:34.965Z"
   },
   {
    "duration": 17,
    "start_time": "2023-12-28T14:39:35.001Z"
   },
   {
    "duration": 49,
    "start_time": "2023-12-28T14:39:35.019Z"
   },
   {
    "duration": 82,
    "start_time": "2023-12-28T14:39:35.069Z"
   },
   {
    "duration": 17,
    "start_time": "2023-12-28T14:39:35.152Z"
   },
   {
    "duration": 2,
    "start_time": "2023-12-28T14:39:35.170Z"
   },
   {
    "duration": 177,
    "start_time": "2023-12-28T14:39:35.175Z"
   },
   {
    "duration": 167,
    "start_time": "2023-12-28T14:39:35.353Z"
   },
   {
    "duration": 166,
    "start_time": "2023-12-28T14:39:35.521Z"
   },
   {
    "duration": 155,
    "start_time": "2023-12-28T14:39:35.688Z"
   },
   {
    "duration": 55,
    "start_time": "2023-12-28T14:39:35.844Z"
   },
   {
    "duration": 4,
    "start_time": "2023-12-28T14:39:35.900Z"
   },
   {
    "duration": 14,
    "start_time": "2023-12-28T14:39:35.906Z"
   },
   {
    "duration": 25,
    "start_time": "2023-12-28T14:39:35.922Z"
   },
   {
    "duration": 40,
    "start_time": "2023-12-28T14:39:35.949Z"
   },
   {
    "duration": 5,
    "start_time": "2023-12-28T14:39:35.991Z"
   },
   {
    "duration": 150,
    "start_time": "2023-12-28T14:39:35.997Z"
   },
   {
    "duration": 14,
    "start_time": "2023-12-28T14:39:36.149Z"
   },
   {
    "duration": 14,
    "start_time": "2023-12-28T14:39:36.164Z"
   },
   {
    "duration": 20,
    "start_time": "2023-12-28T14:39:36.179Z"
   },
   {
    "duration": 8,
    "start_time": "2023-12-28T14:39:36.200Z"
   },
   {
    "duration": 9,
    "start_time": "2023-12-28T14:39:36.210Z"
   },
   {
    "duration": 6,
    "start_time": "2023-12-28T14:39:36.220Z"
   },
   {
    "duration": 13,
    "start_time": "2023-12-28T14:39:36.228Z"
   },
   {
    "duration": 11,
    "start_time": "2023-12-28T14:39:36.242Z"
   },
   {
    "duration": 11,
    "start_time": "2023-12-28T14:39:36.255Z"
   },
   {
    "duration": 45,
    "start_time": "2023-12-28T14:39:36.267Z"
   },
   {
    "duration": 19,
    "start_time": "2023-12-28T14:39:36.314Z"
   },
   {
    "duration": 14,
    "start_time": "2023-12-28T14:41:55.403Z"
   },
   {
    "duration": 3,
    "start_time": "2023-12-28T14:44:58.941Z"
   },
   {
    "duration": 90,
    "start_time": "2023-12-28T14:45:14.263Z"
   },
   {
    "duration": 14,
    "start_time": "2023-12-28T14:45:41.436Z"
   },
   {
    "duration": 20,
    "start_time": "2023-12-28T14:46:02.066Z"
   },
   {
    "duration": 8,
    "start_time": "2023-12-28T14:46:59.948Z"
   },
   {
    "duration": 13,
    "start_time": "2023-12-28T14:47:22.897Z"
   },
   {
    "duration": 15,
    "start_time": "2023-12-28T14:49:01.907Z"
   },
   {
    "duration": 381,
    "start_time": "2023-12-28T14:58:03.364Z"
   },
   {
    "duration": 219,
    "start_time": "2023-12-28T14:58:03.747Z"
   },
   {
    "duration": 2,
    "start_time": "2023-12-28T14:58:03.968Z"
   },
   {
    "duration": 452,
    "start_time": "2023-12-28T14:58:03.971Z"
   },
   {
    "duration": 48,
    "start_time": "2023-12-28T14:58:04.425Z"
   },
   {
    "duration": 41,
    "start_time": "2023-12-28T14:58:04.475Z"
   },
   {
    "duration": 18,
    "start_time": "2023-12-28T14:58:04.518Z"
   },
   {
    "duration": 13,
    "start_time": "2023-12-28T14:58:04.538Z"
   },
   {
    "duration": 19,
    "start_time": "2023-12-28T14:58:04.552Z"
   },
   {
    "duration": 10,
    "start_time": "2023-12-28T14:58:04.574Z"
   },
   {
    "duration": 2,
    "start_time": "2023-12-28T14:58:04.599Z"
   },
   {
    "duration": 165,
    "start_time": "2023-12-28T14:58:04.603Z"
   },
   {
    "duration": 4,
    "start_time": "2023-12-28T14:58:04.770Z"
   },
   {
    "duration": 124,
    "start_time": "2023-12-28T14:58:04.775Z"
   },
   {
    "duration": 79,
    "start_time": "2023-12-28T14:58:04.901Z"
   },
   {
    "duration": 18,
    "start_time": "2023-12-28T14:58:04.981Z"
   },
   {
    "duration": 4,
    "start_time": "2023-12-28T14:58:05.000Z"
   },
   {
    "duration": 267,
    "start_time": "2023-12-28T14:58:05.005Z"
   },
   {
    "duration": 7,
    "start_time": "2023-12-28T14:58:05.273Z"
   },
   {
    "duration": 265,
    "start_time": "2023-12-28T14:58:05.281Z"
   },
   {
    "duration": 230,
    "start_time": "2023-12-28T14:58:05.548Z"
   },
   {
    "duration": 35,
    "start_time": "2023-12-28T14:58:05.779Z"
   },
   {
    "duration": 16,
    "start_time": "2023-12-28T14:58:05.815Z"
   },
   {
    "duration": 18,
    "start_time": "2023-12-28T14:58:05.833Z"
   },
   {
    "duration": 104,
    "start_time": "2023-12-28T14:58:05.852Z"
   },
   {
    "duration": 20,
    "start_time": "2023-12-28T14:58:05.957Z"
   },
   {
    "duration": 2,
    "start_time": "2023-12-28T14:58:05.979Z"
   },
   {
    "duration": 182,
    "start_time": "2023-12-28T14:58:05.998Z"
   },
   {
    "duration": 159,
    "start_time": "2023-12-28T14:58:06.181Z"
   },
   {
    "duration": 158,
    "start_time": "2023-12-28T14:58:06.342Z"
   },
   {
    "duration": 118,
    "start_time": "2023-12-28T14:58:06.501Z"
   },
   {
    "duration": 37,
    "start_time": "2023-12-28T14:58:06.620Z"
   },
   {
    "duration": 2,
    "start_time": "2023-12-28T14:58:06.658Z"
   },
   {
    "duration": 13,
    "start_time": "2023-12-28T14:58:06.661Z"
   },
   {
    "duration": 32,
    "start_time": "2023-12-28T14:58:06.675Z"
   },
   {
    "duration": 14,
    "start_time": "2023-12-28T14:58:06.709Z"
   },
   {
    "duration": 3,
    "start_time": "2023-12-28T14:58:06.724Z"
   },
   {
    "duration": 159,
    "start_time": "2023-12-28T14:58:06.728Z"
   },
   {
    "duration": 15,
    "start_time": "2023-12-28T14:58:06.889Z"
   },
   {
    "duration": 15,
    "start_time": "2023-12-28T14:58:06.906Z"
   },
   {
    "duration": 12,
    "start_time": "2023-12-28T14:58:06.922Z"
   },
   {
    "duration": 38,
    "start_time": "2023-12-28T14:58:06.935Z"
   },
   {
    "duration": 5,
    "start_time": "2023-12-28T14:58:06.974Z"
   },
   {
    "duration": 7,
    "start_time": "2023-12-28T14:58:06.980Z"
   },
   {
    "duration": 16,
    "start_time": "2023-12-28T14:58:06.988Z"
   },
   {
    "duration": 4,
    "start_time": "2023-12-28T14:58:07.005Z"
   },
   {
    "duration": 6,
    "start_time": "2023-12-28T14:58:07.011Z"
   },
   {
    "duration": 13,
    "start_time": "2023-12-28T14:58:07.018Z"
   },
   {
    "duration": 5,
    "start_time": "2023-12-28T14:58:07.032Z"
   },
   {
    "duration": 22,
    "start_time": "2023-12-28T14:58:07.038Z"
   },
   {
    "duration": 38,
    "start_time": "2023-12-28T14:58:07.061Z"
   },
   {
    "duration": 5,
    "start_time": "2023-12-28T15:19:10.588Z"
   },
   {
    "duration": 5,
    "start_time": "2023-12-28T15:21:16.510Z"
   },
   {
    "duration": 386,
    "start_time": "2023-12-28T16:05:08.823Z"
   },
   {
    "duration": 358,
    "start_time": "2023-12-28T16:05:09.211Z"
   },
   {
    "duration": 3,
    "start_time": "2023-12-28T16:05:09.573Z"
   },
   {
    "duration": 464,
    "start_time": "2023-12-28T16:05:09.578Z"
   },
   {
    "duration": 121,
    "start_time": "2023-12-28T16:05:10.044Z"
   },
   {
    "duration": 177,
    "start_time": "2023-12-28T16:05:10.167Z"
   },
   {
    "duration": 62,
    "start_time": "2023-12-28T16:05:10.346Z"
   },
   {
    "duration": 12,
    "start_time": "2023-12-28T16:05:10.409Z"
   },
   {
    "duration": 17,
    "start_time": "2023-12-28T16:05:10.423Z"
   },
   {
    "duration": 10,
    "start_time": "2023-12-28T16:05:10.442Z"
   },
   {
    "duration": 3,
    "start_time": "2023-12-28T16:05:10.453Z"
   },
   {
    "duration": 152,
    "start_time": "2023-12-28T16:05:10.457Z"
   },
   {
    "duration": 4,
    "start_time": "2023-12-28T16:05:10.611Z"
   },
   {
    "duration": 118,
    "start_time": "2023-12-28T16:05:10.616Z"
   },
   {
    "duration": 78,
    "start_time": "2023-12-28T16:05:10.736Z"
   },
   {
    "duration": 4,
    "start_time": "2023-12-28T16:05:10.815Z"
   },
   {
    "duration": 8,
    "start_time": "2023-12-28T16:05:10.820Z"
   },
   {
    "duration": 243,
    "start_time": "2023-12-28T16:05:10.829Z"
   },
   {
    "duration": 6,
    "start_time": "2023-12-28T16:05:11.074Z"
   },
   {
    "duration": 221,
    "start_time": "2023-12-28T16:05:11.082Z"
   },
   {
    "duration": 226,
    "start_time": "2023-12-28T16:05:11.305Z"
   },
   {
    "duration": 27,
    "start_time": "2023-12-28T16:05:11.532Z"
   },
   {
    "duration": 17,
    "start_time": "2023-12-28T16:05:11.561Z"
   },
   {
    "duration": 34,
    "start_time": "2023-12-28T16:05:11.579Z"
   },
   {
    "duration": 98,
    "start_time": "2023-12-28T16:05:11.615Z"
   },
   {
    "duration": 19,
    "start_time": "2023-12-28T16:05:11.715Z"
   },
   {
    "duration": 3,
    "start_time": "2023-12-28T16:05:11.735Z"
   },
   {
    "duration": 178,
    "start_time": "2023-12-28T16:05:11.739Z"
   },
   {
    "duration": 163,
    "start_time": "2023-12-28T16:05:11.918Z"
   },
   {
    "duration": 156,
    "start_time": "2023-12-28T16:05:12.083Z"
   },
   {
    "duration": 129,
    "start_time": "2023-12-28T16:05:12.240Z"
   },
   {
    "duration": 43,
    "start_time": "2023-12-28T16:05:12.371Z"
   },
   {
    "duration": 3,
    "start_time": "2023-12-28T16:05:12.416Z"
   },
   {
    "duration": 18,
    "start_time": "2023-12-28T16:05:12.420Z"
   },
   {
    "duration": 11,
    "start_time": "2023-12-28T16:05:12.439Z"
   },
   {
    "duration": 14,
    "start_time": "2023-12-28T16:05:12.451Z"
   },
   {
    "duration": 3,
    "start_time": "2023-12-28T16:05:12.466Z"
   },
   {
    "duration": 171,
    "start_time": "2023-12-28T16:05:12.470Z"
   },
   {
    "duration": 17,
    "start_time": "2023-12-28T16:05:12.643Z"
   },
   {
    "duration": 16,
    "start_time": "2023-12-28T16:05:12.665Z"
   },
   {
    "duration": 27,
    "start_time": "2023-12-28T16:05:12.682Z"
   },
   {
    "duration": 14,
    "start_time": "2023-12-28T16:05:12.710Z"
   },
   {
    "duration": 7,
    "start_time": "2023-12-28T16:05:12.725Z"
   },
   {
    "duration": 16,
    "start_time": "2023-12-28T16:05:12.733Z"
   },
   {
    "duration": 9,
    "start_time": "2023-12-28T16:05:12.750Z"
   },
   {
    "duration": 4,
    "start_time": "2023-12-28T16:05:12.760Z"
   },
   {
    "duration": 8,
    "start_time": "2023-12-28T16:05:12.766Z"
   },
   {
    "duration": 27,
    "start_time": "2023-12-28T16:05:12.776Z"
   },
   {
    "duration": 5,
    "start_time": "2023-12-28T16:05:12.804Z"
   },
   {
    "duration": 20,
    "start_time": "2023-12-28T16:05:12.810Z"
   },
   {
    "duration": 31,
    "start_time": "2023-12-28T16:05:12.831Z"
   },
   {
    "duration": 7,
    "start_time": "2023-12-28T17:15:58.502Z"
   },
   {
    "duration": 7,
    "start_time": "2023-12-28T17:16:40.616Z"
   },
   {
    "duration": 5,
    "start_time": "2023-12-28T17:17:15.542Z"
   },
   {
    "duration": 5,
    "start_time": "2023-12-28T17:17:21.435Z"
   },
   {
    "duration": 417,
    "start_time": "2023-12-28T17:48:53.950Z"
   },
   {
    "duration": 404,
    "start_time": "2023-12-28T17:48:54.368Z"
   },
   {
    "duration": 2,
    "start_time": "2023-12-28T17:48:54.774Z"
   },
   {
    "duration": 436,
    "start_time": "2023-12-28T17:48:54.778Z"
   },
   {
    "duration": 97,
    "start_time": "2023-12-28T17:48:55.216Z"
   },
   {
    "duration": 82,
    "start_time": "2023-12-28T17:48:55.315Z"
   },
   {
    "duration": 58,
    "start_time": "2023-12-28T17:48:55.398Z"
   },
   {
    "duration": 13,
    "start_time": "2023-12-28T17:48:55.457Z"
   },
   {
    "duration": 28,
    "start_time": "2023-12-28T17:48:55.471Z"
   },
   {
    "duration": 16,
    "start_time": "2023-12-28T17:48:55.501Z"
   },
   {
    "duration": 12,
    "start_time": "2023-12-28T17:48:55.518Z"
   },
   {
    "duration": 166,
    "start_time": "2023-12-28T17:48:55.532Z"
   },
   {
    "duration": 4,
    "start_time": "2023-12-28T17:48:55.700Z"
   },
   {
    "duration": 145,
    "start_time": "2023-12-28T17:48:55.705Z"
   },
   {
    "duration": 92,
    "start_time": "2023-12-28T17:48:55.852Z"
   },
   {
    "duration": 4,
    "start_time": "2023-12-28T17:48:55.945Z"
   },
   {
    "duration": 3,
    "start_time": "2023-12-28T17:48:55.966Z"
   },
   {
    "duration": 271,
    "start_time": "2023-12-28T17:48:55.970Z"
   },
   {
    "duration": 7,
    "start_time": "2023-12-28T17:48:56.243Z"
   },
   {
    "duration": 230,
    "start_time": "2023-12-28T17:48:56.251Z"
   },
   {
    "duration": 232,
    "start_time": "2023-12-28T17:48:56.483Z"
   },
   {
    "duration": 28,
    "start_time": "2023-12-28T17:48:56.717Z"
   },
   {
    "duration": 33,
    "start_time": "2023-12-28T17:48:56.747Z"
   },
   {
    "duration": 21,
    "start_time": "2023-12-28T17:48:56.781Z"
   },
   {
    "duration": 107,
    "start_time": "2023-12-28T17:48:56.804Z"
   },
   {
    "duration": 18,
    "start_time": "2023-12-28T17:48:56.913Z"
   },
   {
    "duration": 2,
    "start_time": "2023-12-28T17:48:56.933Z"
   },
   {
    "duration": 181,
    "start_time": "2023-12-28T17:48:56.940Z"
   },
   {
    "duration": 170,
    "start_time": "2023-12-28T17:48:57.122Z"
   },
   {
    "duration": 163,
    "start_time": "2023-12-28T17:48:57.294Z"
   },
   {
    "duration": 129,
    "start_time": "2023-12-28T17:48:57.459Z"
   },
   {
    "duration": 38,
    "start_time": "2023-12-28T17:48:57.589Z"
   },
   {
    "duration": 3,
    "start_time": "2023-12-28T17:48:57.628Z"
   },
   {
    "duration": 10,
    "start_time": "2023-12-28T17:48:57.633Z"
   },
   {
    "duration": 11,
    "start_time": "2023-12-28T17:48:57.665Z"
   },
   {
    "duration": 15,
    "start_time": "2023-12-28T17:48:57.677Z"
   },
   {
    "duration": 2,
    "start_time": "2023-12-28T17:48:57.694Z"
   },
   {
    "duration": 163,
    "start_time": "2023-12-28T17:48:57.698Z"
   },
   {
    "duration": 14,
    "start_time": "2023-12-28T17:48:57.865Z"
   },
   {
    "duration": 15,
    "start_time": "2023-12-28T17:48:57.880Z"
   },
   {
    "duration": 12,
    "start_time": "2023-12-28T17:48:57.896Z"
   },
   {
    "duration": 12,
    "start_time": "2023-12-28T17:48:57.909Z"
   },
   {
    "duration": 4,
    "start_time": "2023-12-28T17:48:57.923Z"
   },
   {
    "duration": 42,
    "start_time": "2023-12-28T17:48:57.929Z"
   },
   {
    "duration": 7,
    "start_time": "2023-12-28T17:48:57.973Z"
   },
   {
    "duration": 5,
    "start_time": "2023-12-28T17:48:57.981Z"
   },
   {
    "duration": 11,
    "start_time": "2023-12-28T17:48:57.987Z"
   },
   {
    "duration": 7,
    "start_time": "2023-12-28T17:48:58.000Z"
   },
   {
    "duration": 4,
    "start_time": "2023-12-28T17:48:58.009Z"
   },
   {
    "duration": 29,
    "start_time": "2023-12-28T17:48:58.015Z"
   },
   {
    "duration": 36,
    "start_time": "2023-12-28T17:48:58.046Z"
   },
   {
    "duration": 523,
    "start_time": "2023-12-28T19:22:33.934Z"
   },
   {
    "duration": 201,
    "start_time": "2023-12-28T19:22:34.458Z"
   },
   {
    "duration": 3,
    "start_time": "2023-12-28T19:22:34.660Z"
   },
   {
    "duration": 473,
    "start_time": "2023-12-28T19:22:34.664Z"
   },
   {
    "duration": 47,
    "start_time": "2023-12-28T19:22:35.139Z"
   },
   {
    "duration": 39,
    "start_time": "2023-12-28T19:22:35.188Z"
   },
   {
    "duration": 18,
    "start_time": "2023-12-28T19:22:35.228Z"
   },
   {
    "duration": 11,
    "start_time": "2023-12-28T19:22:35.248Z"
   },
   {
    "duration": 12,
    "start_time": "2023-12-28T19:22:35.261Z"
   },
   {
    "duration": 10,
    "start_time": "2023-12-28T19:22:35.274Z"
   },
   {
    "duration": 22,
    "start_time": "2023-12-28T19:22:35.285Z"
   },
   {
    "duration": 152,
    "start_time": "2023-12-28T19:22:35.310Z"
   },
   {
    "duration": 3,
    "start_time": "2023-12-28T19:22:35.464Z"
   },
   {
    "duration": 117,
    "start_time": "2023-12-28T19:22:35.470Z"
   },
   {
    "duration": 78,
    "start_time": "2023-12-28T19:22:35.588Z"
   },
   {
    "duration": 3,
    "start_time": "2023-12-28T19:22:35.667Z"
   },
   {
    "duration": 11,
    "start_time": "2023-12-28T19:22:35.672Z"
   },
   {
    "duration": 243,
    "start_time": "2023-12-28T19:22:35.684Z"
   },
   {
    "duration": 7,
    "start_time": "2023-12-28T19:22:35.929Z"
   },
   {
    "duration": 237,
    "start_time": "2023-12-28T19:22:35.937Z"
   },
   {
    "duration": 217,
    "start_time": "2023-12-28T19:22:36.176Z"
   },
   {
    "duration": 27,
    "start_time": "2023-12-28T19:22:36.399Z"
   },
   {
    "duration": 16,
    "start_time": "2023-12-28T19:22:36.427Z"
   },
   {
    "duration": 17,
    "start_time": "2023-12-28T19:22:36.444Z"
   },
   {
    "duration": 101,
    "start_time": "2023-12-28T19:22:36.462Z"
   },
   {
    "duration": 16,
    "start_time": "2023-12-28T19:22:36.564Z"
   },
   {
    "duration": 2,
    "start_time": "2023-12-28T19:22:36.582Z"
   },
   {
    "duration": 168,
    "start_time": "2023-12-28T19:22:36.585Z"
   },
   {
    "duration": 160,
    "start_time": "2023-12-28T19:22:36.754Z"
   },
   {
    "duration": 156,
    "start_time": "2023-12-28T19:22:36.915Z"
   },
   {
    "duration": 128,
    "start_time": "2023-12-28T19:22:37.072Z"
   },
   {
    "duration": 38,
    "start_time": "2023-12-28T19:22:37.201Z"
   },
   {
    "duration": 3,
    "start_time": "2023-12-28T19:22:37.240Z"
   },
   {
    "duration": 14,
    "start_time": "2023-12-28T19:22:37.244Z"
   },
   {
    "duration": 16,
    "start_time": "2023-12-28T19:22:37.259Z"
   },
   {
    "duration": 42,
    "start_time": "2023-12-28T19:22:37.276Z"
   },
   {
    "duration": 8,
    "start_time": "2023-12-28T19:22:37.319Z"
   },
   {
    "duration": 164,
    "start_time": "2023-12-28T19:22:37.329Z"
   },
   {
    "duration": 16,
    "start_time": "2023-12-28T19:22:37.495Z"
   },
   {
    "duration": 14,
    "start_time": "2023-12-28T19:22:37.512Z"
   },
   {
    "duration": 11,
    "start_time": "2023-12-28T19:22:37.529Z"
   },
   {
    "duration": 10,
    "start_time": "2023-12-28T19:22:37.541Z"
   },
   {
    "duration": 12,
    "start_time": "2023-12-28T19:22:37.553Z"
   },
   {
    "duration": 11,
    "start_time": "2023-12-28T19:22:37.566Z"
   },
   {
    "duration": 24,
    "start_time": "2023-12-28T19:22:37.578Z"
   },
   {
    "duration": 5,
    "start_time": "2023-12-28T19:22:37.603Z"
   },
   {
    "duration": 7,
    "start_time": "2023-12-28T19:22:37.610Z"
   },
   {
    "duration": 7,
    "start_time": "2023-12-28T19:22:37.618Z"
   },
   {
    "duration": 7,
    "start_time": "2023-12-28T19:22:37.627Z"
   },
   {
    "duration": 26,
    "start_time": "2023-12-28T19:22:37.635Z"
   },
   {
    "duration": 44,
    "start_time": "2023-12-28T19:22:37.662Z"
   }
  ],
  "kernelspec": {
   "display_name": "Python 3 (ipykernel)",
   "language": "python",
   "name": "python3"
  },
  "language_info": {
   "codemirror_mode": {
    "name": "ipython",
    "version": 3
   },
   "file_extension": ".py",
   "mimetype": "text/x-python",
   "name": "python",
   "nbconvert_exporter": "python",
   "pygments_lexer": "ipython3",
   "version": "3.11.5"
  },
  "toc": {
   "base_numbering": 1,
   "nav_menu": {},
   "number_sections": true,
   "sideBar": true,
   "skip_h1_title": true,
   "title_cell": "Table of Contents",
   "title_sidebar": "Contents",
   "toc_cell": false,
   "toc_position": {},
   "toc_section_display": true,
   "toc_window_display": false
  }
 },
 "nbformat": 4,
 "nbformat_minor": 5
}
