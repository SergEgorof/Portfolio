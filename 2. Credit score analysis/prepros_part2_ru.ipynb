{
 "cells": [
  {
   "cell_type": "markdown",
   "id": "386f2ae7",
   "metadata": {
    "deletable": false,
    "editable": false,
    "id": "386f2ae7"
   },
   "source": [
    "# Исследование надежности заемщиков\n"
   ]
  },
  {
   "cell_type": "markdown",
   "id": "afb4f6ab",
   "metadata": {},
   "source": [
    "<font color='Blue'><b>\n",
    "## Описание проекта\n",
    "Заказчик — кредитный отдел банка. Нужно разобраться, влияет ли семейное положение и количество детей клиента на факт погашения кредита в срок. Входные данные от банка — статистика о платёжеспособности клиентов.\n",
    "Результаты исследования будут учтены при построении модели кредитного скоринга — специальной системы, которая оценивает способность потенциального заёмщика вернуть кредит банку.\n",
    "### Описание данных\n",
    "1. children — количество детей в семье\n",
    "2. days_employed — общий трудовой стаж в днях\n",
    "3. dob_years — возраст клиента в годах\n",
    "4. education — уровень образования клиента\n",
    "5. education_id — идентификатор уровня образования\n",
    "6. family_status — семейное положение\n",
    "7. family_status_id — идентификатор семейного положения\n",
    "8. gender — пол клиента\n",
    "9. income_type — тип занятости\n",
    "10. debt — имел ли задолженность по возврату кредитов\n",
    "11. total_income — ежемесячный доход\n",
    "12. purpose — цель получения кредита\n",
    "### Порядок действий\n",
    "1. Проведем общий анализ поступивших данных.\n",
    "2. Проведем предобработку данных\n",
    "2.1 Удалим пропуски\n",
    "2.2 Обработаем аномальные значения\n",
    "2.3. Обработаем дубликаты\n",
    "2.4. Проведем категоризацию данных для последующего анализа.\n",
    "Вывод данных проведем 3мя разными способами. В цикле, с использованием сводной таблицы и с помощью группировки.     \n",
    "    \n",
    "</b></font><br>"
   ]
  },
  {
   "cell_type": "markdown",
   "id": "ffe86f65",
   "metadata": {
    "deletable": false,
    "editable": false,
    "id": "ffe86f65"
   },
   "source": [
    "Во второй части проекта вы выполните шаги 3 и 4. Их вручную проверит ревьюер.\n",
    "Чтобы вам не пришлось писать код заново для шагов 1 и 2, мы добавили авторские решения в ячейки с кодом. \n",
    "\n"
   ]
  },
  {
   "cell_type": "markdown",
   "id": "26613308",
   "metadata": {
    "deletable": false,
    "editable": false,
    "id": "26613308"
   },
   "source": [
    "## Откройте таблицу и изучите общую информацию о данных"
   ]
  },
  {
   "cell_type": "markdown",
   "id": "3c9f838e",
   "metadata": {
    "deletable": false,
    "editable": false,
    "id": "3c9f838e"
   },
   "source": [
    "**Задание 1. Импортируйте библиотеку pandas. Считайте данные из csv-файла в датафрейм и сохраните в переменную `data`. Путь к файлу:**\n",
    "\n",
    "`/datasets/data.csv`"
   ]
  },
  {
   "cell_type": "code",
   "execution_count": 1,
   "id": "77a68a90",
   "metadata": {
    "deletable": false,
    "id": "77a68a90"
   },
   "outputs": [],
   "source": [
    "import pandas as pd\n",
    "\n",
    "try:\n",
    "    data = pd.read_csv('/datasets/data.csv')\n",
    "except:\n",
    "    data = pd.read_csv('https://code.s3.yandex.net/datasets/data.csv')"
   ]
  },
  {
   "cell_type": "markdown",
   "id": "45365635",
   "metadata": {
    "deletable": false,
    "editable": false,
    "id": "45365635"
   },
   "source": [
    "**Задание 2. Выведите первые 20 строчек датафрейма `data` на экран.**"
   ]
  },
  {
   "cell_type": "code",
   "execution_count": 2,
   "id": "b0451a9a",
   "metadata": {
    "deletable": false,
    "id": "b0451a9a",
    "outputId": "1a8f3ef2-d323-4ec2-ddf7-89670b5944c4"
   },
   "outputs": [
    {
     "data": {
      "text/html": [
       "<div>\n",
       "<style scoped>\n",
       "    .dataframe tbody tr th:only-of-type {\n",
       "        vertical-align: middle;\n",
       "    }\n",
       "\n",
       "    .dataframe tbody tr th {\n",
       "        vertical-align: top;\n",
       "    }\n",
       "\n",
       "    .dataframe thead th {\n",
       "        text-align: right;\n",
       "    }\n",
       "</style>\n",
       "<table border=\"1\" class=\"dataframe\">\n",
       "  <thead>\n",
       "    <tr style=\"text-align: right;\">\n",
       "      <th></th>\n",
       "      <th>children</th>\n",
       "      <th>days_employed</th>\n",
       "      <th>dob_years</th>\n",
       "      <th>education</th>\n",
       "      <th>education_id</th>\n",
       "      <th>family_status</th>\n",
       "      <th>family_status_id</th>\n",
       "      <th>gender</th>\n",
       "      <th>income_type</th>\n",
       "      <th>debt</th>\n",
       "      <th>total_income</th>\n",
       "      <th>purpose</th>\n",
       "    </tr>\n",
       "  </thead>\n",
       "  <tbody>\n",
       "    <tr>\n",
       "      <th>0</th>\n",
       "      <td>1</td>\n",
       "      <td>-8437.673028</td>\n",
       "      <td>42</td>\n",
       "      <td>высшее</td>\n",
       "      <td>0</td>\n",
       "      <td>женат / замужем</td>\n",
       "      <td>0</td>\n",
       "      <td>F</td>\n",
       "      <td>сотрудник</td>\n",
       "      <td>0</td>\n",
       "      <td>253875.639453</td>\n",
       "      <td>покупка жилья</td>\n",
       "    </tr>\n",
       "    <tr>\n",
       "      <th>1</th>\n",
       "      <td>1</td>\n",
       "      <td>-4024.803754</td>\n",
       "      <td>36</td>\n",
       "      <td>среднее</td>\n",
       "      <td>1</td>\n",
       "      <td>женат / замужем</td>\n",
       "      <td>0</td>\n",
       "      <td>F</td>\n",
       "      <td>сотрудник</td>\n",
       "      <td>0</td>\n",
       "      <td>112080.014102</td>\n",
       "      <td>приобретение автомобиля</td>\n",
       "    </tr>\n",
       "    <tr>\n",
       "      <th>2</th>\n",
       "      <td>0</td>\n",
       "      <td>-5623.422610</td>\n",
       "      <td>33</td>\n",
       "      <td>Среднее</td>\n",
       "      <td>1</td>\n",
       "      <td>женат / замужем</td>\n",
       "      <td>0</td>\n",
       "      <td>M</td>\n",
       "      <td>сотрудник</td>\n",
       "      <td>0</td>\n",
       "      <td>145885.952297</td>\n",
       "      <td>покупка жилья</td>\n",
       "    </tr>\n",
       "    <tr>\n",
       "      <th>3</th>\n",
       "      <td>3</td>\n",
       "      <td>-4124.747207</td>\n",
       "      <td>32</td>\n",
       "      <td>среднее</td>\n",
       "      <td>1</td>\n",
       "      <td>женат / замужем</td>\n",
       "      <td>0</td>\n",
       "      <td>M</td>\n",
       "      <td>сотрудник</td>\n",
       "      <td>0</td>\n",
       "      <td>267628.550329</td>\n",
       "      <td>дополнительное образование</td>\n",
       "    </tr>\n",
       "    <tr>\n",
       "      <th>4</th>\n",
       "      <td>0</td>\n",
       "      <td>340266.072047</td>\n",
       "      <td>53</td>\n",
       "      <td>среднее</td>\n",
       "      <td>1</td>\n",
       "      <td>гражданский брак</td>\n",
       "      <td>1</td>\n",
       "      <td>F</td>\n",
       "      <td>пенсионер</td>\n",
       "      <td>0</td>\n",
       "      <td>158616.077870</td>\n",
       "      <td>сыграть свадьбу</td>\n",
       "    </tr>\n",
       "    <tr>\n",
       "      <th>5</th>\n",
       "      <td>0</td>\n",
       "      <td>-926.185831</td>\n",
       "      <td>27</td>\n",
       "      <td>высшее</td>\n",
       "      <td>0</td>\n",
       "      <td>гражданский брак</td>\n",
       "      <td>1</td>\n",
       "      <td>M</td>\n",
       "      <td>компаньон</td>\n",
       "      <td>0</td>\n",
       "      <td>255763.565419</td>\n",
       "      <td>покупка жилья</td>\n",
       "    </tr>\n",
       "    <tr>\n",
       "      <th>6</th>\n",
       "      <td>0</td>\n",
       "      <td>-2879.202052</td>\n",
       "      <td>43</td>\n",
       "      <td>высшее</td>\n",
       "      <td>0</td>\n",
       "      <td>женат / замужем</td>\n",
       "      <td>0</td>\n",
       "      <td>F</td>\n",
       "      <td>компаньон</td>\n",
       "      <td>0</td>\n",
       "      <td>240525.971920</td>\n",
       "      <td>операции с жильем</td>\n",
       "    </tr>\n",
       "    <tr>\n",
       "      <th>7</th>\n",
       "      <td>0</td>\n",
       "      <td>-152.779569</td>\n",
       "      <td>50</td>\n",
       "      <td>СРЕДНЕЕ</td>\n",
       "      <td>1</td>\n",
       "      <td>женат / замужем</td>\n",
       "      <td>0</td>\n",
       "      <td>M</td>\n",
       "      <td>сотрудник</td>\n",
       "      <td>0</td>\n",
       "      <td>135823.934197</td>\n",
       "      <td>образование</td>\n",
       "    </tr>\n",
       "    <tr>\n",
       "      <th>8</th>\n",
       "      <td>2</td>\n",
       "      <td>-6929.865299</td>\n",
       "      <td>35</td>\n",
       "      <td>ВЫСШЕЕ</td>\n",
       "      <td>0</td>\n",
       "      <td>гражданский брак</td>\n",
       "      <td>1</td>\n",
       "      <td>F</td>\n",
       "      <td>сотрудник</td>\n",
       "      <td>0</td>\n",
       "      <td>95856.832424</td>\n",
       "      <td>на проведение свадьбы</td>\n",
       "    </tr>\n",
       "    <tr>\n",
       "      <th>9</th>\n",
       "      <td>0</td>\n",
       "      <td>-2188.756445</td>\n",
       "      <td>41</td>\n",
       "      <td>среднее</td>\n",
       "      <td>1</td>\n",
       "      <td>женат / замужем</td>\n",
       "      <td>0</td>\n",
       "      <td>M</td>\n",
       "      <td>сотрудник</td>\n",
       "      <td>0</td>\n",
       "      <td>144425.938277</td>\n",
       "      <td>покупка жилья для семьи</td>\n",
       "    </tr>\n",
       "    <tr>\n",
       "      <th>10</th>\n",
       "      <td>2</td>\n",
       "      <td>-4171.483647</td>\n",
       "      <td>36</td>\n",
       "      <td>высшее</td>\n",
       "      <td>0</td>\n",
       "      <td>женат / замужем</td>\n",
       "      <td>0</td>\n",
       "      <td>M</td>\n",
       "      <td>компаньон</td>\n",
       "      <td>0</td>\n",
       "      <td>113943.491460</td>\n",
       "      <td>покупка недвижимости</td>\n",
       "    </tr>\n",
       "    <tr>\n",
       "      <th>11</th>\n",
       "      <td>0</td>\n",
       "      <td>-792.701887</td>\n",
       "      <td>40</td>\n",
       "      <td>среднее</td>\n",
       "      <td>1</td>\n",
       "      <td>женат / замужем</td>\n",
       "      <td>0</td>\n",
       "      <td>F</td>\n",
       "      <td>сотрудник</td>\n",
       "      <td>0</td>\n",
       "      <td>77069.234271</td>\n",
       "      <td>покупка коммерческой недвижимости</td>\n",
       "    </tr>\n",
       "    <tr>\n",
       "      <th>12</th>\n",
       "      <td>0</td>\n",
       "      <td>NaN</td>\n",
       "      <td>65</td>\n",
       "      <td>среднее</td>\n",
       "      <td>1</td>\n",
       "      <td>гражданский брак</td>\n",
       "      <td>1</td>\n",
       "      <td>M</td>\n",
       "      <td>пенсионер</td>\n",
       "      <td>0</td>\n",
       "      <td>NaN</td>\n",
       "      <td>сыграть свадьбу</td>\n",
       "    </tr>\n",
       "    <tr>\n",
       "      <th>13</th>\n",
       "      <td>0</td>\n",
       "      <td>-1846.641941</td>\n",
       "      <td>54</td>\n",
       "      <td>неоконченное высшее</td>\n",
       "      <td>2</td>\n",
       "      <td>женат / замужем</td>\n",
       "      <td>0</td>\n",
       "      <td>F</td>\n",
       "      <td>сотрудник</td>\n",
       "      <td>0</td>\n",
       "      <td>130458.228857</td>\n",
       "      <td>приобретение автомобиля</td>\n",
       "    </tr>\n",
       "    <tr>\n",
       "      <th>14</th>\n",
       "      <td>0</td>\n",
       "      <td>-1844.956182</td>\n",
       "      <td>56</td>\n",
       "      <td>высшее</td>\n",
       "      <td>0</td>\n",
       "      <td>гражданский брак</td>\n",
       "      <td>1</td>\n",
       "      <td>F</td>\n",
       "      <td>компаньон</td>\n",
       "      <td>1</td>\n",
       "      <td>165127.911772</td>\n",
       "      <td>покупка жилой недвижимости</td>\n",
       "    </tr>\n",
       "    <tr>\n",
       "      <th>15</th>\n",
       "      <td>1</td>\n",
       "      <td>-972.364419</td>\n",
       "      <td>26</td>\n",
       "      <td>среднее</td>\n",
       "      <td>1</td>\n",
       "      <td>женат / замужем</td>\n",
       "      <td>0</td>\n",
       "      <td>F</td>\n",
       "      <td>сотрудник</td>\n",
       "      <td>0</td>\n",
       "      <td>116820.904450</td>\n",
       "      <td>строительство собственной недвижимости</td>\n",
       "    </tr>\n",
       "    <tr>\n",
       "      <th>16</th>\n",
       "      <td>0</td>\n",
       "      <td>-1719.934226</td>\n",
       "      <td>35</td>\n",
       "      <td>среднее</td>\n",
       "      <td>1</td>\n",
       "      <td>женат / замужем</td>\n",
       "      <td>0</td>\n",
       "      <td>F</td>\n",
       "      <td>сотрудник</td>\n",
       "      <td>0</td>\n",
       "      <td>289202.704229</td>\n",
       "      <td>недвижимость</td>\n",
       "    </tr>\n",
       "    <tr>\n",
       "      <th>17</th>\n",
       "      <td>0</td>\n",
       "      <td>-2369.999720</td>\n",
       "      <td>33</td>\n",
       "      <td>высшее</td>\n",
       "      <td>0</td>\n",
       "      <td>гражданский брак</td>\n",
       "      <td>1</td>\n",
       "      <td>M</td>\n",
       "      <td>сотрудник</td>\n",
       "      <td>0</td>\n",
       "      <td>90410.586745</td>\n",
       "      <td>строительство недвижимости</td>\n",
       "    </tr>\n",
       "    <tr>\n",
       "      <th>18</th>\n",
       "      <td>0</td>\n",
       "      <td>400281.136913</td>\n",
       "      <td>53</td>\n",
       "      <td>среднее</td>\n",
       "      <td>1</td>\n",
       "      <td>вдовец / вдова</td>\n",
       "      <td>2</td>\n",
       "      <td>F</td>\n",
       "      <td>пенсионер</td>\n",
       "      <td>0</td>\n",
       "      <td>56823.777243</td>\n",
       "      <td>на покупку подержанного автомобиля</td>\n",
       "    </tr>\n",
       "    <tr>\n",
       "      <th>19</th>\n",
       "      <td>0</td>\n",
       "      <td>-10038.818549</td>\n",
       "      <td>48</td>\n",
       "      <td>СРЕДНЕЕ</td>\n",
       "      <td>1</td>\n",
       "      <td>в разводе</td>\n",
       "      <td>3</td>\n",
       "      <td>F</td>\n",
       "      <td>сотрудник</td>\n",
       "      <td>0</td>\n",
       "      <td>242831.107982</td>\n",
       "      <td>на покупку своего автомобиля</td>\n",
       "    </tr>\n",
       "  </tbody>\n",
       "</table>\n",
       "</div>"
      ],
      "text/plain": [
       "    children  days_employed  dob_years            education  education_id  \\\n",
       "0          1   -8437.673028         42               высшее             0   \n",
       "1          1   -4024.803754         36              среднее             1   \n",
       "2          0   -5623.422610         33              Среднее             1   \n",
       "3          3   -4124.747207         32              среднее             1   \n",
       "4          0  340266.072047         53              среднее             1   \n",
       "5          0    -926.185831         27               высшее             0   \n",
       "6          0   -2879.202052         43               высшее             0   \n",
       "7          0    -152.779569         50              СРЕДНЕЕ             1   \n",
       "8          2   -6929.865299         35               ВЫСШЕЕ             0   \n",
       "9          0   -2188.756445         41              среднее             1   \n",
       "10         2   -4171.483647         36               высшее             0   \n",
       "11         0    -792.701887         40              среднее             1   \n",
       "12         0            NaN         65              среднее             1   \n",
       "13         0   -1846.641941         54  неоконченное высшее             2   \n",
       "14         0   -1844.956182         56               высшее             0   \n",
       "15         1    -972.364419         26              среднее             1   \n",
       "16         0   -1719.934226         35              среднее             1   \n",
       "17         0   -2369.999720         33               высшее             0   \n",
       "18         0  400281.136913         53              среднее             1   \n",
       "19         0  -10038.818549         48              СРЕДНЕЕ             1   \n",
       "\n",
       "       family_status  family_status_id gender income_type  debt  \\\n",
       "0    женат / замужем                 0      F   сотрудник     0   \n",
       "1    женат / замужем                 0      F   сотрудник     0   \n",
       "2    женат / замужем                 0      M   сотрудник     0   \n",
       "3    женат / замужем                 0      M   сотрудник     0   \n",
       "4   гражданский брак                 1      F   пенсионер     0   \n",
       "5   гражданский брак                 1      M   компаньон     0   \n",
       "6    женат / замужем                 0      F   компаньон     0   \n",
       "7    женат / замужем                 0      M   сотрудник     0   \n",
       "8   гражданский брак                 1      F   сотрудник     0   \n",
       "9    женат / замужем                 0      M   сотрудник     0   \n",
       "10   женат / замужем                 0      M   компаньон     0   \n",
       "11   женат / замужем                 0      F   сотрудник     0   \n",
       "12  гражданский брак                 1      M   пенсионер     0   \n",
       "13   женат / замужем                 0      F   сотрудник     0   \n",
       "14  гражданский брак                 1      F   компаньон     1   \n",
       "15   женат / замужем                 0      F   сотрудник     0   \n",
       "16   женат / замужем                 0      F   сотрудник     0   \n",
       "17  гражданский брак                 1      M   сотрудник     0   \n",
       "18    вдовец / вдова                 2      F   пенсионер     0   \n",
       "19         в разводе                 3      F   сотрудник     0   \n",
       "\n",
       "     total_income                                 purpose  \n",
       "0   253875.639453                           покупка жилья  \n",
       "1   112080.014102                 приобретение автомобиля  \n",
       "2   145885.952297                           покупка жилья  \n",
       "3   267628.550329              дополнительное образование  \n",
       "4   158616.077870                         сыграть свадьбу  \n",
       "5   255763.565419                           покупка жилья  \n",
       "6   240525.971920                       операции с жильем  \n",
       "7   135823.934197                             образование  \n",
       "8    95856.832424                   на проведение свадьбы  \n",
       "9   144425.938277                 покупка жилья для семьи  \n",
       "10  113943.491460                    покупка недвижимости  \n",
       "11   77069.234271       покупка коммерческой недвижимости  \n",
       "12            NaN                         сыграть свадьбу  \n",
       "13  130458.228857                 приобретение автомобиля  \n",
       "14  165127.911772              покупка жилой недвижимости  \n",
       "15  116820.904450  строительство собственной недвижимости  \n",
       "16  289202.704229                            недвижимость  \n",
       "17   90410.586745              строительство недвижимости  \n",
       "18   56823.777243      на покупку подержанного автомобиля  \n",
       "19  242831.107982            на покупку своего автомобиля  "
      ]
     },
     "execution_count": 2,
     "metadata": {},
     "output_type": "execute_result"
    }
   ],
   "source": [
    "data.head(20)"
   ]
  },
  {
   "cell_type": "markdown",
   "id": "0ed8f27f",
   "metadata": {
    "deletable": false,
    "editable": false,
    "id": "0ed8f27f"
   },
   "source": [
    "**Задание 3. Выведите основную информацию о датафрейме с помощью метода `info()`.**"
   ]
  },
  {
   "cell_type": "code",
   "execution_count": 3,
   "id": "ab3f863b",
   "metadata": {
    "deletable": false,
    "id": "ab3f863b",
    "outputId": "15376089-8dad-46c9-b520-c05248d43158"
   },
   "outputs": [
    {
     "name": "stdout",
     "output_type": "stream",
     "text": [
      "<class 'pandas.core.frame.DataFrame'>\n",
      "RangeIndex: 21525 entries, 0 to 21524\n",
      "Data columns (total 12 columns):\n",
      " #   Column            Non-Null Count  Dtype  \n",
      "---  ------            --------------  -----  \n",
      " 0   children          21525 non-null  int64  \n",
      " 1   days_employed     19351 non-null  float64\n",
      " 2   dob_years         21525 non-null  int64  \n",
      " 3   education         21525 non-null  object \n",
      " 4   education_id      21525 non-null  int64  \n",
      " 5   family_status     21525 non-null  object \n",
      " 6   family_status_id  21525 non-null  int64  \n",
      " 7   gender            21525 non-null  object \n",
      " 8   income_type       21525 non-null  object \n",
      " 9   debt              21525 non-null  int64  \n",
      " 10  total_income      19351 non-null  float64\n",
      " 11  purpose           21525 non-null  object \n",
      "dtypes: float64(2), int64(5), object(5)\n",
      "memory usage: 2.0+ MB\n"
     ]
    }
   ],
   "source": [
    "data.info()\n"
   ]
  },
  {
   "cell_type": "markdown",
   "id": "60e3e22d",
   "metadata": {
    "deletable": false,
    "editable": false,
    "id": "60e3e22d"
   },
   "source": [
    "## Предобработка данных"
   ]
  },
  {
   "cell_type": "markdown",
   "id": "03dc170c",
   "metadata": {
    "deletable": false,
    "editable": false,
    "id": "03dc170c"
   },
   "source": [
    "### Удаление пропусков"
   ]
  },
  {
   "cell_type": "markdown",
   "id": "a4f54eef",
   "metadata": {
    "deletable": false,
    "editable": false,
    "id": "a4f54eef"
   },
   "source": [
    "**Задание 4. Выведите количество пропущенных значений для каждого столбца. Используйте комбинацию двух методов.**"
   ]
  },
  {
   "cell_type": "code",
   "execution_count": 4,
   "id": "2dc372b2",
   "metadata": {
    "deletable": false,
    "id": "2dc372b2",
    "outputId": "81f4d817-781c-465c-ed15-91ce4446810d"
   },
   "outputs": [
    {
     "data": {
      "text/plain": [
       "children               0\n",
       "days_employed       2174\n",
       "dob_years              0\n",
       "education              0\n",
       "education_id           0\n",
       "family_status          0\n",
       "family_status_id       0\n",
       "gender                 0\n",
       "income_type            0\n",
       "debt                   0\n",
       "total_income        2174\n",
       "purpose                0\n",
       "dtype: int64"
      ]
     },
     "execution_count": 4,
     "metadata": {},
     "output_type": "execute_result"
    }
   ],
   "source": [
    "data.isna().sum()"
   ]
  },
  {
   "cell_type": "markdown",
   "id": "14f011b1",
   "metadata": {
    "deletable": false,
    "editable": false,
    "id": "14f011b1"
   },
   "source": [
    "**Задание 5. В двух столбцах есть пропущенные значения. Один из них — `days_employed`. Пропуски в этом столбце вы обработаете на следующем этапе. Другой столбец с пропущенными значениями — `total_income` — хранит данные о доходах. На сумму дохода сильнее всего влияет тип занятости, поэтому заполнить пропуски в этом столбце нужно медианным значением по каждому типу из столбца `income_type`. Например, у человека с типом занятости `сотрудник` пропуск в столбце `total_income` должен быть заполнен медианным доходом среди всех записей с тем же типом.**"
   ]
  },
  {
   "cell_type": "code",
   "execution_count": 5,
   "id": "bdabfb6e",
   "metadata": {
    "deletable": false,
    "id": "bdabfb6e"
   },
   "outputs": [],
   "source": [
    "for t in data['income_type'].unique():\n",
    "    data.loc[(data['income_type'] == t) & (data['total_income'].isna()), 'total_income'] = \\\n",
    "    data.loc[(data['income_type'] == t), 'total_income'].median()"
   ]
  },
  {
   "cell_type": "markdown",
   "id": "5be34059",
   "metadata": {
    "deletable": false,
    "editable": false,
    "id": "5be34059"
   },
   "source": [
    "### Обработка аномальных значений"
   ]
  },
  {
   "cell_type": "markdown",
   "id": "a87606cb",
   "metadata": {
    "deletable": false,
    "editable": false,
    "id": "a87606cb"
   },
   "source": [
    "**Задание 6. В данных могут встречаться артефакты (аномалии) — значения, которые не отражают действительность и появились по какой-то ошибке. таким артефактом будет отрицательное количество дней трудового стажа в столбце `days_employed`. Для реальных данных это нормально. Обработайте значения в этом столбце: замените все отрицательные значения положительными с помощью метода `abs()`.**"
   ]
  },
  {
   "cell_type": "code",
   "execution_count": 6,
   "id": "020c46cc",
   "metadata": {
    "deletable": false,
    "id": "020c46cc"
   },
   "outputs": [],
   "source": [
    "data['days_employed'] = data['days_employed'].abs()"
   ]
  },
  {
   "cell_type": "markdown",
   "id": "45538a3a",
   "metadata": {
    "deletable": false,
    "editable": false,
    "id": "45538a3a"
   },
   "source": [
    "**Задание 7. Для каждого типа занятости выведите медианное значение трудового стажа `days_employed` в днях.**"
   ]
  },
  {
   "cell_type": "code",
   "execution_count": 7,
   "id": "cd3e6328",
   "metadata": {
    "deletable": false,
    "id": "cd3e6328",
    "outputId": "801ef80e-522b-4668-f34e-565af7432bcf"
   },
   "outputs": [
    {
     "data": {
      "text/plain": [
       "income_type\n",
       "безработный        366413.652744\n",
       "в декрете            3296.759962\n",
       "госслужащий          2689.368353\n",
       "компаньон            1547.382223\n",
       "пенсионер          365213.306266\n",
       "предприниматель       520.848083\n",
       "сотрудник            1574.202821\n",
       "студент               578.751554\n",
       "Name: days_employed, dtype: float64"
      ]
     },
     "execution_count": 7,
     "metadata": {},
     "output_type": "execute_result"
    }
   ],
   "source": [
    "data.groupby('income_type')['days_employed'].agg('median')"
   ]
  },
  {
   "cell_type": "markdown",
   "id": "90c5f058",
   "metadata": {
    "deletable": false,
    "editable": false,
    "id": "90c5f058"
   },
   "source": [
    "У двух типов (безработные и пенсионеры) получатся аномально большие значения. Исправить такие значения сложно, поэтому оставьте их как есть."
   ]
  },
  {
   "cell_type": "markdown",
   "id": "9652e50d",
   "metadata": {
    "deletable": false,
    "editable": false,
    "id": "9652e50d"
   },
   "source": [
    "**Задание 8. Выведите перечень уникальных значений столбца `children`.**"
   ]
  },
  {
   "cell_type": "code",
   "execution_count": 8,
   "id": "dbb37b8e",
   "metadata": {
    "deletable": false,
    "id": "dbb37b8e",
    "outputId": "6975b15c-7f95-4697-d16d-a0c79b657b03"
   },
   "outputs": [
    {
     "data": {
      "text/plain": [
       "array([ 1,  0,  3,  2, -1,  4, 20,  5])"
      ]
     },
     "execution_count": 8,
     "metadata": {},
     "output_type": "execute_result"
    }
   ],
   "source": [
    "data['children'].unique()"
   ]
  },
  {
   "cell_type": "markdown",
   "id": "2b8b0715",
   "metadata": {
    "deletable": false,
    "editable": false,
    "id": "2b8b0715"
   },
   "source": [
    "**Задание 9. В столбце `children` есть два аномальных значения. Удалите строки, в которых встречаются такие аномальные значения из датафрейма `data`.**"
   ]
  },
  {
   "cell_type": "code",
   "execution_count": 9,
   "id": "20009df8",
   "metadata": {
    "deletable": false,
    "id": "20009df8"
   },
   "outputs": [],
   "source": [
    "data = data[(data['children'] != -1) & (data['children'] != 20)]"
   ]
  },
  {
   "cell_type": "markdown",
   "id": "8c6ac9f1",
   "metadata": {
    "deletable": false,
    "editable": false,
    "id": "8c6ac9f1"
   },
   "source": [
    "**Задание 10. Ещё раз выведите перечень уникальных значений столбца `children`, чтобы убедиться, что артефакты удалены.**"
   ]
  },
  {
   "cell_type": "code",
   "execution_count": 10,
   "id": "07337b81",
   "metadata": {
    "deletable": false,
    "id": "07337b81",
    "outputId": "b2097101-d49d-44d9-901b-32a65c9463d1"
   },
   "outputs": [
    {
     "data": {
      "text/plain": [
       "array([1, 0, 3, 2, 4, 5])"
      ]
     },
     "execution_count": 10,
     "metadata": {},
     "output_type": "execute_result"
    }
   ],
   "source": [
    "data['children'].unique()"
   ]
  },
  {
   "cell_type": "markdown",
   "id": "ee3f52d4",
   "metadata": {
    "deletable": false,
    "editable": false,
    "id": "ee3f52d4"
   },
   "source": [
    "### Удаление пропусков (продолжение)"
   ]
  },
  {
   "cell_type": "markdown",
   "id": "a700b0e4",
   "metadata": {
    "deletable": false,
    "editable": false,
    "id": "a700b0e4"
   },
   "source": [
    "**Задание 11. Заполните пропуски в столбце `days_employed` медианными значениями по каждого типа занятости `income_type`.**"
   ]
  },
  {
   "cell_type": "code",
   "execution_count": 11,
   "id": "61946b83",
   "metadata": {
    "deletable": false,
    "id": "61946b83"
   },
   "outputs": [],
   "source": [
    "for t in data['income_type'].unique():\n",
    "    data.loc[(data['income_type'] == t) & (data['days_employed'].isna()), 'days_employed'] = \\\n",
    "    data.loc[(data['income_type'] == t), 'days_employed'].median()"
   ]
  },
  {
   "cell_type": "markdown",
   "id": "550dcd9b",
   "metadata": {
    "deletable": false,
    "editable": false,
    "id": "550dcd9b"
   },
   "source": [
    "**Задание 12. Убедитесь, что все пропуски заполнены. Проверьте себя и ещё раз выведите количество пропущенных значений для каждого столбца с помощью двух методов.**"
   ]
  },
  {
   "cell_type": "code",
   "execution_count": 12,
   "id": "937c7014",
   "metadata": {
    "deletable": false,
    "id": "937c7014",
    "outputId": "8da1e4e1-358e-4e87-98c9-f261bce0a7b2"
   },
   "outputs": [
    {
     "data": {
      "text/plain": [
       "children            0\n",
       "days_employed       0\n",
       "dob_years           0\n",
       "education           0\n",
       "education_id        0\n",
       "family_status       0\n",
       "family_status_id    0\n",
       "gender              0\n",
       "income_type         0\n",
       "debt                0\n",
       "total_income        0\n",
       "purpose             0\n",
       "dtype: int64"
      ]
     },
     "execution_count": 12,
     "metadata": {},
     "output_type": "execute_result"
    }
   ],
   "source": [
    "data.isna().sum()"
   ]
  },
  {
   "cell_type": "markdown",
   "id": "d522e295",
   "metadata": {
    "deletable": false,
    "editable": false,
    "id": "d522e295"
   },
   "source": [
    "### Изменение типов данных"
   ]
  },
  {
   "cell_type": "markdown",
   "id": "c229c581",
   "metadata": {
    "deletable": false,
    "editable": false,
    "id": "c229c581"
   },
   "source": [
    "**Задание 13. Замените вещественный тип данных в столбце `total_income` на целочисленный с помощью метода `astype()`.**"
   ]
  },
  {
   "cell_type": "code",
   "execution_count": 13,
   "id": "31036462",
   "metadata": {
    "deletable": false,
    "id": "31036462"
   },
   "outputs": [],
   "source": [
    "data['total_income'] = data['total_income'].astype(int)"
   ]
  },
  {
   "cell_type": "markdown",
   "id": "b8e3d1d9",
   "metadata": {
    "deletable": false,
    "editable": false,
    "id": "b8e3d1d9"
   },
   "source": [
    "### Обработка дубликатов"
   ]
  },
  {
   "cell_type": "markdown",
   "id": "9be53c49",
   "metadata": {
    "deletable": false,
    "editable": false,
    "id": "9be53c49"
   },
   "source": [
    "**Задание 14. Обработайте неявные дубликаты в столбце `education`. В этом столбце есть одни и те же значения, но записанные по-разному: с использованием заглавных и строчных букв. Приведите их к нижнему регистру.**"
   ]
  },
  {
   "cell_type": "code",
   "execution_count": 14,
   "id": "d89e73e1",
   "metadata": {
    "deletable": false,
    "id": "d89e73e1"
   },
   "outputs": [],
   "source": [
    "data['education'] = data['education'].str.lower()"
   ]
  },
  {
   "cell_type": "markdown",
   "id": "01d4500e",
   "metadata": {
    "deletable": false,
    "editable": false,
    "id": "01d4500e"
   },
   "source": [
    "**Задание 15. Выведите на экран количество строк-дубликатов в данных. Если такие строки присутствуют, удалите их.**"
   ]
  },
  {
   "cell_type": "code",
   "execution_count": 15,
   "id": "e10efb23",
   "metadata": {
    "deletable": false,
    "id": "e10efb23",
    "outputId": "9684deba-1934-42d1-99e1-cda61740f822"
   },
   "outputs": [
    {
     "data": {
      "text/plain": [
       "71"
      ]
     },
     "execution_count": 15,
     "metadata": {},
     "output_type": "execute_result"
    }
   ],
   "source": [
    "data.duplicated().sum()"
   ]
  },
  {
   "cell_type": "code",
   "execution_count": 16,
   "id": "df853f20",
   "metadata": {
    "deletable": false,
    "id": "df853f20"
   },
   "outputs": [],
   "source": [
    "data = data.drop_duplicates()"
   ]
  },
  {
   "cell_type": "markdown",
   "id": "627be38f",
   "metadata": {
    "deletable": false,
    "editable": false,
    "id": "627be38f"
   },
   "source": [
    "### Категоризация данных"
   ]
  },
  {
   "cell_type": "markdown",
   "id": "4684c3e0",
   "metadata": {
    "deletable": false,
    "editable": false,
    "id": "4684c3e0"
   },
   "source": [
    "**Задание 16. На основании диапазонов, указанных ниже, создайте в датафрейме `data` столбец `total_income_category` с категориями:**\n",
    "\n",
    "- 0–30000 — `'E'`;\n",
    "- 30001–50000 — `'D'`;\n",
    "- 50001–200000 — `'C'`;\n",
    "- 200001–1000000 — `'B'`;\n",
    "- 1000001 и выше — `'A'`.\n",
    "\n",
    "\n",
    "**Например, кредитополучателю с доходом 25000 нужно назначить категорию `'E'`, а клиенту, получающему 235000, — `'B'`. Используйте собственную функцию с именем `categorize_income()` и метод `apply()`.**"
   ]
  },
  {
   "cell_type": "code",
   "execution_count": 17,
   "id": "78965238",
   "metadata": {
    "deletable": false,
    "id": "78965238"
   },
   "outputs": [],
   "source": [
    "def categorize_income2(income):\n",
    "    try:\n",
    "        if 0 <= income <= 70000:\n",
    "            return 'E'\n",
    "        elif 70001 <= income <= 100000:\n",
    "            return 'D'\n",
    "        elif 100001 <= income <= 150000:\n",
    "            return 'C'\n",
    "        elif 150001 <= income <= 400000:\n",
    "            return 'B'\n",
    "        elif income >= 400001:\n",
    "            return 'A'\n",
    "    except:\n",
    "        pass\n",
    "def categorize_income(income):\n",
    "    try:\n",
    "        if 0 <= income <= 30000:\n",
    "            return 'E'\n",
    "        elif 30001 <= income <= 50000:\n",
    "            return 'D'\n",
    "        elif 50001 <= income <= 200000:\n",
    "            return 'C'\n",
    "        elif 200001 <= income <= 1000000:\n",
    "            return 'B'\n",
    "        elif income >= 1000001:\n",
    "            return 'A'\n",
    "    except:\n",
    "        pass\n",
    "    "
   ]
  },
  {
   "cell_type": "code",
   "execution_count": 18,
   "id": "0980ada1",
   "metadata": {
    "deletable": false,
    "id": "0980ada1"
   },
   "outputs": [],
   "source": [
    "data['total_income_category'] = data['total_income'].apply(categorize_income)\n",
    "data['total_income_category2'] = data['total_income'].apply(categorize_income2)"
   ]
  },
  {
   "cell_type": "markdown",
   "id": "9917bba0",
   "metadata": {
    "deletable": false,
    "editable": false,
    "id": "9917bba0"
   },
   "source": [
    "**Задание 17. Выведите на экран перечень уникальных целей взятия кредита из столбца `purpose`.**"
   ]
  },
  {
   "cell_type": "code",
   "execution_count": 19,
   "id": "ee07b65e",
   "metadata": {
    "deletable": false,
    "id": "ee07b65e",
    "outputId": "673c12d9-7d7e-4ae0-9812-c622c89dd244"
   },
   "outputs": [
    {
     "data": {
      "text/plain": [
       "array(['покупка жилья', 'приобретение автомобиля',\n",
       "       'дополнительное образование', 'сыграть свадьбу',\n",
       "       'операции с жильем', 'образование', 'на проведение свадьбы',\n",
       "       'покупка жилья для семьи', 'покупка недвижимости',\n",
       "       'покупка коммерческой недвижимости', 'покупка жилой недвижимости',\n",
       "       'строительство собственной недвижимости', 'недвижимость',\n",
       "       'строительство недвижимости', 'на покупку подержанного автомобиля',\n",
       "       'на покупку своего автомобиля',\n",
       "       'операции с коммерческой недвижимостью',\n",
       "       'строительство жилой недвижимости', 'жилье',\n",
       "       'операции со своей недвижимостью', 'автомобили',\n",
       "       'заняться образованием', 'сделка с подержанным автомобилем',\n",
       "       'получение образования', 'автомобиль', 'свадьба',\n",
       "       'получение дополнительного образования', 'покупка своего жилья',\n",
       "       'операции с недвижимостью', 'получение высшего образования',\n",
       "       'свой автомобиль', 'сделка с автомобилем',\n",
       "       'профильное образование', 'высшее образование',\n",
       "       'покупка жилья для сдачи', 'на покупку автомобиля', 'ремонт жилью',\n",
       "       'заняться высшим образованием'], dtype=object)"
      ]
     },
     "execution_count": 19,
     "metadata": {},
     "output_type": "execute_result"
    }
   ],
   "source": [
    "data['purpose'].unique()"
   ]
  },
  {
   "cell_type": "markdown",
   "id": "52b79d56",
   "metadata": {
    "deletable": false,
    "editable": false,
    "id": "52b79d56"
   },
   "source": [
    "**Задание 18. Создайте функцию, которая на основании данных из столбца `purpose` сформирует новый столбец `purpose_category`, в который войдут следующие категории:**\n",
    "\n",
    "- `'операции с автомобилем'`,\n",
    "- `'операции с недвижимостью'`,\n",
    "- `'проведение свадьбы'`,\n",
    "- `'получение образования'`.\n",
    "\n",
    "**Например, если в столбце `purpose` находится подстрока `'на покупку автомобиля'`, то в столбце `purpose_category` должна появиться строка `'операции с автомобилем'`.**\n",
    "\n",
    "**Используйте собственную функцию с именем `categorize_purpose()` и метод `apply()`. Изучите данные в столбце `purpose` и определите, какие подстроки помогут вам правильно определить категорию.**"
   ]
  },
  {
   "cell_type": "code",
   "execution_count": 20,
   "id": "be41da5d",
   "metadata": {
    "deletable": false,
    "id": "be41da5d"
   },
   "outputs": [],
   "source": [
    "def categorize_purpose(row):\n",
    "    try:\n",
    "        if 'автом' in row:\n",
    "            return 'операции с автомобилем'\n",
    "        elif 'жил' in row or 'недвиж' in row:\n",
    "            return 'операции с недвижимостью'\n",
    "        elif 'свад' in row:\n",
    "            return 'проведение свадьбы'\n",
    "        elif 'образов' in row:\n",
    "            return 'получение образования'\n",
    "    except:\n",
    "        return 'нет категории'"
   ]
  },
  {
   "cell_type": "code",
   "execution_count": 21,
   "id": "94c4a19a",
   "metadata": {
    "deletable": false,
    "id": "94c4a19a"
   },
   "outputs": [],
   "source": [
    "data['purpose_category'] = data['purpose'].apply(categorize_purpose)"
   ]
  },
  {
   "cell_type": "markdown",
   "id": "3d596c34",
   "metadata": {
    "deletable": false,
    "editable": false,
    "id": "3d596c34"
   },
   "source": [
    "### Шаг 3. Исследуйте данные и ответьте на вопросы"
   ]
  },
  {
   "cell_type": "markdown",
   "id": "4f409793",
   "metadata": {},
   "source": [
    "Далее будет применяться практически одна и таже функция с простой логикой. Перебираем категории, которые сравниваем (количество детей, семейный статус, уровень дохода, цель кредита). И для каждого уникального элемента в категории считаем количество элементов и суммируем для них количество задержек возврата кредита. Далее считаем конверсию и выводим на печать. Первичный код лишен красоивого вывода. Это скорее технический вывод не для презентации. Но для понимания, что все сделано правильно. Далее код может быть дополнен украшательством."
   ]
  },
  {
   "cell_type": "markdown",
   "id": "648db036",
   "metadata": {
    "deletable": false,
    "editable": false,
    "id": "648db036"
   },
   "source": [
    "#### 3.1 Есть ли зависимость между количеством детей и возвратом кредита в срок?"
   ]
  },
  {
   "cell_type": "code",
   "execution_count": 22,
   "id": "7fcff25e",
   "metadata": {
    "deletable": false,
    "id": "7fcff25e"
   },
   "outputs": [
    {
     "name": "stdout",
     "output_type": "stream",
     "text": [
      "Детей - 1    Заемщиков 4808       Просрочек 444        Конверсия  9.234609%\n",
      "Детей - 0    Заемщиков 14091      Просрочек 1063       Конверсия  7.543822%\n",
      "Детей - 3    Заемщиков 330        Просрочек 27         Конверсия  8.181818%\n",
      "Детей - 2    Заемщиков 2052       Просрочек 194        Конверсия  9.454191%\n",
      "Детей - 4    Заемщиков 41         Просрочек 4          Конверсия  9.756098%\n",
      "Детей - 5    Заемщиков 9          Просрочек 0          Конверсия  0.000000%\n"
     ]
    }
   ],
   "source": [
    "# Ваш код будет здесь. Вы можете создавать новые ячейки.\n",
    "#data.head(10)\n",
    "for i in data['children'].unique():\n",
    "    count_adult = data[data['children']==i]['children'].count()\n",
    "    count_debt = data[data['children']==i]['debt'].sum()\n",
    "    conv = count_debt/count_adult\n",
    "    #print('Детей', i,'Заемщиков',count_adult, 'Просрочек', count_debt, 'Конверсия',  conv)\n",
    "    print(f'Детей - {i:1}    Заемщиков {count_adult:<10} Просрочек {count_debt:<10} Конверсия  {conv*100:0f}%')\n",
    "\n",
    "    \n"
   ]
  },
  {
   "cell_type": "markdown",
   "id": "2eb9088e",
   "metadata": {
    "deletable": false,
    "id": "2eb9088e"
   },
   "source": [
    "**Вывод:Конверсией для 5 детей пренебрегаем по причине малой выборки. Заемщики без детей более надежны. Данные по конверсии в зависимости от количества детей разнятся. Но малую конверсию для 3 детей можно обьяснить малой выборкой. В целом от количества детей практически не зависит** "
   ]
  },
  {
   "cell_type": "markdown",
   "id": "932f3071",
   "metadata": {},
   "source": [
    "<font color='DarkBlue'><b>Комментарий ревьюера 2</b></font><br>\n",
    "<font color='DarkMagenta'>👉 Можно сделать вот так, через функцию.</font>"
   ]
  },
  {
   "cell_type": "code",
   "execution_count": 30,
   "id": "ae24d7ea",
   "metadata": {},
   "outputs": [
    {
     "data": {
      "text/html": [
       "<style  type=\"text/css\" >\n",
       "#T_96a57_row0_col0,#T_96a57_row0_col1,#T_96a57_row4_col2{\n",
       "            background-color:  #08306b;\n",
       "            color:  #f1f1f1;\n",
       "        }#T_96a57_row0_col2{\n",
       "            background-color:  #1c6bb0;\n",
       "            color:  #f1f1f1;\n",
       "        }#T_96a57_row1_col0{\n",
       "            background-color:  #a9cfe5;\n",
       "            color:  #000000;\n",
       "        }#T_96a57_row1_col1{\n",
       "            background-color:  #8dc1dd;\n",
       "            color:  #000000;\n",
       "        }#T_96a57_row1_col2{\n",
       "            background-color:  #083d7f;\n",
       "            color:  #f1f1f1;\n",
       "        }#T_96a57_row2_col0{\n",
       "            background-color:  #dae8f6;\n",
       "            color:  #000000;\n",
       "        }#T_96a57_row2_col1{\n",
       "            background-color:  #d3e4f3;\n",
       "            color:  #000000;\n",
       "        }#T_96a57_row2_col2{\n",
       "            background-color:  #083776;\n",
       "            color:  #f1f1f1;\n",
       "        }#T_96a57_row3_col0{\n",
       "            background-color:  #f3f8fe;\n",
       "            color:  #000000;\n",
       "        }#T_96a57_row3_col1{\n",
       "            background-color:  #f2f8fd;\n",
       "            color:  #000000;\n",
       "        }#T_96a57_row3_col2{\n",
       "            background-color:  #0f5aa3;\n",
       "            color:  #f1f1f1;\n",
       "        }#T_96a57_row4_col0,#T_96a57_row4_col1,#T_96a57_row5_col0,#T_96a57_row5_col1,#T_96a57_row5_col2{\n",
       "            background-color:  #f7fbff;\n",
       "            color:  #000000;\n",
       "        }</style><table id=\"T_96a57_\" ><thead>    <tr>        <th class=\"blank level0\" ></th>        <th class=\"col_heading level0 col0\" >Всего кредитополучателей</th>        <th class=\"col_heading level0 col1\" >Всего должников</th>        <th class=\"col_heading level0 col2\" >Доля должников</th>    </tr>    <tr>        <th class=\"index_name level0\" >children</th>        <th class=\"blank\" ></th>        <th class=\"blank\" ></th>        <th class=\"blank\" ></th>    </tr></thead><tbody>\n",
       "                <tr>\n",
       "                        <th id=\"T_96a57_level0_row0\" class=\"row_heading level0 row0\" >0</th>\n",
       "                        <td id=\"T_96a57_row0_col0\" class=\"data row0 col0\" >14091.000</td>\n",
       "                        <td id=\"T_96a57_row0_col1\" class=\"data row0 col1\" >1063.000</td>\n",
       "                        <td id=\"T_96a57_row0_col2\" class=\"data row0 col2\" >0.075</td>\n",
       "            </tr>\n",
       "            <tr>\n",
       "                        <th id=\"T_96a57_level0_row1\" class=\"row_heading level0 row1\" >1</th>\n",
       "                        <td id=\"T_96a57_row1_col0\" class=\"data row1 col0\" >4808.000</td>\n",
       "                        <td id=\"T_96a57_row1_col1\" class=\"data row1 col1\" >444.000</td>\n",
       "                        <td id=\"T_96a57_row1_col2\" class=\"data row1 col2\" >0.092</td>\n",
       "            </tr>\n",
       "            <tr>\n",
       "                        <th id=\"T_96a57_level0_row2\" class=\"row_heading level0 row2\" >2</th>\n",
       "                        <td id=\"T_96a57_row2_col0\" class=\"data row2 col0\" >2052.000</td>\n",
       "                        <td id=\"T_96a57_row2_col1\" class=\"data row2 col1\" >194.000</td>\n",
       "                        <td id=\"T_96a57_row2_col2\" class=\"data row2 col2\" >0.095</td>\n",
       "            </tr>\n",
       "            <tr>\n",
       "                        <th id=\"T_96a57_level0_row3\" class=\"row_heading level0 row3\" >3</th>\n",
       "                        <td id=\"T_96a57_row3_col0\" class=\"data row3 col0\" >330.000</td>\n",
       "                        <td id=\"T_96a57_row3_col1\" class=\"data row3 col1\" >27.000</td>\n",
       "                        <td id=\"T_96a57_row3_col2\" class=\"data row3 col2\" >0.082</td>\n",
       "            </tr>\n",
       "            <tr>\n",
       "                        <th id=\"T_96a57_level0_row4\" class=\"row_heading level0 row4\" >4</th>\n",
       "                        <td id=\"T_96a57_row4_col0\" class=\"data row4 col0\" >41.000</td>\n",
       "                        <td id=\"T_96a57_row4_col1\" class=\"data row4 col1\" >4.000</td>\n",
       "                        <td id=\"T_96a57_row4_col2\" class=\"data row4 col2\" >0.098</td>\n",
       "            </tr>\n",
       "            <tr>\n",
       "                        <th id=\"T_96a57_level0_row5\" class=\"row_heading level0 row5\" >5</th>\n",
       "                        <td id=\"T_96a57_row5_col0\" class=\"data row5 col0\" >9.000</td>\n",
       "                        <td id=\"T_96a57_row5_col1\" class=\"data row5 col1\" >0.000</td>\n",
       "                        <td id=\"T_96a57_row5_col2\" class=\"data row5 col2\" >0.000</td>\n",
       "            </tr>\n",
       "    </tbody></table>"
      ],
      "text/plain": [
       "<pandas.io.formats.style.Styler at 0x7f603022ad90>"
      ]
     },
     "metadata": {},
     "output_type": "display_data"
    },
    {
     "data": {
      "text/html": [
       "<style  type=\"text/css\" >\n",
       "#T_4c06e_row0_col0,#T_4c06e_row0_col1,#T_4c06e_row1_col0,#T_4c06e_row1_col1,#T_4c06e_row5_col0,#T_4c06e_row5_col1,#T_4c06e_row5_col2,#T_4c06e_row7_col0,#T_4c06e_row7_col1,#T_4c06e_row7_col2{\n",
       "            background-color:  #f7fbff;\n",
       "            color:  #000000;\n",
       "        }#T_4c06e_row0_col2{\n",
       "            background-color:  #6aaed6;\n",
       "            color:  #000000;\n",
       "        }#T_4c06e_row1_col2,#T_4c06e_row6_col0,#T_4c06e_row6_col1{\n",
       "            background-color:  #08306b;\n",
       "            color:  #f1f1f1;\n",
       "        }#T_4c06e_row2_col0{\n",
       "            background-color:  #ddeaf7;\n",
       "            color:  #000000;\n",
       "        }#T_4c06e_row2_col1{\n",
       "            background-color:  #e7f1fa;\n",
       "            color:  #000000;\n",
       "        }#T_4c06e_row2_col2{\n",
       "            background-color:  #ebf3fb;\n",
       "            color:  #000000;\n",
       "        }#T_4c06e_row3_col0{\n",
       "            background-color:  #7cb7da;\n",
       "            color:  #000000;\n",
       "        }#T_4c06e_row3_col1{\n",
       "            background-color:  #a5cde3;\n",
       "            color:  #000000;\n",
       "        }#T_4c06e_row3_col2{\n",
       "            background-color:  #e9f2fa;\n",
       "            color:  #000000;\n",
       "        }#T_4c06e_row4_col0{\n",
       "            background-color:  #a8cee4;\n",
       "            color:  #000000;\n",
       "        }#T_4c06e_row4_col1{\n",
       "            background-color:  #cfe1f2;\n",
       "            color:  #000000;\n",
       "        }#T_4c06e_row4_col2{\n",
       "            background-color:  #ecf4fb;\n",
       "            color:  #000000;\n",
       "        }#T_4c06e_row6_col2{\n",
       "            background-color:  #e4eff9;\n",
       "            color:  #000000;\n",
       "        }</style><table id=\"T_4c06e_\" ><thead>    <tr>        <th class=\"blank level0\" ></th>        <th class=\"col_heading level0 col0\" >Всего кредитополучателей</th>        <th class=\"col_heading level0 col1\" >Всего должников</th>        <th class=\"col_heading level0 col2\" >Доля должников</th>    </tr>    <tr>        <th class=\"index_name level0\" >income_type</th>        <th class=\"blank\" ></th>        <th class=\"blank\" ></th>        <th class=\"blank\" ></th>    </tr></thead><tbody>\n",
       "                <tr>\n",
       "                        <th id=\"T_4c06e_level0_row0\" class=\"row_heading level0 row0\" >безработный</th>\n",
       "                        <td id=\"T_4c06e_row0_col0\" class=\"data row0 col0\" >2.000</td>\n",
       "                        <td id=\"T_4c06e_row0_col1\" class=\"data row0 col1\" >1.000</td>\n",
       "                        <td id=\"T_4c06e_row0_col2\" class=\"data row0 col2\" >0.500</td>\n",
       "            </tr>\n",
       "            <tr>\n",
       "                        <th id=\"T_4c06e_level0_row1\" class=\"row_heading level0 row1\" >в декрете</th>\n",
       "                        <td id=\"T_4c06e_row1_col0\" class=\"data row1 col0\" >1.000</td>\n",
       "                        <td id=\"T_4c06e_row1_col1\" class=\"data row1 col1\" >1.000</td>\n",
       "                        <td id=\"T_4c06e_row1_col2\" class=\"data row1 col2\" >1.000</td>\n",
       "            </tr>\n",
       "            <tr>\n",
       "                        <th id=\"T_4c06e_level0_row2\" class=\"row_heading level0 row2\" >госслужащий</th>\n",
       "                        <td id=\"T_4c06e_row2_col0\" class=\"data row2 col0\" >1451.000</td>\n",
       "                        <td id=\"T_4c06e_row2_col1\" class=\"data row2 col1\" >86.000</td>\n",
       "                        <td id=\"T_4c06e_row2_col2\" class=\"data row2 col2\" >0.059</td>\n",
       "            </tr>\n",
       "            <tr>\n",
       "                        <th id=\"T_4c06e_level0_row3\" class=\"row_heading level0 row3\" >компаньон</th>\n",
       "                        <td id=\"T_4c06e_row3_col0\" class=\"data row3 col0\" >5047.000</td>\n",
       "                        <td id=\"T_4c06e_row3_col1\" class=\"data row3 col1\" >374.000</td>\n",
       "                        <td id=\"T_4c06e_row3_col2\" class=\"data row3 col2\" >0.074</td>\n",
       "            </tr>\n",
       "            <tr>\n",
       "                        <th id=\"T_4c06e_level0_row4\" class=\"row_heading level0 row4\" >пенсионер</th>\n",
       "                        <td id=\"T_4c06e_row4_col0\" class=\"data row4 col0\" >3812.000</td>\n",
       "                        <td id=\"T_4c06e_row4_col1\" class=\"data row4 col1\" >216.000</td>\n",
       "                        <td id=\"T_4c06e_row4_col2\" class=\"data row4 col2\" >0.057</td>\n",
       "            </tr>\n",
       "            <tr>\n",
       "                        <th id=\"T_4c06e_level0_row5\" class=\"row_heading level0 row5\" >предприниматель</th>\n",
       "                        <td id=\"T_4c06e_row5_col0\" class=\"data row5 col0\" >2.000</td>\n",
       "                        <td id=\"T_4c06e_row5_col1\" class=\"data row5 col1\" >0.000</td>\n",
       "                        <td id=\"T_4c06e_row5_col2\" class=\"data row5 col2\" >0.000</td>\n",
       "            </tr>\n",
       "            <tr>\n",
       "                        <th id=\"T_4c06e_level0_row6\" class=\"row_heading level0 row6\" >сотрудник</th>\n",
       "                        <td id=\"T_4c06e_row6_col0\" class=\"data row6 col0\" >11015.000</td>\n",
       "                        <td id=\"T_4c06e_row6_col1\" class=\"data row6 col1\" >1054.000</td>\n",
       "                        <td id=\"T_4c06e_row6_col2\" class=\"data row6 col2\" >0.096</td>\n",
       "            </tr>\n",
       "            <tr>\n",
       "                        <th id=\"T_4c06e_level0_row7\" class=\"row_heading level0 row7\" >студент</th>\n",
       "                        <td id=\"T_4c06e_row7_col0\" class=\"data row7 col0\" >1.000</td>\n",
       "                        <td id=\"T_4c06e_row7_col1\" class=\"data row7 col1\" >0.000</td>\n",
       "                        <td id=\"T_4c06e_row7_col2\" class=\"data row7 col2\" >0.000</td>\n",
       "            </tr>\n",
       "    </tbody></table>"
      ],
      "text/plain": [
       "<pandas.io.formats.style.Styler at 0x7f6043da9940>"
      ]
     },
     "metadata": {},
     "output_type": "display_data"
    }
   ],
   "source": [
    "# Комментарий ревьюера 2\n",
    "# Создаем копию датасета, что бы не работать с исходным\n",
    "temp = data.copy()\n",
    "# Напишем функцию, так как все задачи аналогичны\n",
    "def que(category):\n",
    "    data_temp = temp.pivot_table(index=category, values='debt', aggfunc=['count', 'sum', 'mean'])\n",
    "    data_temp.columns = ['Всего кредитополучателей', 'Всего должников', 'Доля должников']\n",
    "    # Оформим таблицу цветным градиентом, но можно ее вывести и просто display(data_temp)\n",
    "    display(data_temp.style.format(\"{:.3f}\").background_gradient(cmap='Blues', axis=0))\n",
    "    \n",
    "que('children')\n",
    "que('income_type')"
   ]
  },
  {
   "cell_type": "markdown",
   "id": "74c9b3a7",
   "metadata": {
    "deletable": false,
    "editable": false,
    "id": "74c9b3a7"
   },
   "source": [
    "#### 3.2 Есть ли зависимость между семейным положением и возвратом кредита в срок?"
   ]
  },
  {
   "cell_type": "code",
   "execution_count": 24,
   "id": "8098ab3b",
   "metadata": {
    "deletable": false,
    "id": "8098ab3b"
   },
   "outputs": [
    {
     "name": "stdout",
     "output_type": "stream",
     "text": [
      "Семейное положение - женат / замужем          Заемщиков 12261    Просрочек 927   Конверсия  7.560558%\n",
      "Семейное положение - гражданский брак         Заемщиков 4134     Просрочек 385   Конверсия  9.313014%\n",
      "Семейное положение - вдовец / вдова           Заемщиков 951      Просрочек  63   Конверсия  6.624606%\n",
      "Семейное положение - в разводе                Заемщиков 1189     Просрочек  84   Конверсия  7.064760%\n",
      "Семейное положение - Не женат / не замужем    Заемщиков 2796     Просрочек 273   Конверсия  9.763948%\n"
     ]
    }
   ],
   "source": [
    "# Ваш код будет здесь. Вы можете создавать новые ячейки.\n",
    "for i in data['family_status'].unique():\n",
    "    count_status = data[data['family_status']==i]['family_status'].count()\n",
    "    count_debt = data[data['family_status']==i]['debt'].sum()\n",
    "    conv = count_debt/count_status\n",
    "    #print('Семейное положение', i,'Заемщиков',count_status, 'Просрочек', count_debt, 'Конверсия',  conv)\n",
    "    print(f'Семейное положение - {i:<25}Заемщиков {count_status:<8} Просрочек {count_debt:3}   Конверсия  {conv*100:0f}%')\n",
    "\n"
   ]
  },
  {
   "cell_type": "markdown",
   "id": "c389ca63",
   "metadata": {
    "deletable": false,
    "id": "c389ca63"
   },
   "source": [
    "**Вывод: Довольно странное распределение. По убыванию надежности: вдовцы, в разводе, женатые, гражданский брак, не женат.Обьяснение довольно простое: данные статусы коррелируются условно с возрастом заемщика. Так сказать - не женат, гражданский брак, женат, в разводе, вдовец - этапы жизненного пути :) В таком случае с возрастом растет насыщенность потребностями и при этом растут доходы. А чем заемщик моложе, тем ему больше надо и у него меньше доход ** "
   ]
  },
  {
   "cell_type": "markdown",
   "id": "9529de68",
   "metadata": {
    "deletable": false,
    "editable": false,
    "id": "9529de68"
   },
   "source": [
    "#### 3.3 Есть ли зависимость между уровнем дохода и возвратом кредита в срок?"
   ]
  },
  {
   "cell_type": "code",
   "execution_count": 25,
   "id": "8787f44a",
   "metadata": {
    "deletable": false,
    "id": "8787f44a"
   },
   "outputs": [
    {
     "name": "stdout",
     "output_type": "stream",
     "text": [
      "0  -  E  -  30000  -  D  -  50000  -  C  -  200000  -  B  -  1 000 000  - A  -       \n",
      "                       Всего заемщиков  Всего должников  Доля должников\n",
      "total_income_category                                                  \n",
      "D                                  349               21        0.060172\n",
      "B                                 5014              354        0.070602\n",
      "A                                   25                2        0.080000\n",
      "C                                15921             1353        0.084982\n",
      "E                                   22                2        0.090909\n",
      "\n",
      "0  -  E  -  70000  -  D  -  100000  -  C  -  150000  -  B  -  400 000  - A  -       \n",
      "                        Всего заемщиков  Всего должников  Доля должников\n",
      "total_income_category2                                                  \n",
      "A                                   528               31        0.058712\n",
      "E                                  1464              101        0.068989\n",
      "B                                  9249              728        0.078711\n",
      "D                                  2980              253        0.084899\n",
      "C                                  7110              619        0.087060\n"
     ]
    }
   ],
   "source": [
    " Конверсия  {conv*100:0f}%')\n",
    "print('0  -  E  -  30000  -  D  -  50000  -  C  -  200000  -  B  -  1 000 000  - A  -       ')\n",
    "data_pivot = data.pivot_table(index='total_income_category', values = 'debt', aggfunc=['count', 'sum', 'mean'])\n",
    "data_pivot.columns = ['Всего заемщиков', 'Всего должников','Доля должников']\n",
    "print (data_pivot.sort_values(by='Доля должников', ascending = True))   \n",
    "#print (data.groupby('purpose_category').agg({'debt':['count','sum', 'mean']}))\n",
    "print()\n",
    "print('0  -  E  -  70000  -  D  -  100000  -  C  -  150000  -  B  -  400 000  - A  -       ')\n",
    "data_pivot = data.pivot_table(index='total_income_category2', values = 'debt', aggfunc=['count', 'sum', 'mean'])\n",
    "data_pivot.columns = ['Всего заемщиков', 'Всего должников','Доля должников']\n",
    "print (data_pivot.sort_values(by='Доля должников', ascending = True))   \n",
    "#print (data.groupby('purpose_category').agg({'debt':['count','sum', 'mean']}))\n",
    "\n",
    "# Ваш код будет здесь. Вы можете создавать новые ячейки."
   ]
  },
  {
   "cell_type": "markdown",
   "id": "6dd14b57",
   "metadata": {
    "deletable": false,
    "id": "6dd14b57"
   },
   "source": [
    "**<font color='DarkBlue'><b>Вывод:Отсутствует какая-либо закономерность. Первоначальное предположение, что с ростом доходов уменьшается конверсия, не оправдалась. В тоже время такой неожиданный результат обьясняется несбалансорованностью выборок\n",
    "Я попробовал изменить критерии при категорозиции, использую следующую схему 0-70000-100000-150000-400000-. \n",
    "Это позволило значительно выровнять категории по кол-ву элементов в выборке. Хотя по прежнему помним, что\n",
    "заполнив пропуски медианой мы теряем элементы в крайних категориях - A и E. Тем не менее, они уже довольно репрезентативны, что позволяет сделать вывод: наиболее аккуратны в выплатах самая богатая и самая бедная категория. Что довольно объяснимо. Богатые имеют большой запас прочности по выплатам. А бедные вынуждены жить в условиях жесткого бюджетирования. Они не в состоянии купить даже предметы первой необходимости, не прибегая к кредитованию. В итоге у них преобладает потребительское кредитование на небольшие покупки. Которые закрываются за короткий период. Низкий доход не позволяет им кредитоваться на значимые покупки с длительным сроком кредитования</b></font><br>** "
   ]
  },
  {
   "cell_type": "code",
   "execution_count": 26,
   "id": "91c6df1d",
   "metadata": {},
   "outputs": [
    {
     "data": {
      "text/html": [
       "<style  type=\"text/css\" >\n",
       "#T_f55ed_row0_col0{\n",
       "            background-color:  #69add5;\n",
       "            color:  #000000;\n",
       "        }#T_f55ed_row0_col1{\n",
       "            background-color:  #5da5d1;\n",
       "            color:  #000000;\n",
       "        }#T_f55ed_row0_col2{\n",
       "            background-color:  #58a1cf;\n",
       "            color:  #000000;\n",
       "        }#T_f55ed_row1_col0,#T_f55ed_row1_col1,#T_f55ed_row1_col2{\n",
       "            background-color:  #08306b;\n",
       "            color:  #f1f1f1;\n",
       "        }#T_f55ed_row2_col0,#T_f55ed_row2_col1,#T_f55ed_row2_col2{\n",
       "            background-color:  #f7fbff;\n",
       "            color:  #000000;\n",
       "        }</style><table id=\"T_f55ed_\" ><thead>    <tr>        <th class=\"blank level0\" ></th>        <th class=\"col_heading level0 col0\" >Всего кредитополучателей</th>        <th class=\"col_heading level0 col1\" >Всего должников</th>        <th class=\"col_heading level0 col2\" >Доля должников</th>    </tr>    <tr>        <th class=\"index_name level0\" >new_category</th>        <th class=\"blank\" ></th>        <th class=\"blank\" ></th>        <th class=\"blank\" ></th>    </tr></thead><tbody>\n",
       "                <tr>\n",
       "                        <th id=\"T_f55ed_level0_row0\" class=\"row_heading level0 row0\" >(20666.0, 119218.0]</th>\n",
       "                        <td id=\"T_f55ed_row0_col0\" class=\"data row0 col0\" >7111.000</td>\n",
       "                        <td id=\"T_f55ed_row0_col1\" class=\"data row0 col1\" >580.000</td>\n",
       "                        <td id=\"T_f55ed_row0_col2\" class=\"data row0 col2\" >0.082</td>\n",
       "            </tr>\n",
       "            <tr>\n",
       "                        <th id=\"T_f55ed_level0_row1\" class=\"row_heading level0 row1\" >(119218.0, 172357.0]</th>\n",
       "                        <td id=\"T_f55ed_row1_col0\" class=\"data row1 col0\" >7238.000</td>\n",
       "                        <td id=\"T_f55ed_row1_col1\" class=\"data row1 col1\" >627.000</td>\n",
       "                        <td id=\"T_f55ed_row1_col2\" class=\"data row1 col2\" >0.087</td>\n",
       "            </tr>\n",
       "            <tr>\n",
       "                        <th id=\"T_f55ed_level0_row2\" class=\"row_heading level0 row2\" >(172357.0, 2265604.0]</th>\n",
       "                        <td id=\"T_f55ed_row2_col0\" class=\"data row2 col0\" >6982.000</td>\n",
       "                        <td id=\"T_f55ed_row2_col1\" class=\"data row2 col1\" >525.000</td>\n",
       "                        <td id=\"T_f55ed_row2_col2\" class=\"data row2 col2\" >0.075</td>\n",
       "            </tr>\n",
       "    </tbody></table>"
      ],
      "text/plain": [
       "<pandas.io.formats.style.Styler at 0x7f5fd92410a0>"
      ]
     },
     "metadata": {},
     "output_type": "display_data"
    },
    {
     "data": {
      "text/html": [
       "<style  type=\"text/css\" >\n",
       "#T_98867_row0_col0{\n",
       "            background-color:  #6aaed6;\n",
       "            color:  #000000;\n",
       "        }#T_98867_row0_col1{\n",
       "            background-color:  #7ab6d9;\n",
       "            color:  #000000;\n",
       "        }#T_98867_row0_col2{\n",
       "            background-color:  #65aad4;\n",
       "            color:  #000000;\n",
       "        }#T_98867_row1_col0,#T_98867_row1_col1,#T_98867_row1_col2{\n",
       "            background-color:  #08306b;\n",
       "            color:  #f1f1f1;\n",
       "        }#T_98867_row2_col0,#T_98867_row3_col1,#T_98867_row3_col2{\n",
       "            background-color:  #f7fbff;\n",
       "            color:  #000000;\n",
       "        }#T_98867_row2_col1{\n",
       "            background-color:  #3f8fc5;\n",
       "            color:  #000000;\n",
       "        }#T_98867_row2_col2{\n",
       "            background-color:  #125ea6;\n",
       "            color:  #f1f1f1;\n",
       "        }#T_98867_row3_col0{\n",
       "            background-color:  #6dafd7;\n",
       "            color:  #000000;\n",
       "        }</style><table id=\"T_98867_\" ><thead>    <tr>        <th class=\"blank level0\" ></th>        <th class=\"col_heading level0 col0\" >Всего кредитополучателей</th>        <th class=\"col_heading level0 col1\" >Всего должников</th>        <th class=\"col_heading level0 col2\" >Доля должников</th>    </tr>    <tr>        <th class=\"index_name level0\" >new_category</th>        <th class=\"blank\" ></th>        <th class=\"blank\" ></th>        <th class=\"blank\" ></th>    </tr></thead><tbody>\n",
       "                <tr>\n",
       "                        <th id=\"T_98867_level0_row0\" class=\"row_heading level0 row0\" >(20666.0, 107507.0]</th>\n",
       "                        <td id=\"T_98867_row0_col0\" class=\"data row0 col0\" >5333.000</td>\n",
       "                        <td id=\"T_98867_row0_col1\" class=\"data row0 col1\" >427.000</td>\n",
       "                        <td id=\"T_98867_row0_col2\" class=\"data row0 col2\" >0.080</td>\n",
       "            </tr>\n",
       "            <tr>\n",
       "                        <th id=\"T_98867_level0_row1\" class=\"row_heading level0 row1\" >(107507.0, 142594.0]</th>\n",
       "                        <td id=\"T_98867_row1_col0\" class=\"data row1 col0\" >5450.000</td>\n",
       "                        <td id=\"T_98867_row1_col1\" class=\"data row1 col1\" >480.000</td>\n",
       "                        <td id=\"T_98867_row1_col2\" class=\"data row1 col2\" >0.088</td>\n",
       "            </tr>\n",
       "            <tr>\n",
       "                        <th id=\"T_98867_level0_row2\" class=\"row_heading level0 row2\" >(142594.0, 195842.0]</th>\n",
       "                        <td id=\"T_98867_row2_col0\" class=\"data row2 col0\" >5216.000</td>\n",
       "                        <td id=\"T_98867_row2_col1\" class=\"data row2 col1\" >444.000</td>\n",
       "                        <td id=\"T_98867_row2_col2\" class=\"data row2 col2\" >0.085</td>\n",
       "            </tr>\n",
       "            <tr>\n",
       "                        <th id=\"T_98867_level0_row3\" class=\"row_heading level0 row3\" >(195842.0, 2265604.0]</th>\n",
       "                        <td id=\"T_98867_row3_col0\" class=\"data row3 col0\" >5332.000</td>\n",
       "                        <td id=\"T_98867_row3_col1\" class=\"data row3 col1\" >381.000</td>\n",
       "                        <td id=\"T_98867_row3_col2\" class=\"data row3 col2\" >0.071</td>\n",
       "            </tr>\n",
       "    </tbody></table>"
      ],
      "text/plain": [
       "<pandas.io.formats.style.Styler at 0x7f6043ddad90>"
      ]
     },
     "metadata": {},
     "output_type": "display_data"
    },
    {
     "data": {
      "text/html": [
       "<style  type=\"text/css\" >\n",
       "#T_9ba84_row0_col0,#T_9ba84_row2_col1,#T_9ba84_row2_col2{\n",
       "            background-color:  #08306b;\n",
       "            color:  #f1f1f1;\n",
       "        }#T_9ba84_row0_col1,#T_9ba84_row0_col2{\n",
       "            background-color:  #4896c8;\n",
       "            color:  #000000;\n",
       "        }#T_9ba84_row1_col0,#T_9ba84_row2_col0,#T_9ba84_row3_col0,#T_9ba84_row4_col0,#T_9ba84_row4_col1,#T_9ba84_row4_col2{\n",
       "            background-color:  #f7fbff;\n",
       "            color:  #000000;\n",
       "        }#T_9ba84_row1_col1,#T_9ba84_row1_col2,#T_9ba84_row3_col1,#T_9ba84_row3_col2{\n",
       "            background-color:  #1764ab;\n",
       "            color:  #f1f1f1;\n",
       "        }</style><table id=\"T_9ba84_\" ><thead>    <tr>        <th class=\"blank level0\" ></th>        <th class=\"col_heading level0 col0\" >Всего кредитополучателей</th>        <th class=\"col_heading level0 col1\" >Всего должников</th>        <th class=\"col_heading level0 col2\" >Доля должников</th>    </tr>    <tr>        <th class=\"index_name level0\" >new_category</th>        <th class=\"blank\" ></th>        <th class=\"blank\" ></th>        <th class=\"blank\" ></th>    </tr></thead><tbody>\n",
       "                <tr>\n",
       "                        <th id=\"T_9ba84_level0_row0\" class=\"row_heading level0 row0\" >(20666.0, 98514.0]</th>\n",
       "                        <td id=\"T_9ba84_row0_col0\" class=\"data row0 col0\" >4267.000</td>\n",
       "                        <td id=\"T_9ba84_row0_col1\" class=\"data row0 col1\" >344.000</td>\n",
       "                        <td id=\"T_9ba84_row0_col2\" class=\"data row0 col2\" >0.081</td>\n",
       "            </tr>\n",
       "            <tr>\n",
       "                        <th id=\"T_9ba84_level0_row1\" class=\"row_heading level0 row1\" >(98514.0, 132113.0]</th>\n",
       "                        <td id=\"T_9ba84_row1_col0\" class=\"data row1 col0\" >4266.000</td>\n",
       "                        <td id=\"T_9ba84_row1_col1\" class=\"data row1 col1\" >358.000</td>\n",
       "                        <td id=\"T_9ba84_row1_col2\" class=\"data row1 col2\" >0.084</td>\n",
       "            </tr>\n",
       "            <tr>\n",
       "                        <th id=\"T_9ba84_level0_row2\" class=\"row_heading level0 row2\" >(132113.0, 161380.0]</th>\n",
       "                        <td id=\"T_9ba84_row2_col0\" class=\"data row2 col0\" >4266.000</td>\n",
       "                        <td id=\"T_9ba84_row2_col1\" class=\"data row2 col1\" >373.000</td>\n",
       "                        <td id=\"T_9ba84_row2_col2\" class=\"data row2 col2\" >0.087</td>\n",
       "            </tr>\n",
       "            <tr>\n",
       "                        <th id=\"T_9ba84_level0_row3\" class=\"row_heading level0 row3\" >(161380.0, 214604.0]</th>\n",
       "                        <td id=\"T_9ba84_row3_col0\" class=\"data row3 col0\" >4266.000</td>\n",
       "                        <td id=\"T_9ba84_row3_col1\" class=\"data row3 col1\" >358.000</td>\n",
       "                        <td id=\"T_9ba84_row3_col2\" class=\"data row3 col2\" >0.084</td>\n",
       "            </tr>\n",
       "            <tr>\n",
       "                        <th id=\"T_9ba84_level0_row4\" class=\"row_heading level0 row4\" >(214604.0, 2265604.0]</th>\n",
       "                        <td id=\"T_9ba84_row4_col0\" class=\"data row4 col0\" >4266.000</td>\n",
       "                        <td id=\"T_9ba84_row4_col1\" class=\"data row4 col1\" >299.000</td>\n",
       "                        <td id=\"T_9ba84_row4_col2\" class=\"data row4 col2\" >0.070</td>\n",
       "            </tr>\n",
       "    </tbody></table>"
      ],
      "text/plain": [
       "<pandas.io.formats.style.Styler at 0x7f5fd9241f10>"
      ]
     },
     "metadata": {},
     "output_type": "display_data"
    },
    {
     "data": {
      "text/html": [
       "<style  type=\"text/css\" >\n",
       "#T_5cedc_row0_col0{\n",
       "            background-color:  #63a8d3;\n",
       "            color:  #000000;\n",
       "        }#T_5cedc_row0_col1{\n",
       "            background-color:  #7ab6d9;\n",
       "            color:  #000000;\n",
       "        }#T_5cedc_row0_col2{\n",
       "            background-color:  #60a7d2;\n",
       "            color:  #000000;\n",
       "        }#T_5cedc_row1_col0,#T_5cedc_row5_col0{\n",
       "            background-color:  #64a9d3;\n",
       "            color:  #000000;\n",
       "        }#T_5cedc_row1_col1{\n",
       "            background-color:  #4e9acb;\n",
       "            color:  #000000;\n",
       "        }#T_5cedc_row1_col2{\n",
       "            background-color:  #3383be;\n",
       "            color:  #000000;\n",
       "        }#T_5cedc_row2_col0,#T_5cedc_row2_col1,#T_5cedc_row2_col2{\n",
       "            background-color:  #08306b;\n",
       "            color:  #f1f1f1;\n",
       "        }#T_5cedc_row3_col0{\n",
       "            background-color:  #549fcd;\n",
       "            color:  #000000;\n",
       "        }#T_5cedc_row3_col1{\n",
       "            background-color:  #3a8ac2;\n",
       "            color:  #000000;\n",
       "        }#T_5cedc_row3_col2{\n",
       "            background-color:  #2373b6;\n",
       "            color:  #f1f1f1;\n",
       "        }#T_5cedc_row4_col0,#T_5cedc_row5_col1,#T_5cedc_row5_col2{\n",
       "            background-color:  #f7fbff;\n",
       "            color:  #000000;\n",
       "        }#T_5cedc_row4_col1{\n",
       "            background-color:  #a8cee4;\n",
       "            color:  #000000;\n",
       "        }#T_5cedc_row4_col2{\n",
       "            background-color:  #5aa2cf;\n",
       "            color:  #000000;\n",
       "        }</style><table id=\"T_5cedc_\" ><thead>    <tr>        <th class=\"blank level0\" ></th>        <th class=\"col_heading level0 col0\" >Всего кредитополучателей</th>        <th class=\"col_heading level0 col1\" >Всего должников</th>        <th class=\"col_heading level0 col2\" >Доля должников</th>    </tr>    <tr>        <th class=\"index_name level0\" >new_category</th>        <th class=\"blank\" ></th>        <th class=\"blank\" ></th>        <th class=\"blank\" ></th>    </tr></thead><tbody>\n",
       "                <tr>\n",
       "                        <th id=\"T_5cedc_level0_row0\" class=\"row_heading level0 row0\" >(20666.0, 92092.0]</th>\n",
       "                        <td id=\"T_5cedc_row0_col0\" class=\"data row0 col0\" >3556.000</td>\n",
       "                        <td id=\"T_5cedc_row0_col1\" class=\"data row0 col1\" >285.000</td>\n",
       "                        <td id=\"T_5cedc_row0_col2\" class=\"data row0 col2\" >0.080</td>\n",
       "            </tr>\n",
       "            <tr>\n",
       "                        <th id=\"T_5cedc_level0_row1\" class=\"row_heading level0 row1\" >(92092.0, 119218.0]</th>\n",
       "                        <td id=\"T_5cedc_row1_col0\" class=\"data row1 col0\" >3555.000</td>\n",
       "                        <td id=\"T_5cedc_row1_col1\" class=\"data row1 col1\" >295.000</td>\n",
       "                        <td id=\"T_5cedc_row1_col2\" class=\"data row1 col2\" >0.083</td>\n",
       "            </tr>\n",
       "            <tr>\n",
       "                        <th id=\"T_5cedc_level0_row2\" class=\"row_heading level0 row2\" >(119218.0, 142594.0]</th>\n",
       "                        <td id=\"T_5cedc_row2_col0\" class=\"data row2 col0\" >3672.000</td>\n",
       "                        <td id=\"T_5cedc_row2_col1\" class=\"data row2 col1\" >327.000</td>\n",
       "                        <td id=\"T_5cedc_row2_col2\" class=\"data row2 col2\" >0.089</td>\n",
       "            </tr>\n",
       "            <tr>\n",
       "                        <th id=\"T_5cedc_level0_row3\" class=\"row_heading level0 row3\" >(142594.0, 172357.0]</th>\n",
       "                        <td id=\"T_5cedc_row3_col0\" class=\"data row3 col0\" >3566.000</td>\n",
       "                        <td id=\"T_5cedc_row3_col1\" class=\"data row3 col1\" >300.000</td>\n",
       "                        <td id=\"T_5cedc_row3_col2\" class=\"data row3 col2\" >0.084</td>\n",
       "            </tr>\n",
       "            <tr>\n",
       "                        <th id=\"T_5cedc_level0_row4\" class=\"row_heading level0 row4\" >(172357.0, 228893.0]</th>\n",
       "                        <td id=\"T_5cedc_row4_col0\" class=\"data row4 col0\" >3427.000</td>\n",
       "                        <td id=\"T_5cedc_row4_col1\" class=\"data row4 col1\" >276.000</td>\n",
       "                        <td id=\"T_5cedc_row4_col2\" class=\"data row4 col2\" >0.081</td>\n",
       "            </tr>\n",
       "            <tr>\n",
       "                        <th id=\"T_5cedc_level0_row5\" class=\"row_heading level0 row5\" >(228893.0, 2265604.0]</th>\n",
       "                        <td id=\"T_5cedc_row5_col0\" class=\"data row5 col0\" >3555.000</td>\n",
       "                        <td id=\"T_5cedc_row5_col1\" class=\"data row5 col1\" >249.000</td>\n",
       "                        <td id=\"T_5cedc_row5_col2\" class=\"data row5 col2\" >0.070</td>\n",
       "            </tr>\n",
       "    </tbody></table>"
      ],
      "text/plain": [
       "<pandas.io.formats.style.Styler at 0x7f6043ddad90>"
      ]
     },
     "metadata": {},
     "output_type": "display_data"
    },
    {
     "data": {
      "text/html": [
       "<style  type=\"text/css\" >\n",
       "#T_7b8cd_row0_col0,#T_7b8cd_row3_col1,#T_7b8cd_row3_col2,#T_7b8cd_row6_col0{\n",
       "            background-color:  #08306b;\n",
       "            color:  #f1f1f1;\n",
       "        }#T_7b8cd_row0_col1,#T_7b8cd_row0_col2{\n",
       "            background-color:  #8dc1dd;\n",
       "            color:  #000000;\n",
       "        }#T_7b8cd_row1_col0,#T_7b8cd_row2_col0,#T_7b8cd_row3_col0,#T_7b8cd_row4_col0,#T_7b8cd_row5_col0,#T_7b8cd_row6_col1,#T_7b8cd_row6_col2{\n",
       "            background-color:  #f7fbff;\n",
       "            color:  #000000;\n",
       "        }#T_7b8cd_row1_col1,#T_7b8cd_row1_col2{\n",
       "            background-color:  #083979;\n",
       "            color:  #f1f1f1;\n",
       "        }#T_7b8cd_row2_col1,#T_7b8cd_row2_col2{\n",
       "            background-color:  #083471;\n",
       "            color:  #f1f1f1;\n",
       "        }#T_7b8cd_row4_col1,#T_7b8cd_row4_col2{\n",
       "            background-color:  #09529d;\n",
       "            color:  #f1f1f1;\n",
       "        }#T_7b8cd_row5_col1,#T_7b8cd_row5_col2{\n",
       "            background-color:  #4f9bcb;\n",
       "            color:  #000000;\n",
       "        }</style><table id=\"T_7b8cd_\" ><thead>    <tr>        <th class=\"blank level0\" ></th>        <th class=\"col_heading level0 col0\" >Всего кредитополучателей</th>        <th class=\"col_heading level0 col1\" >Всего должников</th>        <th class=\"col_heading level0 col2\" >Доля должников</th>    </tr>    <tr>        <th class=\"index_name level0\" >new_category</th>        <th class=\"blank\" ></th>        <th class=\"blank\" ></th>        <th class=\"blank\" ></th>    </tr></thead><tbody>\n",
       "                <tr>\n",
       "                        <th id=\"T_7b8cd_level0_row0\" class=\"row_heading level0 row0\" >(20666.0, 87287.0]</th>\n",
       "                        <td id=\"T_7b8cd_row0_col0\" class=\"data row0 col0\" >3048.000</td>\n",
       "                        <td id=\"T_7b8cd_row0_col1\" class=\"data row0 col1\" >233.000</td>\n",
       "                        <td id=\"T_7b8cd_row0_col2\" class=\"data row0 col2\" >0.076</td>\n",
       "            </tr>\n",
       "            <tr>\n",
       "                        <th id=\"T_7b8cd_level0_row1\" class=\"row_heading level0 row1\" >(87287.0, 113563.0]</th>\n",
       "                        <td id=\"T_7b8cd_row1_col0\" class=\"data row1 col0\" >3047.000</td>\n",
       "                        <td id=\"T_7b8cd_row1_col1\" class=\"data row1 col1\" >262.000</td>\n",
       "                        <td id=\"T_7b8cd_row1_col2\" class=\"data row1 col2\" >0.086</td>\n",
       "            </tr>\n",
       "            <tr>\n",
       "                        <th id=\"T_7b8cd_level0_row2\" class=\"row_heading level0 row2\" >(113563.0, 137465.0]</th>\n",
       "                        <td id=\"T_7b8cd_row2_col0\" class=\"data row2 col0\" >3047.000</td>\n",
       "                        <td id=\"T_7b8cd_row2_col1\" class=\"data row2 col1\" >263.000</td>\n",
       "                        <td id=\"T_7b8cd_row2_col2\" class=\"data row2 col2\" >0.086</td>\n",
       "            </tr>\n",
       "            <tr>\n",
       "                        <th id=\"T_7b8cd_level0_row3\" class=\"row_heading level0 row3\" >(137465.0, 155314.0]</th>\n",
       "                        <td id=\"T_7b8cd_row3_col0\" class=\"data row3 col0\" >3047.000</td>\n",
       "                        <td id=\"T_7b8cd_row3_col1\" class=\"data row3 col1\" >264.000</td>\n",
       "                        <td id=\"T_7b8cd_row3_col2\" class=\"data row3 col2\" >0.087</td>\n",
       "            </tr>\n",
       "            <tr>\n",
       "                        <th id=\"T_7b8cd_level0_row4\" class=\"row_heading level0 row4\" >(155314.0, 184554.0]</th>\n",
       "                        <td id=\"T_7b8cd_row4_col0\" class=\"data row4 col0\" >3047.000</td>\n",
       "                        <td id=\"T_7b8cd_row4_col1\" class=\"data row4 col1\" >257.000</td>\n",
       "                        <td id=\"T_7b8cd_row4_col2\" class=\"data row4 col2\" >0.084</td>\n",
       "            </tr>\n",
       "            <tr>\n",
       "                        <th id=\"T_7b8cd_level0_row5\" class=\"row_heading level0 row5\" >(184554.0, 242009.0]</th>\n",
       "                        <td id=\"T_7b8cd_row5_col0\" class=\"data row5 col0\" >3047.000</td>\n",
       "                        <td id=\"T_7b8cd_row5_col1\" class=\"data row5 col1\" >242.000</td>\n",
       "                        <td id=\"T_7b8cd_row5_col2\" class=\"data row5 col2\" >0.079</td>\n",
       "            </tr>\n",
       "            <tr>\n",
       "                        <th id=\"T_7b8cd_level0_row6\" class=\"row_heading level0 row6\" >(242009.0, 2265604.0]</th>\n",
       "                        <td id=\"T_7b8cd_row6_col0\" class=\"data row6 col0\" >3048.000</td>\n",
       "                        <td id=\"T_7b8cd_row6_col1\" class=\"data row6 col1\" >211.000</td>\n",
       "                        <td id=\"T_7b8cd_row6_col2\" class=\"data row6 col2\" >0.069</td>\n",
       "            </tr>\n",
       "    </tbody></table>"
      ],
      "text/plain": [
       "<pandas.io.formats.style.Styler at 0x7f5fd9233190>"
      ]
     },
     "metadata": {},
     "output_type": "display_data"
    },
    {
     "data": {
      "text/html": [
       "<style  type=\"text/css\" >\n",
       "#T_21304_row0_col0,#T_21304_row5_col0,#T_21304_row7_col0{\n",
       "            background-color:  #6aaed6;\n",
       "            color:  #000000;\n",
       "        }#T_21304_row0_col1{\n",
       "            background-color:  #aacfe5;\n",
       "            color:  #000000;\n",
       "        }#T_21304_row0_col2{\n",
       "            background-color:  #91c3de;\n",
       "            color:  #000000;\n",
       "        }#T_21304_row1_col0,#T_21304_row2_col0{\n",
       "            background-color:  #6caed6;\n",
       "            color:  #000000;\n",
       "        }#T_21304_row1_col1,#T_21304_row5_col1{\n",
       "            background-color:  #519ccc;\n",
       "            color:  #000000;\n",
       "        }#T_21304_row1_col2,#T_21304_row5_col2{\n",
       "            background-color:  #2f7fbc;\n",
       "            color:  #000000;\n",
       "        }#T_21304_row2_col1{\n",
       "            background-color:  #1c6ab0;\n",
       "            color:  #f1f1f1;\n",
       "        }#T_21304_row2_col2{\n",
       "            background-color:  #084285;\n",
       "            color:  #f1f1f1;\n",
       "        }#T_21304_row3_col0,#T_21304_row3_col1,#T_21304_row3_col2{\n",
       "            background-color:  #08306b;\n",
       "            color:  #f1f1f1;\n",
       "        }#T_21304_row4_col0,#T_21304_row7_col1,#T_21304_row7_col2{\n",
       "            background-color:  #f7fbff;\n",
       "            color:  #000000;\n",
       "        }#T_21304_row4_col1{\n",
       "            background-color:  #4695c8;\n",
       "            color:  #000000;\n",
       "        }#T_21304_row4_col2{\n",
       "            background-color:  #084184;\n",
       "            color:  #f1f1f1;\n",
       "        }#T_21304_row6_col0{\n",
       "            background-color:  #6dafd7;\n",
       "            color:  #000000;\n",
       "        }#T_21304_row6_col1{\n",
       "            background-color:  #d4e4f4;\n",
       "            color:  #000000;\n",
       "        }#T_21304_row6_col2{\n",
       "            background-color:  #cddff1;\n",
       "            color:  #000000;\n",
       "        }</style><table id=\"T_21304_\" ><thead>    <tr>        <th class=\"blank level0\" ></th>        <th class=\"col_heading level0 col0\" >Всего кредитополучателей</th>        <th class=\"col_heading level0 col1\" >Всего должников</th>        <th class=\"col_heading level0 col2\" >Доля должников</th>    </tr>    <tr>        <th class=\"index_name level0\" >new_category</th>        <th class=\"blank\" ></th>        <th class=\"blank\" ></th>        <th class=\"blank\" ></th>    </tr></thead><tbody>\n",
       "                <tr>\n",
       "                        <th id=\"T_21304_level0_row0\" class=\"row_heading level0 row0\" >(20666.0, 83837.0]</th>\n",
       "                        <td id=\"T_21304_row0_col0\" class=\"data row0 col0\" >2667.000</td>\n",
       "                        <td id=\"T_21304_row0_col1\" class=\"data row0 col1\" >206.000</td>\n",
       "                        <td id=\"T_21304_row0_col2\" class=\"data row0 col2\" >0.077</td>\n",
       "            </tr>\n",
       "            <tr>\n",
       "                        <th id=\"T_21304_level0_row1\" class=\"row_heading level0 row1\" >(83837.0, 107507.0]</th>\n",
       "                        <td id=\"T_21304_row1_col0\" class=\"data row1 col0\" >2666.000</td>\n",
       "                        <td id=\"T_21304_row1_col1\" class=\"data row1 col1\" >221.000</td>\n",
       "                        <td id=\"T_21304_row1_col2\" class=\"data row1 col2\" >0.083</td>\n",
       "            </tr>\n",
       "            <tr>\n",
       "                        <th id=\"T_21304_level0_row2\" class=\"row_heading level0 row2\" >(107507.0, 127546.0]</th>\n",
       "                        <td id=\"T_21304_row2_col0\" class=\"data row2 col0\" >2666.000</td>\n",
       "                        <td id=\"T_21304_row2_col1\" class=\"data row2 col1\" >233.000</td>\n",
       "                        <td id=\"T_21304_row2_col2\" class=\"data row2 col2\" >0.087</td>\n",
       "            </tr>\n",
       "            <tr>\n",
       "                        <th id=\"T_21304_level0_row3\" class=\"row_heading level0 row3\" >(127546.0, 142594.0]</th>\n",
       "                        <td id=\"T_21304_row3_col0\" class=\"data row3 col0\" >2784.000</td>\n",
       "                        <td id=\"T_21304_row3_col1\" class=\"data row3 col1\" >247.000</td>\n",
       "                        <td id=\"T_21304_row3_col2\" class=\"data row3 col2\" >0.089</td>\n",
       "            </tr>\n",
       "            <tr>\n",
       "                        <th id=\"T_21304_level0_row4\" class=\"row_heading level0 row4\" >(142594.0, 166525.0]</th>\n",
       "                        <td id=\"T_21304_row4_col0\" class=\"data row4 col0\" >2549.000</td>\n",
       "                        <td id=\"T_21304_row4_col1\" class=\"data row4 col1\" >223.000</td>\n",
       "                        <td id=\"T_21304_row4_col2\" class=\"data row4 col2\" >0.087</td>\n",
       "            </tr>\n",
       "            <tr>\n",
       "                        <th id=\"T_21304_level0_row5\" class=\"row_heading level0 row5\" >(166525.0, 195842.0]</th>\n",
       "                        <td id=\"T_21304_row5_col0\" class=\"data row5 col0\" >2667.000</td>\n",
       "                        <td id=\"T_21304_row5_col1\" class=\"data row5 col1\" >221.000</td>\n",
       "                        <td id=\"T_21304_row5_col2\" class=\"data row5 col2\" >0.083</td>\n",
       "            </tr>\n",
       "            <tr>\n",
       "                        <th id=\"T_21304_level0_row6\" class=\"row_heading level0 row6\" >(195842.0, 254250.0]</th>\n",
       "                        <td id=\"T_21304_row6_col0\" class=\"data row6 col0\" >2665.000</td>\n",
       "                        <td id=\"T_21304_row6_col1\" class=\"data row6 col1\" >196.000</td>\n",
       "                        <td id=\"T_21304_row6_col2\" class=\"data row6 col2\" >0.074</td>\n",
       "            </tr>\n",
       "            <tr>\n",
       "                        <th id=\"T_21304_level0_row7\" class=\"row_heading level0 row7\" >(254250.0, 2265604.0]</th>\n",
       "                        <td id=\"T_21304_row7_col0\" class=\"data row7 col0\" >2667.000</td>\n",
       "                        <td id=\"T_21304_row7_col1\" class=\"data row7 col1\" >185.000</td>\n",
       "                        <td id=\"T_21304_row7_col2\" class=\"data row7 col2\" >0.069</td>\n",
       "            </tr>\n",
       "    </tbody></table>"
      ],
      "text/plain": [
       "<pandas.io.formats.style.Styler at 0x7f603025ea60>"
      ]
     },
     "metadata": {},
     "output_type": "display_data"
    }
   ],
   "source": [
    "# Комментарий ревьюера 2\n",
    "temp = data.copy()\n",
    "start, stop = 3, 8 # начальное и конечное количество категорий\n",
    "while start <= stop:\n",
    "    temp['new_category'] = pd.qcut(temp['total_income'], q=start, precision=0)\n",
    "    que('new_category')\n",
    "    start += 1"
   ]
  },
  {
   "cell_type": "markdown",
   "id": "1dcc9b12",
   "metadata": {
    "deletable": false,
    "editable": false,
    "id": "1dcc9b12"
   },
   "source": [
    "#### 3.4 Как разные цели кредита влияют на его возврат в срок?"
   ]
  },
  {
   "cell_type": "code",
   "execution_count": 27,
   "id": "c602bc8b",
   "metadata": {
    "deletable": false,
    "id": "c602bc8b"
   },
   "outputs": [
    {
     "name": "stdout",
     "output_type": "stream",
     "text": [
      "Цель кредита - операции с недвижимостью      Заемщиков 10751      Просрочек 780        Конверсия  7.255139%\n",
      "Цель кредита - операции с автомобилем        Заемщиков 4279       Просрочек 400        Конверсия  9.347978%\n",
      "Цель кредита - получение образования         Заемщиков 3988       Просрочек 369        Конверсия  9.252758%\n",
      "Цель кредита - проведение свадьбы            Заемщиков 2313       Просрочек 183        Конверсия  7.911803%\n",
      "\n",
      "                          Всего заемщиков  Всего должников  Доля должников\n",
      "purpose_category                                                          \n",
      "операции с недвижимостью            10751              780        0.072551\n",
      "проведение свадьбы                   2313              183        0.079118\n",
      "получение образования                3988              369        0.092528\n",
      "операции с автомобилем               4279              400        0.093480\n",
      "\n",
      "                           debt               \n",
      "                          count  sum      mean\n",
      "purpose_category                              \n",
      "операции с автомобилем     4279  400  0.093480\n",
      "операции с недвижимостью  10751  780  0.072551\n",
      "получение образования      3988  369  0.092528\n",
      "проведение свадьбы         2313  183  0.079118\n"
     ]
    }
   ],
   "source": [
    "# Ваш код будет здесь. Вы можете создавать новые ячейки.\n",
    "for i in data['purpose_category'].unique():\n",
    "    count_purpose = data[data['purpose_category']==i]['purpose_category'].count()\n",
    "    count_debt = data[data['purpose_category']==i]['debt'].sum()\n",
    "    conv = count_debt/count_purpose\n",
    "    print(f'Цель кредита - {i:<30}Заемщиков {count_purpose:<10} Просрочек {count_debt:<10} Конверсия  {conv*100:0f}%')\n",
    "print()\n",
    "data_pivot = data.pivot_table(index='purpose_category', values = 'debt', aggfunc=['count', 'sum', 'mean'])\n",
    "data_pivot.columns = ['Всего заемщиков', 'Всего должников','Доля должников']\n",
    "print (data_pivot.sort_values(by='Доля должников', ascending = True))   \n",
    "print()\n",
    "print (data.groupby('purpose_category').agg({'debt':['count','sum', 'mean']}))\n"
   ]
  },
  {
   "cell_type": "markdown",
   "id": "cf05ed63",
   "metadata": {
    "deletable": false,
    "id": "cf05ed63"
   },
   "source": [
    "**Вывод: Тут очевидное разделение. Операции с недвижимостью и проведение свадьбы наиболее надежны. Возможно это обьясняется так. Свадьба это относительно небольшая сумма, которая закрывается единоразово за счет подарков на свадьбу. Операции с недаижимостью идут на очень большой срок, четко опираются на существенный и надежный доход заемщика. Также возможные проблемы по потере недвижимости в залоге по кредиту вынуждают максимально аккуратно относиться к возврату такого кредита. Кредит на образование чаще всего подразумевает выплату с последующей зарплаты. До которой еще надо добраться. И в целом молодой человек в начале жизненного пути с очень большой неопределенностью. Покупка автомобиля это эмоциональная покупка. Всегда хочется купить автомобиль лучше, чем можешь себе позволить.** "
   ]
  },
  {
   "cell_type": "markdown",
   "id": "46c1f10b",
   "metadata": {
    "deletable": false,
    "editable": false,
    "id": "46c1f10b"
   },
   "source": [
    "#### 3.5 Приведите возможные причины появления пропусков в исходных данных."
   ]
  },
  {
   "cell_type": "markdown",
   "id": "3697d2a9",
   "metadata": {
    "deletable": false,
    "id": "3697d2a9"
   },
   "source": [
    "*Ответ: Пропуски в 2х категориях - трудовой стаж в днях и доход. Трдовой стаж вдобавок и с аномальными данными. Безработные и пенсионеры имеют медианный стаж в 1000 лет. Это какой-то технический сбой. Также очень много отрицательных значений и формат float64. Вообще эта категория никак не участвует в проекте и может быть удалена без потерь. Мусорная категория. Пропуски в доходе довольно понятны. Доход может быть необычно большой, до обидного маленький, неофициальный, отсутствующий. Странно другое. С точки зрения банка, доход заемщика это главная характеристика. И тут точно должен быть порядок. * "
   ]
  },
  {
   "cell_type": "markdown",
   "id": "affc76aa",
   "metadata": {},
   "source": [
    "<font color='Blue'><b>\n",
    "Возможные причины пропусков:\n",
    "1. Отсутствующие значения при сборе данных\n",
    "2. Ошибка в процессе передачи данных \n",
    "3. Человеческий фактор\n",
    "4. Технические проблемы\n",
    "5. Намеренное отсутствие данных\n",
    "6. Выборочные исследования\n",
    "7. Пропуски в данных из-за условий эксперимента.\n",
    "\n",
    "В нашем случае есть один очень важный момент - пропуски в 2х категориях в одних и тех же строках. Это позволяет предположить, что информация собиралась из разных источников (н-р, филиалы банка) и либо у них была разная форма для заполнения. Либо при передаче данных возникла ошибка. Либо уже при сведении данных была допущена халатность со стороны программиста. Н-р данные были записаны в иной форме чем остальные и при сведении несоответствие нужному формату обратабывалось простановкой пустых значений. В пользу неаккуратности программиста говорит и столбец с трудовым стажем, премущественно из неправдаподобных значений и колонка с доходом, где ланные в формате float64 с 4мя знакама после запятой.\n",
    "    </b></font><br>"
   ]
  },
  {
   "cell_type": "markdown",
   "id": "3137d257",
   "metadata": {
    "deletable": false,
    "editable": false,
    "id": "3137d257"
   },
   "source": [
    "#### 3.6 Объясните, почему заполнить пропуски медианным значением — лучшее решение для количественных переменных."
   ]
  },
  {
   "cell_type": "markdown",
   "id": "cf40012a",
   "metadata": {
    "deletable": false,
    "id": "cf40012a"
   },
   "source": [
    "*Ответ: Наличие аномальных значений в выборке очень сильно повлияло бы на среднюю. Хотя, как по мне, имеет смысл сначала примерять среднюю. Если нет аномальных выбросов. Приведу пример. Интересует выборка по количкеству детей в семьях. И допустим так случилось, что в существующей выборке большинство семей без детей. Тогда все пропуски будут заполнены 0, как медианным значением, что явно не соответсвует логике. С другой стороны дробное количество тоже не поставить :) В общем болььшое количество нулей в выборке может сыграть плохую шутку с использованием медианы. * "
   ]
  },
  {
   "cell_type": "markdown",
   "id": "57bc304e",
   "metadata": {
    "deletable": false,
    "editable": false,
    "id": "57bc304e"
   },
   "source": [
    "### Шаг 4: общий вывод."
   ]
  },
  {
   "cell_type": "markdown",
   "id": "1ab75d1c",
   "metadata": {
    "deletable": false,
    "id": "1ab75d1c"
   },
   "source": [
    "В целом все промежуточные выводы изложены по мере получения данных. Ожидалось, что конверсия в исследованиях будет различаться более существенно. Такая близость результатов заставляет усомниться в правильности использованного метода. Хотя тут 2x2=4. Одно существенное дополнение. Что лично мне не понравилось в исследовании и что я бы изменил на будущее. Наряду с явно лишними категориями, никак не участвуюшими в исследовании, категория debt слишком упрощена. Это просто булева переменная имел или нет задержки по кредиту. Я бы данную характеристику рассматривал иначе. Ввел бы понятие - среднее и максимальное количество дней задержки. Исходя из этого ввел бы категоризацию. Поясню на примере. Задержка сроком до 3 дней - техническая и никак не отражающая финансовый статус заемщика. Н-р у человека есть большое количество счетов и он ими активно оперирует. В ходе этого какие-то счета могут обнуляться. получив уведомление о непроведении выплаты по кредиту человек перераспределяет деньги и следующее списание через 3 дня проходит без проблем. Еще одна категория - человек ведет активную финансовую жизнь и свободные активы держит на финансовом рынке. Получив уведомление о неоплаченном крелите, он продает фин.активы. Но деньги на счет получает в течении недели со дня продажи акций, н-р. То есть человек довольно состоятелен, но возможно недостаточно аккуратен в планировании. Следующая категория - человек, живущий от зарплаты до зарплаты. Он обладает хорощим доходом, крайне аккуратен в плане финансовой дисциплины, но зависим от внешнего фактора. И ему могут задерживать выплаты зп :) Поэтому наряду с категорией \"0\", \"0-3\", \"4-7,\"имеет смысл вводить категорию \"8-14\". Также немаловажно количество просрочек. Очевидно, что вся эта статистика нужна для кредитного отдела банка для оценки надежности потенциального заемщика."
   ]
  },
  {
   "cell_type": "markdown",
   "id": "33fcf26e",
   "metadata": {},
   "source": [
    "<font color='Blue'><b>\n",
    "## Общий вывод\n",
    "В рамках исследлвания был проделан следуюший обьем работы:  \n",
    "Проведена предобратотка данных:  \n",
    "Заполнены пропущенные значения в данных о доходах и стаже медианными значениями для каждого типа занятости  \n",
    "Отрицательные значения о стаже заменили на положительные  \n",
    "Удалили строки с аномальным количеством детей (-1, 20). При этом мы не оценили предварительно объем удаляемых данных, который мог оказаться значительным. По факту таких данных оказалось 194, что мало при общем объеме в 21525 и не повлияло на результат в значительной мере.  \n",
    "Изменили тип данных у дохода на целый.  \n",
    "Ввели категории по типу дохода и цели кредитования.  \n",
    "После чего провели анализ зависимостей. Для этого мы оцениввали число заемщиков в категории, количество задержек выплат среди них и считали пропорцию. Далее сравнивали категории по этой пропорции.  \n",
    "Вывод из исследования следующий:  \n",
    "1. Семьи без детей надежнее  \n",
    "2. Семейное положение - наименее надежные неженатые или в гражданском браке.  \n",
    "3. Уровень дохода особо не влияет.  \n",
    "4. Цели кредита - наименее надежны кредиты на автомобиль и образование.  \n",
    "    \n",
    "Результат по 3му вопросу не удовлетворил. В результате категоризации были получены неравномерные выборки, что не позволило сделать адекватные выводы. Была заменена градация разделения на выборки, что позволило получить более равномерное разделение и адекватный результат.  \n",
    "Также в процессе эксперимента я попробовал удалить строки с пропущенными значениями вместо заполнения медианой и оценил как поменяется статистика исследуемых пораметров. Значительных изменений не произошло. Поэтоиу дааный блок не вошел в финальный проект.  \n",
    "### Рекомендации для будущих исследований\n",
    "1. Аккуратнее относиться к сведению данных из разных источников.  \n",
    "2. Ввести иную градацию уровней дохода для более равномерных выборок  \n",
    "3. Проводить анализ по другим категориям, имеющимися в данных. А именно - возраст, пол, образование, тип занятости\n",
    "4. При оценке параметра надежности использовать более сложную шкалу. Вместо булевой переменной ввести средний срок задержки, количество задержек, макс.кол-во дней задержки. </b></font><br>"
   ]
  }
 ],
 "metadata": {
  "ExecuteTimeLog": [
   {
    "duration": 44,
    "start_time": "2023-11-26T14:30:50.319Z"
   },
   {
    "duration": 537,
    "start_time": "2023-11-26T14:31:02.725Z"
   },
   {
    "duration": 21,
    "start_time": "2023-11-26T14:31:03.264Z"
   },
   {
    "duration": 16,
    "start_time": "2023-11-26T14:31:03.287Z"
   },
   {
    "duration": 12,
    "start_time": "2023-11-26T14:31:03.305Z"
   },
   {
    "duration": 42,
    "start_time": "2023-11-26T14:31:03.319Z"
   },
   {
    "duration": 3,
    "start_time": "2023-11-26T14:31:03.363Z"
   },
   {
    "duration": 9,
    "start_time": "2023-11-26T14:31:03.368Z"
   },
   {
    "duration": 3,
    "start_time": "2023-11-26T14:31:03.379Z"
   },
   {
    "duration": 10,
    "start_time": "2023-11-26T14:31:03.384Z"
   },
   {
    "duration": 5,
    "start_time": "2023-11-26T14:31:03.396Z"
   },
   {
    "duration": 60,
    "start_time": "2023-11-26T14:31:03.402Z"
   },
   {
    "duration": 10,
    "start_time": "2023-11-26T14:31:03.463Z"
   },
   {
    "duration": 4,
    "start_time": "2023-11-26T14:31:03.475Z"
   },
   {
    "duration": 12,
    "start_time": "2023-11-26T14:31:03.480Z"
   },
   {
    "duration": 44,
    "start_time": "2023-11-26T14:31:03.493Z"
   },
   {
    "duration": 17,
    "start_time": "2023-11-26T14:31:03.539Z"
   },
   {
    "duration": 3,
    "start_time": "2023-11-26T14:31:03.558Z"
   },
   {
    "duration": 12,
    "start_time": "2023-11-26T14:31:03.563Z"
   },
   {
    "duration": 8,
    "start_time": "2023-11-26T14:31:03.576Z"
   },
   {
    "duration": 4,
    "start_time": "2023-11-26T14:31:03.585Z"
   },
   {
    "duration": 41,
    "start_time": "2023-11-26T14:31:03.590Z"
   },
   {
    "duration": 15,
    "start_time": "2023-11-26T14:31:03.632Z"
   },
   {
    "duration": 3,
    "start_time": "2023-11-26T14:31:03.648Z"
   },
   {
    "duration": 5,
    "start_time": "2023-11-26T14:31:03.652Z"
   },
   {
    "duration": 4,
    "start_time": "2023-11-26T14:31:03.658Z"
   },
   {
    "duration": 2600,
    "start_time": "2023-11-26T14:32:06.081Z"
   },
   {
    "duration": 4,
    "start_time": "2023-11-26T14:32:28.035Z"
   },
   {
    "duration": 60,
    "start_time": "2023-11-26T14:33:28.876Z"
   },
   {
    "duration": 25,
    "start_time": "2023-11-26T14:34:37.132Z"
   },
   {
    "duration": 31,
    "start_time": "2023-11-26T14:34:57.168Z"
   },
   {
    "duration": 12,
    "start_time": "2023-11-26T14:35:42.453Z"
   },
   {
    "duration": 89,
    "start_time": "2023-11-26T14:37:07.433Z"
   },
   {
    "duration": 15,
    "start_time": "2023-11-26T14:37:24.098Z"
   },
   {
    "duration": 23,
    "start_time": "2023-11-26T14:40:48.408Z"
   },
   {
    "duration": 21,
    "start_time": "2023-11-26T14:41:06.336Z"
   },
   {
    "duration": 32,
    "start_time": "2023-11-26T14:45:28.855Z"
   },
   {
    "duration": 30,
    "start_time": "2023-11-26T14:57:33.717Z"
   },
   {
    "duration": 30,
    "start_time": "2023-11-26T14:58:06.454Z"
   },
   {
    "duration": 28,
    "start_time": "2023-11-26T15:00:34.498Z"
   },
   {
    "duration": 29,
    "start_time": "2023-11-26T15:01:06.649Z"
   },
   {
    "duration": 96,
    "start_time": "2023-11-26T16:52:29.167Z"
   },
   {
    "duration": 96,
    "start_time": "2023-11-26T16:53:37.905Z"
   },
   {
    "duration": 94,
    "start_time": "2023-11-26T16:54:28.782Z"
   },
   {
    "duration": 3,
    "start_time": "2023-11-26T16:54:54.070Z"
   },
   {
    "duration": 34,
    "start_time": "2023-11-26T16:55:02.160Z"
   },
   {
    "duration": 24,
    "start_time": "2023-11-26T17:02:31.693Z"
   },
   {
    "duration": 24,
    "start_time": "2023-11-26T17:02:44.477Z"
   },
   {
    "duration": 38,
    "start_time": "2023-11-26T17:03:07.184Z"
   },
   {
    "duration": 25,
    "start_time": "2023-11-26T17:03:53.911Z"
   },
   {
    "duration": 27,
    "start_time": "2023-11-26T17:04:04.656Z"
   },
   {
    "duration": 29,
    "start_time": "2023-11-26T17:05:55.328Z"
   },
   {
    "duration": 24,
    "start_time": "2023-11-26T17:06:25.498Z"
   },
   {
    "duration": 25,
    "start_time": "2023-11-26T17:06:36.267Z"
   },
   {
    "duration": 25,
    "start_time": "2023-11-26T17:07:15.586Z"
   },
   {
    "duration": 28,
    "start_time": "2023-11-26T17:10:04.858Z"
   },
   {
    "duration": 28,
    "start_time": "2023-11-26T17:10:12.601Z"
   },
   {
    "duration": 30,
    "start_time": "2023-11-26T17:10:23.157Z"
   },
   {
    "duration": 27,
    "start_time": "2023-11-26T17:10:34.586Z"
   },
   {
    "duration": 30,
    "start_time": "2023-11-26T17:12:16.978Z"
   },
   {
    "duration": 34,
    "start_time": "2023-11-26T17:12:31.526Z"
   },
   {
    "duration": 29,
    "start_time": "2023-11-26T17:12:49.369Z"
   },
   {
    "duration": 28,
    "start_time": "2023-11-26T17:13:02.644Z"
   },
   {
    "duration": 23,
    "start_time": "2023-11-26T17:14:13.902Z"
   },
   {
    "duration": 23,
    "start_time": "2023-11-26T17:14:26.537Z"
   },
   {
    "duration": 17,
    "start_time": "2023-11-26T17:14:48.899Z"
   },
   {
    "duration": 19,
    "start_time": "2023-11-26T17:14:58.417Z"
   },
   {
    "duration": 18,
    "start_time": "2023-11-26T17:15:12.358Z"
   },
   {
    "duration": 17,
    "start_time": "2023-11-26T17:15:19.033Z"
   },
   {
    "duration": 30,
    "start_time": "2023-11-26T17:15:47.874Z"
   },
   {
    "duration": 29,
    "start_time": "2023-11-26T17:15:58.944Z"
   },
   {
    "duration": 462,
    "start_time": "2023-11-26T17:17:52.772Z"
   },
   {
    "duration": 23,
    "start_time": "2023-11-26T17:17:53.236Z"
   },
   {
    "duration": 16,
    "start_time": "2023-11-26T17:17:53.260Z"
   },
   {
    "duration": 11,
    "start_time": "2023-11-26T17:17:53.278Z"
   },
   {
    "duration": 65,
    "start_time": "2023-11-26T17:17:53.291Z"
   },
   {
    "duration": 4,
    "start_time": "2023-11-26T17:17:53.357Z"
   },
   {
    "duration": 17,
    "start_time": "2023-11-26T17:17:53.362Z"
   },
   {
    "duration": 4,
    "start_time": "2023-11-26T17:17:53.380Z"
   },
   {
    "duration": 8,
    "start_time": "2023-11-26T17:17:53.386Z"
   },
   {
    "duration": 4,
    "start_time": "2023-11-26T17:17:53.397Z"
   },
   {
    "duration": 57,
    "start_time": "2023-11-26T17:17:53.402Z"
   },
   {
    "duration": 11,
    "start_time": "2023-11-26T17:17:53.461Z"
   },
   {
    "duration": 5,
    "start_time": "2023-11-26T17:17:53.473Z"
   },
   {
    "duration": 15,
    "start_time": "2023-11-26T17:17:53.479Z"
   },
   {
    "duration": 40,
    "start_time": "2023-11-26T17:17:53.495Z"
   },
   {
    "duration": 19,
    "start_time": "2023-11-26T17:17:53.536Z"
   },
   {
    "duration": 5,
    "start_time": "2023-11-26T17:17:53.557Z"
   },
   {
    "duration": 14,
    "start_time": "2023-11-26T17:17:53.563Z"
   },
   {
    "duration": 10,
    "start_time": "2023-11-26T17:17:53.578Z"
   },
   {
    "duration": 5,
    "start_time": "2023-11-26T17:17:53.589Z"
   },
   {
    "duration": 43,
    "start_time": "2023-11-26T17:17:53.595Z"
   },
   {
    "duration": 21,
    "start_time": "2023-11-26T17:17:53.639Z"
   },
   {
    "duration": 29,
    "start_time": "2023-11-26T17:17:53.661Z"
   },
   {
    "duration": 53,
    "start_time": "2023-11-26T17:17:53.692Z"
   },
   {
    "duration": 23,
    "start_time": "2023-11-26T17:17:53.746Z"
   },
   {
    "duration": 29,
    "start_time": "2023-11-26T17:18:45.957Z"
   },
   {
    "duration": 28,
    "start_time": "2023-11-26T17:19:52.028Z"
   },
   {
    "duration": 32,
    "start_time": "2023-11-26T17:20:15.935Z"
   },
   {
    "duration": 4,
    "start_time": "2023-11-26T17:36:49.275Z"
   },
   {
    "duration": 5,
    "start_time": "2023-11-26T17:37:19.556Z"
   },
   {
    "duration": 4,
    "start_time": "2023-11-26T17:37:38.490Z"
   },
   {
    "duration": 5,
    "start_time": "2023-11-26T17:41:08.387Z"
   },
   {
    "duration": 494,
    "start_time": "2023-11-26T17:41:38.321Z"
   },
   {
    "duration": 25,
    "start_time": "2023-11-26T17:41:38.817Z"
   },
   {
    "duration": 16,
    "start_time": "2023-11-26T17:41:38.844Z"
   },
   {
    "duration": 9,
    "start_time": "2023-11-26T17:41:38.862Z"
   },
   {
    "duration": 34,
    "start_time": "2023-11-26T17:41:38.873Z"
   },
   {
    "duration": 4,
    "start_time": "2023-11-26T17:41:38.908Z"
   },
   {
    "duration": 9,
    "start_time": "2023-11-26T17:41:38.932Z"
   },
   {
    "duration": 6,
    "start_time": "2023-11-26T17:41:38.943Z"
   },
   {
    "duration": 8,
    "start_time": "2023-11-26T17:41:38.950Z"
   },
   {
    "duration": 4,
    "start_time": "2023-11-26T17:41:38.961Z"
   },
   {
    "duration": 66,
    "start_time": "2023-11-26T17:41:38.967Z"
   },
   {
    "duration": 12,
    "start_time": "2023-11-26T17:41:39.034Z"
   },
   {
    "duration": 4,
    "start_time": "2023-11-26T17:41:39.048Z"
   },
   {
    "duration": 12,
    "start_time": "2023-11-26T17:41:39.054Z"
   },
   {
    "duration": 21,
    "start_time": "2023-11-26T17:41:39.067Z"
   },
   {
    "duration": 46,
    "start_time": "2023-11-26T17:41:39.090Z"
   },
   {
    "duration": 5,
    "start_time": "2023-11-26T17:41:39.138Z"
   },
   {
    "duration": 14,
    "start_time": "2023-11-26T17:41:39.145Z"
   },
   {
    "duration": 7,
    "start_time": "2023-11-26T17:41:39.161Z"
   },
   {
    "duration": 4,
    "start_time": "2023-11-26T17:41:39.169Z"
   },
   {
    "duration": 15,
    "start_time": "2023-11-26T17:41:39.174Z"
   },
   {
    "duration": 19,
    "start_time": "2023-11-26T17:41:39.191Z"
   },
   {
    "duration": 30,
    "start_time": "2023-11-26T17:41:39.230Z"
   },
   {
    "duration": 28,
    "start_time": "2023-11-26T17:41:39.262Z"
   },
   {
    "duration": 49,
    "start_time": "2023-11-26T17:41:39.292Z"
   },
   {
    "duration": 5,
    "start_time": "2023-11-26T17:43:34.225Z"
   },
   {
    "duration": 4,
    "start_time": "2023-11-26T17:43:43.281Z"
   },
   {
    "duration": 95,
    "start_time": "2023-11-26T17:44:07.338Z"
   },
   {
    "duration": 98,
    "start_time": "2023-11-26T17:44:17.926Z"
   },
   {
    "duration": 4,
    "start_time": "2023-11-26T17:44:28.408Z"
   },
   {
    "duration": 448,
    "start_time": "2023-11-26T17:44:45.762Z"
   },
   {
    "duration": 22,
    "start_time": "2023-11-26T17:44:46.212Z"
   },
   {
    "duration": 18,
    "start_time": "2023-11-26T17:44:46.236Z"
   },
   {
    "duration": 15,
    "start_time": "2023-11-26T17:44:46.256Z"
   },
   {
    "duration": 33,
    "start_time": "2023-11-26T17:44:46.272Z"
   },
   {
    "duration": 5,
    "start_time": "2023-11-26T17:44:46.330Z"
   },
   {
    "duration": 13,
    "start_time": "2023-11-26T17:44:46.337Z"
   },
   {
    "duration": 5,
    "start_time": "2023-11-26T17:44:46.352Z"
   },
   {
    "duration": 12,
    "start_time": "2023-11-26T17:44:46.359Z"
   },
   {
    "duration": 6,
    "start_time": "2023-11-26T17:44:46.373Z"
   },
   {
    "duration": 63,
    "start_time": "2023-11-26T17:44:46.380Z"
   },
   {
    "duration": 18,
    "start_time": "2023-11-26T17:44:46.445Z"
   },
   {
    "duration": 4,
    "start_time": "2023-11-26T17:44:46.464Z"
   },
   {
    "duration": 34,
    "start_time": "2023-11-26T17:44:46.469Z"
   },
   {
    "duration": 24,
    "start_time": "2023-11-26T17:44:46.504Z"
   },
   {
    "duration": 17,
    "start_time": "2023-11-26T17:44:46.530Z"
   },
   {
    "duration": 4,
    "start_time": "2023-11-26T17:44:46.549Z"
   },
   {
    "duration": 15,
    "start_time": "2023-11-26T17:44:46.555Z"
   },
   {
    "duration": 8,
    "start_time": "2023-11-26T17:44:46.571Z"
   },
   {
    "duration": 3,
    "start_time": "2023-11-26T17:44:46.581Z"
   },
   {
    "duration": 12,
    "start_time": "2023-11-26T17:44:46.585Z"
   },
   {
    "duration": 52,
    "start_time": "2023-11-26T17:44:46.599Z"
   },
   {
    "duration": 30,
    "start_time": "2023-11-26T17:44:46.653Z"
   },
   {
    "duration": 52,
    "start_time": "2023-11-26T17:44:46.684Z"
   },
   {
    "duration": 28,
    "start_time": "2023-11-26T17:44:46.738Z"
   },
   {
    "duration": 16,
    "start_time": "2023-11-26T17:47:02.982Z"
   },
   {
    "duration": 17,
    "start_time": "2023-11-26T17:52:35.075Z"
   },
   {
    "duration": 72,
    "start_time": "2023-11-26T17:57:27.057Z"
   },
   {
    "duration": 23,
    "start_time": "2023-11-26T17:58:05.387Z"
   },
   {
    "duration": 23,
    "start_time": "2023-11-26T18:00:13.016Z"
   },
   {
    "duration": 92,
    "start_time": "2023-11-26T18:01:27.876Z"
   },
   {
    "duration": 4,
    "start_time": "2023-11-26T18:03:26.759Z"
   },
   {
    "duration": 23,
    "start_time": "2023-11-26T18:03:38.626Z"
   },
   {
    "duration": 84,
    "start_time": "2023-11-26T18:04:26.897Z"
   },
   {
    "duration": 449,
    "start_time": "2023-11-26T18:04:55.154Z"
   },
   {
    "duration": 21,
    "start_time": "2023-11-26T18:04:55.605Z"
   },
   {
    "duration": 167,
    "start_time": "2023-11-26T18:04:55.628Z"
   },
   {
    "duration": 0,
    "start_time": "2023-11-26T18:04:55.797Z"
   },
   {
    "duration": 0,
    "start_time": "2023-11-26T18:04:55.798Z"
   },
   {
    "duration": 0,
    "start_time": "2023-11-26T18:04:55.799Z"
   },
   {
    "duration": 0,
    "start_time": "2023-11-26T18:04:55.800Z"
   },
   {
    "duration": 0,
    "start_time": "2023-11-26T18:04:55.801Z"
   },
   {
    "duration": 0,
    "start_time": "2023-11-26T18:04:55.802Z"
   },
   {
    "duration": 0,
    "start_time": "2023-11-26T18:04:55.803Z"
   },
   {
    "duration": 0,
    "start_time": "2023-11-26T18:04:55.804Z"
   },
   {
    "duration": 0,
    "start_time": "2023-11-26T18:04:55.805Z"
   },
   {
    "duration": 0,
    "start_time": "2023-11-26T18:04:55.806Z"
   },
   {
    "duration": 0,
    "start_time": "2023-11-26T18:04:55.807Z"
   },
   {
    "duration": 0,
    "start_time": "2023-11-26T18:04:55.808Z"
   },
   {
    "duration": 0,
    "start_time": "2023-11-26T18:04:55.809Z"
   },
   {
    "duration": 0,
    "start_time": "2023-11-26T18:04:55.810Z"
   },
   {
    "duration": 0,
    "start_time": "2023-11-26T18:04:55.811Z"
   },
   {
    "duration": 0,
    "start_time": "2023-11-26T18:04:55.812Z"
   },
   {
    "duration": 1,
    "start_time": "2023-11-26T18:04:55.812Z"
   },
   {
    "duration": 0,
    "start_time": "2023-11-26T18:04:55.813Z"
   },
   {
    "duration": 0,
    "start_time": "2023-11-26T18:04:55.814Z"
   },
   {
    "duration": 0,
    "start_time": "2023-11-26T18:04:55.815Z"
   },
   {
    "duration": 0,
    "start_time": "2023-11-26T18:04:55.816Z"
   },
   {
    "duration": 0,
    "start_time": "2023-11-26T18:04:55.817Z"
   },
   {
    "duration": 97,
    "start_time": "2023-11-26T18:05:37.058Z"
   },
   {
    "duration": 15,
    "start_time": "2023-11-26T18:06:13.857Z"
   },
   {
    "duration": 97,
    "start_time": "2023-11-26T18:06:29.133Z"
   },
   {
    "duration": 90,
    "start_time": "2023-11-26T18:06:56.380Z"
   },
   {
    "duration": 89,
    "start_time": "2023-11-26T18:07:07.924Z"
   },
   {
    "duration": 16,
    "start_time": "2023-11-26T18:07:31.731Z"
   },
   {
    "duration": 453,
    "start_time": "2023-11-26T18:09:33.651Z"
   },
   {
    "duration": 22,
    "start_time": "2023-11-26T18:09:34.106Z"
   },
   {
    "duration": 15,
    "start_time": "2023-11-26T18:09:34.130Z"
   },
   {
    "duration": 12,
    "start_time": "2023-11-26T18:09:34.147Z"
   },
   {
    "duration": 33,
    "start_time": "2023-11-26T18:09:34.161Z"
   },
   {
    "duration": 4,
    "start_time": "2023-11-26T18:09:34.196Z"
   },
   {
    "duration": 32,
    "start_time": "2023-11-26T18:09:34.201Z"
   },
   {
    "duration": 4,
    "start_time": "2023-11-26T18:09:34.235Z"
   },
   {
    "duration": 10,
    "start_time": "2023-11-26T18:09:34.241Z"
   },
   {
    "duration": 12,
    "start_time": "2023-11-26T18:09:34.253Z"
   },
   {
    "duration": 54,
    "start_time": "2023-11-26T18:09:34.266Z"
   },
   {
    "duration": 10,
    "start_time": "2023-11-26T18:09:34.321Z"
   },
   {
    "duration": 4,
    "start_time": "2023-11-26T18:09:34.332Z"
   },
   {
    "duration": 16,
    "start_time": "2023-11-26T18:09:34.337Z"
   },
   {
    "duration": 26,
    "start_time": "2023-11-26T18:09:34.354Z"
   },
   {
    "duration": 16,
    "start_time": "2023-11-26T18:09:34.381Z"
   },
   {
    "duration": 3,
    "start_time": "2023-11-26T18:09:34.399Z"
   },
   {
    "duration": 28,
    "start_time": "2023-11-26T18:09:34.403Z"
   },
   {
    "duration": 5,
    "start_time": "2023-11-26T18:09:34.433Z"
   },
   {
    "duration": 3,
    "start_time": "2023-11-26T18:09:34.440Z"
   },
   {
    "duration": 12,
    "start_time": "2023-11-26T18:09:34.445Z"
   },
   {
    "duration": 36,
    "start_time": "2023-11-26T18:09:34.458Z"
   },
   {
    "duration": 42,
    "start_time": "2023-11-26T18:09:34.495Z"
   },
   {
    "duration": 27,
    "start_time": "2023-11-26T18:09:34.539Z"
   },
   {
    "duration": 24,
    "start_time": "2023-11-26T18:09:34.568Z"
   },
   {
    "duration": 452,
    "start_time": "2023-11-26T18:48:20.253Z"
   },
   {
    "duration": 20,
    "start_time": "2023-11-26T18:48:20.707Z"
   },
   {
    "duration": 25,
    "start_time": "2023-11-26T18:48:20.728Z"
   },
   {
    "duration": 16,
    "start_time": "2023-11-26T18:48:20.754Z"
   },
   {
    "duration": 39,
    "start_time": "2023-11-26T18:48:20.772Z"
   },
   {
    "duration": 4,
    "start_time": "2023-11-26T18:48:20.812Z"
   },
   {
    "duration": 43,
    "start_time": "2023-11-26T18:48:20.818Z"
   },
   {
    "duration": 13,
    "start_time": "2023-11-26T18:48:20.862Z"
   },
   {
    "duration": 25,
    "start_time": "2023-11-26T18:48:20.876Z"
   },
   {
    "duration": 27,
    "start_time": "2023-11-26T18:48:20.903Z"
   },
   {
    "duration": 57,
    "start_time": "2023-11-26T18:48:20.932Z"
   },
   {
    "duration": 10,
    "start_time": "2023-11-26T18:48:20.990Z"
   },
   {
    "duration": 19,
    "start_time": "2023-11-26T18:48:21.002Z"
   },
   {
    "duration": 26,
    "start_time": "2023-11-26T18:48:21.023Z"
   },
   {
    "duration": 20,
    "start_time": "2023-11-26T18:48:21.051Z"
   },
   {
    "duration": 29,
    "start_time": "2023-11-26T18:48:21.073Z"
   },
   {
    "duration": 31,
    "start_time": "2023-11-26T18:48:21.104Z"
   },
   {
    "duration": 56,
    "start_time": "2023-11-26T18:48:21.137Z"
   },
   {
    "duration": 35,
    "start_time": "2023-11-26T18:48:21.195Z"
   },
   {
    "duration": 18,
    "start_time": "2023-11-26T18:48:21.231Z"
   },
   {
    "duration": 25,
    "start_time": "2023-11-26T18:48:21.250Z"
   },
   {
    "duration": 38,
    "start_time": "2023-11-26T18:48:21.277Z"
   },
   {
    "duration": 38,
    "start_time": "2023-11-26T18:48:21.316Z"
   },
   {
    "duration": 27,
    "start_time": "2023-11-26T18:48:21.355Z"
   },
   {
    "duration": 24,
    "start_time": "2023-11-26T18:48:21.383Z"
   },
   {
    "duration": 551,
    "start_time": "2023-11-29T10:45:00.800Z"
   },
   {
    "duration": 459,
    "start_time": "2023-11-29T10:47:16.498Z"
   },
   {
    "duration": 21,
    "start_time": "2023-11-29T10:47:16.959Z"
   },
   {
    "duration": 18,
    "start_time": "2023-11-29T10:47:16.982Z"
   },
   {
    "duration": 31,
    "start_time": "2023-11-29T10:47:17.001Z"
   },
   {
    "duration": 34,
    "start_time": "2023-11-29T10:47:17.035Z"
   },
   {
    "duration": 3,
    "start_time": "2023-11-29T10:47:17.071Z"
   },
   {
    "duration": 21,
    "start_time": "2023-11-29T10:47:17.076Z"
   },
   {
    "duration": 20,
    "start_time": "2023-11-29T10:47:17.099Z"
   },
   {
    "duration": 20,
    "start_time": "2023-11-29T10:47:17.120Z"
   },
   {
    "duration": 11,
    "start_time": "2023-11-29T10:47:17.142Z"
   },
   {
    "duration": 41,
    "start_time": "2023-11-29T10:47:17.155Z"
   },
   {
    "duration": 10,
    "start_time": "2023-11-29T10:47:17.197Z"
   },
   {
    "duration": 15,
    "start_time": "2023-11-29T10:47:17.209Z"
   },
   {
    "duration": 29,
    "start_time": "2023-11-29T10:47:17.227Z"
   },
   {
    "duration": 56,
    "start_time": "2023-11-29T10:47:17.257Z"
   },
   {
    "duration": 25,
    "start_time": "2023-11-29T10:47:17.315Z"
   },
   {
    "duration": 9,
    "start_time": "2023-11-29T10:47:17.341Z"
   },
   {
    "duration": 62,
    "start_time": "2023-11-29T10:47:17.351Z"
   },
   {
    "duration": 30,
    "start_time": "2023-11-29T10:47:17.414Z"
   },
   {
    "duration": 35,
    "start_time": "2023-11-29T10:47:17.445Z"
   },
   {
    "duration": 95,
    "start_time": "2023-11-29T10:47:17.481Z"
   },
   {
    "duration": 47,
    "start_time": "2023-11-29T10:47:17.578Z"
   },
   {
    "duration": 43,
    "start_time": "2023-11-29T10:47:17.626Z"
   },
   {
    "duration": 45,
    "start_time": "2023-11-29T10:47:17.671Z"
   },
   {
    "duration": 56,
    "start_time": "2023-11-29T10:47:17.717Z"
   },
   {
    "duration": 47,
    "start_time": "2023-11-29T12:49:03.655Z"
   },
   {
    "duration": 556,
    "start_time": "2023-11-29T12:49:13.336Z"
   },
   {
    "duration": 22,
    "start_time": "2023-11-29T12:49:13.894Z"
   },
   {
    "duration": 16,
    "start_time": "2023-11-29T12:49:13.917Z"
   },
   {
    "duration": 14,
    "start_time": "2023-11-29T12:49:13.935Z"
   },
   {
    "duration": 40,
    "start_time": "2023-11-29T12:49:13.950Z"
   },
   {
    "duration": 3,
    "start_time": "2023-11-29T12:49:13.992Z"
   },
   {
    "duration": 34,
    "start_time": "2023-11-29T12:49:13.996Z"
   },
   {
    "duration": 4,
    "start_time": "2023-11-29T12:49:14.031Z"
   },
   {
    "duration": 8,
    "start_time": "2023-11-29T12:49:14.036Z"
   },
   {
    "duration": 4,
    "start_time": "2023-11-29T12:49:14.046Z"
   },
   {
    "duration": 42,
    "start_time": "2023-11-29T12:49:14.051Z"
   },
   {
    "duration": 12,
    "start_time": "2023-11-29T12:49:14.095Z"
   },
   {
    "duration": 22,
    "start_time": "2023-11-29T12:49:14.108Z"
   },
   {
    "duration": 27,
    "start_time": "2023-11-29T12:49:14.131Z"
   },
   {
    "duration": 47,
    "start_time": "2023-11-29T12:49:14.160Z"
   },
   {
    "duration": 17,
    "start_time": "2023-11-29T12:49:14.209Z"
   },
   {
    "duration": 8,
    "start_time": "2023-11-29T12:49:14.227Z"
   },
   {
    "duration": 37,
    "start_time": "2023-11-29T12:49:14.236Z"
   },
   {
    "duration": 24,
    "start_time": "2023-11-29T12:49:14.275Z"
   },
   {
    "duration": 28,
    "start_time": "2023-11-29T12:49:14.300Z"
   },
   {
    "duration": 18,
    "start_time": "2023-11-29T12:49:14.329Z"
   },
   {
    "duration": 30,
    "start_time": "2023-11-29T12:49:14.348Z"
   },
   {
    "duration": 28,
    "start_time": "2023-11-29T12:49:14.379Z"
   },
   {
    "duration": 34,
    "start_time": "2023-11-29T12:49:14.408Z"
   },
   {
    "duration": 33,
    "start_time": "2023-11-29T12:49:14.444Z"
   },
   {
    "duration": 568,
    "start_time": "2023-11-29T12:51:09.940Z"
   },
   {
    "duration": 23,
    "start_time": "2023-11-29T12:51:10.510Z"
   },
   {
    "duration": 21,
    "start_time": "2023-11-29T12:51:10.534Z"
   },
   {
    "duration": 10,
    "start_time": "2023-11-29T12:51:10.557Z"
   },
   {
    "duration": 68,
    "start_time": "2023-11-29T12:51:10.568Z"
   },
   {
    "duration": 4,
    "start_time": "2023-11-29T12:51:10.638Z"
   },
   {
    "duration": 30,
    "start_time": "2023-11-29T12:51:10.643Z"
   },
   {
    "duration": 6,
    "start_time": "2023-11-29T12:51:10.675Z"
   },
   {
    "duration": 24,
    "start_time": "2023-11-29T12:51:10.682Z"
   },
   {
    "duration": 24,
    "start_time": "2023-11-29T12:51:10.709Z"
   },
   {
    "duration": 70,
    "start_time": "2023-11-29T12:51:10.735Z"
   },
   {
    "duration": 43,
    "start_time": "2023-11-29T12:51:10.807Z"
   },
   {
    "duration": 14,
    "start_time": "2023-11-29T12:51:10.852Z"
   },
   {
    "duration": 43,
    "start_time": "2023-11-29T12:51:10.868Z"
   },
   {
    "duration": 43,
    "start_time": "2023-11-29T12:51:10.912Z"
   },
   {
    "duration": 16,
    "start_time": "2023-11-29T12:51:10.957Z"
   },
   {
    "duration": 3,
    "start_time": "2023-11-29T12:51:10.974Z"
   },
   {
    "duration": 19,
    "start_time": "2023-11-29T12:51:10.979Z"
   },
   {
    "duration": 14,
    "start_time": "2023-11-29T12:51:11.000Z"
   },
   {
    "duration": 12,
    "start_time": "2023-11-29T12:51:11.015Z"
   },
   {
    "duration": 15,
    "start_time": "2023-11-29T12:51:11.028Z"
   },
   {
    "duration": 32,
    "start_time": "2023-11-29T12:51:11.044Z"
   },
   {
    "duration": 34,
    "start_time": "2023-11-29T12:51:11.078Z"
   },
   {
    "duration": 45,
    "start_time": "2023-11-29T12:51:11.114Z"
   },
   {
    "duration": 26,
    "start_time": "2023-11-29T12:51:11.161Z"
   },
   {
    "duration": 453,
    "start_time": "2023-11-29T12:52:43.379Z"
   },
   {
    "duration": 21,
    "start_time": "2023-11-29T12:52:43.833Z"
   },
   {
    "duration": 15,
    "start_time": "2023-11-29T12:52:43.855Z"
   },
   {
    "duration": 11,
    "start_time": "2023-11-29T12:52:43.871Z"
   },
   {
    "duration": 34,
    "start_time": "2023-11-29T12:52:43.883Z"
   },
   {
    "duration": 3,
    "start_time": "2023-11-29T12:52:43.918Z"
   },
   {
    "duration": 10,
    "start_time": "2023-11-29T12:52:43.922Z"
   },
   {
    "duration": 23,
    "start_time": "2023-11-29T12:52:43.934Z"
   },
   {
    "duration": 10,
    "start_time": "2023-11-29T12:52:43.958Z"
   },
   {
    "duration": 5,
    "start_time": "2023-11-29T12:52:43.970Z"
   },
   {
    "duration": 35,
    "start_time": "2023-11-29T12:52:43.976Z"
   },
   {
    "duration": 9,
    "start_time": "2023-11-29T12:52:44.013Z"
   },
   {
    "duration": 4,
    "start_time": "2023-11-29T12:52:44.023Z"
   },
   {
    "duration": 36,
    "start_time": "2023-11-29T12:52:44.028Z"
   },
   {
    "duration": 19,
    "start_time": "2023-11-29T12:52:44.066Z"
   },
   {
    "duration": 15,
    "start_time": "2023-11-29T12:52:44.086Z"
   },
   {
    "duration": 3,
    "start_time": "2023-11-29T12:52:44.103Z"
   },
   {
    "duration": 14,
    "start_time": "2023-11-29T12:52:44.107Z"
   },
   {
    "duration": 5,
    "start_time": "2023-11-29T12:52:44.123Z"
   },
   {
    "duration": 28,
    "start_time": "2023-11-29T12:52:44.129Z"
   },
   {
    "duration": 16,
    "start_time": "2023-11-29T12:52:44.158Z"
   },
   {
    "duration": 21,
    "start_time": "2023-11-29T12:52:44.176Z"
   },
   {
    "duration": 31,
    "start_time": "2023-11-29T12:52:44.199Z"
   },
   {
    "duration": 47,
    "start_time": "2023-11-29T12:52:44.232Z"
   },
   {
    "duration": 23,
    "start_time": "2023-11-29T12:52:44.280Z"
   },
   {
    "duration": 450,
    "start_time": "2023-11-29T12:54:29.384Z"
   },
   {
    "duration": 21,
    "start_time": "2023-11-29T12:54:29.836Z"
   },
   {
    "duration": 16,
    "start_time": "2023-11-29T12:54:29.858Z"
   },
   {
    "duration": 17,
    "start_time": "2023-11-29T12:54:29.876Z"
   },
   {
    "duration": 43,
    "start_time": "2023-11-29T12:54:29.894Z"
   },
   {
    "duration": 3,
    "start_time": "2023-11-29T12:54:29.939Z"
   },
   {
    "duration": 18,
    "start_time": "2023-11-29T12:54:29.944Z"
   },
   {
    "duration": 10,
    "start_time": "2023-11-29T12:54:29.963Z"
   },
   {
    "duration": 8,
    "start_time": "2023-11-29T12:54:29.974Z"
   },
   {
    "duration": 13,
    "start_time": "2023-11-29T12:54:29.984Z"
   },
   {
    "duration": 47,
    "start_time": "2023-11-29T12:54:29.999Z"
   },
   {
    "duration": 44,
    "start_time": "2023-11-29T12:54:30.048Z"
   },
   {
    "duration": 25,
    "start_time": "2023-11-29T12:54:30.094Z"
   },
   {
    "duration": 36,
    "start_time": "2023-11-29T12:54:30.121Z"
   },
   {
    "duration": 49,
    "start_time": "2023-11-29T12:54:30.159Z"
   },
   {
    "duration": 46,
    "start_time": "2023-11-29T12:54:30.209Z"
   },
   {
    "duration": 24,
    "start_time": "2023-11-29T12:54:30.257Z"
   },
   {
    "duration": 125,
    "start_time": "2023-11-29T12:54:30.283Z"
   },
   {
    "duration": 26,
    "start_time": "2023-11-29T12:54:30.409Z"
   },
   {
    "duration": 9,
    "start_time": "2023-11-29T12:54:30.437Z"
   },
   {
    "duration": 38,
    "start_time": "2023-11-29T12:54:30.447Z"
   },
   {
    "duration": 62,
    "start_time": "2023-11-29T12:54:30.486Z"
   },
   {
    "duration": 44,
    "start_time": "2023-11-29T12:54:30.550Z"
   },
   {
    "duration": 31,
    "start_time": "2023-11-29T12:54:30.595Z"
   },
   {
    "duration": 29,
    "start_time": "2023-11-29T12:54:30.627Z"
   },
   {
    "duration": 502,
    "start_time": "2023-11-29T12:55:28.634Z"
   },
   {
    "duration": 20,
    "start_time": "2023-11-29T12:55:29.137Z"
   },
   {
    "duration": 44,
    "start_time": "2023-11-29T12:55:29.158Z"
   },
   {
    "duration": 13,
    "start_time": "2023-11-29T12:55:29.204Z"
   },
   {
    "duration": 48,
    "start_time": "2023-11-29T12:55:29.218Z"
   },
   {
    "duration": 3,
    "start_time": "2023-11-29T12:55:29.268Z"
   },
   {
    "duration": 12,
    "start_time": "2023-11-29T12:55:29.272Z"
   },
   {
    "duration": 25,
    "start_time": "2023-11-29T12:55:29.285Z"
   },
   {
    "duration": 36,
    "start_time": "2023-11-29T12:55:29.311Z"
   },
   {
    "duration": 15,
    "start_time": "2023-11-29T12:55:29.349Z"
   },
   {
    "duration": 54,
    "start_time": "2023-11-29T12:55:29.365Z"
   },
   {
    "duration": 10,
    "start_time": "2023-11-29T12:55:29.420Z"
   },
   {
    "duration": 5,
    "start_time": "2023-11-29T12:55:29.431Z"
   },
   {
    "duration": 40,
    "start_time": "2023-11-29T12:55:29.437Z"
   },
   {
    "duration": 20,
    "start_time": "2023-11-29T12:55:29.479Z"
   },
   {
    "duration": 15,
    "start_time": "2023-11-29T12:55:29.501Z"
   },
   {
    "duration": 3,
    "start_time": "2023-11-29T12:55:29.518Z"
   },
   {
    "duration": 17,
    "start_time": "2023-11-29T12:55:29.522Z"
   },
   {
    "duration": 22,
    "start_time": "2023-11-29T12:55:29.541Z"
   },
   {
    "duration": 30,
    "start_time": "2023-11-29T12:55:29.564Z"
   },
   {
    "duration": 24,
    "start_time": "2023-11-29T12:55:29.596Z"
   },
   {
    "duration": 35,
    "start_time": "2023-11-29T12:55:29.621Z"
   },
   {
    "duration": 30,
    "start_time": "2023-11-29T12:55:29.658Z"
   },
   {
    "duration": 30,
    "start_time": "2023-11-29T12:55:29.689Z"
   },
   {
    "duration": 48,
    "start_time": "2023-11-29T12:55:29.721Z"
   },
   {
    "duration": 485,
    "start_time": "2023-11-29T12:56:27.968Z"
   },
   {
    "duration": 21,
    "start_time": "2023-11-29T12:56:28.454Z"
   },
   {
    "duration": 24,
    "start_time": "2023-11-29T12:56:28.477Z"
   },
   {
    "duration": 13,
    "start_time": "2023-11-29T12:56:28.504Z"
   },
   {
    "duration": 66,
    "start_time": "2023-11-29T12:56:28.519Z"
   },
   {
    "duration": 5,
    "start_time": "2023-11-29T12:56:28.587Z"
   },
   {
    "duration": 16,
    "start_time": "2023-11-29T12:56:28.593Z"
   },
   {
    "duration": 14,
    "start_time": "2023-11-29T12:56:28.611Z"
   },
   {
    "duration": 10,
    "start_time": "2023-11-29T12:56:28.627Z"
   },
   {
    "duration": 6,
    "start_time": "2023-11-29T12:56:28.640Z"
   },
   {
    "duration": 46,
    "start_time": "2023-11-29T12:56:28.656Z"
   },
   {
    "duration": 9,
    "start_time": "2023-11-29T12:56:28.703Z"
   },
   {
    "duration": 6,
    "start_time": "2023-11-29T12:56:28.714Z"
   },
   {
    "duration": 13,
    "start_time": "2023-11-29T12:56:28.722Z"
   },
   {
    "duration": 20,
    "start_time": "2023-11-29T12:56:28.755Z"
   },
   {
    "duration": 18,
    "start_time": "2023-11-29T12:56:28.777Z"
   },
   {
    "duration": 9,
    "start_time": "2023-11-29T12:56:28.797Z"
   },
   {
    "duration": 25,
    "start_time": "2023-11-29T12:56:28.808Z"
   },
   {
    "duration": 6,
    "start_time": "2023-11-29T12:56:28.834Z"
   },
   {
    "duration": 7,
    "start_time": "2023-11-29T12:56:28.841Z"
   },
   {
    "duration": 10,
    "start_time": "2023-11-29T12:56:28.856Z"
   },
   {
    "duration": 22,
    "start_time": "2023-11-29T12:56:28.867Z"
   },
   {
    "duration": 25,
    "start_time": "2023-11-29T12:56:28.891Z"
   },
   {
    "duration": 50,
    "start_time": "2023-11-29T12:56:28.918Z"
   },
   {
    "duration": 24,
    "start_time": "2023-11-29T12:56:28.970Z"
   },
   {
    "duration": 1617,
    "start_time": "2023-11-29T13:02:27.255Z"
   },
   {
    "duration": 433,
    "start_time": "2023-11-29T13:02:49.814Z"
   },
   {
    "duration": 21,
    "start_time": "2023-11-29T13:02:50.248Z"
   },
   {
    "duration": 16,
    "start_time": "2023-11-29T13:02:50.271Z"
   },
   {
    "duration": 11,
    "start_time": "2023-11-29T13:02:50.288Z"
   },
   {
    "duration": 43,
    "start_time": "2023-11-29T13:02:50.300Z"
   },
   {
    "duration": 12,
    "start_time": "2023-11-29T13:02:50.344Z"
   },
   {
    "duration": 22,
    "start_time": "2023-11-29T13:02:50.358Z"
   },
   {
    "duration": 9,
    "start_time": "2023-11-29T13:02:50.382Z"
   },
   {
    "duration": 20,
    "start_time": "2023-11-29T13:02:50.392Z"
   },
   {
    "duration": 19,
    "start_time": "2023-11-29T13:02:50.414Z"
   },
   {
    "duration": 37,
    "start_time": "2023-11-29T13:02:50.435Z"
   },
   {
    "duration": 10,
    "start_time": "2023-11-29T13:02:50.474Z"
   },
   {
    "duration": 35,
    "start_time": "2023-11-29T13:02:50.485Z"
   },
   {
    "duration": 18,
    "start_time": "2023-11-29T13:02:50.521Z"
   },
   {
    "duration": 18,
    "start_time": "2023-11-29T13:02:50.540Z"
   },
   {
    "duration": 17,
    "start_time": "2023-11-29T13:02:50.559Z"
   },
   {
    "duration": 4,
    "start_time": "2023-11-29T13:02:50.577Z"
   },
   {
    "duration": 37,
    "start_time": "2023-11-29T13:02:50.583Z"
   },
   {
    "duration": 12,
    "start_time": "2023-11-29T13:02:50.622Z"
   },
   {
    "duration": 14,
    "start_time": "2023-11-29T13:02:50.636Z"
   },
   {
    "duration": 25,
    "start_time": "2023-11-29T13:02:50.652Z"
   },
   {
    "duration": 28,
    "start_time": "2023-11-29T13:02:50.679Z"
   },
   {
    "duration": 27,
    "start_time": "2023-11-29T13:02:50.709Z"
   },
   {
    "duration": 52,
    "start_time": "2023-11-29T13:02:50.737Z"
   },
   {
    "duration": 25,
    "start_time": "2023-11-29T13:02:50.791Z"
   },
   {
    "duration": 439,
    "start_time": "2023-11-29T13:03:22.016Z"
   },
   {
    "duration": 26,
    "start_time": "2023-11-29T13:03:22.457Z"
   },
   {
    "duration": 17,
    "start_time": "2023-11-29T13:03:22.484Z"
   },
   {
    "duration": 15,
    "start_time": "2023-11-29T13:03:22.503Z"
   },
   {
    "duration": 50,
    "start_time": "2023-11-29T13:03:22.521Z"
   },
   {
    "duration": 4,
    "start_time": "2023-11-29T13:03:22.572Z"
   },
   {
    "duration": 10,
    "start_time": "2023-11-29T13:03:22.577Z"
   },
   {
    "duration": 9,
    "start_time": "2023-11-29T13:03:22.589Z"
   },
   {
    "duration": 11,
    "start_time": "2023-11-29T13:03:22.600Z"
   },
   {
    "duration": 5,
    "start_time": "2023-11-29T13:03:22.612Z"
   },
   {
    "duration": 48,
    "start_time": "2023-11-29T13:03:22.619Z"
   },
   {
    "duration": 9,
    "start_time": "2023-11-29T13:03:22.669Z"
   },
   {
    "duration": 4,
    "start_time": "2023-11-29T13:03:22.679Z"
   },
   {
    "duration": 12,
    "start_time": "2023-11-29T13:03:22.686Z"
   },
   {
    "duration": 21,
    "start_time": "2023-11-29T13:03:22.700Z"
   },
   {
    "duration": 19,
    "start_time": "2023-11-29T13:03:22.722Z"
   },
   {
    "duration": 17,
    "start_time": "2023-11-29T13:03:22.742Z"
   },
   {
    "duration": 45,
    "start_time": "2023-11-29T13:03:22.760Z"
   },
   {
    "duration": 12,
    "start_time": "2023-11-29T13:03:22.807Z"
   },
   {
    "duration": 30,
    "start_time": "2023-11-29T13:03:22.820Z"
   },
   {
    "duration": 30,
    "start_time": "2023-11-29T13:03:22.852Z"
   },
   {
    "duration": 23,
    "start_time": "2023-11-29T13:03:22.883Z"
   },
   {
    "duration": 29,
    "start_time": "2023-11-29T13:03:22.908Z"
   },
   {
    "duration": 53,
    "start_time": "2023-11-29T13:03:22.939Z"
   },
   {
    "duration": 26,
    "start_time": "2023-11-29T13:03:22.994Z"
   },
   {
    "duration": 491,
    "start_time": "2023-11-29T13:18:00.044Z"
   },
   {
    "duration": 20,
    "start_time": "2023-11-29T13:18:00.536Z"
   },
   {
    "duration": 21,
    "start_time": "2023-11-29T13:18:00.557Z"
   },
   {
    "duration": 9,
    "start_time": "2023-11-29T13:18:00.580Z"
   },
   {
    "duration": 41,
    "start_time": "2023-11-29T13:18:00.591Z"
   },
   {
    "duration": 3,
    "start_time": "2023-11-29T13:18:00.634Z"
   },
   {
    "duration": 26,
    "start_time": "2023-11-29T13:18:00.639Z"
   },
   {
    "duration": 11,
    "start_time": "2023-11-29T13:18:00.666Z"
   },
   {
    "duration": 21,
    "start_time": "2023-11-29T13:18:00.679Z"
   },
   {
    "duration": 12,
    "start_time": "2023-11-29T13:18:00.704Z"
   },
   {
    "duration": 44,
    "start_time": "2023-11-29T13:18:00.718Z"
   },
   {
    "duration": 11,
    "start_time": "2023-11-29T13:18:00.764Z"
   },
   {
    "duration": 27,
    "start_time": "2023-11-29T13:18:00.776Z"
   },
   {
    "duration": 33,
    "start_time": "2023-11-29T13:18:00.805Z"
   },
   {
    "duration": 34,
    "start_time": "2023-11-29T13:18:00.839Z"
   },
   {
    "duration": 16,
    "start_time": "2023-11-29T13:18:00.874Z"
   },
   {
    "duration": 5,
    "start_time": "2023-11-29T13:18:00.891Z"
   },
   {
    "duration": 34,
    "start_time": "2023-11-29T13:18:00.897Z"
   },
   {
    "duration": 5,
    "start_time": "2023-11-29T13:18:00.932Z"
   },
   {
    "duration": 7,
    "start_time": "2023-11-29T13:18:00.938Z"
   },
   {
    "duration": 31,
    "start_time": "2023-11-29T13:18:00.946Z"
   },
   {
    "duration": 21,
    "start_time": "2023-11-29T13:18:00.978Z"
   },
   {
    "duration": 26,
    "start_time": "2023-11-29T13:18:01.000Z"
   },
   {
    "duration": 59,
    "start_time": "2023-11-29T13:18:01.028Z"
   },
   {
    "duration": 24,
    "start_time": "2023-11-29T13:18:01.088Z"
   },
   {
    "duration": 478,
    "start_time": "2023-11-29T13:19:37.964Z"
   },
   {
    "duration": 22,
    "start_time": "2023-11-29T13:19:38.444Z"
   },
   {
    "duration": 17,
    "start_time": "2023-11-29T13:19:38.468Z"
   },
   {
    "duration": 13,
    "start_time": "2023-11-29T13:19:38.486Z"
   },
   {
    "duration": 41,
    "start_time": "2023-11-29T13:19:38.501Z"
   },
   {
    "duration": 4,
    "start_time": "2023-11-29T13:19:38.543Z"
   },
   {
    "duration": 6,
    "start_time": "2023-11-29T13:19:38.556Z"
   },
   {
    "duration": 33,
    "start_time": "2023-11-29T13:19:38.564Z"
   },
   {
    "duration": 25,
    "start_time": "2023-11-29T13:19:38.598Z"
   },
   {
    "duration": 4,
    "start_time": "2023-11-29T13:19:38.624Z"
   },
   {
    "duration": 38,
    "start_time": "2023-11-29T13:19:38.629Z"
   },
   {
    "duration": 10,
    "start_time": "2023-11-29T13:19:38.668Z"
   },
   {
    "duration": 6,
    "start_time": "2023-11-29T13:19:38.679Z"
   },
   {
    "duration": 10,
    "start_time": "2023-11-29T13:19:38.688Z"
   },
   {
    "duration": 23,
    "start_time": "2023-11-29T13:19:38.700Z"
   },
   {
    "duration": 16,
    "start_time": "2023-11-29T13:19:38.724Z"
   },
   {
    "duration": 14,
    "start_time": "2023-11-29T13:19:38.741Z"
   },
   {
    "duration": 32,
    "start_time": "2023-11-29T13:19:38.757Z"
   },
   {
    "duration": 5,
    "start_time": "2023-11-29T13:19:38.790Z"
   },
   {
    "duration": 10,
    "start_time": "2023-11-29T13:19:38.797Z"
   },
   {
    "duration": 10,
    "start_time": "2023-11-29T13:19:38.808Z"
   },
   {
    "duration": 21,
    "start_time": "2023-11-29T13:19:38.819Z"
   },
   {
    "duration": 32,
    "start_time": "2023-11-29T13:19:38.842Z"
   },
   {
    "duration": 53,
    "start_time": "2023-11-29T13:19:38.876Z"
   },
   {
    "duration": 45,
    "start_time": "2023-11-29T13:19:38.930Z"
   },
   {
    "duration": 439,
    "start_time": "2023-11-29T13:25:25.303Z"
   },
   {
    "duration": 22,
    "start_time": "2023-11-29T13:25:25.743Z"
   },
   {
    "duration": 15,
    "start_time": "2023-11-29T13:25:25.766Z"
   },
   {
    "duration": 15,
    "start_time": "2023-11-29T13:25:25.783Z"
   },
   {
    "duration": 35,
    "start_time": "2023-11-29T13:25:25.799Z"
   },
   {
    "duration": 3,
    "start_time": "2023-11-29T13:25:25.835Z"
   },
   {
    "duration": 19,
    "start_time": "2023-11-29T13:25:25.839Z"
   },
   {
    "duration": 7,
    "start_time": "2023-11-29T13:25:25.860Z"
   },
   {
    "duration": 12,
    "start_time": "2023-11-29T13:25:25.869Z"
   },
   {
    "duration": 4,
    "start_time": "2023-11-29T13:25:25.883Z"
   },
   {
    "duration": 36,
    "start_time": "2023-11-29T13:25:25.888Z"
   },
   {
    "duration": 10,
    "start_time": "2023-11-29T13:25:25.926Z"
   },
   {
    "duration": 20,
    "start_time": "2023-11-29T13:25:25.937Z"
   },
   {
    "duration": 20,
    "start_time": "2023-11-29T13:25:25.958Z"
   },
   {
    "duration": 24,
    "start_time": "2023-11-29T13:25:25.979Z"
   },
   {
    "duration": 16,
    "start_time": "2023-11-29T13:25:26.004Z"
   },
   {
    "duration": 5,
    "start_time": "2023-11-29T13:25:26.021Z"
   },
   {
    "duration": 31,
    "start_time": "2023-11-29T13:25:26.027Z"
   },
   {
    "duration": 5,
    "start_time": "2023-11-29T13:25:26.060Z"
   },
   {
    "duration": 7,
    "start_time": "2023-11-29T13:25:26.066Z"
   },
   {
    "duration": 13,
    "start_time": "2023-11-29T13:25:26.074Z"
   },
   {
    "duration": 25,
    "start_time": "2023-11-29T13:25:26.088Z"
   },
   {
    "duration": 46,
    "start_time": "2023-11-29T13:25:26.114Z"
   },
   {
    "duration": 54,
    "start_time": "2023-11-29T13:25:26.161Z"
   },
   {
    "duration": 71,
    "start_time": "2023-11-29T13:25:26.217Z"
   },
   {
    "duration": 55,
    "start_time": "2023-11-29T13:26:43.032Z"
   },
   {
    "duration": 46,
    "start_time": "2023-11-29T13:30:25.155Z"
   },
   {
    "duration": 46,
    "start_time": "2023-11-29T13:34:45.100Z"
   },
   {
    "duration": 53,
    "start_time": "2023-11-29T13:35:12.326Z"
   },
   {
    "duration": 45,
    "start_time": "2023-11-29T13:36:46.573Z"
   },
   {
    "duration": 521,
    "start_time": "2023-11-29T13:54:41.644Z"
   },
   {
    "duration": 21,
    "start_time": "2023-11-29T13:54:42.167Z"
   },
   {
    "duration": 15,
    "start_time": "2023-11-29T13:54:42.189Z"
   },
   {
    "duration": 27,
    "start_time": "2023-11-29T13:54:42.206Z"
   },
   {
    "duration": 43,
    "start_time": "2023-11-29T13:54:42.235Z"
   },
   {
    "duration": 4,
    "start_time": "2023-11-29T13:54:42.280Z"
   },
   {
    "duration": 20,
    "start_time": "2023-11-29T13:54:42.285Z"
   },
   {
    "duration": 14,
    "start_time": "2023-11-29T13:54:42.306Z"
   },
   {
    "duration": 41,
    "start_time": "2023-11-29T13:54:42.321Z"
   },
   {
    "duration": 19,
    "start_time": "2023-11-29T13:54:42.364Z"
   },
   {
    "duration": 51,
    "start_time": "2023-11-29T13:54:42.384Z"
   },
   {
    "duration": 10,
    "start_time": "2023-11-29T13:54:42.437Z"
   },
   {
    "duration": 31,
    "start_time": "2023-11-29T13:54:42.448Z"
   },
   {
    "duration": 34,
    "start_time": "2023-11-29T13:54:42.480Z"
   },
   {
    "duration": 42,
    "start_time": "2023-11-29T13:54:42.515Z"
   },
   {
    "duration": 25,
    "start_time": "2023-11-29T13:54:42.559Z"
   },
   {
    "duration": 8,
    "start_time": "2023-11-29T13:54:42.585Z"
   },
   {
    "duration": 34,
    "start_time": "2023-11-29T13:54:42.594Z"
   },
   {
    "duration": 30,
    "start_time": "2023-11-29T13:54:42.629Z"
   },
   {
    "duration": 20,
    "start_time": "2023-11-29T13:54:42.661Z"
   },
   {
    "duration": 24,
    "start_time": "2023-11-29T13:54:42.682Z"
   },
   {
    "duration": 55,
    "start_time": "2023-11-29T13:54:42.708Z"
   },
   {
    "duration": 40,
    "start_time": "2023-11-29T13:54:42.764Z"
   },
   {
    "duration": 44,
    "start_time": "2023-11-29T13:54:42.805Z"
   },
   {
    "duration": 55,
    "start_time": "2023-11-29T13:54:42.850Z"
   },
   {
    "duration": 494,
    "start_time": "2023-11-29T15:10:49.858Z"
   },
   {
    "duration": 24,
    "start_time": "2023-11-29T15:10:50.354Z"
   },
   {
    "duration": 19,
    "start_time": "2023-11-29T15:10:50.379Z"
   },
   {
    "duration": 10,
    "start_time": "2023-11-29T15:10:50.400Z"
   },
   {
    "duration": 47,
    "start_time": "2023-11-29T15:10:50.411Z"
   },
   {
    "duration": 3,
    "start_time": "2023-11-29T15:10:50.460Z"
   },
   {
    "duration": 14,
    "start_time": "2023-11-29T15:10:50.465Z"
   },
   {
    "duration": 5,
    "start_time": "2023-11-29T15:10:50.481Z"
   },
   {
    "duration": 9,
    "start_time": "2023-11-29T15:10:50.487Z"
   },
   {
    "duration": 14,
    "start_time": "2023-11-29T15:10:50.499Z"
   },
   {
    "duration": 35,
    "start_time": "2023-11-29T15:10:50.515Z"
   },
   {
    "duration": 9,
    "start_time": "2023-11-29T15:10:50.552Z"
   },
   {
    "duration": 11,
    "start_time": "2023-11-29T15:10:50.562Z"
   },
   {
    "duration": 14,
    "start_time": "2023-11-29T15:10:50.574Z"
   },
   {
    "duration": 21,
    "start_time": "2023-11-29T15:10:50.589Z"
   },
   {
    "duration": 16,
    "start_time": "2023-11-29T15:10:50.612Z"
   },
   {
    "duration": 5,
    "start_time": "2023-11-29T15:10:50.629Z"
   },
   {
    "duration": 19,
    "start_time": "2023-11-29T15:10:50.655Z"
   },
   {
    "duration": 10,
    "start_time": "2023-11-29T15:10:50.676Z"
   },
   {
    "duration": 3,
    "start_time": "2023-11-29T15:10:50.688Z"
   },
   {
    "duration": 24,
    "start_time": "2023-11-29T15:10:50.692Z"
   },
   {
    "duration": 25,
    "start_time": "2023-11-29T15:10:50.718Z"
   },
   {
    "duration": 37,
    "start_time": "2023-11-29T15:10:50.745Z"
   },
   {
    "duration": 47,
    "start_time": "2023-11-29T15:10:50.784Z"
   },
   {
    "duration": 73,
    "start_time": "2023-11-29T15:10:50.832Z"
   },
   {
    "duration": 483,
    "start_time": "2023-11-29T15:11:02.055Z"
   },
   {
    "duration": 20,
    "start_time": "2023-11-29T15:11:02.540Z"
   },
   {
    "duration": 26,
    "start_time": "2023-11-29T15:11:02.562Z"
   },
   {
    "duration": 18,
    "start_time": "2023-11-29T15:11:02.590Z"
   },
   {
    "duration": 53,
    "start_time": "2023-11-29T15:11:02.609Z"
   },
   {
    "duration": 3,
    "start_time": "2023-11-29T15:11:02.663Z"
   },
   {
    "duration": 20,
    "start_time": "2023-11-29T15:11:02.668Z"
   },
   {
    "duration": 36,
    "start_time": "2023-11-29T15:11:02.689Z"
   },
   {
    "duration": 49,
    "start_time": "2023-11-29T15:11:02.727Z"
   },
   {
    "duration": 43,
    "start_time": "2023-11-29T15:11:02.779Z"
   },
   {
    "duration": 47,
    "start_time": "2023-11-29T15:11:02.824Z"
   },
   {
    "duration": 10,
    "start_time": "2023-11-29T15:11:02.873Z"
   },
   {
    "duration": 16,
    "start_time": "2023-11-29T15:11:02.884Z"
   },
   {
    "duration": 38,
    "start_time": "2023-11-29T15:11:02.901Z"
   },
   {
    "duration": 39,
    "start_time": "2023-11-29T15:11:02.940Z"
   },
   {
    "duration": 23,
    "start_time": "2023-11-29T15:11:02.981Z"
   },
   {
    "duration": 5,
    "start_time": "2023-11-29T15:11:03.006Z"
   },
   {
    "duration": 70,
    "start_time": "2023-11-29T15:11:03.013Z"
   },
   {
    "duration": 16,
    "start_time": "2023-11-29T15:11:03.085Z"
   },
   {
    "duration": 7,
    "start_time": "2023-11-29T15:11:03.103Z"
   },
   {
    "duration": 20,
    "start_time": "2023-11-29T15:11:03.111Z"
   },
   {
    "duration": 30,
    "start_time": "2023-11-29T15:11:03.132Z"
   },
   {
    "duration": 51,
    "start_time": "2023-11-29T15:11:03.164Z"
   },
   {
    "duration": 45,
    "start_time": "2023-11-29T15:11:03.216Z"
   },
   {
    "duration": 57,
    "start_time": "2023-11-29T15:11:03.262Z"
   },
   {
    "duration": 505,
    "start_time": "2023-11-29T15:30:45.356Z"
   },
   {
    "duration": 27,
    "start_time": "2023-11-29T15:30:45.863Z"
   },
   {
    "duration": 33,
    "start_time": "2023-11-29T15:30:45.892Z"
   },
   {
    "duration": 13,
    "start_time": "2023-11-29T15:30:45.928Z"
   },
   {
    "duration": 40,
    "start_time": "2023-11-29T15:30:45.942Z"
   },
   {
    "duration": 3,
    "start_time": "2023-11-29T15:30:45.984Z"
   },
   {
    "duration": 15,
    "start_time": "2023-11-29T15:30:45.989Z"
   },
   {
    "duration": 9,
    "start_time": "2023-11-29T15:30:46.006Z"
   },
   {
    "duration": 7,
    "start_time": "2023-11-29T15:30:46.017Z"
   },
   {
    "duration": 6,
    "start_time": "2023-11-29T15:30:46.027Z"
   },
   {
    "duration": 54,
    "start_time": "2023-11-29T15:30:46.035Z"
   },
   {
    "duration": 11,
    "start_time": "2023-11-29T15:30:46.091Z"
   },
   {
    "duration": 4,
    "start_time": "2023-11-29T15:30:46.103Z"
   },
   {
    "duration": 19,
    "start_time": "2023-11-29T15:30:46.108Z"
   },
   {
    "duration": 35,
    "start_time": "2023-11-29T15:30:46.128Z"
   },
   {
    "duration": 15,
    "start_time": "2023-11-29T15:30:46.165Z"
   },
   {
    "duration": 7,
    "start_time": "2023-11-29T15:30:46.182Z"
   },
   {
    "duration": 29,
    "start_time": "2023-11-29T15:30:46.190Z"
   },
   {
    "duration": 6,
    "start_time": "2023-11-29T15:30:46.220Z"
   },
   {
    "duration": 3,
    "start_time": "2023-11-29T15:30:46.227Z"
   },
   {
    "duration": 27,
    "start_time": "2023-11-29T15:30:46.232Z"
   },
   {
    "duration": 21,
    "start_time": "2023-11-29T15:30:46.261Z"
   },
   {
    "duration": 29,
    "start_time": "2023-11-29T15:30:46.283Z"
   },
   {
    "duration": 72,
    "start_time": "2023-11-29T15:30:46.314Z"
   },
   {
    "duration": 54,
    "start_time": "2023-11-29T15:30:46.387Z"
   },
   {
    "duration": 428,
    "start_time": "2023-11-29T15:47:39.804Z"
   },
   {
    "duration": 21,
    "start_time": "2023-11-29T15:47:40.234Z"
   },
   {
    "duration": 14,
    "start_time": "2023-11-29T15:47:40.256Z"
   },
   {
    "duration": 15,
    "start_time": "2023-11-29T15:47:40.272Z"
   },
   {
    "duration": 40,
    "start_time": "2023-11-29T15:47:40.289Z"
   },
   {
    "duration": 3,
    "start_time": "2023-11-29T15:47:40.331Z"
   },
   {
    "duration": 8,
    "start_time": "2023-11-29T15:47:40.356Z"
   },
   {
    "duration": 4,
    "start_time": "2023-11-29T15:47:40.365Z"
   },
   {
    "duration": 9,
    "start_time": "2023-11-29T15:47:40.371Z"
   },
   {
    "duration": 4,
    "start_time": "2023-11-29T15:47:40.383Z"
   },
   {
    "duration": 33,
    "start_time": "2023-11-29T15:47:40.388Z"
   },
   {
    "duration": 36,
    "start_time": "2023-11-29T15:47:40.423Z"
   },
   {
    "duration": 4,
    "start_time": "2023-11-29T15:47:40.460Z"
   },
   {
    "duration": 11,
    "start_time": "2023-11-29T15:47:40.465Z"
   },
   {
    "duration": 17,
    "start_time": "2023-11-29T15:47:40.478Z"
   },
   {
    "duration": 16,
    "start_time": "2023-11-29T15:47:40.496Z"
   },
   {
    "duration": 5,
    "start_time": "2023-11-29T15:47:40.513Z"
   },
   {
    "duration": 46,
    "start_time": "2023-11-29T15:47:40.519Z"
   },
   {
    "duration": 5,
    "start_time": "2023-11-29T15:47:40.567Z"
   },
   {
    "duration": 4,
    "start_time": "2023-11-29T15:47:40.573Z"
   },
   {
    "duration": 9,
    "start_time": "2023-11-29T15:47:40.578Z"
   },
   {
    "duration": 24,
    "start_time": "2023-11-29T15:47:40.589Z"
   },
   {
    "duration": 55,
    "start_time": "2023-11-29T15:47:40.614Z"
   },
   {
    "duration": 44,
    "start_time": "2023-11-29T15:47:40.671Z"
   },
   {
    "duration": 71,
    "start_time": "2023-11-29T15:47:40.717Z"
   },
   {
    "duration": 491,
    "start_time": "2023-11-29T19:37:35.929Z"
   },
   {
    "duration": 21,
    "start_time": "2023-11-29T19:37:36.422Z"
   },
   {
    "duration": 15,
    "start_time": "2023-11-29T19:37:36.445Z"
   },
   {
    "duration": 18,
    "start_time": "2023-11-29T19:37:36.462Z"
   },
   {
    "duration": 39,
    "start_time": "2023-11-29T19:37:36.481Z"
   },
   {
    "duration": 4,
    "start_time": "2023-11-29T19:37:36.521Z"
   },
   {
    "duration": 16,
    "start_time": "2023-11-29T19:37:36.526Z"
   },
   {
    "duration": 5,
    "start_time": "2023-11-29T19:37:36.544Z"
   },
   {
    "duration": 8,
    "start_time": "2023-11-29T19:37:36.550Z"
   },
   {
    "duration": 5,
    "start_time": "2023-11-29T19:37:36.562Z"
   },
   {
    "duration": 58,
    "start_time": "2023-11-29T19:37:36.568Z"
   },
   {
    "duration": 11,
    "start_time": "2023-11-29T19:37:36.627Z"
   },
   {
    "duration": 4,
    "start_time": "2023-11-29T19:37:36.640Z"
   },
   {
    "duration": 12,
    "start_time": "2023-11-29T19:37:36.646Z"
   },
   {
    "duration": 41,
    "start_time": "2023-11-29T19:37:36.659Z"
   },
   {
    "duration": 16,
    "start_time": "2023-11-29T19:37:36.702Z"
   },
   {
    "duration": 14,
    "start_time": "2023-11-29T19:37:36.720Z"
   },
   {
    "duration": 24,
    "start_time": "2023-11-29T19:37:36.736Z"
   },
   {
    "duration": 6,
    "start_time": "2023-11-29T19:37:36.761Z"
   },
   {
    "duration": 4,
    "start_time": "2023-11-29T19:37:36.768Z"
   },
   {
    "duration": 27,
    "start_time": "2023-11-29T19:37:36.774Z"
   },
   {
    "duration": 24,
    "start_time": "2023-11-29T19:37:36.802Z"
   },
   {
    "duration": 29,
    "start_time": "2023-11-29T19:37:36.827Z"
   },
   {
    "duration": 68,
    "start_time": "2023-11-29T19:37:36.858Z"
   },
   {
    "duration": 54,
    "start_time": "2023-11-29T19:37:36.928Z"
   },
   {
    "duration": 336,
    "start_time": "2023-11-29T19:38:54.496Z"
   },
   {
    "duration": 223,
    "start_time": "2023-11-29T19:40:26.646Z"
   },
   {
    "duration": 44,
    "start_time": "2023-11-30T18:28:52.605Z"
   },
   {
    "duration": 659,
    "start_time": "2023-11-30T18:29:03.080Z"
   },
   {
    "duration": 19,
    "start_time": "2023-11-30T18:29:03.741Z"
   },
   {
    "duration": 12,
    "start_time": "2023-11-30T18:29:03.762Z"
   },
   {
    "duration": 8,
    "start_time": "2023-11-30T18:29:03.776Z"
   },
   {
    "duration": 39,
    "start_time": "2023-11-30T18:29:03.785Z"
   },
   {
    "duration": 3,
    "start_time": "2023-11-30T18:29:03.825Z"
   },
   {
    "duration": 7,
    "start_time": "2023-11-30T18:29:03.829Z"
   },
   {
    "duration": 3,
    "start_time": "2023-11-30T18:29:03.837Z"
   },
   {
    "duration": 6,
    "start_time": "2023-11-30T18:29:03.841Z"
   },
   {
    "duration": 4,
    "start_time": "2023-11-30T18:29:03.850Z"
   },
   {
    "duration": 39,
    "start_time": "2023-11-30T18:29:03.855Z"
   },
   {
    "duration": 21,
    "start_time": "2023-11-30T18:29:03.895Z"
   },
   {
    "duration": 2,
    "start_time": "2023-11-30T18:29:03.917Z"
   },
   {
    "duration": 10,
    "start_time": "2023-11-30T18:29:03.920Z"
   },
   {
    "duration": 15,
    "start_time": "2023-11-30T18:29:03.931Z"
   },
   {
    "duration": 13,
    "start_time": "2023-11-30T18:29:03.947Z"
   },
   {
    "duration": 4,
    "start_time": "2023-11-30T18:29:03.961Z"
   },
   {
    "duration": 17,
    "start_time": "2023-11-30T18:29:03.966Z"
   },
   {
    "duration": 5,
    "start_time": "2023-11-30T18:29:03.984Z"
   },
   {
    "duration": 2,
    "start_time": "2023-11-30T18:29:03.990Z"
   },
   {
    "duration": 7,
    "start_time": "2023-11-30T18:29:04.014Z"
   },
   {
    "duration": 18,
    "start_time": "2023-11-30T18:29:04.022Z"
   },
   {
    "duration": 465,
    "start_time": "2023-11-30T18:29:04.041Z"
   },
   {
    "duration": 27,
    "start_time": "2023-11-30T18:29:04.507Z"
   },
   {
    "duration": 37,
    "start_time": "2023-11-30T18:29:04.535Z"
   },
   {
    "duration": 211,
    "start_time": "2023-11-30T18:29:04.574Z"
   },
   {
    "duration": 58,
    "start_time": "2023-11-30T18:29:04.786Z"
   },
   {
    "duration": 49,
    "start_time": "2023-11-30T18:31:25.793Z"
   },
   {
    "duration": 49,
    "start_time": "2023-11-30T18:32:31.510Z"
   },
   {
    "duration": 49,
    "start_time": "2023-11-30T18:32:58.705Z"
   }
  ],
  "colab": {
   "provenance": []
  },
  "kernelspec": {
   "display_name": "Python 3 (ipykernel)",
   "language": "python",
   "name": "python3"
  },
  "language_info": {
   "codemirror_mode": {
    "name": "ipython",
    "version": 3
   },
   "file_extension": ".py",
   "mimetype": "text/x-python",
   "name": "python",
   "nbconvert_exporter": "python",
   "pygments_lexer": "ipython3",
   "version": "3.11.5"
  },
  "toc": {
   "base_numbering": 1,
   "nav_menu": {},
   "number_sections": true,
   "sideBar": true,
   "skip_h1_title": true,
   "title_cell": "Table of Contents",
   "title_sidebar": "Contents",
   "toc_cell": false,
   "toc_position": {
    "height": "calc(100% - 180px)",
    "left": "10px",
    "top": "150px",
    "width": "217.936px"
   },
   "toc_section_display": true,
   "toc_window_display": true
  }
 },
 "nbformat": 4,
 "nbformat_minor": 5
}
